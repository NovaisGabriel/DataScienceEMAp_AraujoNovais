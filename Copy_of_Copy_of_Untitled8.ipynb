{
  "nbformat": 4,
  "nbformat_minor": 0,
  "metadata": {
    "colab": {
      "name": "Copy of Copy of Untitled8.ipynb",
      "version": "0.3.2",
      "provenance": [],
      "collapsed_sections": [],
      "machine_shape": "hm"
    },
    "kernelspec": {
      "name": "python3",
      "display_name": "Python 3"
    },
    "accelerator": "GPU"
  },
  "cells": [
    {
      "cell_type": "code",
      "metadata": {
        "id": "T6xQooemnZ3w",
        "colab_type": "code",
        "colab": {}
      },
      "source": [
        "import numpy as np\n",
        "import pandas as pd \n",
        "import matplotlib.pyplot as plt\n",
        "import glob\n",
        "import re\n",
        "import io\n",
        "import requests\n",
        "import csv\n",
        "\n",
        "from math import radians, sin, cos, acos, log, pi, tan, asin,sqrt\n",
        "from decimal import Decimal\n",
        "from bokeh.plotting import figure, show, output_notebook\n",
        "from bokeh.tile_providers import CARTODBPOSITRON\n",
        "from ast import literal_eval\n",
        "from scipy import stats"
      ],
      "execution_count": 0,
      "outputs": []
    },
    {
      "cell_type": "code",
      "metadata": {
        "id": "Qckzg6i_FUIP",
        "colab_type": "code",
        "colab": {}
      },
      "source": [
        "#from google.colab import drive\n",
        "#drive.mount('drive')"
      ],
      "execution_count": 0,
      "outputs": []
    },
    {
      "cell_type": "markdown",
      "metadata": {
        "id": "F-aSI9-cv7dK",
        "colab_type": "text"
      },
      "source": [
        "## Importing AirBnb data"
      ]
    },
    {
      "cell_type": "markdown",
      "metadata": {
        "id": "QqCA4uH7wFEp",
        "colab_type": "text"
      },
      "source": [
        "### Listings"
      ]
    },
    {
      "cell_type": "code",
      "metadata": {
        "id": "19dODXUns4Yj",
        "colab_type": "code",
        "colab": {}
      },
      "source": [
        "#Import listings data from each scraping iteration (from oldest to newest)\n",
        "url_l1 = 'https://raw.githubusercontent.com/araujoghm/DataScienceEMAp_AraujoNovais/master/dados/listings/listings_18_4_15.csv'\n",
        "url_l2 = 'https://raw.githubusercontent.com/araujoghm/DataScienceEMAp_AraujoNovais/master/dados/listings/listings_18_5_18.csv'\n",
        "url_l3 = 'https://raw.githubusercontent.com/araujoghm/DataScienceEMAp_AraujoNovais/master/dados/listings/listings_18_7_18.csv'\n",
        "url_l4 = 'https://raw.githubusercontent.com/araujoghm/DataScienceEMAp_AraujoNovais/master/dados/listings/listings_18_9_14.csv'\n",
        "url_l5 = 'https://raw.githubusercontent.com/araujoghm/DataScienceEMAp_AraujoNovais/master/dados/listings/listings_18_10_11.csv'\n",
        "url_l6 = 'https://raw.githubusercontent.com/araujoghm/DataScienceEMAp_AraujoNovais/master/dados/listings/listings_18_11_15.csv'\n",
        "url_l7 = 'https://raw.githubusercontent.com/araujoghm/DataScienceEMAp_AraujoNovais/master/dados/listings/listings_18_12_13.csv'\n",
        "url_l8 = 'https://raw.githubusercontent.com/araujoghm/DataScienceEMAp_AraujoNovais/master/dados/listings/listings_19_1_17.csv'\n",
        "url_l9 = 'https://raw.githubusercontent.com/araujoghm/DataScienceEMAp_AraujoNovais/master/dados/listings/listings_19_2_9.csv'\n",
        "url_l10 = 'https://raw.githubusercontent.com/araujoghm/DataScienceEMAp_AraujoNovais/master/dados/listings/listings_19_3_12.csv'\n",
        "url_l11 = 'https://raw.githubusercontent.com/araujoghm/DataScienceEMAp_AraujoNovais/master/dados/listings/listings_19_4_15.csv'\n",
        "url_l12 = 'https://raw.githubusercontent.com/araujoghm/DataScienceEMAp_AraujoNovais/master/dados/listings/listings_19_5_19.csv'\n",
        "url_l13 = 'https://raw.githubusercontent.com/araujoghm/DataScienceEMAp_AraujoNovais/master/dados/listings/listings_19_6_14.csv'\n",
        "url_l14 = 'https://raw.githubusercontent.com/araujoghm/DataScienceEMAp_AraujoNovais/master/dados/listings/listings_19_7_15.csv'\n",
        "\n",
        "\n",
        "listings_1 = pd.read_csv(url_l1)\n",
        "listings_2 = pd.read_csv(url_l2)\n",
        "listings_3 = pd.read_csv(url_l3)\n",
        "listings_4 = pd.read_csv(url_l4)\n",
        "listings_5 = pd.read_csv(url_l5)\n",
        "listings_6 = pd.read_csv(url_l6)\n",
        "listings_7 = pd.read_csv(url_l7)\n",
        "listings_8 = pd.read_csv(url_l8)\n",
        "listings_9 = pd.read_csv(url_l9)\n",
        "listings_10 = pd.read_csv(url_l10)\n",
        "listings_11 = pd.read_csv(url_l11)\n",
        "listings_12 = pd.read_csv(url_l12)\n",
        "listings_13 = pd.read_csv(url_l13)\n",
        "listings_14 = pd.read_csv(url_l14)"
      ],
      "execution_count": 0,
      "outputs": []
    },
    {
      "cell_type": "code",
      "metadata": {
        "id": "PbLn32qht3Nc",
        "colab_type": "code",
        "colab": {}
      },
      "source": [
        "#The most recent listing data is the one we want, but some past listings may no longer show up\n",
        "#We'll append to the most recent listings data from past scrapings, but we'll only keep the most recent information for each id \n",
        "listings=listings_14\n",
        "listings=listings.append(listings_13)\n",
        "listings=listings.append(listings_12)\n",
        "listings=listings.append(listings_11)\n",
        "listings=listings.append(listings_10)\n",
        "listings=listings.append(listings_9)\n",
        "listings=listings.append(listings_8)\n",
        "listings=listings.append(listings_7)\n",
        "listings=listings.append(listings_6)\n",
        "listings=listings.append(listings_5)\n",
        "listings=listings.append(listings_4)\n",
        "listings=listings.append(listings_3)\n",
        "listings=listings.append(listings_2)\n",
        "listings=listings.append(listings_1)\n",
        "\n",
        "listings=listings.drop_duplicates(subset=\"id\", keep='first')\n",
        "listings=listings.drop(columns=['name','host_name','price','minimum_nights','neighbourhood_group'])\n",
        "listings=listings.rename(index=str, columns={\"id\": \"listing_id\"})\n",
        "\n",
        "listings=listings.dropna(subset=['last_review'], axis=0)\n",
        "listings['lr_m']=listings.last_review.apply(lambda x: int(x[5:7]))\n",
        "listings['lr_d']=listings.last_review.apply(lambda x: int(x[8:10]))\n",
        "listings['lr_y']=listings.last_review.apply(lambda x: int(x[0:4]))\n",
        "listings.last_review = pd.to_datetime(listings.last_review)\n",
        "listings['lat']=listings.latitude.round(2)\n",
        "listings['lon']=listings.longitude.round(2)\n",
        "listings['location'] = list(zip(listings.latitude, listings.longitude))\n",
        "listings['loc'] = list(zip(listings.lat, listings.lon))\n",
        "\n",
        "listings = listings.assign(loc_id=(listings['loc'].astype('category').cat.codes))\n",
        "\n",
        "listings.room_type = listings.room_type.apply(lambda x: 1 if x==\"Entire home/apt\" else 2 if x==\"Private room\" else 3)\n",
        "\n",
        "listings=listings[listings.number_of_reviews > 9]\n",
        "listings=listings[listings.lr_y > 2017]\n",
        "listings=listings[listings.availability_365>9]\n",
        "listings=listings.drop(listings[(listings.lr_y==2018) & (listings.lr_m<4)].index)\n",
        "listings=listings.drop(listings[(listings.lr_y==2018) & (listings.lr_m==4) & (listings.lr_d<15)].index)\n",
        "\n",
        "listings=listings.drop(columns=['latitude','longitude','last_review'])"
      ],
      "execution_count": 0,
      "outputs": []
    },
    {
      "cell_type": "code",
      "metadata": {
        "id": "FAtVGyOn5suC",
        "colab_type": "code",
        "outputId": "5a7b699f-041b-4d84-9250-f47633f62f5e",
        "colab": {
          "base_uri": "https://localhost:8080/",
          "height": 34
        }
      },
      "source": [
        "listings_locations = listings[['loc','loc_id']]\n",
        "listings_locations = listings_locations.drop_duplicates('loc_id')\n",
        "listings_locations = listings_locations.set_index('loc_id')\n",
        "listings_locations = listings_locations.sort_index()\n",
        "listings_locations = listings_locations.reset_index()\n",
        "listings_locations['loc_id2']=listings_locations.index\n",
        "list_locs=list(listings_locations['loc'])\n",
        "len(list_locs)"
      ],
      "execution_count": 5,
      "outputs": [
        {
          "output_type": "execute_result",
          "data": {
            "text/plain": [
              "370"
            ]
          },
          "metadata": {
            "tags": []
          },
          "execution_count": 5
        }
      ]
    },
    {
      "cell_type": "code",
      "metadata": {
        "id": "fXcNfXo4amgw",
        "colab_type": "code",
        "colab": {}
      },
      "source": [
        "listings=listings.merge(listings_locations,on=['loc_id','loc'])\n",
        "#listings.head(10)"
      ],
      "execution_count": 0,
      "outputs": []
    },
    {
      "cell_type": "markdown",
      "metadata": {
        "id": "6zyF7rEBwCax",
        "colab_type": "text"
      },
      "source": [
        "### Reviews"
      ]
    },
    {
      "cell_type": "code",
      "metadata": {
        "id": "nah8Ei_Nn8mD",
        "colab_type": "code",
        "colab": {}
      },
      "source": [
        "#Import review data\n",
        "url_r = 'https://raw.githubusercontent.com/araujoghm/DataScienceEMAp_AraujoNovais/master/dados/reviews/reviews_15_7_19.csv'\n",
        "reviews = pd.read_csv(url_r)"
      ],
      "execution_count": 0,
      "outputs": []
    },
    {
      "cell_type": "code",
      "metadata": {
        "id": "GtPnRzaeW2KM",
        "colab_type": "code",
        "colab": {}
      },
      "source": [
        "reviews['month']=reviews.date.apply(lambda x: int(x[5:7]))\n",
        "reviews['day']=reviews.date.apply(lambda x: int(x[8:10]))\n",
        "reviews['year']=reviews.date.apply(lambda x: int(x[0:4]))\n",
        "reviews.date = pd.to_datetime(reviews.date)\n",
        "\n",
        "reviews=reviews[reviews.year > 2017]\n",
        "reviews=reviews.drop(reviews[(reviews.year==2018) & (reviews.month<4)].index)\n",
        "reviews=reviews.drop(reviews[(reviews.year==2018) & (reviews.month==4) & (reviews.day<15)].index)\n",
        "reviews=reviews.drop(columns=['month','day','year'])\n",
        "reviews['review']=1"
      ],
      "execution_count": 0,
      "outputs": []
    },
    {
      "cell_type": "code",
      "metadata": {
        "id": "vmQF_--YaogN",
        "colab_type": "code",
        "colab": {}
      },
      "source": [
        "#reviews.head(10)"
      ],
      "execution_count": 0,
      "outputs": []
    },
    {
      "cell_type": "markdown",
      "metadata": {
        "id": "upKXWeeKwHrk",
        "colab_type": "text"
      },
      "source": [
        "### Calendar"
      ]
    },
    {
      "cell_type": "code",
      "metadata": {
        "id": "zHeiDruUq9US",
        "colab_type": "code",
        "colab": {}
      },
      "source": [
        "#Import calendar data from each scraping iteration (from oldest to newest)\n",
        "url_c1 = 'https://raw.githubusercontent.com/araujoghm/DataScienceEMAp_AraujoNovais/master/dados/calendar/calendar_18_4_15.zip'\n",
        "url_c2 = 'https://raw.githubusercontent.com/araujoghm/DataScienceEMAp_AraujoNovais/master/dados/calendar/calendar_18_5_18.zip'\n",
        "url_c3 = 'https://raw.githubusercontent.com/araujoghm/DataScienceEMAp_AraujoNovais/master/dados/calendar/calendar_18_7_18.zip'\n",
        "url_c4 = 'https://raw.githubusercontent.com/araujoghm/DataScienceEMAp_AraujoNovais/master/dados/calendar/calendar_18_9_14.zip'\n",
        "url_c5 = 'https://raw.githubusercontent.com/araujoghm/DataScienceEMAp_AraujoNovais/master/dados/calendar/calendar_18_10_11.zip'\n",
        "url_c6 = 'https://raw.githubusercontent.com/araujoghm/DataScienceEMAp_AraujoNovais/master/dados/calendar/calendar_18_11_15.zip'\n",
        "url_c7 = 'https://raw.githubusercontent.com/araujoghm/DataScienceEMAp_AraujoNovais/master/dados/calendar/calendar_18_12_13.zip'\n",
        "url_c8 = 'https://raw.githubusercontent.com/araujoghm/DataScienceEMAp_AraujoNovais/master/dados/calendar/calendar_19_1_17.zip'\n",
        "url_c9 = 'https://raw.githubusercontent.com/araujoghm/DataScienceEMAp_AraujoNovais/master/dados/calendar/calendar_19_2_9.zip'\n",
        "url_c10 = 'https://raw.githubusercontent.com/araujoghm/DataScienceEMAp_AraujoNovais/master/dados/calendar/calendar_19_3_12.zip'\n",
        "url_c11 = 'https://raw.githubusercontent.com/araujoghm/DataScienceEMAp_AraujoNovais/master/dados/calendar/calendar_19_4_15.zip'\n",
        "url_c12 = 'https://raw.githubusercontent.com/araujoghm/DataScienceEMAp_AraujoNovais/master/dados/calendar/calendar_19_5_19.zip'\n",
        "url_c13 = 'https://raw.githubusercontent.com/araujoghm/DataScienceEMAp_AraujoNovais/master/dados/calendar/calendar_19_6_14.zip'\n",
        "url_c14 = 'https://raw.githubusercontent.com/araujoghm/DataScienceEMAp_AraujoNovais/master/dados/calendar/calendar_19_7_15.zip'\n",
        "\n",
        "\n",
        "calendar_1 = pd.read_csv(url_c1)\n",
        "calendar_2 = pd.read_csv(url_c2)\n",
        "calendar_3 = pd.read_csv(url_c3)\n",
        "calendar_4 = pd.read_csv(url_c4)\n",
        "calendar_5 = pd.read_csv(url_c5)\n",
        "calendar_6 = pd.read_csv(url_c6)\n",
        "calendar_7 = pd.read_csv(url_c7)\n",
        "calendar_8 = pd.read_csv(url_c8)\n",
        "calendar_9 = pd.read_csv(url_c9)\n",
        "calendar_10 = pd.read_csv(url_c10)\n",
        "calendar_11 = pd.read_csv(url_c11)\n",
        "calendar_12 = pd.read_csv(url_c12)\n",
        "calendar_13 = pd.read_csv(url_c13)\n",
        "calendar_14 = pd.read_csv(url_c14)"
      ],
      "execution_count": 0,
      "outputs": []
    },
    {
      "cell_type": "code",
      "metadata": {
        "id": "SFVs5HQwlUzb",
        "colab_type": "code",
        "colab": {}
      },
      "source": [
        "#For each calendar scraping, add scraping date\n",
        "calendar_1['scr_date']='2018-04-15'\n",
        "calendar_2['scr_date']='2018-05-18'\n",
        "calendar_3['scr_date']='2018-07-18'\n",
        "calendar_4['scr_date']='2018-09-14'\n",
        "calendar_5['scr_date']='2018-10-11'\n",
        "calendar_6['scr_date']='2018-11-15'\n",
        "calendar_7['scr_date']='2018-12-13'\n",
        "calendar_8['scr_date']='2019-01-17'\n",
        "calendar_9['scr_date']='2019-02-09'\n",
        "calendar_10['scr_date']='2019-03-12'\n",
        "calendar_11['scr_date']='2019-04-15'\n",
        "calendar_12['scr_date']='2019-05-19'\n",
        "calendar_13['scr_date']='2019-06-14'\n",
        "calendar_14['scr_date']='2019-07-15'"
      ],
      "execution_count": 0,
      "outputs": []
    },
    {
      "cell_type": "code",
      "metadata": {
        "id": "9yTjo4MF0kam",
        "colab_type": "code",
        "outputId": "717ebce8-3177-4a3f-a6c9-b0e5e009d99e",
        "colab": {
          "base_uri": "https://localhost:8080/",
          "height": 173
        }
      },
      "source": [
        "calendar=calendar_14\n",
        "calendar=calendar.append(calendar_13)\n",
        "calendar=calendar.append(calendar_12)\n",
        "calendar=calendar.append(calendar_11)\n",
        "calendar=calendar.append(calendar_10)\n",
        "calendar=calendar.append(calendar_9)\n",
        "calendar=calendar.append(calendar_8)\n",
        "calendar=calendar.append(calendar_7)\n",
        "calendar=calendar.append(calendar_6)\n",
        "calendar=calendar.append(calendar_5)\n",
        "calendar=calendar.append(calendar_4)\n",
        "calendar=calendar.append(calendar_3)\n",
        "calendar=calendar.append(calendar_2)\n",
        "calendar=calendar.append(calendar_1)\n",
        "\n",
        "calendar=calendar[['listing_id','date','price','scr_date']]\n",
        "calendar=calendar.drop_duplicates(subset=['listing_id','date','price'])\n",
        "calendar=calendar.dropna(axis=0,subset=['price'])\n",
        "calendar['month']=calendar.date.apply(lambda x: int(x[5:7]))\n",
        "calendar['day']=calendar.date.apply(lambda x: int(x[8:10]))\n",
        "calendar['year']=calendar.date.apply(lambda x: int(x[0:4]))\n",
        "calendar.date = pd.to_datetime(calendar.date)\n",
        "calendar.scr_date = pd.to_datetime(calendar.scr_date)\n",
        "calendar.price = calendar.price.apply(lambda x: float(re.sub(\"[^\\d\\.]\", \"\", (x[1:-3]))))\n",
        "calendar.price = pd.to_numeric(calendar.price)\n",
        "\n",
        "calendar=calendar.merge(reviews,on=['listing_id','date'],how='left')\n",
        "calendar['review']=calendar['review'].fillna(0)\n",
        "calendar['review']=calendar['review'].astype(int)\n",
        "\n",
        "cal_change = calendar[calendar.duplicated(['listing_id','date'],keep=False)]\n",
        "cal_change = cal_change.sort_values(by=['listing_id','date'])\n",
        "\n",
        "calendar=calendar.drop(columns=['scr_date'])\n",
        "calendar=calendar.drop_duplicates(subset=['listing_id','date'])\n",
        "calendar=calendar.sort_values(by=['listing_id','date'])"
      ],
      "execution_count": 12,
      "outputs": [
        {
          "output_type": "stream",
          "text": [
            "/usr/local/lib/python3.6/dist-packages/pandas/core/frame.py:6692: FutureWarning: Sorting because non-concatenation axis is not aligned. A future version\n",
            "of pandas will change to not sort by default.\n",
            "\n",
            "To accept the future behavior, pass 'sort=False'.\n",
            "\n",
            "To retain the current behavior and silence the warning, pass 'sort=True'.\n",
            "\n",
            "  sort=sort)\n"
          ],
          "name": "stderr"
        }
      ]
    },
    {
      "cell_type": "code",
      "metadata": {
        "id": "6UTghLQDYaVx",
        "colab_type": "code",
        "colab": {}
      },
      "source": [
        "#calendar.head(10)"
      ],
      "execution_count": 0,
      "outputs": []
    },
    {
      "cell_type": "code",
      "metadata": {
        "id": "2_dMaM2-asJF",
        "colab_type": "code",
        "colab": {}
      },
      "source": [
        "#cal_change.head(10)"
      ],
      "execution_count": 0,
      "outputs": []
    },
    {
      "cell_type": "markdown",
      "metadata": {
        "id": "Lcz2Md7_wKgn",
        "colab_type": "text"
      },
      "source": [
        "## Importing crimes data"
      ]
    },
    {
      "cell_type": "code",
      "metadata": {
        "id": "0hF2aVhhwOwq",
        "colab_type": "code",
        "colab": {
          "base_uri": "https://localhost:8080/",
          "height": 442
        },
        "outputId": "3f7ad6d1-3b80-4f55-9fac-4908f667cf1d"
      },
      "source": [
        "url_cr = \"https://raw.githubusercontent.com/araujoghm/DataScienceEMAp_AraujoNovais/master/dados/crimes/crimes.csv\"\n",
        "crimes = pd.read_csv(url_cr)\n",
        "crimes = crimes[['DATE  OF OCCURRENCE','LATITUDE','LONGITUDE','ARREST',' PRIMARY DESCRIPTION']]\n",
        "crimes = crimes.rename(index=str, columns={\"DATE  OF OCCURRENCE\": \"date\",\"LONGITUDE\": \"longitude\",\"LATITUDE\": \"latitude\",\" PRIMARY DESCRIPTION\": \"desc\", \"ARREST\": \"arrest\"})\n",
        "crimes = crimes[crimes.desc!=\"CONCEALED CARRY LICENSE VIOLATION\"]\n",
        "crimes = crimes[crimes.desc!=\"DECEPTIVE PRACTICE\"]\n",
        "crimes = crimes[crimes.desc!=\"INTERFERENCE WITH PUBLIC OFFICER\"]\n",
        "crimes = crimes[crimes.desc!=\"OBSCENITY\"]\n",
        "crimes = crimes[crimes.desc!=\"NON-CRIMINAL\"]\n",
        "crimes = crimes[crimes.desc!=\"NON-CRIMINAL (SUBJECT SPECIFIED)\"]\n",
        "crimes = crimes[crimes.desc!=\"LIQUOR LAW VIOLATION\"]\n",
        "crimes = crimes[crimes.desc!=\"PUBLIC INDECENCY\"]\n",
        "\n",
        "crimes['lat']=crimes.latitude.round(2)\n",
        "crimes['lon']=crimes.longitude.round(2)\n",
        "crimes['location'] = list(zip(crimes.latitude, crimes.longitude))\n",
        "crimes['loc'] = list(zip(crimes.lat, crimes.lon))\n",
        "crimes = crimes.assign(loc_id=(crimes['loc'].astype('category').cat.codes))\n",
        "crimes.arrest = crimes.arrest.apply(lambda x: 0 if x==\"N\" else 1)\n",
        "crimes.date = crimes.date.apply(lambda x: x[0:10])\n",
        "crimes.date = pd.to_datetime(crimes.date)\n",
        "crimes['date_str'] = crimes.date.astype('str')\n",
        "crimes['month']=crimes.date_str.apply(lambda x: int(x[5:7]))\n",
        "crimes['day']=crimes.date_str.apply(lambda x: int(x[8:10]))\n",
        "crimes['year']=crimes.date_str.apply(lambda x: int(x[0:4]))\n",
        "\n",
        "crimes=crimes.drop(columns=['date_str','latitude','longitude','location'])\n",
        "#Dropping incomplete observations\n",
        "crimes=crimes.drop(crimes[(crimes.year==2019) & (crimes.month==7)].index)\n",
        "\n",
        "crimes=crimes.dropna(axis=0)\n",
        "crimes=crimes.sort_values(by='date')\n",
        "homicides=crimes[crimes.desc==\"HOMICIDE\"]\n",
        "print(crimes['desc'].value_counts())\n",
        "crimes=crimes.drop(columns=['desc'])\n",
        "homicides=homicides.drop(columns=['desc'])\n",
        "\n",
        "#crimes.head()"
      ],
      "execution_count": 83,
      "outputs": [
        {
          "output_type": "stream",
          "text": [
            "THEFT                         60775\n",
            "BATTERY                       48332\n",
            "CRIMINAL DAMAGE               26229\n",
            "ASSAULT                       20093\n",
            "OTHER OFFENSE                 16370\n",
            "NARCOTICS                     12648\n",
            "BURGLARY                      10272\n",
            "MOTOR VEHICLE THEFT            9277\n",
            "ROBBERY                        8448\n",
            "CRIMINAL TRESPASS              6582\n",
            "WEAPONS VIOLATION              5736\n",
            "OFFENSE INVOLVING CHILDREN     2138\n",
            "CRIM SEXUAL ASSAULT            1542\n",
            "PUBLIC PEACE VIOLATION         1440\n",
            "SEX OFFENSE                    1129\n",
            "PROSTITUTION                    666\n",
            "HOMICIDE                        551\n",
            "ARSON                           357\n",
            "STALKING                        200\n",
            "INTIMIDATION                    182\n",
            "GAMBLING                        168\n",
            "KIDNAPPING                      161\n",
            "HUMAN TRAFFICKING                14\n",
            "OTHER NARCOTIC VIOLATION          4\n",
            "Name: desc, dtype: int64\n"
          ],
          "name": "stdout"
        }
      ]
    },
    {
      "cell_type": "code",
      "metadata": {
        "id": "ubqTxtDNSGfI",
        "colab_type": "code",
        "colab": {
          "base_uri": "https://localhost:8080/",
          "height": 34
        },
        "outputId": "af3f5686-04fc-449d-fd7e-962a89111089"
      },
      "source": [
        "crimes_locations = crimes[['loc','loc_id']]\n",
        "crimes_locations = crimes_locations.drop_duplicates('loc_id')\n",
        "crimes_locations = crimes_locations.set_index('loc_id')\n",
        "crimes_locations = crimes_locations.sort_index()\n",
        "crimes_locations = crimes_locations.reset_index()\n",
        "crimes_locations['crim_loc_id2']=crimes_locations.index\n",
        "crim_locs=list(crimes_locations['loc'])\n",
        "len(crim_locs)\n",
        "#crimes_locations"
      ],
      "execution_count": 16,
      "outputs": [
        {
          "output_type": "execute_result",
          "data": {
            "text/plain": [
              "708"
            ]
          },
          "metadata": {
            "tags": []
          },
          "execution_count": 16
        }
      ]
    },
    {
      "cell_type": "code",
      "metadata": {
        "id": "I-6o0kOXxaq2",
        "colab_type": "code",
        "colab": {
          "base_uri": "https://localhost:8080/",
          "height": 34
        },
        "outputId": "2594047d-cbd3-4c62-baba-c528a3e1a24f"
      },
      "source": [
        "homicides_locations = homicides[['loc','loc_id']]\n",
        "homicides_locations = homicides_locations.drop_duplicates('loc_id')\n",
        "homicides_locations = homicides_locations.set_index('loc_id')\n",
        "homicides_locations = homicides_locations.sort_index()\n",
        "homicides_locations = homicides_locations.reset_index()\n",
        "homicides_locations['crim_loc_id2']=homicides_locations.index\n",
        "homi_locs=list(homicides_locations['loc'])\n",
        "len(homi_locs)\n",
        "#homicides_locations"
      ],
      "execution_count": 75,
      "outputs": [
        {
          "output_type": "execute_result",
          "data": {
            "text/plain": [
              "244"
            ]
          },
          "metadata": {
            "tags": []
          },
          "execution_count": 75
        }
      ]
    },
    {
      "cell_type": "code",
      "metadata": {
        "id": "Ad6NaQ2voEvt",
        "colab_type": "code",
        "colab": {}
      },
      "source": [
        "crimes = crimes.merge(crimes_locations,on=['loc_id','loc'])\n",
        "homicides = homicides.merge(homicides_locations,on=['loc_id','loc'])\n",
        "#crimes.sort_values(by='date')"
      ],
      "execution_count": 0,
      "outputs": []
    },
    {
      "cell_type": "code",
      "metadata": {
        "id": "CeZlr4WdRF0p",
        "colab_type": "code",
        "colab": {
          "base_uri": "https://localhost:8080/",
          "height": 102
        },
        "outputId": "e8a5a2f5-1ebe-4d78-c1dd-3a1299726c0a"
      },
      "source": [
        "crimes_date=crimes[['date','loc_id','crim_loc_id2']]\n",
        "crimes_date=crimes_date.groupby('date').agg(lambda x: list(x))\n",
        "crimes_date['crimes_count_date']=np.nan\n",
        "for i in range(len(crimes_date)):\n",
        "  crimes_date.crimes_count_date.iloc[i]=len(list(crimes_date.loc_id.iloc[i]))\n",
        "  crimes_date.loc_id.iloc[i]=np.unique(list(crimes_date.loc_id.iloc[i]))\n",
        "  crimes_date.crim_loc_id2.iloc[i]=np.unique(list(crimes_date.crim_loc_id2.iloc[i]))\n",
        "crimes_date.crimes_count_date=crimes_date.crimes_count_date.astype(int)\n",
        "crimes_date=crimes_date.reset_index()\n",
        "crimes_date=crimes_date.rename(index=str, columns={\"loc_id\": \"crim_loc_id\"})\n",
        "#crimes_date.head()"
      ],
      "execution_count": 18,
      "outputs": [
        {
          "output_type": "stream",
          "text": [
            "/usr/local/lib/python3.6/dist-packages/pandas/core/indexing.py:190: SettingWithCopyWarning: \n",
            "A value is trying to be set on a copy of a slice from a DataFrame\n",
            "\n",
            "See the caveats in the documentation: http://pandas.pydata.org/pandas-docs/stable/indexing.html#indexing-view-versus-copy\n",
            "  self._setitem_with_indexer(indexer, value)\n"
          ],
          "name": "stderr"
        }
      ]
    },
    {
      "cell_type": "code",
      "metadata": {
        "id": "C53LPozDxrVO",
        "colab_type": "code",
        "colab": {
          "base_uri": "https://localhost:8080/",
          "height": 102
        },
        "outputId": "745cca9f-42c0-4627-85a1-9496413e6eea"
      },
      "source": [
        "homicides_date=homicides[['date','loc_id','crim_loc_id2']]\n",
        "homicides_date=homicides_date.groupby('date').agg(lambda x: list(x))\n",
        "homicides_date['homicides_count_date']=np.nan\n",
        "for i in range(len(homicides_date)):\n",
        "  homicides_date.homicides_count_date.iloc[i]=len(list(homicides_date.loc_id.iloc[i]))\n",
        "  homicides_date.loc_id.iloc[i]=np.unique(list(homicides_date.loc_id.iloc[i]))\n",
        "  homicides_date.crim_loc_id2.iloc[i]=np.unique(list(homicides_date.crim_loc_id2.iloc[i]))\n",
        "homicides_date.homicides_count_date=homicides_date.homicides_count_date.astype(int)\n",
        "homicides_date=homicides_date.reset_index()\n",
        "homicides_date=homicides_date.rename(index=str, columns={\"loc_id\": \"homi_loc_id\"})"
      ],
      "execution_count": 78,
      "outputs": [
        {
          "output_type": "stream",
          "text": [
            "/usr/local/lib/python3.6/dist-packages/pandas/core/indexing.py:190: SettingWithCopyWarning: \n",
            "A value is trying to be set on a copy of a slice from a DataFrame\n",
            "\n",
            "See the caveats in the documentation: http://pandas.pydata.org/pandas-docs/stable/indexing.html#indexing-view-versus-copy\n",
            "  self._setitem_with_indexer(indexer, value)\n"
          ],
          "name": "stderr"
        }
      ]
    },
    {
      "cell_type": "code",
      "metadata": {
        "id": "YRvh8NgamXD_",
        "colab_type": "code",
        "colab": {
          "base_uri": "https://localhost:8080/",
          "height": 102
        },
        "outputId": "f7305dc2-6531-4c60-dd09-c56ed8dc18cc"
      },
      "source": [
        "crimes_loc=crimes[['loc_id','crim_loc_id2']]\n",
        "crimes_loc=crimes_loc.groupby(['loc_id']).agg(lambda x: list(x))\n",
        "crimes_loc['crimes_count_loc']=np.nan\n",
        "for i in range(len(crimes_loc)):\n",
        "  crimes_loc.crimes_count_loc.iloc[i]=len(list(crimes_loc.crim_loc_id2.iloc[i]))\n",
        "crimes_loc.crimes_count_loc=crimes_loc.crimes_count_loc.astype(int)\n",
        "crimes_loc=crimes_loc.reset_index()\n",
        "crimes_loc.crim_loc_id2=crimes_loc.index\n",
        "crimes_loc=crimes_loc.rename(index=str, columns={\"loc_id\": \"crim_loc_id\"})\n",
        "#crimes_loc.head()"
      ],
      "execution_count": 19,
      "outputs": [
        {
          "output_type": "stream",
          "text": [
            "/usr/local/lib/python3.6/dist-packages/pandas/core/indexing.py:190: SettingWithCopyWarning: \n",
            "A value is trying to be set on a copy of a slice from a DataFrame\n",
            "\n",
            "See the caveats in the documentation: http://pandas.pydata.org/pandas-docs/stable/indexing.html#indexing-view-versus-copy\n",
            "  self._setitem_with_indexer(indexer, value)\n"
          ],
          "name": "stderr"
        }
      ]
    },
    {
      "cell_type": "code",
      "metadata": {
        "id": "Ua18iguvxzJ3",
        "colab_type": "code",
        "colab": {
          "base_uri": "https://localhost:8080/",
          "height": 102
        },
        "outputId": "1b7fad1f-669e-4c34-ce14-ff6d2769f05f"
      },
      "source": [
        "homicides_loc=homicides[['loc_id','crim_loc_id2']]\n",
        "homicides_loc=homicides_loc.groupby(['loc_id']).agg(lambda x: list(x))\n",
        "homicides_loc['homicides_count_loc']=np.nan\n",
        "for i in range(len(homicides_loc)):\n",
        "  homicides_loc.homicides_count_loc.iloc[i]=len(list(homicides_loc.crim_loc_id2.iloc[i]))\n",
        "homicides_loc.homicides_count_loc=homicides_loc.homicides_count_loc.astype(int)\n",
        "homicides_loc=homicides_loc.reset_index()\n",
        "homicides_loc.crim_loc_id2=homicides_loc.index\n",
        "homicides_loc=homicides_loc.rename(index=str, columns={\"loc_id\": \"homi_loc_id\"})"
      ],
      "execution_count": 79,
      "outputs": [
        {
          "output_type": "stream",
          "text": [
            "/usr/local/lib/python3.6/dist-packages/pandas/core/indexing.py:190: SettingWithCopyWarning: \n",
            "A value is trying to be set on a copy of a slice from a DataFrame\n",
            "\n",
            "See the caveats in the documentation: http://pandas.pydata.org/pandas-docs/stable/indexing.html#indexing-view-versus-copy\n",
            "  self._setitem_with_indexer(indexer, value)\n"
          ],
          "name": "stderr"
        }
      ]
    },
    {
      "cell_type": "code",
      "metadata": {
        "id": "9Kf2IqKxhw3M",
        "colab_type": "code",
        "colab": {
          "base_uri": "https://localhost:8080/",
          "height": 286
        },
        "outputId": "c8a12583-e1f7-493e-d27b-19d8b6ba18d2"
      },
      "source": [
        "plt.plot(crimes_date.index,crimes_date.crimes_count_date)"
      ],
      "execution_count": 20,
      "outputs": [
        {
          "output_type": "execute_result",
          "data": {
            "text/plain": [
              "[<matplotlib.lines.Line2D at 0x7f3ef1f3b400>]"
            ]
          },
          "metadata": {
            "tags": []
          },
          "execution_count": 20
        },
        {
          "output_type": "display_data",
          "data": {
            "image/png": "[encoded data removed]",
            "text/plain": [
              "<Figure size 432x288 with 1 Axes>"
            ]
          },
          "metadata": {
            "tags": []
          }
        }
      ]
    },
    {
      "cell_type": "code",
      "metadata": {
        "id": "4_oFnFvAx8YZ",
        "colab_type": "code",
        "colab": {
          "base_uri": "https://localhost:8080/",
          "height": 286
        },
        "outputId": "e5533041-e85b-4187-bf0d-35507c54b3a0"
      },
      "source": [
        "plt.plot(homicides_date.index,homicides_date.homicides_count_date)"
      ],
      "execution_count": 81,
      "outputs": [
        {
          "output_type": "execute_result",
          "data": {
            "text/plain": [
              "[<matplotlib.lines.Line2D at 0x7f3ef54f3940>]"
            ]
          },
          "metadata": {
            "tags": []
          },
          "execution_count": 81
        },
        {
          "output_type": "display_data",
          "data": {
            "image/png": "[encoded data removed]",
            "text/plain": [
              "<Figure size 432x288 with 1 Axes>"
            ]
          },
          "metadata": {
            "tags": []
          }
        }
      ]
    },
    {
      "cell_type": "code",
      "metadata": {
        "id": "LZCZB9Ujc7Sc",
        "colab_type": "code",
        "colab": {
          "base_uri": "https://localhost:8080/",
          "height": 286
        },
        "outputId": "0cdc53c2-af8c-4c22-ffee-daaf76e1da8a"
      },
      "source": [
        "plt.plot(crimes_loc.index,crimes_loc.crimes_count_loc)"
      ],
      "execution_count": 21,
      "outputs": [
        {
          "output_type": "execute_result",
          "data": {
            "text/plain": [
              "[<matplotlib.lines.Line2D at 0x7f3ef3cc1e10>]"
            ]
          },
          "metadata": {
            "tags": []
          },
          "execution_count": 21
        },
        {
          "output_type": "display_data",
          "data": {
            "image/png": "[encoded data removed]",
            "text/plain": [
              "<Figure size 432x288 with 1 Axes>"
            ]
          },
          "metadata": {
            "tags": []
          }
        }
      ]
    },
    {
      "cell_type": "code",
      "metadata": {
        "id": "IkjBnbQNx9IQ",
        "colab_type": "code",
        "colab": {
          "base_uri": "https://localhost:8080/",
          "height": 286
        },
        "outputId": "5d6e6f68-5c0d-4b9e-db7c-542464d65e8f"
      },
      "source": [
        "plt.plot(homicides_loc.index,homicides_loc.homicides_count_loc)"
      ],
      "execution_count": 82,
      "outputs": [
        {
          "output_type": "execute_result",
          "data": {
            "text/plain": [
              "[<matplotlib.lines.Line2D at 0x7f3ef55e4048>]"
            ]
          },
          "metadata": {
            "tags": []
          },
          "execution_count": 82
        },
        {
          "output_type": "display_data",
          "data": {
            "image/png": "[encoded data removed]",
            "text/plain": [
              "<Figure size 432x288 with 1 Axes>"
            ]
          },
          "metadata": {
            "tags": []
          }
        }
      ]
    },
    {
      "cell_type": "markdown",
      "metadata": {
        "id": "xUQH2SnN28i7",
        "colab_type": "text"
      },
      "source": [
        "## Calculating distances between Airbnb listings and criminal occurrences\n",
        "\n",
        "We're interested in knowing the criminal activity surrounding each Airbnb listing. To do that, we'll calculate the distance between each unique location on our listings database and each unique location on our criminal occurrence database."
      ]
    },
    {
      "cell_type": "code",
      "metadata": {
        "id": "DP3e_XB47bzo",
        "colab_type": "code",
        "colab": {}
      },
      "source": [
        "def distance(a,b):\n",
        "    \"\"\"\n",
        "    Calculate the great circle distance between two points\n",
        "    on the earth (specified in decimal degrees). Output in KM\n",
        "    \"\"\"\n",
        "    lat1 = a[0]\n",
        "    lat2 = b[0]\n",
        "    lon1 = a[1]\n",
        "    lon2 = b[1]\n",
        "    # convert decimal degrees to radians\n",
        "    lon1, lat1, lon2, lat2 = map(radians, [lon1, lat1, lon2, lat2])\n",
        "    # haversine formula\n",
        "    dlon = lon2 - lon1\n",
        "    dlat = lat2 - lat1\n",
        "    a = sin(dlat / 2) ** 2 + cos(lat1) * cos(lat2) * sin(dlon / 2) ** 2\n",
        "    c = 2 * asin(sqrt(a))\n",
        "    km = 6371 * c\n",
        "    return km"
      ],
      "execution_count": 0,
      "outputs": []
    },
    {
      "cell_type": "code",
      "metadata": {
        "id": "ZZqAqVMbrNKe",
        "colab_type": "code",
        "colab": {}
      },
      "source": [
        "distances=[None]*len(list_locs)\n",
        "for i in range(len(list_locs)):\n",
        "  a=[None]*len(crim_locs)\n",
        "  x=list_locs[i]\n",
        "  for j in range(len(crim_locs)):\n",
        "    a[j]=round(distance(x,crim_locs[j]),2)\n",
        "  distances[i]=a\n",
        "  \n",
        "dist_df=pd.DataFrame(distances)"
      ],
      "execution_count": 0,
      "outputs": []
    },
    {
      "cell_type": "code",
      "metadata": {
        "id": "KyoVB6KZa6u_",
        "colab_type": "code",
        "colab": {}
      },
      "source": [
        "#dist_df.head(10)"
      ],
      "execution_count": 0,
      "outputs": []
    },
    {
      "cell_type": "code",
      "metadata": {
        "id": "5STPq7Kcj3CA",
        "colab_type": "code",
        "colab": {}
      },
      "source": [
        "dist1_df=dist_df[dist_df<=1].notnull().astype('int')\n",
        "dist1_df=dist1_df.fillna(0)\n",
        "#dist1_df.head()"
      ],
      "execution_count": 0,
      "outputs": []
    },
    {
      "cell_type": "code",
      "metadata": {
        "id": "EitgAm_Os6ab",
        "colab_type": "code",
        "colab": {}
      },
      "source": [
        "dist2_df=dist_df[dist_df<=2].notnull().astype('int')\n",
        "dist2_df=dist2_df.fillna(0)\n",
        "#dist2_df.head()"
      ],
      "execution_count": 0,
      "outputs": []
    },
    {
      "cell_type": "code",
      "metadata": {
        "id": "TDEmv6PmsmY-",
        "colab_type": "code",
        "colab": {}
      },
      "source": [
        "dist5_df=dist_df[dist_df<=5].notnull().astype('int')\n",
        "dist5_df=dist5_df.fillna(0)\n",
        "#dist5_df.head()"
      ],
      "execution_count": 0,
      "outputs": []
    },
    {
      "cell_type": "markdown",
      "metadata": {
        "id": "GQ-BUW1KgAz6",
        "colab_type": "text"
      },
      "source": [
        "#Creating our full Airbnb database"
      ]
    },
    {
      "cell_type": "code",
      "metadata": {
        "id": "DRX0C5OvgAZ4",
        "colab_type": "code",
        "colab": {}
      },
      "source": [
        "airbnb=calendar.merge(listings,on=['listing_id'],how='inner')\n",
        "#airbnb.head()"
      ],
      "execution_count": 0,
      "outputs": []
    },
    {
      "cell_type": "code",
      "metadata": {
        "id": "eiDOsMqBum1Y",
        "colab_type": "code",
        "colab": {}
      },
      "source": [
        "airbnb_c=airbnb.merge(crimes_date,on=['date'])\n",
        "airbnb_c['loc_id'] = airbnb_c.loc_id2\n",
        "airbnb_c['crim_loc_id'] = airbnb_c.crim_loc_id2\n",
        "airbnb_c = airbnb_c.drop(columns=['loc_id2','crim_loc_id2'])\n",
        "airbnb_c = airbnb_c.assign(date_id=(airbnb_c['date'].astype('category').cat.codes))\n",
        "airbnb_c = airbnb_c.rename(index=str, columns={\"crim_loc_id\": \"crimes_that_date\"})\n",
        "airbnb_c = airbnb_c.sort_values(by=['listing_id','date'])\n",
        "#airbnb_c.head()"
      ],
      "execution_count": 0,
      "outputs": []
    },
    {
      "cell_type": "code",
      "metadata": {
        "colab_type": "code",
        "id": "x_PP8c3y3zu4",
        "colab": {}
      },
      "source": [
        "airbnb_cr=airbnb_c[airbnb_c.review==1]\n",
        "airbnb_cr=airbnb_cr.drop(columns=['review'])\n",
        "#airbnb_cr"
      ],
      "execution_count": 0,
      "outputs": []
    },
    {
      "cell_type": "code",
      "metadata": {
        "id": "SJPgd4BdmJ1s",
        "colab_type": "code",
        "colab": {}
      },
      "source": [
        "def indices(lst, element):\n",
        "    result = []\n",
        "    offset = -1\n",
        "    while True:\n",
        "        try:\n",
        "            offset = lst.index(element, offset+1)\n",
        "        except ValueError:\n",
        "            return result\n",
        "        result.append(offset)"
      ],
      "execution_count": 0,
      "outputs": []
    },
    {
      "cell_type": "code",
      "metadata": {
        "id": "YG3J_a78hA5C",
        "colab_type": "code",
        "colab": {}
      },
      "source": [
        "airbnb_cr['crimes_loc_1km']=np.nan\n",
        "airbnb_cr['crimes_loc_2km']=np.nan\n",
        "airbnb_cr['crimes_loc_5km']=np.nan\n",
        "\n",
        "crimes_loc_1km=[None]*len(airbnb_cr)\n",
        "crimes_loc_2km=[None]*len(airbnb_cr)\n",
        "crimes_loc_5km=[None]*len(airbnb_cr)\n",
        "\n",
        "for i in range(len(airbnb_cr)):\n",
        "  loc_id=airbnb_cr.loc_id.iloc[i]\n",
        "  crimes_loc_1km[i]=indices(list(dist1_df.iloc[loc_id]),1)\n",
        "  crimes_loc_2km[i]=list(np.setdiff1d(indices(list(dist2_df.loc[loc_id]),1),indices(list(dist1_df.loc[loc_id]),1)))\n",
        "  crimes_loc_5km[i]=list(np.setdiff1d(indices(list(dist5_df.loc[loc_id]),1),indices(list(dist2_df.loc[loc_id]),1)))\n",
        "\n",
        "airbnb_cr.crimes_loc_1km=crimes_loc_1km\n",
        "airbnb_cr.crimes_loc_2km=crimes_loc_2km\n",
        "airbnb_cr.crimes_loc_5km=crimes_loc_5km\n",
        "\n",
        "#airbnb_cr.head()"
      ],
      "execution_count": 0,
      "outputs": []
    },
    {
      "cell_type": "code",
      "metadata": {
        "id": "3d2C6Tgi8f0X",
        "colab_type": "code",
        "colab": {}
      },
      "source": [
        "airbnb_cr['crimes_1km']=np.nan\n",
        "airbnb_cr['crimes_2km']=np.nan\n",
        "airbnb_cr['crimes_5km']=np.nan\n",
        "\n",
        "crimes_1km=[None]*len(airbnb_cr)\n",
        "crimes_2km=[None]*len(airbnb_cr)\n",
        "crimes_5km=[None]*len(airbnb_cr)\n",
        "\n",
        "for i in range(len(airbnb_cr)):\n",
        "  crimes_that_date = airbnb_cr.crimes_that_date.iloc[i]\n",
        "  crimes_1km[i] = list(set(crimes_that_date).intersection(airbnb_cr.crimes_loc_1km.iloc[i]))\n",
        "  crimes_2km[i] = list(set(crimes_that_date).intersection(airbnb_cr.crimes_loc_2km.iloc[i]))\n",
        "  crimes_5km[i] = list(set(crimes_that_date).intersection(airbnb_cr.crimes_loc_5km.iloc[i]))\n",
        "  \n",
        "airbnb_cr.crimes_1km=crimes_1km\n",
        "airbnb_cr.crimes_2km=crimes_2km\n",
        "airbnb_cr.crimes_5km=crimes_5km\n",
        "\n",
        "#airbnb_cr.head()"
      ],
      "execution_count": 0,
      "outputs": []
    },
    {
      "cell_type": "code",
      "metadata": {
        "id": "hw3FpmHoo61X",
        "colab_type": "code",
        "colab": {
          "base_uri": "https://localhost:8080/",
          "height": 564
        },
        "outputId": "7a58863d-2bf3-47aa-e909-d0fbeffe9fb6"
      },
      "source": [
        "#airbnb_cr.head()"
      ],
      "execution_count": 39,
      "outputs": [
        {
          "output_type": "execute_result",
          "data": {
            "text/html": [
              "<div>\n",
              "<style scoped>\n",
              "    .dataframe tbody tr th:only-of-type {\n",
              "        vertical-align: middle;\n",
              "    }\n",
              "\n",
              "    .dataframe tbody tr th {\n",
              "        vertical-align: top;\n",
              "    }\n",
              "\n",
              "    .dataframe thead th {\n",
              "        text-align: right;\n",
              "    }\n",
              "</style>\n",
              "<table border=\"1\" class=\"dataframe\">\n",
              "  <thead>\n",
              "    <tr style=\"text-align: right;\">\n",
              "      <th></th>\n",
              "      <th>listing_id</th>\n",
              "      <th>date</th>\n",
              "      <th>price</th>\n",
              "      <th>month</th>\n",
              "      <th>day</th>\n",
              "      <th>year</th>\n",
              "      <th>host_id</th>\n",
              "      <th>neighbourhood</th>\n",
              "      <th>room_type</th>\n",
              "      <th>number_of_reviews</th>\n",
              "      <th>reviews_per_month</th>\n",
              "      <th>calculated_host_listings_count</th>\n",
              "      <th>availability_365</th>\n",
              "      <th>lr_m</th>\n",
              "      <th>lr_d</th>\n",
              "      <th>lr_y</th>\n",
              "      <th>lat</th>\n",
              "      <th>lon</th>\n",
              "      <th>location</th>\n",
              "      <th>loc</th>\n",
              "      <th>loc_id</th>\n",
              "      <th>crimes_that_date</th>\n",
              "      <th>crimes_count_date</th>\n",
              "      <th>date_id</th>\n",
              "      <th>crimes_loc_1km</th>\n",
              "      <th>crimes_loc_2km</th>\n",
              "      <th>crimes_loc_5km</th>\n",
              "      <th>crimes_1km</th>\n",
              "      <th>crimes_2km</th>\n",
              "      <th>crimes_5km</th>\n",
              "    </tr>\n",
              "  </thead>\n",
              "  <tbody>\n",
              "    <tr>\n",
              "      <th>38834</th>\n",
              "      <td>2384</td>\n",
              "      <td>2018-07-26</td>\n",
              "      <td>75.0</td>\n",
              "      <td>7</td>\n",
              "      <td>26</td>\n",
              "      <td>2018</td>\n",
              "      <td>2613</td>\n",
              "      <td>Hyde Park</td>\n",
              "      <td>2</td>\n",
              "      <td>159</td>\n",
              "      <td>2.89</td>\n",
              "      <td>1</td>\n",
              "      <td>306</td>\n",
              "      <td>7</td>\n",
              "      <td>11</td>\n",
              "      <td>2019</td>\n",
              "      <td>41.79</td>\n",
              "      <td>-87.59</td>\n",
              "      <td>(41.78886, -87.58671)</td>\n",
              "      <td>(41.79, -87.59)</td>\n",
              "      <td>71</td>\n",
              "      <td>[0, 33, 34, 35, 37, 40, 45, 49, 50, 51, 56, 58...</td>\n",
              "      <td>731</td>\n",
              "      <td>17</td>\n",
              "      <td>[244, 245, 246]</td>\n",
              "      <td>[223, 224, 225, 243, 264, 265, 266, 267, 632, ...</td>\n",
              "      <td>[162, 163, 164, 165, 166, 178, 179, 180, 181, ...</td>\n",
              "      <td>[244, 246]</td>\n",
              "      <td>[224, 225, 264, 265, 266, 633, 223]</td>\n",
              "      <td>[262, 263, 279, 281, 162, 163, 164, 165, 166, ...</td>\n",
              "    </tr>\n",
              "    <tr>\n",
              "      <th>47199</th>\n",
              "      <td>2384</td>\n",
              "      <td>2018-07-29</td>\n",
              "      <td>69.0</td>\n",
              "      <td>7</td>\n",
              "      <td>29</td>\n",
              "      <td>2018</td>\n",
              "      <td>2613</td>\n",
              "      <td>Hyde Park</td>\n",
              "      <td>2</td>\n",
              "      <td>159</td>\n",
              "      <td>2.89</td>\n",
              "      <td>1</td>\n",
              "      <td>306</td>\n",
              "      <td>7</td>\n",
              "      <td>11</td>\n",
              "      <td>2019</td>\n",
              "      <td>41.79</td>\n",
              "      <td>-87.59</td>\n",
              "      <td>(41.78886, -87.58671)</td>\n",
              "      <td>(41.79, -87.59)</td>\n",
              "      <td>71</td>\n",
              "      <td>[0, 36, 37, 38, 40, 41, 42, 46, 47, 48, 49, 50...</td>\n",
              "      <td>731</td>\n",
              "      <td>20</td>\n",
              "      <td>[244, 245, 246]</td>\n",
              "      <td>[223, 224, 225, 243, 264, 265, 266, 267, 632, ...</td>\n",
              "      <td>[162, 163, 164, 165, 166, 178, 179, 180, 181, ...</td>\n",
              "      <td>[]</td>\n",
              "      <td>[224, 225, 265, 266, 267, 243, 223]</td>\n",
              "      <td>[262, 263, 278, 279, 280, 281, 289, 162, 163, ...</td>\n",
              "    </tr>\n",
              "    <tr>\n",
              "      <th>64461</th>\n",
              "      <td>2384</td>\n",
              "      <td>2018-08-05</td>\n",
              "      <td>65.0</td>\n",
              "      <td>8</td>\n",
              "      <td>5</td>\n",
              "      <td>2018</td>\n",
              "      <td>2613</td>\n",
              "      <td>Hyde Park</td>\n",
              "      <td>2</td>\n",
              "      <td>159</td>\n",
              "      <td>2.89</td>\n",
              "      <td>1</td>\n",
              "      <td>306</td>\n",
              "      <td>7</td>\n",
              "      <td>11</td>\n",
              "      <td>2019</td>\n",
              "      <td>41.79</td>\n",
              "      <td>-87.59</td>\n",
              "      <td>(41.78886, -87.58671)</td>\n",
              "      <td>(41.79, -87.59)</td>\n",
              "      <td>71</td>\n",
              "      <td>[0, 32, 33, 36, 37, 43, 45, 47, 50, 51, 52, 57...</td>\n",
              "      <td>811</td>\n",
              "      <td>27</td>\n",
              "      <td>[244, 245, 246]</td>\n",
              "      <td>[223, 224, 225, 243, 264, 265, 266, 267, 632, ...</td>\n",
              "      <td>[162, 163, 164, 165, 166, 178, 179, 180, 181, ...</td>\n",
              "      <td>[246]</td>\n",
              "      <td>[265, 266, 267, 243, 223]</td>\n",
              "      <td>[262, 263, 280, 281, 289, 162, 163, 164, 165, ...</td>\n",
              "    </tr>\n",
              "    <tr>\n",
              "      <th>85514</th>\n",
              "      <td>2384</td>\n",
              "      <td>2018-08-12</td>\n",
              "      <td>75.0</td>\n",
              "      <td>8</td>\n",
              "      <td>12</td>\n",
              "      <td>2018</td>\n",
              "      <td>2613</td>\n",
              "      <td>Hyde Park</td>\n",
              "      <td>2</td>\n",
              "      <td>159</td>\n",
              "      <td>2.89</td>\n",
              "      <td>1</td>\n",
              "      <td>306</td>\n",
              "      <td>7</td>\n",
              "      <td>11</td>\n",
              "      <td>2019</td>\n",
              "      <td>41.79</td>\n",
              "      <td>-87.59</td>\n",
              "      <td>(41.78886, -87.58671)</td>\n",
              "      <td>(41.79, -87.59)</td>\n",
              "      <td>71</td>\n",
              "      <td>[0, 27, 30, 31, 34, 36, 37, 40, 41, 46, 47, 48...</td>\n",
              "      <td>781</td>\n",
              "      <td>34</td>\n",
              "      <td>[244, 245, 246]</td>\n",
              "      <td>[223, 224, 225, 243, 264, 265, 266, 267, 632, ...</td>\n",
              "      <td>[162, 163, 164, 165, 166, 178, 179, 180, 181, ...</td>\n",
              "      <td>[244, 246]</td>\n",
              "      <td>[224, 225, 265, 266, 267, 223]</td>\n",
              "      <td>[263, 278, 279, 289, 162, 163, 164, 165, 166, ...</td>\n",
              "    </tr>\n",
              "    <tr>\n",
              "      <th>177947</th>\n",
              "      <td>2384</td>\n",
              "      <td>2018-10-01</td>\n",
              "      <td>65.0</td>\n",
              "      <td>10</td>\n",
              "      <td>1</td>\n",
              "      <td>2018</td>\n",
              "      <td>2613</td>\n",
              "      <td>Hyde Park</td>\n",
              "      <td>2</td>\n",
              "      <td>159</td>\n",
              "      <td>2.89</td>\n",
              "      <td>1</td>\n",
              "      <td>306</td>\n",
              "      <td>7</td>\n",
              "      <td>11</td>\n",
              "      <td>2019</td>\n",
              "      <td>41.79</td>\n",
              "      <td>-87.59</td>\n",
              "      <td>(41.78886, -87.58671)</td>\n",
              "      <td>(41.79, -87.59)</td>\n",
              "      <td>71</td>\n",
              "      <td>[0, 32, 34, 36, 37, 41, 47, 50, 54, 56, 58, 60...</td>\n",
              "      <td>732</td>\n",
              "      <td>84</td>\n",
              "      <td>[244, 245, 246]</td>\n",
              "      <td>[223, 224, 225, 243, 264, 265, 266, 267, 632, ...</td>\n",
              "      <td>[162, 163, 164, 165, 166, 178, 179, 180, 181, ...</td>\n",
              "      <td>[244]</td>\n",
              "      <td>[224, 264, 265, 266, 223]</td>\n",
              "      <td>[263, 279, 280, 281, 289, 162, 163, 164, 165, ...</td>\n",
              "    </tr>\n",
              "  </tbody>\n",
              "</table>\n",
              "</div>"
            ],
            "text/plain": [
              "        listing_id  ...                                         crimes_5km\n",
              "38834         2384  ...  [262, 263, 279, 281, 162, 163, 164, 165, 166, ...\n",
              "47199         2384  ...  [262, 263, 278, 279, 280, 281, 289, 162, 163, ...\n",
              "64461         2384  ...  [262, 263, 280, 281, 289, 162, 163, 164, 165, ...\n",
              "85514         2384  ...  [263, 278, 279, 289, 162, 163, 164, 165, 166, ...\n",
              "177947        2384  ...  [263, 279, 280, 281, 289, 162, 163, 164, 165, ...\n",
              "\n",
              "[5 rows x 30 columns]"
            ]
          },
          "metadata": {
            "tags": []
          },
          "execution_count": 39
        }
      ]
    },
    {
      "cell_type": "code",
      "metadata": {
        "id": "_8lfitVquhbM",
        "colab_type": "code",
        "colab": {
          "base_uri": "https://localhost:8080/",
          "height": 564
        },
        "outputId": "b2d949f5-e49c-44c7-e4a3-c2dbe103c0db"
      },
      "source": [
        "airbnb_cr['crimes_1km_count']=np.nan\n",
        "airbnb_cr['crimes_2km_count']=np.nan\n",
        "airbnb_cr['crimes_5km_count']=np.nan\n",
        "\n",
        "crimes_1km_count=[None]*len(airbnb_cr)\n",
        "crimes_2km_count=[None]*len(airbnb_cr)\n",
        "crimes_5km_count=[None]*len(airbnb_cr)\n",
        "\n",
        "for i in range(len(airbnb_cr)):\n",
        "  c=crimes[crimes[\"date\"]==airbnb_cr.date.iloc[i]]\n",
        "  l1=airbnb_cr.crimes_1km.iloc[i]\n",
        "  l2=airbnb_cr.crimes_2km.iloc[i]\n",
        "  l5=airbnb_cr.crimes_5km.iloc[i]\n",
        "  \n",
        "  c1=c[c[\"crim_loc_id2\"].isin(l1)]\n",
        "  c2=c[c[\"crim_loc_id2\"].isin(l2)]\n",
        "  c5=c[c[\"crim_loc_id2\"].isin(l5)]  \n",
        "  \n",
        "  crimes_1km_count[i]=len(c1)\n",
        "  crimes_2km_count[i]=len(c2)\n",
        "  crimes_5km_count[i]=len(c5)  \n",
        "  \n",
        "airbnb_cr.crimes_1km_count=crimes_1km_count\n",
        "airbnb_cr.crimes_2km_count=crimes_2km_count\n",
        "airbnb_cr.crimes_5km_count=crimes_5km_count\n",
        "\n",
        "#airbnb_cr.head()"
      ],
      "execution_count": 40,
      "outputs": [
        {
          "output_type": "execute_result",
          "data": {
            "text/html": [
              "<div>\n",
              "<style scoped>\n",
              "    .dataframe tbody tr th:only-of-type {\n",
              "        vertical-align: middle;\n",
              "    }\n",
              "\n",
              "    .dataframe tbody tr th {\n",
              "        vertical-align: top;\n",
              "    }\n",
              "\n",
              "    .dataframe thead th {\n",
              "        text-align: right;\n",
              "    }\n",
              "</style>\n",
              "<table border=\"1\" class=\"dataframe\">\n",
              "  <thead>\n",
              "    <tr style=\"text-align: right;\">\n",
              "      <th></th>\n",
              "      <th>listing_id</th>\n",
              "      <th>date</th>\n",
              "      <th>price</th>\n",
              "      <th>month</th>\n",
              "      <th>day</th>\n",
              "      <th>year</th>\n",
              "      <th>host_id</th>\n",
              "      <th>neighbourhood</th>\n",
              "      <th>room_type</th>\n",
              "      <th>number_of_reviews</th>\n",
              "      <th>reviews_per_month</th>\n",
              "      <th>calculated_host_listings_count</th>\n",
              "      <th>availability_365</th>\n",
              "      <th>lr_m</th>\n",
              "      <th>lr_d</th>\n",
              "      <th>lr_y</th>\n",
              "      <th>lat</th>\n",
              "      <th>lon</th>\n",
              "      <th>location</th>\n",
              "      <th>loc</th>\n",
              "      <th>loc_id</th>\n",
              "      <th>crimes_that_date</th>\n",
              "      <th>crimes_count_date</th>\n",
              "      <th>date_id</th>\n",
              "      <th>crimes_loc_1km</th>\n",
              "      <th>crimes_loc_2km</th>\n",
              "      <th>crimes_loc_5km</th>\n",
              "      <th>crimes_1km</th>\n",
              "      <th>crimes_2km</th>\n",
              "      <th>crimes_5km</th>\n",
              "      <th>crimes_1km_count</th>\n",
              "      <th>crimes_2km_count</th>\n",
              "      <th>crimes_5km_count</th>\n",
              "    </tr>\n",
              "  </thead>\n",
              "  <tbody>\n",
              "    <tr>\n",
              "      <th>38834</th>\n",
              "      <td>2384</td>\n",
              "      <td>2018-07-26</td>\n",
              "      <td>75.0</td>\n",
              "      <td>7</td>\n",
              "      <td>26</td>\n",
              "      <td>2018</td>\n",
              "      <td>2613</td>\n",
              "      <td>Hyde Park</td>\n",
              "      <td>2</td>\n",
              "      <td>159</td>\n",
              "      <td>2.89</td>\n",
              "      <td>1</td>\n",
              "      <td>306</td>\n",
              "      <td>7</td>\n",
              "      <td>11</td>\n",
              "      <td>2019</td>\n",
              "      <td>41.79</td>\n",
              "      <td>-87.59</td>\n",
              "      <td>(41.78886, -87.58671)</td>\n",
              "      <td>(41.79, -87.59)</td>\n",
              "      <td>71</td>\n",
              "      <td>[0, 33, 34, 35, 37, 40, 45, 49, 50, 51, 56, 58...</td>\n",
              "      <td>731</td>\n",
              "      <td>17</td>\n",
              "      <td>[244, 245, 246]</td>\n",
              "      <td>[223, 224, 225, 243, 264, 265, 266, 267, 632, ...</td>\n",
              "      <td>[162, 163, 164, 165, 166, 178, 179, 180, 181, ...</td>\n",
              "      <td>[244, 246]</td>\n",
              "      <td>[224, 225, 264, 265, 266, 633, 223]</td>\n",
              "      <td>[262, 263, 279, 281, 162, 163, 164, 165, 166, ...</td>\n",
              "      <td>4</td>\n",
              "      <td>14</td>\n",
              "      <td>89</td>\n",
              "    </tr>\n",
              "    <tr>\n",
              "      <th>47199</th>\n",
              "      <td>2384</td>\n",
              "      <td>2018-07-29</td>\n",
              "      <td>69.0</td>\n",
              "      <td>7</td>\n",
              "      <td>29</td>\n",
              "      <td>2018</td>\n",
              "      <td>2613</td>\n",
              "      <td>Hyde Park</td>\n",
              "      <td>2</td>\n",
              "      <td>159</td>\n",
              "      <td>2.89</td>\n",
              "      <td>1</td>\n",
              "      <td>306</td>\n",
              "      <td>7</td>\n",
              "      <td>11</td>\n",
              "      <td>2019</td>\n",
              "      <td>41.79</td>\n",
              "      <td>-87.59</td>\n",
              "      <td>(41.78886, -87.58671)</td>\n",
              "      <td>(41.79, -87.59)</td>\n",
              "      <td>71</td>\n",
              "      <td>[0, 36, 37, 38, 40, 41, 42, 46, 47, 48, 49, 50...</td>\n",
              "      <td>731</td>\n",
              "      <td>20</td>\n",
              "      <td>[244, 245, 246]</td>\n",
              "      <td>[223, 224, 225, 243, 264, 265, 266, 267, 632, ...</td>\n",
              "      <td>[162, 163, 164, 165, 166, 178, 179, 180, 181, ...</td>\n",
              "      <td>[]</td>\n",
              "      <td>[224, 225, 265, 266, 267, 243, 223]</td>\n",
              "      <td>[262, 263, 278, 279, 280, 281, 289, 162, 163, ...</td>\n",
              "      <td>0</td>\n",
              "      <td>20</td>\n",
              "      <td>76</td>\n",
              "    </tr>\n",
              "    <tr>\n",
              "      <th>64461</th>\n",
              "      <td>2384</td>\n",
              "      <td>2018-08-05</td>\n",
              "      <td>65.0</td>\n",
              "      <td>8</td>\n",
              "      <td>5</td>\n",
              "      <td>2018</td>\n",
              "      <td>2613</td>\n",
              "      <td>Hyde Park</td>\n",
              "      <td>2</td>\n",
              "      <td>159</td>\n",
              "      <td>2.89</td>\n",
              "      <td>1</td>\n",
              "      <td>306</td>\n",
              "      <td>7</td>\n",
              "      <td>11</td>\n",
              "      <td>2019</td>\n",
              "      <td>41.79</td>\n",
              "      <td>-87.59</td>\n",
              "      <td>(41.78886, -87.58671)</td>\n",
              "      <td>(41.79, -87.59)</td>\n",
              "      <td>71</td>\n",
              "      <td>[0, 32, 33, 36, 37, 43, 45, 47, 50, 51, 52, 57...</td>\n",
              "      <td>811</td>\n",
              "      <td>27</td>\n",
              "      <td>[244, 245, 246]</td>\n",
              "      <td>[223, 224, 225, 243, 264, 265, 266, 267, 632, ...</td>\n",
              "      <td>[162, 163, 164, 165, 166, 178, 179, 180, 181, ...</td>\n",
              "      <td>[246]</td>\n",
              "      <td>[265, 266, 267, 243, 223]</td>\n",
              "      <td>[262, 263, 280, 281, 289, 162, 163, 164, 165, ...</td>\n",
              "      <td>1</td>\n",
              "      <td>12</td>\n",
              "      <td>94</td>\n",
              "    </tr>\n",
              "    <tr>\n",
              "      <th>85514</th>\n",
              "      <td>2384</td>\n",
              "      <td>2018-08-12</td>\n",
              "      <td>75.0</td>\n",
              "      <td>8</td>\n",
              "      <td>12</td>\n",
              "      <td>2018</td>\n",
              "      <td>2613</td>\n",
              "      <td>Hyde Park</td>\n",
              "      <td>2</td>\n",
              "      <td>159</td>\n",
              "      <td>2.89</td>\n",
              "      <td>1</td>\n",
              "      <td>306</td>\n",
              "      <td>7</td>\n",
              "      <td>11</td>\n",
              "      <td>2019</td>\n",
              "      <td>41.79</td>\n",
              "      <td>-87.59</td>\n",
              "      <td>(41.78886, -87.58671)</td>\n",
              "      <td>(41.79, -87.59)</td>\n",
              "      <td>71</td>\n",
              "      <td>[0, 27, 30, 31, 34, 36, 37, 40, 41, 46, 47, 48...</td>\n",
              "      <td>781</td>\n",
              "      <td>34</td>\n",
              "      <td>[244, 245, 246]</td>\n",
              "      <td>[223, 224, 225, 243, 264, 265, 266, 267, 632, ...</td>\n",
              "      <td>[162, 163, 164, 165, 166, 178, 179, 180, 181, ...</td>\n",
              "      <td>[244, 246]</td>\n",
              "      <td>[224, 225, 265, 266, 267, 223]</td>\n",
              "      <td>[263, 278, 279, 289, 162, 163, 164, 165, 166, ...</td>\n",
              "      <td>3</td>\n",
              "      <td>14</td>\n",
              "      <td>84</td>\n",
              "    </tr>\n",
              "    <tr>\n",
              "      <th>177947</th>\n",
              "      <td>2384</td>\n",
              "      <td>2018-10-01</td>\n",
              "      <td>65.0</td>\n",
              "      <td>10</td>\n",
              "      <td>1</td>\n",
              "      <td>2018</td>\n",
              "      <td>2613</td>\n",
              "      <td>Hyde Park</td>\n",
              "      <td>2</td>\n",
              "      <td>159</td>\n",
              "      <td>2.89</td>\n",
              "      <td>1</td>\n",
              "      <td>306</td>\n",
              "      <td>7</td>\n",
              "      <td>11</td>\n",
              "      <td>2019</td>\n",
              "      <td>41.79</td>\n",
              "      <td>-87.59</td>\n",
              "      <td>(41.78886, -87.58671)</td>\n",
              "      <td>(41.79, -87.59)</td>\n",
              "      <td>71</td>\n",
              "      <td>[0, 32, 34, 36, 37, 41, 47, 50, 54, 56, 58, 60...</td>\n",
              "      <td>732</td>\n",
              "      <td>84</td>\n",
              "      <td>[244, 245, 246]</td>\n",
              "      <td>[223, 224, 225, 243, 264, 265, 266, 267, 632, ...</td>\n",
              "      <td>[162, 163, 164, 165, 166, 178, 179, 180, 181, ...</td>\n",
              "      <td>[244]</td>\n",
              "      <td>[224, 264, 265, 266, 223]</td>\n",
              "      <td>[263, 279, 280, 281, 289, 162, 163, 164, 165, ...</td>\n",
              "      <td>1</td>\n",
              "      <td>7</td>\n",
              "      <td>86</td>\n",
              "    </tr>\n",
              "  </tbody>\n",
              "</table>\n",
              "</div>"
            ],
            "text/plain": [
              "        listing_id       date  ...  crimes_2km_count  crimes_5km_count\n",
              "38834         2384 2018-07-26  ...                14                89\n",
              "47199         2384 2018-07-29  ...                20                76\n",
              "64461         2384 2018-08-05  ...                12                94\n",
              "85514         2384 2018-08-12  ...                14                84\n",
              "177947        2384 2018-10-01  ...                 7                86\n",
              "\n",
              "[5 rows x 33 columns]"
            ]
          },
          "metadata": {
            "tags": []
          },
          "execution_count": 40
        }
      ]
    },
    {
      "cell_type": "code",
      "metadata": {
        "id": "6D7hrNaNchDr",
        "colab_type": "code",
        "colab": {
          "base_uri": "https://localhost:8080/",
          "height": 306
        },
        "outputId": "56596ac1-2d6f-42e1-ff06-38b0b5f2264c"
      },
      "source": [
        "from sklearn.linear_model import LinearRegression\n",
        "#X = airbnb_cr[['crimes_1km_count','crimes_2km_count','crimes_5km_count','crimes_count_date','availability_365','number_of_reviews','room_type','neighbourhood']]\n",
        "X = airbnb_cr[['crimes_1km_count','crimes_2km_count','crimes_5km_count','crimes_count_date']]\n",
        "X.crimes_1km_count=X.crimes_1km_count/X.crimes_count_date\n",
        "X.crimes_2km_count=X.crimes_2km_count/X.crimes_count_date\n",
        "X.crimes_5km_count=X.crimes_5km_count/X.crimes_count_date\n",
        "X = X[['crimes_1km_count','crimes_2km_count','crimes_5km_count']]\n",
        "# = airbnb_cr[['price']]\n",
        "\n",
        "#X = pd.concat([X.drop('room_type', axis=1), pd.get_dummies(X.room_type, prefix='room_type', drop_first=True)], axis=1)\n",
        "#X = pd.concat([X.drop('neighbourhood', axis=1), pd.get_dummies(X.neighbourhood, drop_first=True)], axis=1)\n",
        "X.head()"
      ],
      "execution_count": 69,
      "outputs": [
        {
          "output_type": "stream",
          "text": [
            "/usr/local/lib/python3.6/dist-packages/pandas/core/generic.py:5096: SettingWithCopyWarning: \n",
            "A value is trying to be set on a copy of a slice from a DataFrame.\n",
            "Try using .loc[row_indexer,col_indexer] = value instead\n",
            "\n",
            "See the caveats in the documentation: http://pandas.pydata.org/pandas-docs/stable/indexing.html#indexing-view-versus-copy\n",
            "  self[name] = value\n"
          ],
          "name": "stderr"
        },
        {
          "output_type": "execute_result",
          "data": {
            "text/html": [
              "<div>\n",
              "<style scoped>\n",
              "    .dataframe tbody tr th:only-of-type {\n",
              "        vertical-align: middle;\n",
              "    }\n",
              "\n",
              "    .dataframe tbody tr th {\n",
              "        vertical-align: top;\n",
              "    }\n",
              "\n",
              "    .dataframe thead th {\n",
              "        text-align: right;\n",
              "    }\n",
              "</style>\n",
              "<table border=\"1\" class=\"dataframe\">\n",
              "  <thead>\n",
              "    <tr style=\"text-align: right;\">\n",
              "      <th></th>\n",
              "      <th>crimes_1km_count</th>\n",
              "      <th>crimes_2km_count</th>\n",
              "      <th>crimes_5km_count</th>\n",
              "    </tr>\n",
              "  </thead>\n",
              "  <tbody>\n",
              "    <tr>\n",
              "      <th>38834</th>\n",
              "      <td>0.005472</td>\n",
              "      <td>0.019152</td>\n",
              "      <td>0.121751</td>\n",
              "    </tr>\n",
              "    <tr>\n",
              "      <th>47199</th>\n",
              "      <td>0.000000</td>\n",
              "      <td>0.027360</td>\n",
              "      <td>0.103967</td>\n",
              "    </tr>\n",
              "    <tr>\n",
              "      <th>64461</th>\n",
              "      <td>0.001233</td>\n",
              "      <td>0.014797</td>\n",
              "      <td>0.115906</td>\n",
              "    </tr>\n",
              "    <tr>\n",
              "      <th>85514</th>\n",
              "      <td>0.003841</td>\n",
              "      <td>0.017926</td>\n",
              "      <td>0.107554</td>\n",
              "    </tr>\n",
              "    <tr>\n",
              "      <th>177947</th>\n",
              "      <td>0.001366</td>\n",
              "      <td>0.009563</td>\n",
              "      <td>0.117486</td>\n",
              "    </tr>\n",
              "  </tbody>\n",
              "</table>\n",
              "</div>"
            ],
            "text/plain": [
              "        crimes_1km_count  crimes_2km_count  crimes_5km_count\n",
              "38834           0.005472          0.019152          0.121751\n",
              "47199           0.000000          0.027360          0.103967\n",
              "64461           0.001233          0.014797          0.115906\n",
              "85514           0.003841          0.017926          0.107554\n",
              "177947          0.001366          0.009563          0.117486"
            ]
          },
          "metadata": {
            "tags": []
          },
          "execution_count": 69
        }
      ]
    },
    {
      "cell_type": "code",
      "metadata": {
        "id": "78Fu-8AOunLQ",
        "colab_type": "code",
        "colab": {
          "base_uri": "https://localhost:8080/",
          "height": 111
        },
        "outputId": "b49efaf3-479c-4e79-dff9-1427355c3449"
      },
      "source": [
        "#Z=airbnb_cr[['crimes_1km_count','price']]\n",
        "#Z.corr()"
      ],
      "execution_count": 66,
      "outputs": [
        {
          "output_type": "execute_result",
          "data": {
            "text/html": [
              "<div>\n",
              "<style scoped>\n",
              "    .dataframe tbody tr th:only-of-type {\n",
              "        vertical-align: middle;\n",
              "    }\n",
              "\n",
              "    .dataframe tbody tr th {\n",
              "        vertical-align: top;\n",
              "    }\n",
              "\n",
              "    .dataframe thead th {\n",
              "        text-align: right;\n",
              "    }\n",
              "</style>\n",
              "<table border=\"1\" class=\"dataframe\">\n",
              "  <thead>\n",
              "    <tr style=\"text-align: right;\">\n",
              "      <th></th>\n",
              "      <th>crimes_1km_count</th>\n",
              "      <th>price</th>\n",
              "    </tr>\n",
              "  </thead>\n",
              "  <tbody>\n",
              "    <tr>\n",
              "      <th>crimes_1km_count</th>\n",
              "      <td>1.000000</td>\n",
              "      <td>0.151853</td>\n",
              "    </tr>\n",
              "    <tr>\n",
              "      <th>price</th>\n",
              "      <td>0.151853</td>\n",
              "      <td>1.000000</td>\n",
              "    </tr>\n",
              "  </tbody>\n",
              "</table>\n",
              "</div>"
            ],
            "text/plain": [
              "                  crimes_1km_count     price\n",
              "crimes_1km_count          1.000000  0.151853\n",
              "price                     0.151853  1.000000"
            ]
          },
          "metadata": {
            "tags": []
          },
          "execution_count": 66
        }
      ]
    },
    {
      "cell_type": "code",
      "metadata": {
        "id": "ydQh6gsMtgUa",
        "colab_type": "code",
        "colab": {
          "base_uri": "https://localhost:8080/",
          "height": 68
        },
        "outputId": "46aff739-03b5-4794-b4b2-73a524fed18b"
      },
      "source": [
        "reg = LinearRegression().fit(X, y)\n",
        "print(reg.score(X, y))\n",
        "print(reg.coef_)\n",
        "print(reg.intercept_)\n",
        "#reg.predict(np.array([[3, 5]]))\n"
      ],
      "execution_count": 70,
      "outputs": [
        {
          "output_type": "stream",
          "text": [
            "0.022426567480128057\n",
            "[[1307.60267408  744.837853    -31.29835387]]\n",
            "[94.97011164]\n"
          ],
          "name": "stdout"
        }
      ]
    },
    {
      "cell_type": "code",
      "metadata": {
        "id": "5JnJ7MIE34N3",
        "colab_type": "code",
        "colab": {}
      },
      "source": [
        "#list_mean_m = airbnb_cr.groupby(['listing_id','year','month']).mean()\n",
        "#list_sum_m = airbnb_cr.groupby(['listing_id','year','month']).sum()\n",
        "#list_count_m = airbnb_cr.groupby(['listing_id','year','month']).count()\n",
        "\n",
        "#list_mean_y = airbnb_cr.groupby(['listing_id','year']).mean()\n",
        "#list_sum_y = airbnb_cr.groupby(['listing_id','year']).sum()\n",
        "#list_count_y = airbnb_cr.groupby(['listing_id','year']).count()\n",
        "\n",
        "#list_mean = airbnb_cr.groupby(['listing_id']).mean()\n",
        "#list_sum = airbnb_cr.groupby(['listing_id']).sum()\n",
        "#list_count = airbnb_cr.groupby(['listing_id']).count()"
      ],
      "execution_count": 0,
      "outputs": []
    },
    {
      "cell_type": "code",
      "metadata": {
        "id": "NkOeNcbl6z-l",
        "colab_type": "code",
        "colab": {}
      },
      "source": [
        "#neigh_mean_y = airbnb_cr.groupby(['neighbourhood','year']).mean()\n",
        "#neigh_sum_y = airbnb_cr.groupby(['neighbourhood','year']).sum()\n",
        "#neigh_count_y = airbnb_cr.groupby(['neighbourhood','year']).count()\n",
        "\n",
        "#neigh_mean_m = airbnb_cr.groupby(['neighbourhood','year','month']).mean()\n",
        "#neigh_sum_m = airbnb_cr.groupby(['neighbourhood','year','month']).sum()\n",
        "#neigh_count_m = airbnb_cr.groupby(['neighbourhood','year','month']).count()\n",
        "\n",
        "#neigh_mean = airbnb_cr.groupby(['neighbourhood']).mean()\n",
        "#neigh_sum = airbnb_cr.groupby(['neighbourhood']).sum()\n",
        "#neigh_count = airbnb_cr.groupby(['neighbourhood']).count()"
      ],
      "execution_count": 0,
      "outputs": []
    },
    {
      "cell_type": "code",
      "metadata": {
        "id": "0gozF2IA7QiZ",
        "colab_type": "code",
        "colab": {}
      },
      "source": [
        "#loc_id_mean_y = airbnb_cr.groupby(['loc_id','year']).mean()\n",
        "#loc_id_sum_y = airbnb_cr.groupby(['loc_id','year']).sum()\n",
        "#loc_id_count_y = airbnb_cr.groupby(['loc_id','year']).count()\n",
        "\n",
        "#loc_id_mean_m = airbnb_cr.groupby(['loc_id','year','month']).mean()\n",
        "#loc_id_sum_m = airbnb_cr.groupby(['loc_id','year','month']).sum()\n",
        "#loc_id_count_m = airbnb_cr.groupby(['loc_id','year','month']).count()\n",
        "\n",
        "#loc_id_mean = airbnb_cr.groupby(['loc_id']).mean()\n",
        "#loc_id_sum = airbnb_cr.groupby(['loc_id']).sum()\n",
        "#loc_id_count = airbnb_cr.groupby(['loc_id']).count()"
      ],
      "execution_count": 0,
      "outputs": []
    },
    {
      "cell_type": "code",
      "metadata": {
        "id": "2H7xTC4S8lgP",
        "colab_type": "code",
        "colab": {}
      },
      "source": [
        "#room_type_mean_y = airbnb_cr.groupby(['room_type','year']).mean()\n",
        "#room_type_sum_y = airbnb_cr.groupby(['room_type','year']).sum()\n",
        "#room_type_count_y = airbnb_cr.groupby(['room_type','year']).count()\n",
        "\n",
        "#room_type_mean_m = airbnb_cr.groupby(['room_type','year','month']).mean()\n",
        "#room_type_sum_m = airbnb_cr.groupby(['room_type','year','month']).sum()\n",
        "#room_type_count_m = airbnb_cr.groupby(['room_type','year','month']).count()\n",
        "\n",
        "#room_type_mean = airbnb_cr.groupby(['room_type']).mean()\n",
        "#room_type_sum = airbnb_cr.groupby(['room_type']).sum()\n",
        "#room_type_count = airbnb_cr.groupby(['room_type']).count()"
      ],
      "execution_count": 0,
      "outputs": []
    },
    {
      "cell_type": "code",
      "metadata": {
        "id": "uIKLDUoa-GWO",
        "colab_type": "code",
        "colab": {}
      },
      "source": [
        "#mean_y = airbnb_cr.groupby(['year']).mean()\n",
        "#sum_y = airbnb_cr.groupby(['year']).sum()\n",
        "#count_y = airbnb_cr.groupby(['year']).count()\n",
        "\n",
        "#mean_m = airbnb_cr.groupby(['year','month']).mean()\n",
        "#sum_m = airbnb_cr.groupby(['year','month']).sum()\n",
        "#count_m = airbnb_cr.groupby(['year','month']).count()"
      ],
      "execution_count": 0,
      "outputs": []
    },
    {
      "cell_type": "code",
      "metadata": {
        "id": "U1aHYwYS3qrJ",
        "colab_type": "code",
        "colab": {
          "base_uri": "https://localhost:8080/",
          "height": 617
        },
        "outputId": "71558209-9da4-4380-db83-643c1e393478"
      },
      "source": [
        "p = figure(x_axis_type='mercator',y_axis_type='mercator')\n",
        "p.add_tile(CARTODBPOSITRON)\n",
        "p.circle(x=listings['lat'],y=listings['lon'])\n",
        "output_notebook()\n",
        "show(p)"
      ],
      "execution_count": 85,
      "outputs": [
        {
          "output_type": "display_data",
          "data": {
            "application/javascript": [
              "\n",
              "(function(root) {\n",
              "  function now() {\n",
              "    return new Date();\n",
              "  }\n",
              "\n",
              "  var force = true;\n",
              "\n",
              "  if (typeof (root._bokeh_onload_callbacks) === \"undefined\" || force === true) {\n",
              "    root._bokeh_onload_callbacks = [];\n",
              "    root._bokeh_is_loading = undefined;\n",
              "  }\n",
              "\n",
              "  var JS_MIME_TYPE = 'application/javascript';\n",
              "  var HTML_MIME_TYPE = 'text/html';\n",
              "  var EXEC_MIME_TYPE = 'application/vnd.bokehjs_exec.v0+json';\n",
              "  var CLASS_NAME = 'output_bokeh rendered_html';\n",
              "\n",
              "  /**\n",
              "   * Render data to the DOM node\n",
              "   */\n",
              "  function render(props, node) {\n",
              "    var script = document.createElement(\"script\");\n",
              "    node.appendChild(script);\n",
              "  }\n",
              "\n",
              "  /**\n",
              "   * Handle when an output is cleared or removed\n",
              "   */\n",
              "  function handleClearOutput(event, handle) {\n",
              "    var cell = handle.cell;\n",
              "\n",
              "    var id = cell.output_area._bokeh_element_id;\n",
              "    var server_id = cell.output_area._bokeh_server_id;\n",
              "    // Clean up Bokeh references\n",
              "    if (id != null && id in Bokeh.index) {\n",
              "      Bokeh.index[id].model.document.clear();\n",
              "      delete Bokeh.index[id];\n",
              "    }\n",
              "\n",
              "    if (server_id !== undefined) {\n",
              "      // Clean up Bokeh references\n",
              "      var cmd = \"from bokeh.io.state import curstate; print(curstate().uuid_to_server['\" + server_id + \"'].get_sessions()[0].document.roots[0]._id)\";\n",
              "      cell.notebook.kernel.execute(cmd, {\n",
              "        iopub: {\n",
              "          output: function(msg) {\n",
              "            var id = msg.content.text.trim();\n",
              "            if (id in Bokeh.index) {\n",
              "              Bokeh.index[id].model.document.clear();\n",
              "              delete Bokeh.index[id];\n",
              "            }\n",
              "          }\n",
              "        }\n",
              "      });\n",
              "      // Destroy server and session\n",
              "      var cmd = \"import bokeh.io.notebook as ion; ion.destroy_server('\" + server_id + \"')\";\n",
              "      cell.notebook.kernel.execute(cmd);\n",
              "    }\n",
              "  }\n",
              "\n",
              "  /**\n",
              "   * Handle when a new output is added\n",
              "   */\n",
              "  function handleAddOutput(event, handle) {\n",
              "    var output_area = handle.output_area;\n",
              "    var output = handle.output;\n",
              "\n",
              "    // limit handleAddOutput to display_data with EXEC_MIME_TYPE content only\n",
              "    if ((output.output_type != \"display_data\") || (!output.data.hasOwnProperty(EXEC_MIME_TYPE))) {\n",
              "      return\n",
              "    }\n",
              "\n",
              "    var toinsert = output_area.element.find(\".\" + CLASS_NAME.split(' ')[0]);\n",
              "\n",
              "    if (output.metadata[EXEC_MIME_TYPE][\"id\"] !== undefined) {\n",
              "      toinsert[toinsert.length - 1].firstChild.textContent = output.data[JS_MIME_TYPE];\n",
              "      // store reference to embed id on output_area\n",
              "      output_area._bokeh_element_id = output.metadata[EXEC_MIME_TYPE][\"id\"];\n",
              "    }\n",
              "    if (output.metadata[EXEC_MIME_TYPE][\"server_id\"] !== undefined) {\n",
              "      var bk_div = document.createElement(\"div\");\n",
              "      bk_div.innerHTML = output.data[HTML_MIME_TYPE];\n",
              "      var script_attrs = bk_div.children[0].attributes;\n",
              "      for (var i = 0; i < script_attrs.length; i++) {\n",
              "        toinsert[toinsert.length - 1].firstChild.setAttribute(script_attrs[i].name, script_attrs[i].value);\n",
              "      }\n",
              "      // store reference to server id on output_area\n",
              "      output_area._bokeh_server_id = output.metadata[EXEC_MIME_TYPE][\"server_id\"];\n",
              "    }\n",
              "  }\n",
              "\n",
              "  function register_renderer(events, OutputArea) {\n",
              "\n",
              "    function append_mime(data, metadata, element) {\n",
              "      // create a DOM node to render to\n",
              "      var toinsert = this.create_output_subarea(\n",
              "        metadata,\n",
              "        CLASS_NAME,\n",
              "        EXEC_MIME_TYPE\n",
              "      );\n",
              "      this.keyboard_manager.register_events(toinsert);\n",
              "      // Render to node\n",
              "      var props = {data: data, metadata: metadata[EXEC_MIME_TYPE]};\n",
              "      render(props, toinsert[toinsert.length - 1]);\n",
              "      element.append(toinsert);\n",
              "      return toinsert\n",
              "    }\n",
              "\n",
              "    /* Handle when an output is cleared or removed */\n",
              "    events.on('clear_output.CodeCell', handleClearOutput);\n",
              "    events.on('delete.Cell', handleClearOutput);\n",
              "\n",
              "    /* Handle when a new output is added */\n",
              "    events.on('output_added.OutputArea', handleAddOutput);\n",
              "\n",
              "    /**\n",
              "     * Register the mime type and append_mime function with output_area\n",
              "     */\n",
              "    OutputArea.prototype.register_mime_type(EXEC_MIME_TYPE, append_mime, {\n",
              "      /* Is output safe? */\n",
              "      safe: true,\n",
              "      /* Index of renderer in `output_area.display_order` */\n",
              "      index: 0\n",
              "    });\n",
              "  }\n",
              "\n",
              "  // register the mime type if in Jupyter Notebook environment and previously unregistered\n",
              "  if (root.Jupyter !== undefined) {\n",
              "    var events = require('base/js/events');\n",
              "    var OutputArea = require('notebook/js/outputarea').OutputArea;\n",
              "\n",
              "    if (OutputArea.prototype.mime_types().indexOf(EXEC_MIME_TYPE) == -1) {\n",
              "      register_renderer(events, OutputArea);\n",
              "    }\n",
              "  }\n",
              "\n",
              "  \n",
              "  if (typeof (root._bokeh_timeout) === \"undefined\" || force === true) {\n",
              "    root._bokeh_timeout = Date.now() + 5000;\n",
              "    root._bokeh_failed_load = false;\n",
              "  }\n",
              "\n",
              "  var NB_LOAD_WARNING = {'data': {'text/html':\n",
              "     \"<div style='background-color: #fdd'>\\n\"+\n",
              "     \"<p>\\n\"+\n",
              "     \"BokehJS does not appear to have successfully loaded. If loading BokehJS from CDN, this \\n\"+\n",
              "     \"may be due to a slow or bad network connection. Possible fixes:\\n\"+\n",
              "     \"</p>\\n\"+\n",
              "     \"<ul>\\n\"+\n",
              "     \"<li>re-rerun `output_notebook()` to attempt to load from CDN again, or</li>\\n\"+\n",
              "     \"<li>use INLINE resources instead, as so:</li>\\n\"+\n",
              "     \"</ul>\\n\"+\n",
              "     \"<code>\\n\"+\n",
              "     \"from bokeh.resources import INLINE\\n\"+\n",
              "     \"output_notebook(resources=INLINE)\\n\"+\n",
              "     \"</code>\\n\"+\n",
              "     \"</div>\"}};\n",
              "\n",
              "  function display_loaded() {\n",
              "    var el = document.getElementById(null);\n",
              "    if (el != null) {\n",
              "      el.textContent = \"BokehJS is loading...\";\n",
              "    }\n",
              "    if (root.Bokeh !== undefined) {\n",
              "      if (el != null) {\n",
              "        el.textContent = \"BokehJS \" + root.Bokeh.version + \" successfully loaded.\";\n",
              "      }\n",
              "    } else if (Date.now() < root._bokeh_timeout) {\n",
              "      setTimeout(display_loaded, 100)\n",
              "    }\n",
              "  }\n",
              "\n",
              "\n",
              "  function run_callbacks() {\n",
              "    try {\n",
              "      root._bokeh_onload_callbacks.forEach(function(callback) { callback() });\n",
              "    }\n",
              "    finally {\n",
              "      delete root._bokeh_onload_callbacks\n",
              "    }\n",
              "    console.info(\"Bokeh: all callbacks have finished\");\n",
              "  }\n",
              "\n",
              "  function load_libs(js_urls, callback) {\n",
              "    root._bokeh_onload_callbacks.push(callback);\n",
              "    if (root._bokeh_is_loading > 0) {\n",
              "      console.log(\"Bokeh: BokehJS is being loaded, scheduling callback at\", now());\n",
              "      return null;\n",
              "    }\n",
              "    if (js_urls == null || js_urls.length === 0) {\n",
              "      run_callbacks();\n",
              "      return null;\n",
              "    }\n",
              "    console.log(\"Bokeh: BokehJS not loaded, scheduling load and callback at\", now());\n",
              "    root._bokeh_is_loading = js_urls.length;\n",
              "    for (var i = 0; i < js_urls.length; i++) {\n",
              "      var url = js_urls[i];\n",
              "      var s = document.createElement('script');\n",
              "      s.src = url;\n",
              "      s.async = false;\n",
              "      s.onreadystatechange = s.onload = function() {\n",
              "        root._bokeh_is_loading--;\n",
              "        if (root._bokeh_is_loading === 0) {\n",
              "          console.log(\"Bokeh: all BokehJS libraries loaded\");\n",
              "          run_callbacks()\n",
              "        }\n",
              "      };\n",
              "      s.onerror = function() {\n",
              "        console.warn(\"failed to load library \" + url);\n",
              "      };\n",
              "      console.log(\"Bokeh: injecting script tag for BokehJS library: \", url);\n",
              "      document.getElementsByTagName(\"head\")[0].appendChild(s);\n",
              "    }\n",
              "  };\n",
              "\n",
              "  var js_urls = [\"https://cdn.pydata.org/bokeh/release/bokeh-1.0.4.min.js\", \"https://cdn.pydata.org/bokeh/release/bokeh-widgets-1.0.4.min.js\", \"https://cdn.pydata.org/bokeh/release/bokeh-tables-1.0.4.min.js\", \"https://cdn.pydata.org/bokeh/release/bokeh-gl-1.0.4.min.js\"];\n",
              "\n",
              "  var inline_js = [\n",
              "    function(Bokeh) {\n",
              "      Bokeh.set_log_level(\"info\");\n",
              "    },\n",
              "    \n",
              "    function(Bokeh) {\n",
              "      \n",
              "    },\n",
              "    function(Bokeh) {\n",
              "      console.log(\"Bokeh: injecting CSS: https://cdn.pydata.org/bokeh/release/bokeh-1.0.4.min.css\");\n",
              "      Bokeh.embed.inject_css(\"https://cdn.pydata.org/bokeh/release/bokeh-1.0.4.min.css\");\n",
              "      console.log(\"Bokeh: injecting CSS: https://cdn.pydata.org/bokeh/release/bokeh-widgets-1.0.4.min.css\");\n",
              "      Bokeh.embed.inject_css(\"https://cdn.pydata.org/bokeh/release/bokeh-widgets-1.0.4.min.css\");\n",
              "      console.log(\"Bokeh: injecting CSS: https://cdn.pydata.org/bokeh/release/bokeh-tables-1.0.4.min.css\");\n",
              "      Bokeh.embed.inject_css(\"https://cdn.pydata.org/bokeh/release/bokeh-tables-1.0.4.min.css\");\n",
              "    }\n",
              "  ];\n",
              "\n",
              "  function run_inline_js() {\n",
              "    \n",
              "    if ((root.Bokeh !== undefined) || (force === true)) {\n",
              "      for (var i = 0; i < inline_js.length; i++) {\n",
              "        inline_js[i].call(root, root.Bokeh);\n",
              "      }} else if (Date.now() < root._bokeh_timeout) {\n",
              "      setTimeout(run_inline_js, 100);\n",
              "    } else if (!root._bokeh_failed_load) {\n",
              "      console.log(\"Bokeh: BokehJS failed to load within specified timeout.\");\n",
              "      root._bokeh_failed_load = true;\n",
              "    } else if (force !== true) {\n",
              "      var cell = $(document.getElementById(null)).parents('.cell').data().cell;\n",
              "      cell.output_area.append_execute_result(NB_LOAD_WARNING)\n",
              "    }\n",
              "\n",
              "  }\n",
              "\n",
              "  if (root._bokeh_is_loading === 0) {\n",
              "    console.log(\"Bokeh: BokehJS loaded, going straight to plotting\");\n",
              "    run_inline_js();\n",
              "  } else {\n",
              "    load_libs(js_urls, function() {\n",
              "      console.log(\"Bokeh: BokehJS plotting callback run at\", now());\n",
              "      run_inline_js();\n",
              "    });\n",
              "  }\n",
              "}(window));"
            ],
            "application/vnd.bokehjs_load.v0+json": "\n(function(root) {\n  function now() {\n    return new Date();\n  }\n\n  var force = true;\n\n  if (typeof (root._bokeh_onload_callbacks) === \"undefined\" || force === true) {\n    root._bokeh_onload_callbacks = [];\n    root._bokeh_is_loading = undefined;\n  }\n\n  \n\n  \n  if (typeof (root._bokeh_timeout) === \"undefined\" || force === true) {\n    root._bokeh_timeout = Date.now() + 5000;\n    root._bokeh_failed_load = false;\n  }\n\n  var NB_LOAD_WARNING = {'data': {'text/html':\n     \"<div style='background-color: #fdd'>\\n\"+\n     \"<p>\\n\"+\n     \"BokehJS does not appear to have successfully loaded. If loading BokehJS from CDN, this \\n\"+\n     \"may be due to a slow or bad network connection. Possible fixes:\\n\"+\n     \"</p>\\n\"+\n     \"<ul>\\n\"+\n     \"<li>re-rerun `output_notebook()` to attempt to load from CDN again, or</li>\\n\"+\n     \"<li>use INLINE resources instead, as so:</li>\\n\"+\n     \"</ul>\\n\"+\n     \"<code>\\n\"+\n     \"from bokeh.resources import INLINE\\n\"+\n     \"output_notebook(resources=INLINE)\\n\"+\n     \"</code>\\n\"+\n     \"</div>\"}};\n\n  function display_loaded() {\n    var el = document.getElementById(null);\n    if (el != null) {\n      el.textContent = \"BokehJS is loading...\";\n    }\n    if (root.Bokeh !== undefined) {\n      if (el != null) {\n        el.textContent = \"BokehJS \" + root.Bokeh.version + \" successfully loaded.\";\n      }\n    } else if (Date.now() < root._bokeh_timeout) {\n      setTimeout(display_loaded, 100)\n    }\n  }\n\n\n  function run_callbacks() {\n    try {\n      root._bokeh_onload_callbacks.forEach(function(callback) { callback() });\n    }\n    finally {\n      delete root._bokeh_onload_callbacks\n    }\n    console.info(\"Bokeh: all callbacks have finished\");\n  }\n\n  function load_libs(js_urls, callback) {\n    root._bokeh_onload_callbacks.push(callback);\n    if (root._bokeh_is_loading > 0) {\n      console.log(\"Bokeh: BokehJS is being loaded, scheduling callback at\", now());\n      return null;\n    }\n    if (js_urls == null || js_urls.length === 0) {\n      run_callbacks();\n      return null;\n    }\n    console.log(\"Bokeh: BokehJS not loaded, scheduling load and callback at\", now());\n    root._bokeh_is_loading = js_urls.length;\n    for (var i = 0; i < js_urls.length; i++) {\n      var url = js_urls[i];\n      var s = document.createElement('script');\n      s.src = url;\n      s.async = false;\n      s.onreadystatechange = s.onload = function() {\n        root._bokeh_is_loading--;\n        if (root._bokeh_is_loading === 0) {\n          console.log(\"Bokeh: all BokehJS libraries loaded\");\n          run_callbacks()\n        }\n      };\n      s.onerror = function() {\n        console.warn(\"failed to load library \" + url);\n      };\n      console.log(\"Bokeh: injecting script tag for BokehJS library: \", url);\n      document.getElementsByTagName(\"head\")[0].appendChild(s);\n    }\n  };\n\n  var js_urls = [\"https://cdn.pydata.org/bokeh/release/bokeh-1.0.4.min.js\", \"https://cdn.pydata.org/bokeh/release/bokeh-widgets-1.0.4.min.js\", \"https://cdn.pydata.org/bokeh/release/bokeh-tables-1.0.4.min.js\", \"https://cdn.pydata.org/bokeh/release/bokeh-gl-1.0.4.min.js\"];\n\n  var inline_js = [\n    function(Bokeh) {\n      Bokeh.set_log_level(\"info\");\n    },\n    \n    function(Bokeh) {\n      \n    },\n    function(Bokeh) {\n      console.log(\"Bokeh: injecting CSS: https://cdn.pydata.org/bokeh/release/bokeh-1.0.4.min.css\");\n      Bokeh.embed.inject_css(\"https://cdn.pydata.org/bokeh/release/bokeh-1.0.4.min.css\");\n      console.log(\"Bokeh: injecting CSS: https://cdn.pydata.org/bokeh/release/bokeh-widgets-1.0.4.min.css\");\n      Bokeh.embed.inject_css(\"https://cdn.pydata.org/bokeh/release/bokeh-widgets-1.0.4.min.css\");\n      console.log(\"Bokeh: injecting CSS: https://cdn.pydata.org/bokeh/release/bokeh-tables-1.0.4.min.css\");\n      Bokeh.embed.inject_css(\"https://cdn.pydata.org/bokeh/release/bokeh-tables-1.0.4.min.css\");\n    }\n  ];\n\n  function run_inline_js() {\n    \n    if ((root.Bokeh !== undefined) || (force === true)) {\n      for (var i = 0; i < inline_js.length; i++) {\n        inline_js[i].call(root, root.Bokeh);\n      }} else if (Date.now() < root._bokeh_timeout) {\n      setTimeout(run_inline_js, 100);\n    } else if (!root._bokeh_failed_load) {\n      console.log(\"Bokeh: BokehJS failed to load within specified timeout.\");\n      root._bokeh_failed_load = true;\n    } else if (force !== true) {\n      var cell = $(document.getElementById(null)).parents('.cell').data().cell;\n      cell.output_area.append_execute_result(NB_LOAD_WARNING)\n    }\n\n  }\n\n  if (root._bokeh_is_loading === 0) {\n    console.log(\"Bokeh: BokehJS loaded, going straight to plotting\");\n    run_inline_js();\n  } else {\n    load_libs(js_urls, function() {\n      console.log(\"Bokeh: BokehJS plotting callback run at\", now());\n      run_inline_js();\n    });\n  }\n}(window));"
          },
          "metadata": {
            "tags": []
          }
        },
        {
          "output_type": "display_data",
          "data": {
            "text/html": [
              "\n",
              "\n",
              "\n",
              "\n",
              "\n",
              "\n",
              "  <div class=\"bk-root\" id=\"24a1f8a1-aa65-443d-b4cb-3a9c0b91a01d\" data-root-id=\"1002\"></div>\n"
            ]
          },
          "metadata": {
            "tags": []
          }
        },
        {
          "output_type": "display_data",
          "data": {
            "application/javascript": [
              "(function(root) {\n",
              "  function embed_document(root) {\n",
              "    \n",
              "  var docs_json = {\"c8e709f5-9a95-4705-9b9a-ec999bfabda0\":{\"roots\":{\"references\":[{\"attributes\":{\"below\":[{\"id\":\"1011\",\"type\":\"MercatorAxis\"}],\"left\":[{\"id\":\"1020\",\"type\":\"MercatorAxis\"}],\"renderers\":[{\"id\":\"1011\",\"type\":\"MercatorAxis\"},{\"id\":\"1019\",\"type\":\"Grid\"},{\"id\":\"1020\",\"type\":\"MercatorAxis\"},{\"id\":\"1028\",\"type\":\"Grid\"},{\"id\":\"1037\",\"type\":\"BoxAnnotation\"},{\"id\":\"1044\",\"type\":\"TileRenderer\"},{\"id\":\"1049\",\"type\":\"GlyphRenderer\"}],\"title\":{\"id\":\"1052\",\"type\":\"Title\"},\"toolbar\":{\"id\":\"1035\",\"type\":\"Toolbar\"},\"x_range\":{\"id\":\"1003\",\"type\":\"DataRange1d\"},\"x_scale\":{\"id\":\"1007\",\"type\":\"LinearScale\"},\"y_range\":{\"id\":\"1005\",\"type\":\"DataRange1d\"},\"y_scale\":{\"id\":\"1009\",\"type\":\"LinearScale\"}},\"id\":\"1002\",\"subtype\":\"Figure\",\"type\":\"Plot\"},{\"attributes\":{\"plot\":{\"id\":\"1002\",\"subtype\":\"Figure\",\"type\":\"Plot\"},\"ticker\":{\"id\":\"1012\",\"type\":\"MercatorTicker\"}},\"id\":\"1019\",\"type\":\"Grid\"},{\"attributes\":{\"callback\":null},\"id\":\"1005\",\"type\":\"DataRange1d\"},{\"attributes\":{},\"id\":\"1059\",\"type\":\"UnionRenderers\"},{\"attributes\":{},\"id\":\"1029\",\"type\":\"PanTool\"},{\"attributes\":{\"dimension\":\"lat\"},\"id\":\"1023\",\"type\":\"MercatorTickFormatter\"},{\"attributes\":{},\"id\":\"1030\",\"type\":\"WheelZoomTool\"},{\"attributes\":{},\"id\":\"1058\",\"type\":\"Selection\"},{\"attributes\":{},\"id\":\"1007\",\"type\":\"LinearScale\"},{\"attributes\":{\"dimension\":\"lon\"},\"id\":\"1014\",\"type\":\"MercatorTickFormatter\"},{\"attributes\":{\"callback\":null,\"data\":{\"x\":{\"__ndarray__\":\"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\",\"dtype\":\"float64\",\"shape\":[5700]},\"y\":{\"__ndarray__\":\"9ihcj8LlVcD2KFyPwuVVwPYoXI/C5VXA9ihcj8LlVcD2KFyPwuVVwPYoXI/C5VXA9ihcj8LlVcDNzMzMzOxVwM3MzMzM7FXAzczMzMzsVcDNzMzMzOxVwM3MzMzM7FXAzczMzMzsVcDNzMzMzOxVwM3MzMzM7FXAzczMzMzsVcDNzMzMzOxVwM3MzMzM7FXAzczMzMzsVcDNzMzMzOxVwM3MzMzM7FXAzczMzMzsVcDNzMzMzOxVwOxRuB6F61XA7FG4HoXrVcDsUbgehetVwOxRuB6F61XA7FG4HoXrVcDsUbgehetVwOxRuB6F61XA7FG4HoXrVcDsUbgehetVwOxRuB6F61XA7FG4HoXrVcDsUbgehetVwOxRuB6F61XA7FG4HoXrVcDsUbgehetVwOxRuB6F61XA7FG4HoXrVcDsUbgehetVwOxRuB6F61XA7FG4HoXrVcDsUbgehetVwOxRuB6F61XA7FG4HoXrVcDsUbgehetVwOxRuB6F61XA7FG4HoXrVcDsUbgehetVwOxRuB6F61XA7FG4HoXrVcDsUbgehetVwOxRuB6F61XA7FG4HoXrVcDsUbgehetVwOxRuB6F61XA7FG4HoXrVcDsUbgehetVwOxRuB6F61XA7FG4HoXrVcDsUbgehetVwOxRuB6F61XA7FG4HoXrVcDsUbgehetVwOxRuB6F61XA7FG4HoXrVcDsUbgehetVwOxRuB6F61XA7FG4HoXrVcDsUbgehetVwOxRuB6F61XA7FG4HoXrVcDsUbgehetVwOxRuB6F61XA7FG4HoXrVcDsUbgehetVwOxRuB6F61XA7FG4HoXrVcDsUbgehetVwOxRuB6F61XA7FG4HoXrVcDsUbgehetVwOxRuB6F61XA7FG4HoXrVcDsUbgehetVwOxRuB6F61XA7FG4HoXrVcDsUbgehetVwOxRuB6F61XA7FG4HoXrVcDsUbgehetVwOxRuB6F61XA7FG4HoXrVcDsUbgehetVwOxRuB6F61XA7FG4HoXrVcDsUbgehetVwOxRuB6F61XA7FG4HoXrVcDsUbgehetVwOxRuB6F61XA7FG4HoXrVcDsUbgehetVwOxRuB6F61XA7FG4HoXrVcApXI/C9ehVwClcj8L16FXAKVyPwvXoVcApXI/C9ehVwClcj8L16FXAKVyPwvXoVcApXI/C9ehVwClcj8L16FXAKVyPwvXoVcApXI/C9ehVwClcj8L16FXAKVyPwvXoVcApXI/C9ehVwClcj8L16FXAKVyPwvXoVcApXI/C9ehVwClcj8L16FXAKVyPwvXoVcApXI/C9ehVwClcj8L16FXAKVyPwvXoVcApXI/C9ehVwClcj8L16FXAKVyPwvXoVcApXI/C9ehVwClcj8L16FXAKVyPwvXoVcApXI/C9ehVwClcj8L16FXAKVyPwvXoVcApXI/C9ehVwClcj8L16FXAKVyPwvXoVcApXI/C9ehVwClcj8L16FXAKVyPwvXoVcApXI/C9ehVwClcj8L16FXAKVyPwvXoVcApXI/C9ehVwClcj8L16FXAKVyPwvXoVcApXI/C9ehVwClcj8L16FXAKVyPwvXoVcApXI/C9ehVwClcj8L16FXAKVyPwvXoVcApXI/C9ehVwClcj8L16FXAKVyPwvXoVcApXI/C9ehVwClcj8L16FXAKVyPwvXoVcD2KFyPwuVVwPYoXI/C5VXA9ihcj8LlVcD2KFyPwuVVwPYoXI/C5VXA9ihcj8LlVcD2KFyPwuVVwPYoXI/C5VXA9ihcj8LlVcD2KFyPwuVVwPYoXI/C5VXA9ihcj8LlVcD2KFyPwuVVwPYoXI/C5VXA9ihcj8LlVcD2KFyPwuVVwPYoXI/C5VXA9ihcj8LlVcD2KFyPwuVVwPYoXI/C5VXA9ihcj8LlVcD2KFyPwuVVwPYoXI/C5VXA9ihcj8LlVcD2KFyPwuVVwPYoXI/C5VXA9ihcj8LlVcD2KFyPwuVVwPYoXI/C5VXA9ihcj8LlVcD2KFyPwuVVwPYoXI/C5VXA9ihcj8LlVcD2KFyPwuVVwPYoXI/C5VXA9ihcj8LlVcD2KFyPwuVVwPYoXI/C5VXA9ihcj8LlVcD2KFyPwuVVwPYoXI/C5VXA9ihcj8LlVcD2KFyPwuVVwPYoXI/C5VXA9ihcj8LlVcD2KFyPwuVVwPYoXI/C5VXA9ihcj8LlVcD2KFyPwuVVwClcj8L16FXAKVyPwvXoVcApXI/C9ehVwClcj8L16FXAKVyPwvXoVcApXI/C9ehVwClcj8L16FXAKVyPwvXoVcApXI/C9ehVwClcj8L16FXAKVyPwvXoVcApXI/C9ehVwClcj8L16FXAKVyPwvXoVcApXI/C9ehVwClcj8L16FXAKVyPwvXoVcApXI/C9ehVwClcj8L16FXAKVyPwvXoVcApXI/C9ehVwClcj8L16FXAKVyPwvXoVcApXI/C9ehVwClcj8L16FXAKVyPwvXoVcApXI/C9ehVwClcj8L16FXAKVyPwvXoVcApXI/C9ehVwClcj8L16FXAKVyPwvXoVcApXI/C9ehVwClcj8L16FXAKVyPwvXoVcApXI/C9ehVwClcj8L16FXAKVyPwvXoVcApXI/C9ehVwClcj8L16FXAKVyPwvXoVcApXI/C9ehVwClcj8L16FXAKVyPwvXoVcApXI/C9ehVwClcj8L16FXAKVyPwvXoVcApXI/C9ehVwClcj8L16FXAKVyPwvXoVcApXI/C9ehVwClcj8L16FXAKVyPwvXoVcApXI/C9ehVwClcj8L16FXAKVyPwvXoVcApXI/C9ehVwClcj8L16FXAKVyPwvXoVcApXI/C9ehVwClcj8L16FXAKVyPwvXoVcApXI/C9ehVwClcj8L16FXAKVyPwvXoVcApXI/C9ehVwClcj8L16FXAKVyPwvXoVcApXI/C9ehVwClcj8L16FXAKVyPwvXoVcApXI/C9ehVwClcj8L16FXAKVyPwvXoVcApXI/C9ehVwClcj8L16FXAKVyPwvXoVcApXI/C9ehVwClcj8L16FXAKVyPwvXoVcApXI/C9ehVwClcj8L16FXAKVyPwvXoVcApXI/C9ehVwClcj8L16FXAKVyPwvXoVcApXI/C9ehVwClcj8L16FXAKVyPwvXoVcAK16NwPepVwArXo3A96lXACtejcD3qVcAK16NwPepVwArXo3A96lXACtejcD3qVcAK16NwPepVwArXo3A96lXACtejcD3qVcAK16NwPepVwArXo3A96lXACtejcD3qVcAK16NwPepVwArXo3A96lXACtejcD3qVcAK16NwPepVwArXo3A96lXACtejcD3qVcAK16NwPepVwArXo3A96lXACtejcD3qVcAK16NwPepVwArXo3A96lXACtejcD3qVcAK16NwPepVwArXo3A96lXACtejcD3qVcAK16NwPepVwArXo3A96lXACtejcD3qVcAK16NwPepVwArXo3A96lXACtejcD3qVcAK16NwPepVwArXo3A96lXACtejcD3qVcAK16NwPepVwArXo3A96lXACtejcD3qVcAK16NwPepVwArXo3A96lXACtejcD3qVcAK16NwPepVwArXo3A96lXACtejcD3qVcAK16NwPepVwArXo3A96lXACtejcD3qVcAK16NwPepVwArXo3A96lXACtejcD3qVcAK16NwPepVwArXo3A96lXACtejcD3qVcAK16NwPepVwArXo3A96lXAexSuR+HqVcB7FK5H4epVwHsUrkfh6lXAexSuR+HqVcB7FK5H4epVwHsUrkfh6lXAexSuR+HqVcB7FK5H4epVwHsUrkfh6lXAexSuR+HqVcB7FK5H4epVwHsUrkfh6lXAexSuR+HqVcB7FK5H4epVwHsUrkfh6lXAexSuR+HqVcB7FK5H4epVwHsUrkfh6lXAexSuR+HqVcB7FK5H4epVwHsUrkfh6lXAexSuR+HqVcB7FK5H4epVwHsUrkfh6lXAexSuR+HqVcB7FK5H4epVwHsUrkfh6lXAexSuR+HqVcB7FK5H4epVwHsUrkfh6lXAexSuR+HqVcAK16NwPepVwArXo3A96lXACtejcD3qVcAK16NwPepVwArXo3A96lXACtejcD3qVcAK16NwPepVwArXo3A96lXACtejcD3qVcAK16NwPepVwArXo3A96lXACtejcD3qVcAK16NwPepVwArXo3A96lXACtejcD3qVcAK16NwPepVwArXo3A96lXACtejcD3qVcAK16NwPepVwArXo3A96lXACtejcD3qVcAK16NwPepVwArXo3A96lXACtejcD3qVcAK16NwPepVwArXo3A96lXACtejcD3qVcAK16NwPepVwArXo3A96lXACtejcD3qVcAK16NwPepVwArXo3A96lXACtejcD3qVcAK16NwPepVwArXo3A96lXACtejcD3qVcAK16NwPepVwArXo3A96lXACtejcD3qVcAK16NwPepVwArXo3A96lXACtejcD3qVcAK16NwPepVwArXo3A96lXACtejcD3qVcAK16NwPepVwArXo3A96lXACtejcD3qVcAK16NwPepVwArXo3A96lXACtejcD3qVcAK16NwPepVwArXo3A96lXACtejcD3qVcAK16NwPepVwArXo3A96lXACtejcD3qVcAK16NwPepVwArXo3A96lXACtejcD3qVcAK16NwPepVwArXo3A96lXACtejcD3qVcAK16NwPepVwArXo3A96lXACtejcD3qVcAK16NwPepVwArXo3A96lXACtejcD3qVcAK16NwPepVwArXo3A96lXACtejcD3qVcAK16NwPepVwArXo3A96lXACtejcD3qVcAK16NwPepVwArXo3A96lXACtejcD3qVcAK16NwPepVwArXo3A96lXACtejcD3qVcAK16NwPepVwJqZmZmZ6VXAmpmZmZnpVcCamZmZmelVwJqZmZmZ6VXAmpmZmZnpVcCamZmZmelVwJqZmZmZ6VXAmpmZmZnpVcCamZmZmelVwJqZmZmZ6VXAmpmZmZnpVcCamZmZmelVwJqZmZmZ6VXAmpmZmZnpVcCamZmZmelVwJqZmZmZ6VXAmpmZmZnpVcCamZmZmelVwJqZmZmZ6VXAmpmZmZnpVcCamZmZmelVwJqZmZmZ6VXAmpmZmZnpVcCamZmZmelVwJqZmZmZ6VXAmpmZmZnpVcCamZmZmelVwJqZmZmZ6VXA7FG4HoXrVcDsUbgehetVwOxRuB6F61XA7FG4HoXrVcDsUbgehetVwOxRuB6F61XA7FG4HoXrVcDsUbgehetVwOxRuB6F61XA7FG4HoXrVcDsUbgehetVwOxRuB6F61XA7FG4HoXrVcDsUbgehetVwOxRuB6F61XA7FG4HoXrVcDsUbgehetVwOxRuB6F61XA7FG4HoXrVcDsUbgehetVwOxRuB6F61XA7FG4HoXrVcDsUbgehetVwArXo3A96lXACtejcD3qVcAK16NwPepVwArXo3A96lXACtejcD3qVcAK16NwPepVwArXo3A96lXACtejcD3qVcAK16NwPepVwArXo3A96lXACtejcD3qVcAK16NwPepVwArXo3A96lXACtejcD3qVcAK16NwPepVwArXo3A96lXACtejcD3qVcAK16NwPepVwArXo3A96lXACtejcD3qVcAK16NwPepVwArXo3A96lXACtejcD3qVcAK16NwPepVwArXo3A96lXACtejcD3qVcAK16NwPepVwArXo3A96lXACtejcD3qVcAK16NwPepVwArXo3A96lXACtejcD3qVcAK16NwPepVwArXo3A96lXACtejcD3qVcAK16NwPepVwArXo3A96lXACtejcD3qVcAK16NwPepVwArXo3A96lXACtejcD3qVcAK16NwPepVwArXo3A96lXACtejcD3qVcAK16NwPepVwArXo3A96lXACtejcD3qVcAK16NwPepVwArXo3A96lXACtejcD3qVcAK16NwPepVwArXo3A96lXACtejcD3qVcAK16NwPepVwArXo3A96lXACtejcD3qVcAK16NwPepVwArXo3A96lXACtejcD3qVcAK16NwPepVwArXo3A96lXACtejcD3qVcAK16NwPepVwArXo3A96lXACtejcD3qVcAK16NwPepVwArXo3A96lXACtejcD3qVcAK16NwPepVwArXo3A96lXACtejcD3qVcAK16NwPepVwArXo3A96lXACtejcD3qVcAK16NwPepVwOxRuB6F61XA7FG4HoXrVcDsUbgehetVwOxRuB6F61XA7FG4HoXrVcDsUbgehetVwOxRuB6F61XA7FG4HoXrVcDsUbgehetVwOxRuB6F61XA7FG4HoXrVcDsUbgehetVwOxRuB6F61XA7FG4HoXrVcDsUbgehetVwOxRuB6F61XA7FG4HoXrVcDsUbgehetVwOxRuB6F61XA7FG4HoXrVcDsUbgehetVwOxRuB6F61XA7FG4HoXrVcDsUbgehetVwOxRuB6F61XA7FG4HoXrVcDsUbgehetVwOxRuB6F61XA7FG4HoXrVcDsUbgehetVwOxRuB6F61XA7FG4HoXrVcDsUbgehetVwOxRuB6F61XA7FG4HoXrVcDsUbgehetVwOxRuB6F61XA7FG4HoXrVcDsUbgehetVwOxRuB6F61XA7FG4HoXrVcDsUbgehetVwOxRuB6F61XA7FG4HoXrVcDsUbgehetVwOxRuB6F61XA7FG4HoXrVcDsUbgehetVwOxRuB6F61XA7FG4HoXrVcDsUbgehetVwOxRuB6F61XAexSuR+HqVcB7FK5H4epVwHsUrkfh6lXAexSuR+HqVcB7FK5H4epVwHsUrkfh6lXAexSuR+HqVcB7FK5H4epVwHsUrkfh6lXAexSuR+HqVcB7FK5H4epVwHsUrkfh6lXAexSuR+HqVcB7FK5H4epVwHsUrkfh6lXAexSuR+HqVcB7FK5H4epVwHsUrkfh6lXAexSuR+HqVcB7FK5H4epVwHsUrkfh6lXAexSuR+HqVcB7FK5H4epVwHsUrkfh6lXAexSuR+HqVcB7FK5H4epVwHsUrkfh6lXAexSuR+HqVcB7FK5H4epVwHsUrkfh6lXAexSuR+HqVcB7FK5H4epVwHsUrkfh6lXAexSuR+HqVcB7FK5H4epVwHsUrkfh6lXAexSuR+HqVcB7FK5H4epVwHsUrkfh6lXAexSuR+HqVcB7FK5H4epVwHsUrkfh6lXAexSuR+HqVcB7FK5H4epVwHsUrkfh6lXAexSuR+HqVcB7FK5H4epVwHsUrkfh6lXAexSuR+HqVcB7FK5H4epVwHsUrkfh6lXAexSuR+HqVcB7FK5H4epVwHsUrkfh6lXAexSuR+HqVcB7FK5H4epVwHsUrkfh6lXAexSuR+HqVcB7FK5H4epVwHsUrkfh6lXAexSuR+HqVcB7FK5H4epVwHsUrkfh6lXAexSuR+HqVcB7FK5H4epVwHsUrkfh6lXAexSuR+HqVcB7FK5H4epVwHsUrkfh6lXAexSuR+HqVcB7FK5H4epVwHsUrkfh6lXAexSuR+HqVcB7FK5H4epVwHsUrkfh6lXAexSuR+HqVcB7FK5H4epVwHsUrkfh6lXAexSuR+HqVcB7FK5H4epVwHsUrkfh6lXAexSuR+HqVcB7FK5H4epVwHsUrkfh6lXAexSuR+HqVcB7FK5H4epVwHsUrkfh6lXAexSuR+HqVcB7FK5H4epVwHsUrkfh6lXAexSuR+HqVcB7FK5H4epVwHsUrkfh6lXAexSuR+HqVcB7FK5H4epVwHsUrkfh6lXAexSuR+HqVcB7FK5H4epVwHsUrkfh6lXAexSuR+HqVcB7FK5H4epVwHsUrkfh6lXAexSuR+HqVcB7FK5H4epVwHsUrkfh6lXAexSuR+HqVcB7FK5H4epVwHsUrkfh6lXAexSuR+HqVcB7FK5H4epVwHsUrkfh6lXAexSuR+HqVcB7FK5H4epVwHsUrkfh6lXAexSuR+HqVcB7FK5H4epVwHsUrkfh6lXAexSuR+HqVcB7FK5H4epVwHsUrkfh6lXAexSuR+HqVcB7FK5H4epVwHsUrkfh6lXAexSuR+HqVcB7FK5H4epVwHsUrkfh6lXAexSuR+HqVcB7FK5H4epVwHsUrkfh6lXAexSuR+HqVcB7FK5H4epVwHsUrkfh6lXAexSuR+HqVcB7FK5H4epVwHsUrkfh6lXAexSuR+HqVcB7FK5H4epVwHsUrkfh6lXAexSuR+HqVcB7FK5H4epVwHsUrkfh6lXAexSuR+HqVcB7FK5H4epVwHsUrkfh6lXAexSuR+HqVcB7FK5H4epVwK5H4XoU7lXArkfhehTuVcCuR+F6FO5VwK5H4XoU7lXArkfhehTuVcCuR+F6FO5VwK5H4XoU7lXArkfhehTuVcCuR+F6FO5VwK5H4XoU7lXArkfhehTuVcCuR+F6FO5VwK5H4XoU7lXArkfhehTuVcCuR+F6FO5VwK5H4XoU7lXArkfhehTuVcCuR+F6FO5VwK5H4XoU7lXArkfhehTuVcCuR+F6FO5VwK5H4XoU7lXAAAAAAADwVcAAAAAAAPBVwAAAAAAA8FXAAAAAAADwVcAAAAAAAPBVwM3MzMzM7FXAzczMzMzsVcDNzMzMzOxVwM3MzMzM7FXAzczMzMzsVcDNzMzMzOxVwM3MzMzM7FXAzczMzMzsVcDNzMzMzOxVwM3MzMzM7FXAzczMzMzsVcDNzMzMzOxVwM3MzMzM7FXAzczMzMzsVcDNzMzMzOxVwM3MzMzM7FXAzczMzMzsVcDNzMzMzOxVwM3MzMzM7FXAzczMzMzsVcDNzMzMzOxVwM3MzMzM7FXAzczMzMzsVcDNzMzMzOxVwM3MzMzM7FXAzczMzMzsVcDNzMzMzOxVwM3MzMzM7FXAzczMzMzsVcDNzMzMzOxVwM3MzMzM7FXAzczMzMzsVcDNzMzMzOxVwM3MzMzM7FXAzczMzMzsVcDsUbgehetVwOxRuB6F61XA7FG4HoXrVcDsUbgehetVwOxRuB6F61XA7FG4HoXrVcDsUbgehetVwOxRuB6F61XA7FG4HoXrVcDsUbgehetVwOxRuB6F61XA7FG4HoXrVcDsUbgehetVwOxRuB6F61XA7FG4HoXrVcDsUbgehetVwOxRuB6F61XA7FG4HoXrVcDsUbgehetVwOxRuB6F61XA7FG4HoXrVcDsUbgehetVwArXo3A96lXACtejcD3qVcAK16NwPepVwArXo3A96lXACtejcD3qVcAK16NwPepVwArXo3A96lXACtejcD3qVcAK16NwPepVwArXo3A96lXACtejcD3qVcAK16NwPepVwArXo3A96lXACtejcD3qVcAK16NwPepVwArXo3A96lXACtejcD3qVcAK16NwPepVwArXo3A96lXACtejcD3qVcAK16NwPepVwArXo3A96lXACtejcD3qVcAK16NwPepVwArXo3A96lXACtejcD3qVcAK16NwPepVwArXo3A96lXACtejcD3qVcAK16NwPepVwArXo3A96lXACtejcD3qVcAK16NwPepVwArXo3A96lXACtejcD3qVcAK16NwPepVwArXo3A96lXACtejcD3qVcAK16NwPepVwArXo3A96lXACtejcD3qVcAK16NwPepVwArXo3A96lXACtejcD3qVcAK16NwPepVwArXo3A96lXACtejcD3qVcAK16NwPepVwArXo3A96lXACtejcD3qVcAK16NwPepVwArXo3A96lXACtejcD3qVcAK16NwPepVwArXo3A96lXACtejcD3qVcAK16NwPepVwArXo3A96lXACtejcD3qVcAK16NwPepVwArXo3A96lXACtejcD3qVcAK16NwPepVwJqZmZmZ6VXAmpmZmZnpVcCamZmZmelVwJqZmZmZ6VXAmpmZmZnpVcCamZmZmelVwJqZmZmZ6VXAmpmZmZnpVcCamZmZmelVwJqZmZmZ6VXAmpmZmZnpVcCamZmZmelVwJqZmZmZ6VXAmpmZmZnpVcCamZmZmelVwJqZmZmZ6VXAmpmZmZnpVcCamZmZmelVwJqZmZmZ6VXAmpmZmZnpVcCamZmZmelVwJqZmZmZ6VXAmpmZmZnpVcCamZmZmelVwJqZmZmZ6VXAmpmZmZnpVcCamZmZmelVwJqZmZmZ6VXAmpmZmZnpVcCamZmZmelVwJqZmZmZ6VXAmpmZmZnpVcCamZmZmelVwJqZmZmZ6VXAmpmZmZnpVcCamZmZmelVwJqZmZmZ6VXAmpmZmZnpVcCamZmZmelVwJqZmZmZ6VXAmpmZmZnpVcCamZmZmelVwJqZmZmZ6VXAmpmZmZnpVcCamZmZmelVwJqZmZmZ6VXAmpmZmZnpVcCamZmZmelVwJqZmZmZ6VXAH4XrUbjuVcAfhetRuO5VwB+F61G47lXAH4XrUbjuVcAfhetRuO5VwB+F61G47lXAH4XrUbjuVcAfhetRuO5VwB+F61G47lXAH4XrUbjuVcAfhetRuO5VwB+F61G47lXAH4XrUbjuVcAfhetRuO5VwJqZmZmZ6VXAmpmZmZnpVcCamZmZmelVwJqZmZmZ6VXAmpmZmZnpVcCamZmZmelVwJqZmZmZ6VXAmpmZmZnpVcCamZmZmelVwJqZmZmZ6VXAmpmZmZnpVcCamZmZmelVwJqZmZmZ6VXAmpmZmZnpVcCamZmZmelVwJqZmZmZ6VXAmpmZmZnpVcCamZmZmelVwJqZmZmZ6VXAmpmZmZnpVcCamZmZmelVwJqZmZmZ6VXAmpmZmZnpVcCamZmZmelVwJqZmZmZ6VXAmpmZmZnpVcCamZmZmelVwJqZmZmZ6VXAmpmZmZnpVcCamZmZmelVwJqZmZmZ6VXAmpmZmZnpVcCamZmZmelVwJqZmZmZ6VXAmpmZmZnpVcCamZmZmelVwJqZmZmZ6VXAmpmZmZnpVcCamZmZmelVwJqZmZmZ6VXAuB6F61HoVcC4HoXrUehVwLgehetR6FXAuB6F61HoVcC4HoXrUehVwLgehetR6FXAuB6F61HoVcC4HoXrUehVwLgehetR6FXAuB6F61HoVcC4HoXrUehVwLgehetR6FXAuB6F61HoVcC4HoXrUehVwLgehetR6FXAuB6F61HoVcC4HoXrUehVwLgehetR6FXAuB6F61HoVcC4HoXrUehVwLgehetR6FXAuB6F61HoVcC4HoXrUehVwLgehetR6FXAuB6F61HoVcC4HoXrUehVwLgehetR6FXAuB6F61HoVcC4HoXrUehVwLgehetR6FXAuB6F61HoVcC4HoXrUehVwLgehetR6FXAuB6F61HoVcC4HoXrUehVwLgehetR6FXAuB6F61HoVcC4HoXrUehVwLgehetR6FXAuB6F61HoVcC4HoXrUehVwLgehetR6FXAuB6F61HoVcC4HoXrUehVwLgehetR6FXAuB6F61HoVcC4HoXrUehVwLgehetR6FXAuB6F61HoVcC4HoXrUehVwLgehetR6FXAuB6F61HoVcC4HoXrUehVwLgehetR6FXAuB6F61HoVcC4HoXrUehVwLgehetR6FXAuB6F61HoVcC4HoXrUehVwLgehetR6FXAuB6F61HoVcC4HoXrUehVwLgehetR6FXAuB6F61HoVcC4HoXrUehVwLgehetR6FXAuB6F61HoVcC4HoXrUehVwLgehetR6FXAuB6F61HoVcC4HoXrUehVwLgehetR6FXAuB6F61HoVcC4HoXrUehVwLgehetR6FXAuB6F61HoVcC4HoXrUehVwLgehetR6FXAuB6F61HoVcC4HoXrUehVwLgehetR6FXAuB6F61HoVcC4HoXrUehVwLgehetR6FXAuB6F61HoVcC4HoXrUehVwLgehetR6FXAuB6F61HoVcC4HoXrUehVwLgehetR6FXAuB6F61HoVcC4HoXrUehVwLgehetR6FXAuB6F61HoVcC4HoXrUehVwLgehetR6FXAuB6F61HoVcC4HoXrUehVwLgehetR6FXAuB6F61HoVcC4HoXrUehVwLgehetR6FXAuB6F61HoVcC4HoXrUehVwLgehetR6FXAuB6F61HoVcC4HoXrUehVwLgehetR6FXAuB6F61HoVcC4HoXrUehVwLgehetR6FXAuB6F61HoVcC4HoXrUehVwLgehetR6FXAuB6F61HoVcC4HoXrUehVwClcj8L16FXAKVyPwvXoVcApXI/C9ehVwClcj8L16FXAKVyPwvXoVcApXI/C9ehVwClcj8L16FXAKVyPwvXoVcApXI/C9ehVwClcj8L16FXAKVyPwvXoVcApXI/C9ehVwClcj8L16FXAKVyPwvXoVcApXI/C9ehVwClcj8L16FXAKVyPwvXoVcApXI/C9ehVwClcj8L16FXAKVyPwvXoVcApXI/C9ehVwClcj8L16FXAKVyPwvXoVcApXI/C9ehVwClcj8L16FXAKVyPwvXoVcApXI/C9ehVwClcj8L16FXAKVyPwvXoVcApXI/C9ehVwClcj8L16FXAKVyPwvXoVcApXI/C9ehVwClcj8L16FXAKVyPwvXoVcApXI/C9ehVwClcj8L16FXAKVyPwvXoVcApXI/C9ehVwClcj8L16FXAKVyPwvXoVcApXI/C9ehVwClcj8L16FXAKVyPwvXoVcApXI/C9ehVwClcj8L16FXAKVyPwvXoVcApXI/C9ehVwClcj8L16FXAKVyPwvXoVcApXI/C9ehVwClcj8L16FXAKVyPwvXoVcApXI/C9ehVwClcj8L16FXAKVyPwvXoVcApXI/C9ehVwClcj8L16FXAKVyPwvXoVcApXI/C9ehVwClcj8L16FXAKVyPwvXoVcApXI/C9ehVwClcj8L16FXAKVyPwvXoVcApXI/C9ehVwClcj8L16FXAKVyPwvXoVcApXI/C9ehVwClcj8L16FXAKVyPwvXoVcApXI/C9ehVwClcj8L16FXAKVyPwvXoVcApXI/C9ehVwClcj8L16FXAKVyPwvXoVcApXI/C9ehVwClcj8L16FXAKVyPwvXoVcApXI/C9ehVwClcj8L16FXAKVyPwvXoVcApXI/C9ehVwClcj8L16FXAKVyPwvXoVcApXI/C9ehVwClcj8L16FXAKVyPwvXoVcApXI/C9ehVwClcj8L16FXAKVyPwvXoVcApXI/C9ehVwClcj8L16FXAKVyPwvXoVcApXI/C9ehVwClcj8L16FXAKVyPwvXoVcApXI/C9ehVwClcj8L16FXAKVyPwvXoVcDXo3A9CudVwNejcD0K51XACtejcD3qVcAK16NwPepVwArXo3A96lXACtejcD3qVcAK16NwPepVwArXo3A96lXACtejcD3qVcAK16NwPepVwArXo3A96lXACtejcD3qVcAK16NwPepVwArXo3A96lXACtejcD3qVcAK16NwPepVwArXo3A96lXACtejcD3qVcAK16NwPepVwArXo3A96lXACtejcD3qVcAK16NwPepVwArXo3A96lXACtejcD3qVcAK16NwPepVwArXo3A96lXACtejcD3qVcAK16NwPepVwArXo3A96lXA7FG4HoXrVcDsUbgehetVwOxRuB6F61XA7FG4HoXrVcDsUbgehetVwOxRuB6F61XA7FG4HoXrVcDsUbgehetVwOxRuB6F61XA7FG4HoXrVcDsUbgehetVwOxRuB6F61XA7FG4HoXrVcDsUbgehetVwOxRuB6F61XA7FG4HoXrVcDsUbgehetVwOxRuB6F61XA7FG4HoXrVcDsUbgehetVwOxRuB6F61XA7FG4HoXrVcDsUbgehetVwOxRuB6F61XA7FG4HoXrVcDsUbgehetVwOxRuB6F61XA7FG4HoXrVcDsUbgehetVwOxRuB6F61XA7FG4HoXrVcDsUbgehetVwOxRuB6F61XA7FG4HoXrVcDsUbgehetVwOxRuB6F61XA7FG4HoXrVcDsUbgehetVwOxRuB6F61XA7FG4HoXrVcDsUbgehetVwOxRuB6F61XA7FG4HoXrVcDsUbgehetVwOxRuB6F61XA7FG4HoXrVcDsUbgehetVwOxRuB6F61XA7FG4HoXrVcDsUbgehetVwOxRuB6F61XA7FG4HoXrVcDsUbgehetVwClcj8L16FXAKVyPwvXoVcApXI/C9ehVwClcj8L16FXAKVyPwvXoVcApXI/C9ehVwPYoXI/C5VXA9ihcj8LlVcD2KFyPwuVVwPYoXI/C5VXA9ihcj8LlVcD2KFyPwuVVwPYoXI/C5VXA9ihcj8LlVcD2KFyPwuVVwPYoXI/C5VXA9ihcj8LlVcAK16NwPepVwArXo3A96lXACtejcD3qVcAK16NwPepVwArXo3A96lXACtejcD3qVcAK16NwPepVwArXo3A96lXACtejcD3qVcAK16NwPepVwArXo3A96lXA9ihcj8LlVcD2KFyPwuVVwPYoXI/C5VXA9ihcj8LlVcCamZmZmelVwJqZmZmZ6VXAmpmZmZnpVcCamZmZmelVwJqZmZmZ6VXAmpmZmZnpVcCamZmZmelVwJqZmZmZ6VXAmpmZmZnpVcCamZmZmelVwJqZmZmZ6VXAmpmZmZnpVcCamZmZmelVwJqZmZmZ6VXAmpmZmZnpVcCamZmZmelVwJqZmZmZ6VXAmpmZmZnpVcCamZmZmelVwJqZmZmZ6VXAmpmZmZnpVcCamZmZmelVwJqZmZmZ6VXAmpmZmZnpVcCamZmZmelVwJqZmZmZ6VXAmpmZmZnpVcCamZmZmelVwJqZmZmZ6VXAmpmZmZnpVcCamZmZmelVwJqZmZmZ6VXAmpmZmZnpVcCamZmZmelVwJqZmZmZ6VXAmpmZmZnpVcCamZmZmelVwJqZmZmZ6VXAmpmZmZnpVcCamZmZmelVwJqZmZmZ6VXAmpmZmZnpVcCamZmZmelVwJqZmZmZ6VXAmpmZmZnpVcCamZmZmelVwJqZmZmZ6VXAmpmZmZnpVcCamZmZmelVwJqZmZmZ6VXAmpmZmZnpVcCamZmZmelVwJqZmZmZ6VXAmpmZmZnpVcCamZmZmelVwJqZmZmZ6VXAmpmZmZnpVcCamZmZmelVwJqZmZmZ6VXAmpmZmZnpVcCamZmZmelVwJqZmZmZ6VXAmpmZmZnpVcCamZmZmelVwJqZmZmZ6VXAmpmZmZnpVcCamZmZmelVwJqZmZmZ6VXAmpmZmZnpVcCamZmZmelVwJqZmZmZ6VXAmpmZmZnpVcCamZmZmelVwJqZmZmZ6VXAmpmZmZnpVcCamZmZmelVwJqZmZmZ6VXAmpmZmZnpVcCamZmZmelVwJqZmZmZ6VXAmpmZmZnpVcCamZmZmelVwJqZmZmZ6VXAmpmZmZnpVcCamZmZmelVwJqZmZmZ6VXAmpmZmZnpVcCamZmZmelVwJqZmZmZ6VXAmpmZmZnpVcCamZmZmelVwJqZmZmZ6VXAmpmZmZnpVcCamZmZmelVwJqZmZmZ6VXAmpmZmZnpVcCamZmZmelVwJqZmZmZ6VXAmpmZmZnpVcCamZmZmelVwJqZmZmZ6VXAmpmZmZnpVcCamZmZmelVwJqZmZmZ6VXAmpmZmZnpVcCamZmZmelVwJqZmZmZ6VXACtejcD3qVcAK16NwPepVwArXo3A96lXACtejcD3qVcAK16NwPepVwArXo3A96lXACtejcD3qVcAK16NwPepVwArXo3A96lXACtejcD3qVcAK16NwPepVwArXo3A96lXACtejcD3qVcAK16NwPepVwArXo3A96lXACtejcD3qVcAK16NwPepVwArXo3A96lXACtejcD3qVcAK16NwPepVwArXo3A96lXACtejcD3qVcAK16NwPepVwArXo3A96lXACtejcD3qVcAK16NwPepVwArXo3A96lXACtejcD3qVcAK16NwPepVwArXo3A96lXACtejcD3qVcAK16NwPepVwArXo3A96lXACtejcD3qVcAK16NwPepVwArXo3A96lXACtejcD3qVcAK16NwPepVwArXo3A96lXACtejcD3qVcAK16NwPepVwArXo3A96lXACtejcD3qVcAK16NwPepVwArXo3A96lXACtejcD3qVcAK16NwPepVwArXo3A96lXACtejcD3qVcAK16NwPepVwArXo3A96lXACtejcD3qVcAK16NwPepVwArXo3A96lXACtejcD3qVcAK16NwPepVwArXo3A96lXACtejcD3qVcAK16NwPepVwArXo3A96lXACtejcD3qVcAK16NwPepVwEjhehSu51XASOF6FK7nVcBI4XoUrudVwEjhehSu51XASOF6FK7nVcBI4XoUrudVwEjhehSu51XASOF6FK7nVcBI4XoUrudVwEjhehSu51XASOF6FK7nVcBI4XoUrudVwEjhehSu51XASOF6FK7nVcBI4XoUrudVwEjhehSu51XASOF6FK7nVcBI4XoUrudVwEjhehSu51XASOF6FK7nVcBI4XoUrudVwEjhehSu51XASOF6FK7nVcBI4XoUrudVwEjhehSu51XASOF6FK7nVcBI4XoUrudVwEjhehSu51XASOF6FK7nVcBI4XoUrudVwEjhehSu51XASOF6FK7nVcBI4XoUrudVwEjhehSu51XASOF6FK7nVcBI4XoUrudVwHsUrkfh6lXAexSuR+HqVcB7FK5H4epVwHsUrkfh6lXAexSuR+HqVcB7FK5H4epVwHsUrkfh6lXAexSuR+HqVcB7FK5H4epVwHsUrkfh6lXAexSuR+HqVcB7FK5H4epVwHsUrkfh6lXAexSuR+HqVcB7FK5H4epVwHsUrkfh6lXAexSuR+HqVcB7FK5H4epVwHsUrkfh6lXAexSuR+HqVcB7FK5H4epVwHsUrkfh6lXAexSuR+HqVcB7FK5H4epVwHsUrkfh6lXAexSuR+HqVcB7FK5H4epVwHsUrkfh6lXAexSuR+HqVcB7FK5H4epVwHsUrkfh6lXAexSuR+HqVcB7FK5H4epVwHsUrkfh6lXAexSuR+HqVcB7FK5H4epVwHsUrkfh6lXAexSuR+HqVcB7FK5H4epVwHsUrkfh6lXAexSuR+HqVcB7FK5H4epVwHsUrkfh6lXAexSuR+HqVcB7FK5H4epVwHsUrkfh6lXAexSuR+HqVcB7FK5H4epVwHsUrkfh6lXAexSuR+HqVcB7FK5H4epVwHsUrkfh6lXAexSuR+HqVcB7FK5H4epVwHsUrkfh6lXAexSuR+HqVcB7FK5H4epVwHsUrkfh6lXAexSuR+HqVcB7FK5H4epVwHsUrkfh6lXAexSuR+HqVcB7FK5H4epVwHsUrkfh6lXAexSuR+HqVcDNzMzMzOxVwM3MzMzM7FXAzczMzMzsVcDNzMzMzOxVwM3MzMzM7FXAzczMzMzsVcDNzMzMzOxVwM3MzMzM7FXAzczMzMzsVcDNzMzMzOxVwM3MzMzM7FXAzczMzMzsVcDNzMzMzOxVwM3MzMzM7FXAzczMzMzsVcDNzMzMzOxVwM3MzMzM7FXAzczMzMzsVcDNzMzMzOxVwM3MzMzM7FXAzczMzMzsVcDNzMzMzOxVwM3MzMzM7FXAzczMzMzsVcDNzMzMzOxVwM3MzMzM7FXAzczMzMzsVcDNzMzMzOxVwM3MzMzM7FXAzczMzMzsVcDNzMzMzOxVwM3MzMzM7FXAzczMzMzsVcDNzMzMzOxVwM3MzMzM7FXAzczMzMzsVcDNzMzMzOxVwM3MzMzM7FXAzczMzMzsVcDNzMzMzOxVwM3MzMzM7FXAzczMzMzsVcDNzMzMzOxVwM3MzMzM7FXAzczMzMzsVcDNzMzMzOxVwM3MzMzM7FXAzczMzMzsVcDNzMzMzOxVwM3MzMzM7FXAzczMzMzsVcDNzMzMzOxVwM3MzMzM7FXAzczMzMzsVcDNzMzMzOxVwM3MzMzM7FXAzczMzMzsVcDNzMzMzOxVwM3MzMzM7FXAzczMzMzsVcDNzMzMzOxVwM3MzMzM7FXAzczMzMzsVcDNzMzMzOxVwM3MzMzM7FXAzczMzMzsVcDNzMzMzOxVwM3MzMzM7FXAzczMzMzsVcDNzMzMzOxVwM3MzMzM7FXAzczMzMzsVcDNzMzMzOxVwM3MzMzM7FXAzczMzMzsVcDNzMzMzOxVwM3MzMzM7FXAzczMzMzsVcDNzMzMzOxVwM3MzMzM7FXAzczMzMzsVcDNzMzMzOxVwM3MzMzM7FXASOF6FK7nVcBI4XoUrudVwEjhehSu51XASOF6FK7nVcBI4XoUrudVwEjhehSu51XASOF6FK7nVcBI4XoUrudVwEjhehSu51XASOF6FK7nVcBI4XoUrudVwFyPwvUo7FXAXI/C9SjsVcBcj8L1KOxVwFyPwvUo7FXAXI/C9SjsVcBcj8L1KOxVwFyPwvUo7FXAXI/C9SjsVcBcj8L1KOxVwFyPwvUo7FXAXI/C9SjsVcBcj8L1KOxVwFyPwvUo7FXAXI/C9SjsVcBcj8L1KOxVwFyPwvUo7FXAXI/C9SjsVcBcj8L1KOxVwFyPwvUo7FXAXI/C9SjsVcBcj8L1KOxVwFyPwvUo7FXAXI/C9SjsVcBcj8L1KOxVwFyPwvUo7FXAXI/C9SjsVcBcj8L1KOxVwFyPwvUo7FXAXI/C9SjsVcBcj8L1KOxVwFyPwvUo7FXAXI/C9SjsVcBcj8L1KOxVwFyPwvUo7FXAXI/C9SjsVcBcj8L1KOxVwFyPwvUo7FXAXI/C9SjsVcBcj8L1KOxVwFyPwvUo7FXAXI/C9SjsVcBcj8L1KOxVwFyPwvUo7FXAXI/C9SjsVcBcj8L1KOxVwFyPwvUo7FXAXI/C9SjsVcBcj8L1KOxVwFyPwvUo7FXAXI/C9SjsVcBcj8L1KOxVwFyPwvUo7FXAXI/C9SjsVcBcj8L1KOxVwFyPwvUo7FXAXI/C9SjsVcBcj8L1KOxVwFyPwvUo7FXAXI/C9SjsVcBcj8L1KOxVwFyPwvUo7FXAXI/C9SjsVcBcj8L1KOxVwFyPwvUo7FXAXI/C9SjsVcBcj8L1KOxVwFyPwvUo7FXAXI/C9SjsVcBcj8L1KOxVwHsUrkfh6lXAexSuR+HqVcB7FK5H4epVwHsUrkfh6lXAexSuR+HqVcB7FK5H4epVwHsUrkfh6lXAexSuR+HqVcB7FK5H4epVwHsUrkfh6lXAexSuR+HqVcB7FK5H4epVwHsUrkfh6lXAexSuR+HqVcB7FK5H4epVwHsUrkfh6lXAexSuR+HqVcB7FK5H4epVwHsUrkfh6lXAexSuR+HqVcB7FK5H4epVwHsUrkfh6lXAexSuR+HqVcB7FK5H4epVwHsUrkfh6lXAexSuR+HqVcB7FK5H4epVwK5H4XoU7lXArkfhehTuVcCuR+F6FO5VwK5H4XoU7lXArkfhehTuVcCuR+F6FO5VwK5H4XoU7lXArkfhehTuVcCuR+F6FO5VwK5H4XoU7lXArkfhehTuVcCuR+F6FO5VwK5H4XoU7lXArkfhehTuVcCuR+F6FO5VwK5H4XoU7lXArkfhehTuVcCuR+F6FO5VwK5H4XoU7lXArkfhehTuVcCuR+F6FO5VwK5H4XoU7lXArkfhehTuVcCuR+F6FO5VwK5H4XoU7lXArkfhehTuVcCuR+F6FO5VwK5H4XoU7lXArkfhehTuVcCuR+F6FO5VwK5H4XoU7lXArkfhehTuVcCuR+F6FO5VwK5H4XoU7lXArkfhehTuVcCuR+F6FO5VwK5H4XoU7lXArkfhehTuVcCuR+F6FO5VwK5H4XoU7lXArkfhehTuVcCuR+F6FO5VwK5H4XoU7lXArkfhehTuVcCuR+F6FO5VwK5H4XoU7lXAexSuR+HqVcB7FK5H4epVwHsUrkfh6lXAexSuR+HqVcB7FK5H4epVwHsUrkfh6lXAexSuR+HqVcB7FK5H4epVwHsUrkfh6lXAexSuR+HqVcB7FK5H4epVwHsUrkfh6lXAexSuR+HqVcB7FK5H4epVwHsUrkfh6lXAexSuR+HqVcB7FK5H4epVwHsUrkfh6lXAexSuR+HqVcB7FK5H4epVwHsUrkfh6lXAexSuR+HqVcB7FK5H4epVwHsUrkfh6lXAexSuR+HqVcB7FK5H4epVwHsUrkfh6lXAexSuR+HqVcB7FK5H4epVwHsUrkfh6lXAexSuR+HqVcB7FK5H4epVwHsUrkfh6lXAexSuR+HqVcB7FK5H4epVwHsUrkfh6lXAexSuR+HqVcB7FK5H4epVwHsUrkfh6lXAexSuR+HqVcB7FK5H4epVwHsUrkfh6lXAexSuR+HqVcB7FK5H4epVwHsUrkfh6lXAexSuR+HqVcB7FK5H4epVwHsUrkfh6lXAexSuR+HqVcB7FK5H4epVwHsUrkfh6lXAexSuR+HqVcB7FK5H4epVwHsUrkfh6lXAexSuR+HqVcB7FK5H4epVwHsUrkfh6lXAexSuR+HqVcB7FK5H4epVwHsUrkfh6lXAexSuR+HqVcB7FK5H4epVwHsUrkfh6lXAexSuR+HqVcB7FK5H4epVwHsUrkfh6lXAexSuR+HqVcB7FK5H4epVwHsUrkfh6lXAexSuR+HqVcB7FK5H4epVwHsUrkfh6lXAexSuR+HqVcB7FK5H4epVwHsUrkfh6lXAexSuR+HqVcDsUbgehetVwOxRuB6F61XAzczMzMzsVcDNzMzMzOxVwM3MzMzM7FXAzczMzMzsVcDNzMzMzOxVwM3MzMzM7FXAzczMzMzsVcDNzMzMzOxVwM3MzMzM7FXAzczMzMzsVcDNzMzMzOxVwM3MzMzM7FXAzczMzMzsVcDNzMzMzOxVwEjhehSu51XASOF6FK7nVcBI4XoUrudVwEjhehSu51XASOF6FK7nVcBI4XoUrudVwEjhehSu51XASOF6FK7nVcBI4XoUrudVwEjhehSu51XASOF6FK7nVcBI4XoUrudVwEjhehSu51XASOF6FK7nVcBI4XoUrudVwEjhehSu51XASOF6FK7nVcBI4XoUrudVwArXo3A96lXACtejcD3qVcAK16NwPepVwArXo3A96lXACtejcD3qVcAK16NwPepVwArXo3A96lXACtejcD3qVcAK16NwPepVwArXo3A96lXACtejcD3qVcAK16NwPepVwArXo3A96lXACtejcD3qVcAK16NwPepVwArXo3A96lXACtejcD3qVcAK16NwPepVwArXo3A96lXACtejcD3qVcAK16NwPepVwArXo3A96lXACtejcD3qVcAK16NwPepVwLgehetR6FXAuB6F61HoVcC4HoXrUehVwLgehetR6FXAuB6F61HoVcC4HoXrUehVwLgehetR6FXAuB6F61HoVcC4HoXrUehVwLgehetR6FXAuB6F61HoVcC4HoXrUehVwLgehetR6FXAuB6F61HoVcC4HoXrUehVwLgehetR6FXAuB6F61HoVcC4HoXrUehVwLgehetR6FXAuB6F61HoVcC4HoXrUehVwLgehetR6FXAuB6F61HoVcC4HoXrUehVwLgehetR6FXAuB6F61HoVcC4HoXrUehVwLgehetR6FXAuB6F61HoVcC4HoXrUehVwLgehetR6FXAuB6F61HoVcC4HoXrUehVwLgehetR6FXAuB6F61HoVcC4HoXrUehVwLgehetR6FXAuB6F61HoVcC4HoXrUehVwLgehetR6FXAuB6F61HoVcC4HoXrUehVwLgehetR6FXAuB6F61HoVcC4HoXrUehVwLgehetR6FXAuB6F61HoVcBxPQrXo/BVwHE9Ctej8FXArkfhehTuVcCuR+F6FO5VwK5H4XoU7lXArkfhehTuVcCuR+F6FO5VwFyPwvUo7FXAXI/C9SjsVcBcj8L1KOxVwFyPwvUo7FXAXI/C9SjsVcBcj8L1KOxVwFyPwvUo7FXAXI/C9SjsVcBcj8L1KOxVwFyPwvUo7FXAXI/C9SjsVcBcj8L1KOxVwFyPwvUo7FXAXI/C9SjsVcBcj8L1KOxVwFyPwvUo7FXAXI/C9SjsVcBcj8L1KOxVwFyPwvUo7FXAXI/C9SjsVcBcj8L1KOxVwFyPwvUo7FXAXI/C9SjsVcBcj8L1KOxVwFyPwvUo7FXAXI/C9SjsVcBcj8L1KOxVwFyPwvUo7FXAXI/C9SjsVcBcj8L1KOxVwFyPwvUo7FXAXI/C9SjsVcBcj8L1KOxVwFyPwvUo7FXAXI/C9SjsVcBcj8L1KOxVwFyPwvUo7FXAXI/C9SjsVcBcj8L1KOxVwFyPwvUo7FXAXI/C9SjsVcBcj8L1KOxVwFyPwvUo7FXAXI/C9SjsVcBcj8L1KOxVwFyPwvUo7FXAXI/C9SjsVcBcj8L1KOxVwFyPwvUo7FXAXI/C9SjsVcBcj8L1KOxVwFyPwvUo7FXAXI/C9SjsVcBcj8L1KOxVwFyPwvUo7FXAXI/C9SjsVcBcj8L1KOxVwFyPwvUo7FXAXI/C9SjsVcBcj8L1KOxVwFyPwvUo7FXAXI/C9SjsVcBcj8L1KOxVwFyPwvUo7FXAXI/C9SjsVcBcj8L1KOxVwFyPwvUo7FXAXI/C9SjsVcBcj8L1KOxVwFyPwvUo7FXAXI/C9SjsVcBcj8L1KOxVwFyPwvUo7FXAXI/C9SjsVcBcj8L1KOxVwFyPwvUo7FXAXI/C9SjsVcBcj8L1KOxVwFyPwvUo7FXAXI/C9SjsVcBcj8L1KOxVwFyPwvUo7FXA7FG4HoXrVcDsUbgehetVwOxRuB6F61XA7FG4HoXrVcDsUbgehetVwOxRuB6F61XA7FG4HoXrVcCamZmZmelVwJqZmZmZ6VXAmpmZmZnpVcCamZmZmelVwJqZmZmZ6VXAmpmZmZnpVcCamZmZmelVwJqZmZmZ6VXAmpmZmZnpVcCamZmZmelVwJqZmZmZ6VXAmpmZmZnpVcCamZmZmelVwJqZmZmZ6VXAmpmZmZnpVcCamZmZmelVwJqZmZmZ6VXAmpmZmZnpVcCamZmZmelVwJqZmZmZ6VXAmpmZmZnpVcCamZmZmelVwJqZmZmZ6VXAmpmZmZnpVcCamZmZmelVwJqZmZmZ6VXAmpmZmZnpVcCamZmZmelVwJqZmZmZ6VXAmpmZmZnpVcCamZmZmelVwJqZmZmZ6VXAmpmZmZnpVcCamZmZmelVwJqZmZmZ6VXAmpmZmZnpVcCamZmZmelVwJqZmZmZ6VXAexSuR+HqVcB7FK5H4epVwHsUrkfh6lXAexSuR+HqVcB7FK5H4epVwHsUrkfh6lXAexSuR+HqVcB7FK5H4epVwHsUrkfh6lXAexSuR+HqVcB7FK5H4epVwHsUrkfh6lXAexSuR+HqVcB7FK5H4epVwHsUrkfh6lXAexSuR+HqVcB7FK5H4epVwHsUrkfh6lXAexSuR+HqVcB7FK5H4epVwHsUrkfh6lXAexSuR+HqVcB7FK5H4epVwHsUrkfh6lXAexSuR+HqVcB7FK5H4epVwFyPwvUo7FXAXI/C9SjsVcBcj8L1KOxVwFyPwvUo7FXAXI/C9SjsVcBcj8L1KOxVwFyPwvUo7FXAXI/C9SjsVcBcj8L1KOxVwFyPwvUo7FXAXI/C9SjsVcBcj8L1KOxVwFyPwvUo7FXAXI/C9SjsVcBcj8L1KOxVwFyPwvUo7FXAmpmZmZnpVcCamZmZmelVwJqZmZmZ6VXAmpmZmZnpVcCamZmZmelVwJqZmZmZ6VXAmpmZmZnpVcCamZmZmelVwJqZmZmZ6VXAmpmZmZnpVcCamZmZmelVwJqZmZmZ6VXAmpmZmZnpVcCamZmZmelVwJqZmZmZ6VXAmpmZmZnpVcCamZmZmelVwJqZmZmZ6VXAmpmZmZnpVcCamZmZmelVwJqZmZmZ6VXAmpmZmZnpVcCamZmZmelVwJqZmZmZ6VXAmpmZmZnpVcCamZmZmelVwJqZmZmZ6VXAmpmZmZnpVcCamZmZmelVwJqZmZmZ6VXAmpmZmZnpVcCamZmZmelVwJqZmZmZ6VXAmpmZmZnpVcCamZmZmelVwJqZmZmZ6VXAmpmZmZnpVcCamZmZmelVwJqZmZmZ6VXAmpmZmZnpVcCamZmZmelVwD0K16Nw7VXAPQrXo3DtVcA9CtejcO1VwD0K16Nw7VXAPQrXo3DtVcA9CtejcO1VwD0K16Nw7VXAPQrXo3DtVcA9CtejcO1VwD0K16Nw7VXAPQrXo3DtVcA9CtejcO1VwD0K16Nw7VXAPQrXo3DtVcA9CtejcO1VwD0K16Nw7VXAPQrXo3DtVcA9CtejcO1VwD0K16Nw7VXAPQrXo3DtVcA9CtejcO1VwD0K16Nw7VXAPQrXo3DtVcA9CtejcO1VwD0K16Nw7VXAPQrXo3DtVcA9CtejcO1VwD0K16Nw7VXAPQrXo3DtVcA9CtejcO1VwD0K16Nw7VXAPQrXo3DtVcA9CtejcO1VwD0K16Nw7VXAPQrXo3DtVcA9CtejcO1VwD0K16Nw7VXAPQrXo3DtVcA9CtejcO1VwD0K16Nw7VXAPQrXo3DtVcA9CtejcO1VwD0K16Nw7VXAPQrXo3DtVcA9CtejcO1VwD0K16Nw7VXAPQrXo3DtVcA9CtejcO1VwD0K16Nw7VXAPQrXo3DtVcA9CtejcO1VwD0K16Nw7VXAPQrXo3DtVcA9CtejcO1VwD0K16Nw7VXAPQrXo3DtVcA9CtejcO1VwD0K16Nw7VXAPQrXo3DtVcA9CtejcO1VwD0K16Nw7VXAPQrXo3DtVcA9CtejcO1VwD0K16Nw7VXAPQrXo3DtVcA9CtejcO1VwM3MzMzM7FXAzczMzMzsVcDNzMzMzOxVwM3MzMzM7FXAzczMzMzsVcDNzMzMzOxVwM3MzMzM7FXAzczMzMzsVcDNzMzMzOxVwM3MzMzM7FXAzczMzMzsVcDNzMzMzOxVwM3MzMzM7FXAzczMzMzsVcCamZmZmelVwJqZmZmZ6VXAmpmZmZnpVcCamZmZmelVwJqZmZmZ6VXAexSuR+HqVcB7FK5H4epVwHsUrkfh6lXAexSuR+HqVcB7FK5H4epVwHsUrkfh6lXAexSuR+HqVcB7FK5H4epVwHsUrkfh6lXAexSuR+HqVcB7FK5H4epVwHsUrkfh6lXAexSuR+HqVcB7FK5H4epVwClcj8L16FXAKVyPwvXoVcApXI/C9ehVwClcj8L16FXAKVyPwvXoVcApXI/C9ehVwClcj8L16FXAKVyPwvXoVcApXI/C9ehVwClcj8L16FXAKVyPwvXoVcApXI/C9ehVwClcj8L16FXAKVyPwvXoVcApXI/C9ehVwClcj8L16FXAKVyPwvXoVcApXI/C9ehVwClcj8L16FXAKVyPwvXoVcApXI/C9ehVwClcj8L16FXAKVyPwvXoVcApXI/C9ehVwClcj8L16FXAKVyPwvXoVcApXI/C9ehVwClcj8L16FXAKVyPwvXoVcApXI/C9ehVwClcj8L16FXAKVyPwvXoVcApXI/C9ehVwClcj8L16FXAKVyPwvXoVcApXI/C9ehVwClcj8L16FXAKVyPwvXoVcApXI/C9ehVwClcj8L16FXAKVyPwvXoVcApXI/C9ehVwClcj8L16FXAzczMzMzsVcDNzMzMzOxVwM3MzMzM7FXAzczMzMzsVcDNzMzMzOxVwM3MzMzM7FXAzczMzMzsVcDNzMzMzOxVwM3MzMzM7FXAzczMzMzsVcDNzMzMzOxVwM3MzMzM7FXAzczMzMzsVcDNzMzMzOxVwM3MzMzM7FXAzczMzMzsVcDNzMzMzOxVwM3MzMzM7FXAzczMzMzsVcDNzMzMzOxVwLgehetR6FXAuB6F61HoVcC4HoXrUehVwLgehetR6FXAuB6F61HoVcC4HoXrUehVwLgehetR6FXAuB6F61HoVcC4HoXrUehVwLgehetR6FXAuB6F61HoVcC4HoXrUehVwLgehetR6FXAuB6F61HoVcC4HoXrUehVwLgehetR6FXAuB6F61HoVcC4HoXrUehVwLgehetR6FXAuB6F61HoVcC4HoXrUehVwLgehetR6FXAuB6F61HoVcC4HoXrUehVwLgehetR6FXAuB6F61HoVcC4HoXrUehVwLgehetR6FXAuB6F61HoVcC4HoXrUehVwLgehetR6FXAuB6F61HoVcC4HoXrUehVwLgehetR6FXAuB6F61HoVcC4HoXrUehVwLgehetR6FXAuB6F61HoVcC4HoXrUehVwLgehetR6FXAuB6F61HoVcC4HoXrUehVwLgehetR6FXAuB6F61HoVcC4HoXrUehVwLgehetR6FXAuB6F61HoVcC4HoXrUehVwLgehetR6FXAuB6F61HoVcC4HoXrUehVwLgehetR6FXAuB6F61HoVcC4HoXrUehVwLgehetR6FXAuB6F61HoVcC4HoXrUehVwLgehetR6FXAuB6F61HoVcC4HoXrUehVwLgehetR6FXAuB6F61HoVcC4HoXrUehVwLgehetR6FXAuB6F61HoVcC4HoXrUehVwLgehetR6FXAuB6F61HoVcC4HoXrUehVwLgehetR6FXAuB6F61HoVcC4HoXrUehVwLgehetR6FXAuB6F61HoVcC4HoXrUehVwLgehetR6FXAuB6F61HoVcC4HoXrUehVwLgehetR6FXAuB6F61HoVcC4HoXrUehVwLgehetR6FXAuB6F61HoVcC4HoXrUehVwLgehetR6FXAuB6F61HoVcC4HoXrUehVwLgehetR6FXAuB6F61HoVcC4HoXrUehVwLgehetR6FXAuB6F61HoVcC4HoXrUehVwLgehetR6FXAuB6F61HoVcC4HoXrUehVwLgehetR6FXAuB6F61HoVcC4HoXrUehVwLgehetR6FXAuB6F61HoVcC4HoXrUehVwLgehetR6FXAuB6F61HoVcC4HoXrUehVwLgehetR6FXAuB6F61HoVcC4HoXrUehVwLgehetR6FXAuB6F61HoVcC4HoXrUehVwLgehetR6FXAuB6F61HoVcC4HoXrUehVwLgehetR6FXAuB6F61HoVcC4HoXrUehVwLgehetR6FXAuB6F61HoVcBmZmZmZuZVwGZmZmZm5lXAZmZmZmbmVcBmZmZmZuZVwGZmZmZm5lXAZmZmZmbmVcBmZmZmZuZVwGZmZmZm5lXAZmZmZmbmVcBmZmZmZuZVwGZmZmZm5lXAZmZmZmbmVcBmZmZmZuZVwClcj8L16FXAKVyPwvXoVcApXI/C9ehVwClcj8L16FXAKVyPwvXoVcApXI/C9ehVwClcj8L16FXAKVyPwvXoVcApXI/C9ehVwClcj8L16FXAKVyPwvXoVcApXI/C9ehVwClcj8L16FXAKVyPwvXoVcApXI/C9ehVwClcj8L16FXAKVyPwvXoVcApXI/C9ehVwClcj8L16FXAKVyPwvXoVcApXI/C9ehVwClcj8L16FXAKVyPwvXoVcApXI/C9ehVwClcj8L16FXA4XoUrkfxVcDhehSuR/FVwOF6FK5H8VXA4XoUrkfxVcDhehSuR/FVwOF6FK5H8VXA4XoUrkfxVcDhehSuR/FVwOF6FK5H8VXA4XoUrkfxVcDsUbgehetVwOxRuB6F61XA7FG4HoXrVcDsUbgehetVwOxRuB6F61XA7FG4HoXrVcDsUbgehetVwOxRuB6F61XA7FG4HoXrVcDsUbgehetVwD0K16Nw7VXAPQrXo3DtVcA9CtejcO1VwD0K16Nw7VXAPQrXo3DtVcA9CtejcO1VwD0K16Nw7VXAPQrXo3DtVcA9CtejcO1VwD0K16Nw7VXAPQrXo3DtVcA9CtejcO1VwD0K16Nw7VXAPQrXo3DtVcA9CtejcO1VwD0K16Nw7VXAPQrXo3DtVcA9CtejcO1VwD0K16Nw7VXAPQrXo3DtVcA9CtejcO1VwD0K16Nw7VXAPQrXo3DtVcA9CtejcO1VwD0K16Nw7VXAPQrXo3DtVcA9CtejcO1VwD0K16Nw7VXAPQrXo3DtVcA9CtejcO1VwD0K16Nw7VXAPQrXo3DtVcA9CtejcO1VwD0K16Nw7VXAPQrXo3DtVcA9CtejcO1VwD0K16Nw7VXAPQrXo3DtVcA9CtejcO1VwD0K16Nw7VXAPQrXo3DtVcA9CtejcO1VwD0K16Nw7VXAPQrXo3DtVcA9CtejcO1VwD0K16Nw7VXAPQrXo3DtVcA9CtejcO1VwD0K16Nw7VXAPQrXo3DtVcA9CtejcO1VwD0K16Nw7VXAPQrXo3DtVcA9CtejcO1VwD0K16Nw7VXAPQrXo3DtVcAK16NwPepVwArXo3A96lXACtejcD3qVcAK16NwPepVwArXo3A96lXACtejcD3qVcAK16NwPepVwArXo3A96lXACtejcD3qVcAK16NwPepVwArXo3A96lXACtejcD3qVcAK16NwPepVwArXo3A96lXACtejcD3qVcAK16NwPepVwArXo3A96lXACtejcD3qVcAK16NwPepVwArXo3A96lXACtejcD3qVcAK16NwPepVwArXo3A96lXACtejcD3qVcAK16NwPepVwArXo3A96lXACtejcD3qVcAK16NwPepVwArXo3A96lXACtejcD3qVcAK16NwPepVwArXo3A96lXACtejcD3qVcAK16NwPepVwArXo3A96lXACtejcD3qVcAK16NwPepVwArXo3A96lXACtejcD3qVcAK16NwPepVwArXo3A96lXACtejcD3qVcAK16NwPepVwArXo3A96lXACtejcD3qVcAK16NwPepVwArXo3A96lXACtejcD3qVcAK16NwPepVwArXo3A96lXACtejcD3qVcAK16NwPepVwArXo3A96lXACtejcD3qVcAK16NwPepVwArXo3A96lXACtejcD3qVcAK16NwPepVwArXo3A96lXACtejcD3qVcAK16NwPepVwArXo3A96lXACtejcD3qVcAK16NwPepVwArXo3A96lXACtejcD3qVcAK16NwPepVwArXo3A96lXACtejcD3qVcAK16NwPepVwArXo3A96lXACtejcD3qVcAK16NwPepVwArXo3A96lXACtejcD3qVcAK16NwPepVwArXo3A96lXACtejcD3qVcAK16NwPepVwArXo3A96lXACtejcD3qVcAK16NwPepVwArXo3A96lXACtejcD3qVcAK16NwPepVwArXo3A96lXACtejcD3qVcAK16NwPepVwArXo3A96lXACtejcD3qVcAK16NwPepVwArXo3A96lXACtejcD3qVcAK16NwPepVwArXo3A96lXACtejcD3qVcAK16NwPepVwArXo3A96lXACtejcD3qVcAK16NwPepVwArXo3A96lXACtejcD3qVcAK16NwPepVwClcj8L16FXAKVyPwvXoVcApXI/C9ehVwClcj8L16FXAKVyPwvXoVcApXI/C9ehVwClcj8L16FXAKVyPwvXoVcApXI/C9ehVwClcj8L16FXAKVyPwvXoVcApXI/C9ehVwClcj8L16FXAKVyPwvXoVcApXI/C9ehVwClcj8L16FXAKVyPwvXoVcApXI/C9ehVwClcj8L16FXAKVyPwvXoVcApXI/C9ehVwClcj8L16FXAKVyPwvXoVcApXI/C9ehVwClcj8L16FXAKVyPwvXoVcApXI/C9ehVwClcj8L16FXAKVyPwvXoVcApXI/C9ehVwOxRuB6F61XA7FG4HoXrVcDsUbgehetVwOxRuB6F61XA7FG4HoXrVcDsUbgehetVwOxRuB6F61XA7FG4HoXrVcDsUbgehetVwOxRuB6F61XA7FG4HoXrVcDsUbgehetVwOxRuB6F61XA7FG4HoXrVcDsUbgehetVwOxRuB6F61XA7FG4HoXrVcDsUbgehetVwOxRuB6F61XA7FG4HoXrVcDsUbgehetVwOxRuB6F61XA7FG4HoXrVcDsUbgehetVwOxRuB6F61XA7FG4HoXrVcDsUbgehetVwOxRuB6F61XA7FG4HoXrVcDsUbgehetVwOxRuB6F61XA7FG4HoXrVcDsUbgehetVwOxRuB6F61XA7FG4HoXrVcDsUbgehetVwOxRuB6F61XA7FG4HoXrVcDsUbgehetVwOxRuB6F61XA7FG4HoXrVcDsUbgehetVwOxRuB6F61XA7FG4HoXrVcDsUbgehetVwOxRuB6F61XA7FG4HoXrVcDsUbgehetVwOxRuB6F61XA7FG4HoXrVcDsUbgehetVwOxRuB6F61XA7FG4HoXrVcDsUbgehetVwOxRuB6F61XA7FG4HoXrVcDsUbgehetVwOxRuB6F61XA7FG4HoXrVcDsUbgehetVwOxRuB6F61XA7FG4HoXrVcDsUbgehetVwOxRuB6F61XA7FG4HoXrVcDsUbgehetVwOxRuB6F61XA7FG4HoXrVcDsUbgehetVwOxRuB6F61XA7FG4HoXrVcDsUbgehetVwOxRuB6F61XA7FG4HoXrVcDsUbgehetVwOxRuB6F61XA7FG4HoXrVcDsUbgehetVwOxRuB6F61XA7FG4HoXrVcDsUbgehetVwOxRuB6F61XA7FG4HoXrVcDsUbgehetVwOxRuB6F61XA7FG4HoXrVcDsUbgehetVwOxRuB6F61XAmpmZmZnpVcCamZmZmelVwJqZmZmZ6VXAmpmZmZnpVcCamZmZmelVwJqZmZmZ6VXAmpmZmZnpVcCamZmZmelVwJqZmZmZ6VXAmpmZmZnpVcCamZmZmelVwJqZmZmZ6VXAmpmZmZnpVcCamZmZmelVwJqZmZmZ6VXAmpmZmZnpVcCamZmZmelVwJqZmZmZ6VXAmpmZmZnpVcCamZmZmelVwJqZmZmZ6VXAmpmZmZnpVcCamZmZmelVwJqZmZmZ6VXAmpmZmZnpVcCamZmZmelVwJqZmZmZ6VXAmpmZmZnpVcCamZmZmelVwJqZmZmZ6VXAmpmZmZnpVcCamZmZmelVwJqZmZmZ6VXAmpmZmZnpVcCamZmZmelVwJqZmZmZ6VXAmpmZmZnpVcCamZmZmelVwJqZmZmZ6VXAmpmZmZnpVcCamZmZmelVwJqZmZmZ6VXAmpmZmZnpVcCamZmZmelVwJqZmZmZ6VXAmpmZmZnpVcCamZmZmelVwJqZmZmZ6VXAmpmZmZnpVcCamZmZmelVwJqZmZmZ6VXAmpmZmZnpVcCamZmZmelVwJqZmZmZ6VXAmpmZmZnpVcCamZmZmelVwJqZmZmZ6VXAmpmZmZnpVcCamZmZmelVwJqZmZmZ6VXAmpmZmZnpVcCamZmZmelVwJqZmZmZ6VXAmpmZmZnpVcCamZmZmelVwJqZmZmZ6VXAmpmZmZnpVcCamZmZmelVwJqZmZmZ6VXAmpmZmZnpVcCamZmZmelVwJqZmZmZ6VXAmpmZmZnpVcCamZmZmelVwAAAAAAA8FXAAAAAAADwVcAAAAAAAPBVwAAAAAAA8FXAAAAAAADwVcAAAAAAAPBVwAAAAAAA8FXAexSuR+HqVcB7FK5H4epVwHsUrkfh6lXAexSuR+HqVcB7FK5H4epVwHsUrkfh6lXAexSuR+HqVcB7FK5H4epVwHsUrkfh6lXAexSuR+HqVcB7FK5H4epVwHsUrkfh6lXAexSuR+HqVcB7FK5H4epVwHsUrkfh6lXAexSuR+HqVcB7FK5H4epVwHsUrkfh6lXAexSuR+HqVcB7FK5H4epVwHsUrkfh6lXAexSuR+HqVcB7FK5H4epVwHsUrkfh6lXAexSuR+HqVcB7FK5H4epVwHsUrkfh6lXAexSuR+HqVcB7FK5H4epVwHsUrkfh6lXAexSuR+HqVcB7FK5H4epVwHsUrkfh6lXAexSuR+HqVcB7FK5H4epVwHsUrkfh6lXAexSuR+HqVcB7FK5H4epVwHsUrkfh6lXAexSuR+HqVcB7FK5H4epVwHsUrkfh6lXAexSuR+HqVcB7FK5H4epVwHsUrkfh6lXAexSuR+HqVcB7FK5H4epVwHsUrkfh6lXAexSuR+HqVcB7FK5H4epVwHsUrkfh6lXAexSuR+HqVcDXo3A9CudVwNejcD0K51XA16NwPQrnVcDXo3A9CudVwNejcD0K51XA16NwPQrnVcDXo3A9CudVwNejcD0K51XA16NwPQrnVcDXo3A9CudVwNejcD0K51XAXI/C9SjsVcBcj8L1KOxVwFyPwvUo7FXAXI/C9SjsVcBcj8L1KOxVwFyPwvUo7FXAXI/C9SjsVcBcj8L1KOxVwFyPwvUo7FXAXI/C9SjsVcBcj8L1KOxVwFyPwvUo7FXAXI/C9SjsVcBcj8L1KOxVwFyPwvUo7FXAXI/C9SjsVcBcj8L1KOxVwFyPwvUo7FXAXI/C9SjsVcBcj8L1KOxVwFyPwvUo7FXAXI/C9SjsVcBcj8L1KOxVwFyPwvUo7FXAXI/C9SjsVcBI4XoUrudVwEjhehSu51XASOF6FK7nVcBI4XoUrudVwEjhehSu51XASOF6FK7nVcBI4XoUrudVwEjhehSu51XASOF6FK7nVcBI4XoUrudVwEjhehSu51XASOF6FK7nVcBI4XoUrudVwEjhehSu51XASOF6FK7nVcBI4XoUrudVwEjhehSu51XASOF6FK7nVcBI4XoUrudVwEjhehSu51XASOF6FK7nVcBI4XoUrudVwEjhehSu51XASOF6FK7nVcBcj8L1KOxVwFyPwvUo7FXAXI/C9SjsVcBcj8L1KOxVwFyPwvUo7FXAXI/C9SjsVcBcj8L1KOxVwFyPwvUo7FXAXI/C9SjsVcBcj8L1KOxVwFyPwvUo7FXACtejcD3qVcAK16NwPepVwArXo3A96lXACtejcD3qVcAK16NwPepVwArXo3A96lXACtejcD3qVcBmZmZmZuZVwGZmZmZm5lXAexSuR+HqVcAK16NwPepVwArXo3A96lXACtejcD3qVcAK16NwPepVwArXo3A96lXACtejcD3qVcAK16NwPepVwArXo3A96lXACtejcD3qVcAK16NwPepVwArXo3A96lXACtejcD3qVcAK16NwPepVwArXo3A96lXACtejcD3qVcAK16NwPepVwArXo3A96lXACtejcD3qVcAK16NwPepVwArXo3A96lXACtejcD3qVcAK16NwPepVwArXo3A96lXACtejcD3qVcAK16NwPepVwArXo3A96lXACtejcD3qVcAK16NwPepVwArXo3A96lXACtejcD3qVcAK16NwPepVwArXo3A96lXACtejcD3qVcCamZmZmelVwJqZmZmZ6VXAmpmZmZnpVcCamZmZmelVwJqZmZmZ6VXAmpmZmZnpVcCamZmZmelVwJqZmZmZ6VXAmpmZmZnpVcCamZmZmelVwJqZmZmZ6VXAmpmZmZnpVcCamZmZmelVwJqZmZmZ6VXAmpmZmZnpVcCamZmZmelVwJqZmZmZ6VXAexSuR+HqVcB7FK5H4epVwHsUrkfh6lXAexSuR+HqVcB7FK5H4epVwHsUrkfh6lXAexSuR+HqVcB7FK5H4epVwHsUrkfh6lXAexSuR+HqVcB7FK5H4epVwHsUrkfh6lXAexSuR+HqVcB7FK5H4epVwHsUrkfh6lXAexSuR+HqVcB7FK5H4epVwHsUrkfh6lXAexSuR+HqVcB7FK5H4epVwHsUrkfh6lXAexSuR+HqVcB7FK5H4epVwHsUrkfh6lXAexSuR+HqVcB7FK5H4epVwHsUrkfh6lXAzczMzMzsVcDNzMzMzOxVwM3MzMzM7FXAzczMzMzsVcDNzMzMzOxVwM3MzMzM7FXAzczMzMzsVcDNzMzMzOxVwM3MzMzM7FXAzczMzMzsVcDNzMzMzOxVwM3MzMzM7FXAzczMzMzsVcDNzMzMzOxVwM3MzMzM7FXAzczMzMzsVcDNzMzMzOxVwM3MzMzM7FXAzczMzMzsVcDNzMzMzOxVwM3MzMzM7FXAzczMzMzsVcDNzMzMzOxVwM3MzMzM7FXAzczMzMzsVcDNzMzMzOxVwM3MzMzM7FXAzczMzMzsVcDNzMzMzOxVwOxRuB6F61XA7FG4HoXrVcDsUbgehetVwOxRuB6F61XA7FG4HoXrVcDsUbgehetVwOxRuB6F61XA7FG4HoXrVcDsUbgehetVwOxRuB6F61XA7FG4HoXrVcDsUbgehetVwOxRuB6F61XA7FG4HoXrVcDsUbgehetVwOxRuB6F61XA7FG4HoXrVcDsUbgehetVwOxRuB6F61XA7FG4HoXrVcDsUbgehetVwOxRuB6F61XA7FG4HoXrVcDsUbgehetVwOxRuB6F61XA7FG4HoXrVcDsUbgehetVwOxRuB6F61XA7FG4HoXrVcDsUbgehetVwOxRuB6F61XA7FG4HoXrVcDsUbgehetVwOxRuB6F61XA7FG4HoXrVcDsUbgehetVwOxRuB6F61XA7FG4HoXrVcDsUbgehetVwOxRuB6F61XA7FG4HoXrVcDsUbgehetVwOxRuB6F61XA7FG4HoXrVcDsUbgehetVwOxRuB6F61XA7FG4HoXrVcDsUbgehetVwOxRuB6F61XA7FG4HoXrVcDsUbgehetVwOxRuB6F61XA7FG4HoXrVcDsUbgehetVwOxRuB6F61XA7FG4HoXrVcDNzMzMzOxVwM3MzMzM7FXAzczMzMzsVcDNzMzMzOxVwM3MzMzM7FXAzczMzMzsVcDNzMzMzOxVwM3MzMzM7FXAZmZmZmbmVcBmZmZmZuZVwGZmZmZm5lXAZmZmZmbmVcBmZmZmZuZVwGZmZmZm5lXAZmZmZmbmVcBmZmZmZuZVwGZmZmZm5lXAZmZmZmbmVcBmZmZmZuZVwGZmZmZm5lXAZmZmZmbmVcBmZmZmZuZVwGZmZmZm5lXAZmZmZmbmVcBmZmZmZuZVwGZmZmZm5lXAZmZmZmbmVcBmZmZmZuZVwD0K16Nw7VXAPQrXo3DtVcA9CtejcO1VwD0K16Nw7VXAPQrXo3DtVcA9CtejcO1VwD0K16Nw7VXAPQrXo3DtVcA9CtejcO1VwD0K16Nw7VXAPQrXo3DtVcA9CtejcO1VwD0K16Nw7VXAXI/C9SjsVcBcj8L1KOxVwFyPwvUo7FXAXI/C9SjsVcCamZmZmelVwJqZmZmZ6VXAmpmZmZnpVcCamZmZmelVwJqZmZmZ6VXAmpmZmZnpVcCamZmZmelVwJqZmZmZ6VXAmpmZmZnpVcCamZmZmelVwJqZmZmZ6VXAmpmZmZnpVcCamZmZmelVwJqZmZmZ6VXAmpmZmZnpVcCamZmZmelVwJqZmZmZ6VXAmpmZmZnpVcCamZmZmelVwJqZmZmZ6VXAmpmZmZnpVcCamZmZmelVwJqZmZmZ6VXAmpmZmZnpVcCamZmZmelVwJqZmZmZ6VXAmpmZmZnpVcCamZmZmelVwJqZmZmZ6VXAmpmZmZnpVcCamZmZmelVwJqZmZmZ6VXAmpmZmZnpVcCamZmZmelVwJqZmZmZ6VXAmpmZmZnpVcCamZmZmelVwJqZmZmZ6VXAmpmZmZnpVcCamZmZmelVwJqZmZmZ6VXAmpmZmZnpVcCamZmZmelVwJqZmZmZ6VXAmpmZmZnpVcCamZmZmelVwJqZmZmZ6VXAmpmZmZnpVcCamZmZmelVwJqZmZmZ6VXAmpmZmZnpVcCamZmZmelVwJqZmZmZ6VXAmpmZmZnpVcCamZmZmelVwJqZmZmZ6VXAmpmZmZnpVcCamZmZmelVwD0K16Nw7VXAPQrXo3DtVcA9CtejcO1VwD0K16Nw7VXAPQrXo3DtVcA9CtejcO1VwD0K16Nw7VXAPQrXo3DtVcA9CtejcO1VwD0K16Nw7VXAPQrXo3DtVcA9CtejcO1VwD0K16Nw7VXAPQrXo3DtVcA9CtejcO1VwD0K16Nw7VXAPQrXo3DtVcA9CtejcO1VwD0K16Nw7VXAPQrXo3DtVcBSuB6F6/FVwFK4HoXr8VXAUrgehevxVcBSuB6F6/FVwFK4HoXr8VXAUrgehevxVcBSuB6F6/FVwGZmZmZm5lXAZmZmZmbmVcBmZmZmZuZVwGZmZmZm5lXAZmZmZmbmVcBmZmZmZuZVwGZmZmZm5lXAZmZmZmbmVcBmZmZmZuZVwGZmZmZm5lXAZmZmZmbmVcBmZmZmZuZVwGZmZmZm5lXAZmZmZmbmVcBmZmZmZuZVwGZmZmZm5lXAZmZmZmbmVcBmZmZmZuZVwGZmZmZm5lXAZmZmZmbmVcBmZmZmZuZVwGZmZmZm5lXAZmZmZmbmVcBmZmZmZuZVwGZmZmZm5lXAZmZmZmbmVcBmZmZmZuZVwGZmZmZm5lXAZmZmZmbmVcBmZmZmZuZVwGZmZmZm5lXAZmZmZmbmVcBmZmZmZuZVwGZmZmZm5lXAZmZmZmbmVcBmZmZmZuZVwGZmZmZm5lXAZmZmZmbmVcBmZmZmZuZVwGZmZmZm5lXAZmZmZmbmVcBmZmZmZuZVwGZmZmZm5lXAZmZmZmbmVcBmZmZmZuZVwGZmZmZm5lXAZmZmZmbmVcBmZmZmZuZVwGZmZmZm5lXAZmZmZmbmVcBcj8L1KOxVwFyPwvUo7FXAXI/C9SjsVcBcj8L1KOxVwFyPwvUo7FXAXI/C9SjsVcBcj8L1KOxVwFyPwvUo7FXAXI/C9SjsVcBcj8L1KOxVwFyPwvUo7FXAXI/C9SjsVcBcj8L1KOxVwFyPwvUo7FXAXI/C9SjsVcBcj8L1KOxVwFyPwvUo7FXAXI/C9SjsVcBcj8L1KOxVwFyPwvUo7FXAXI/C9SjsVcBcj8L1KOxVwFyPwvUo7FXAXI/C9SjsVcBcj8L1KOxVwFyPwvUo7FXAXI/C9SjsVcBcj8L1KOxVwFyPwvUo7FXAXI/C9SjsVcBcj8L1KOxVwFyPwvUo7FXAXI/C9SjsVcBcj8L1KOxVwFyPwvUo7FXAXI/C9SjsVcBcj8L1KOxVwEjhehSu51XASOF6FK7nVcBI4XoUrudVwEjhehSu51XASOF6FK7nVcBI4XoUrudVwEjhehSu51XASOF6FK7nVcBI4XoUrudVwEjhehSu51XASOF6FK7nVcBI4XoUrudVwEjhehSu51XASOF6FK7nVcBI4XoUrudVwEjhehSu51XASOF6FK7nVcBI4XoUrudVwEjhehSu51XASOF6FK7nVcBI4XoUrudVwEjhehSu51XASOF6FK7nVcBI4XoUrudVwEjhehSu51XASOF6FK7nVcBI4XoUrudVwEjhehSu51XASOF6FK7nVcBI4XoUrudVwEjhehSu51XASOF6FK7nVcBI4XoUrudVwEjhehSu51XASOF6FK7nVcBI4XoUrudVwEjhehSu51XA16NwPQrnVcDXo3A9CudVwNejcD0K51XA16NwPQrnVcDXo3A9CudVwNejcD0K51XACtejcD3qVcAK16NwPepVwArXo3A96lXACtejcD3qVcAK16NwPepVwArXo3A96lXACtejcD3qVcAK16NwPepVwArXo3A96lXACtejcD3qVcAK16NwPepVwArXo3A96lXACtejcD3qVcAK16NwPepVwArXo3A96lXACtejcD3qVcAK16NwPepVwArXo3A96lXACtejcD3qVcAK16NwPepVwArXo3A96lXACtejcD3qVcAK16NwPepVwArXo3A96lXACtejcD3qVcAK16NwPepVwArXo3A96lXACtejcD3qVcAK16NwPepVwArXo3A96lXACtejcD3qVcAK16NwPepVwArXo3A96lXACtejcD3qVcAK16NwPepVwArXo3A96lXACtejcD3qVcAK16NwPepVwArXo3A96lXACtejcD3qVcAK16NwPepVwArXo3A96lXACtejcD3qVcAK16NwPepVwArXo3A96lXACtejcD3qVcAK16NwPepVwArXo3A96lXACtejcD3qVcDsUbgehetVwOxRuB6F61XA4XoUrkfxVcDhehSuR/FVwOF6FK5H8VXA4XoUrkfxVcDhehSuR/FVwOF6FK5H8VXA4XoUrkfxVcDhehSuR/FVwD0K16Nw7VXAPQrXo3DtVcA9CtejcO1VwD0K16Nw7VXAPQrXo3DtVcA9CtejcO1VwD0K16Nw7VXAPQrXo3DtVcA9CtejcO1VwD0K16Nw7VXAPQrXo3DtVcA9CtejcO1VwD0K16Nw7VXAPQrXo3DtVcA9CtejcO1VwD0K16Nw7VXAPQrXo3DtVcA9CtejcO1VwD0K16Nw7VXAH4XrUbjuVcAfhetRuO5VwB+F61G47lXAH4XrUbjuVcAfhetRuO5VwB+F61G47lXAH4XrUbjuVcAUrkfheuRVwBSuR+F65FXAFK5H4XrkVcAUrkfheuRVwBSuR+F65FXAFK5H4XrkVcAUrkfheuRVwBSuR+F65FXAFK5H4XrkVcAUrkfheuRVwBSuR+F65FXAFK5H4XrkVcAUrkfheuRVwBSuR+F65FXAFK5H4XrkVcAUrkfheuRVwBSuR+F65FXAexSuR+HqVcB7FK5H4epVwHsUrkfh6lXAexSuR+HqVcB7FK5H4epVwHsUrkfh6lXAexSuR+HqVcB7FK5H4epVwHsUrkfh6lXAexSuR+HqVcB7FK5H4epVwHsUrkfh6lXAexSuR+HqVcB7FK5H4epVwHsUrkfh6lXAexSuR+HqVcB7FK5H4epVwHsUrkfh6lXAuB6F61HoVcC4HoXrUehVwLgehetR6FXAuB6F61HoVcC4HoXrUehVwLgehetR6FXAuB6F61HoVcC4HoXrUehVwLgehetR6FXAuB6F61HoVcC4HoXrUehVwLgehetR6FXAuB6F61HoVcC4HoXrUehVwLgehetR6FXAuB6F61HoVcC4HoXrUehVwLgehetR6FXAuB6F61HoVcC4HoXrUehVwLgehetR6FXAuB6F61HoVcC4HoXrUehVwLgehetR6FXAuB6F61HoVcC4HoXrUehVwLgehetR6FXAuB6F61HoVcC4HoXrUehVwLgehetR6FXAuB6F61HoVcC4HoXrUehVwLgehetR6FXAuB6F61HoVcC4HoXrUehVwLgehetR6FXAuB6F61HoVcC4HoXrUehVwLgehetR6FXAuB6F61HoVcC4HoXrUehVwLgehetR6FXAuB6F61HoVcC4HoXrUehVwLgehetR6FXAuB6F61HoVcC4HoXrUehVwLgehetR6FXAuB6F61HoVcC4HoXrUehVwLgehetR6FXAuB6F61HoVcC4HoXrUehVwLgehetR6FXAuB6F61HoVcC4HoXrUehVwLgehetR6FXAuB6F61HoVcC4HoXrUehVwLgehetR6FXAuB6F61HoVcC4HoXrUehVwLgehetR6FXAuB6F61HoVcC4HoXrUehVwLgehetR6FXAuB6F61HoVcC4HoXrUehVwLgehetR6FXAuB6F61HoVcC4HoXrUehVwLgehetR6FXAuB6F61HoVcC4HoXrUehVwLgehetR6FXAuB6F61HoVcC4HoXrUehVwLgehetR6FXAuB6F61HoVcC4HoXrUehVwLgehetR6FXAuB6F61HoVcC4HoXrUehVwLgehetR6FXAuB6F61HoVcDsUbgehetVwOxRuB6F61XA7FG4HoXrVcDsUbgehetVwOxRuB6F61XA7FG4HoXrVcDsUbgehetVwOxRuB6F61XA7FG4HoXrVcBI4XoUrudVwEjhehSu51XASOF6FK7nVcBI4XoUrudVwEjhehSu51XASOF6FK7nVcBI4XoUrudVwEjhehSu51XASOF6FK7nVcBI4XoUrudVwEjhehSu51XASOF6FK7nVcBI4XoUrudVwEjhehSu51XASOF6FK7nVcBI4XoUrudVwEjhehSu51XASOF6FK7nVcBI4XoUrudVwEjhehSu51XASOF6FK7nVcBI4XoUrudVwEjhehSu51XASOF6FK7nVcBI4XoUrudVwEjhehSu51XASOF6FK7nVcBI4XoUrudVwEjhehSu51XASOF6FK7nVcBI4XoUrudVwEjhehSu51XASOF6FK7nVcBI4XoUrudVwEjhehSu51XASOF6FK7nVcBI4XoUrudVwEjhehSu51XASOF6FK7nVcBI4XoUrudVwEjhehSu51XASOF6FK7nVcBI4XoUrudVwEjhehSu51XASOF6FK7nVcBI4XoUrudVwEjhehSu51XASOF6FK7nVcBI4XoUrudVwEjhehSu51XASOF6FK7nVcBI4XoUrudVwEjhehSu51XASOF6FK7nVcBI4XoUrudVwEjhehSu51XASOF6FK7nVcBI4XoUrudVwEjhehSu51XASOF6FK7nVcBI4XoUrudVwEjhehSu51XASOF6FK7nVcBI4XoUrudVwEjhehSu51XASOF6FK7nVcBI4XoUrudVwEjhehSu51XASOF6FK7nVcBI4XoUrudVwEjhehSu51XASOF6FK7nVcBI4XoUrudVwEjhehSu51XASOF6FK7nVcBI4XoUrudVwHsUrkfh6lXAexSuR+HqVcB7FK5H4epVwHsUrkfh6lXAexSuR+HqVcB7FK5H4epVwHsUrkfh6lXAexSuR+HqVcB7FK5H4epVwHsUrkfh6lXAexSuR+HqVcB7FK5H4epVwHsUrkfh6lXAexSuR+HqVcB7FK5H4epVwHsUrkfh6lXAexSuR+HqVcB7FK5H4epVwHsUrkfh6lXAexSuR+HqVcB7FK5H4epVwHsUrkfh6lXAexSuR+HqVcB7FK5H4epVwHsUrkfh6lXAexSuR+HqVcApXI/C9ehVwClcj8L16FXAKVyPwvXoVcApXI/C9ehVwClcj8L16FXAKVyPwvXoVcApXI/C9ehVwClcj8L16FXAKVyPwvXoVcApXI/C9ehVwClcj8L16FXAKVyPwvXoVcApXI/C9ehVwClcj8L16FXAKVyPwvXoVcApXI/C9ehVwClcj8L16FXAKVyPwvXoVcApXI/C9ehVwClcj8L16FXAKVyPwvXoVcApXI/C9ehVwClcj8L16FXAKVyPwvXoVcApXI/C9ehVwClcj8L16FXAKVyPwvXoVcApXI/C9ehVwClcj8L16FXAKVyPwvXoVcApXI/C9ehVwClcj8L16FXAKVyPwvXoVcApXI/C9ehVwClcj8L16FXAPQrXo3DtVcA9CtejcO1VwD0K16Nw7VXAPQrXo3DtVcA9CtejcO1VwD0K16Nw7VXAPQrXo3DtVcA9CtejcO1VwD0K16Nw7VXAPQrXo3DtVcA9CtejcO1VwD0K16Nw7VXAPQrXo3DtVcA9CtejcO1VwD0K16Nw7VXAPQrXo3DtVcA9CtejcO1VwD0K16Nw7VXAPQrXo3DtVcA9CtejcO1VwD0K16Nw7VXAPQrXo3DtVcA9CtejcO1VwD0K16Nw7VXAPQrXo3DtVcC4HoXrUehVwLgehetR6FXAuB6F61HoVcC4HoXrUehVwLgehetR6FXAuB6F61HoVcC4HoXrUehVwLgehetR6FXAuB6F61HoVcC4HoXrUehVwLgehetR6FXAuB6F61HoVcC4HoXrUehVwLgehetR6FXAuB6F61HoVcC4HoXrUehVwLgehetR6FXAuB6F61HoVcC4HoXrUehVwLgehetR6FXAuB6F61HoVcC4HoXrUehVwLgehetR6FXAuB6F61HoVcC4HoXrUehVwLgehetR6FXAuB6F61HoVcC4HoXrUehVwLgehetR6FXAuB6F61HoVcC4HoXrUehVwLgehetR6FXAuB6F61HoVcC4HoXrUehVwLgehetR6FXAuB6F61HoVcC4HoXrUehVwLgehetR6FXAuB6F61HoVcC4HoXrUehVwLgehetR6FXAuB6F61HoVcC4HoXrUehVwLgehetR6FXAuB6F61HoVcC4HoXrUehVwLgehetR6FXAuB6F61HoVcDsUbgehetVwOxRuB6F61XA7FG4HoXrVcDsUbgehetVwOxRuB6F61XA7FG4HoXrVcDsUbgehetVwOxRuB6F61XA7FG4HoXrVcDsUbgehetVwOxRuB6F61XAmpmZmZnpVcCamZmZmelVwJqZmZmZ6VXAmpmZmZnpVcCamZmZmelVwJqZmZmZ6VXAmpmZmZnpVcCamZmZmelVwJqZmZmZ6VXAmpmZmZnpVcCamZmZmelVwJqZmZmZ6VXAmpmZmZnpVcCamZmZmelVwMP1KFyP8lXAw/UoXI/yVcDD9Shcj/JVwMP1KFyP8lXAw/UoXI/yVcDD9Shcj/JVwMP1KFyP8lXAw/UoXI/yVcDD9Shcj/JVwMP1KFyP8lXAexSuR+HqVcB7FK5H4epVwHsUrkfh6lXAexSuR+HqVcB7FK5H4epVwHsUrkfh6lXAexSuR+HqVcB7FK5H4epVwHsUrkfh6lXAexSuR+HqVcB7FK5H4epVwHsUrkfh6lXAexSuR+HqVcB7FK5H4epVwHsUrkfh6lXAexSuR+HqVcB7FK5H4epVwHsUrkfh6lXAexSuR+HqVcB7FK5H4epVwHsUrkfh6lXAexSuR+HqVcB7FK5H4epVwHsUrkfh6lXAXI/C9SjsVcBcj8L1KOxVwFyPwvUo7FXAXI/C9SjsVcBcj8L1KOxVwFyPwvUo7FXAXI/C9SjsVcBcj8L1KOxVwFyPwvUo7FXAXI/C9SjsVcBcj8L1KOxVwFyPwvUo7FXAXI/C9SjsVcBcj8L1KOxVwFyPwvUo7FXAXI/C9SjsVcAzMzMzM/NVwDMzMzMz81XAMzMzMzPzVcAzMzMzM/NVwEjhehSu51XASOF6FK7nVcBI4XoUrudVwEjhehSu51XASOF6FK7nVcBI4XoUrudVwEjhehSu51XASOF6FK7nVcBI4XoUrudVwEjhehSu51XASOF6FK7nVcBI4XoUrudVwEjhehSu51XASOF6FK7nVcBI4XoUrudVwEjhehSu51XASOF6FK7nVcBI4XoUrudVwEjhehSu51XASOF6FK7nVcBI4XoUrudVwEjhehSu51XASOF6FK7nVcBI4XoUrudVwEjhehSu51XASOF6FK7nVcBI4XoUrudVwFyPwvUo7FXAXI/C9SjsVcBcj8L1KOxVwFyPwvUo7FXAXI/C9SjsVcBcj8L1KOxVwFyPwvUo7FXAXI/C9SjsVcBcj8L1KOxVwFyPwvUo7FXAXI/C9SjsVcBcj8L1KOxVwFyPwvUo7FXAXI/C9SjsVcBcj8L1KOxVwFyPwvUo7FXAXI/C9SjsVcBcj8L1KOxVwFyPwvUo7FXAXI/C9SjsVcBcj8L1KOxVwFyPwvUo7FXAXI/C9SjsVcBcj8L1KOxVwFyPwvUo7FXAXI/C9SjsVcBcj8L1KOxVwFyPwvUo7FXAXI/C9SjsVcBcj8L1KOxVwFyPwvUo7FXAXI/C9SjsVcBcj8L1KOxVwFyPwvUo7FXAXI/C9SjsVcBcj8L1KOxVwFyPwvUo7FXAXI/C9SjsVcBcj8L1KOxVwFyPwvUo7FXAXI/C9SjsVcBcj8L1KOxVwFyPwvUo7FXAXI/C9SjsVcBcj8L1KOxVwFyPwvUo7FXAXI/C9SjsVcBcj8L1KOxVwFyPwvUo7FXAXI/C9SjsVcBcj8L1KOxVwFyPwvUo7FXAXI/C9SjsVcBcj8L1KOxVwFyPwvUo7FXAXI/C9SjsVcBcj8L1KOxVwFyPwvUo7FXAXI/C9SjsVcBcj8L1KOxVwFyPwvUo7FXAXI/C9SjsVcBcj8L1KOxVwFyPwvUo7FXAXI/C9SjsVcBcj8L1KOxVwFyPwvUo7FXAXI/C9SjsVcBcj8L1KOxVwFyPwvUo7FXAXI/C9SjsVcBcj8L1KOxVwFyPwvUo7FXAXI/C9SjsVcBcj8L1KOxVwFyPwvUo7FXAXI/C9SjsVcDsUbgehetVwOxRuB6F61XA7FG4HoXrVcDsUbgehetVwOxRuB6F61XA7FG4HoXrVcDsUbgehetVwOxRuB6F61XA7FG4HoXrVcDsUbgehetVwOxRuB6F61XA7FG4HoXrVcDsUbgehetVwOxRuB6F61XA7FG4HoXrVcAfhetRuO5VwB+F61G47lXAH4XrUbjuVcAfhetRuO5VwB+F61G47lXAH4XrUbjuVcAfhetRuO5VwB+F61G47lXAH4XrUbjuVcAfhetRuO5VwB+F61G47lXAH4XrUbjuVcAfhetRuO5VwB+F61G47lXAH4XrUbjuVcAfhetRuO5VwB+F61G47lXAH4XrUbjuVcAfhetRuO5VwHE9Ctej8FXAPQrXo3DtVcA9CtejcO1VwD0K16Nw7VXAPQrXo3DtVcA9CtejcO1VwD0K16Nw7VXAPQrXo3DtVcA9CtejcO1VwD0K16Nw7VXAPQrXo3DtVcA9CtejcO1VwD0K16Nw7VXAPQrXo3DtVcA9CtejcO1VwD0K16Nw7VXAPQrXo3DtVcApXI/C9ehVwClcj8L16FXAKVyPwvXoVcApXI/C9ehVwClcj8L16FXAKVyPwvXoVcApXI/C9ehVwClcj8L16FXAKVyPwvXoVcApXI/C9ehVwClcj8L16FXAj8L1KFzvVcCPwvUoXO9VwI/C9Shc71XAj8L1KFzvVcCPwvUoXO9VwI/C9Shc71XAj8L1KFzvVcAzMzMzM/NVwDMzMzMz81XAMzMzMzPzVcAzMzMzM/NVwNejcD0K51XA16NwPQrnVcDXo3A9CudVwNejcD0K51XA16NwPQrnVcDXo3A9CudVwNejcD0K51XA16NwPQrnVcDXo3A9CudVwNejcD0K51XA16NwPQrnVcDXo3A9CudVwNejcD0K51XA16NwPQrnVcDXo3A9CudVwNejcD0K51XA16NwPQrnVcDXo3A9CudVwNejcD0K51XA16NwPQrnVcDXo3A9CudVwNejcD0K51XA16NwPQrnVcDXo3A9CudVwNejcD0K51XA16NwPQrnVcDXo3A9CudVwNejcD0K51XA16NwPQrnVcDXo3A9CudVwClcj8L16FXAXI/C9SjsVcBcj8L1KOxVwFyPwvUo7FXAXI/C9SjsVcBcj8L1KOxVwFyPwvUo7FXAXI/C9SjsVcBcj8L1KOxVwFyPwvUo7FXAXI/C9SjsVcBcj8L1KOxVwHsUrkfh6lXAexSuR+HqVcB7FK5H4epVwHsUrkfh6lXAexSuR+HqVcB7FK5H4epVwHsUrkfh6lXAexSuR+HqVcB7FK5H4epVwHsUrkfh6lXAexSuR+HqVcB7FK5H4epVwHsUrkfh6lXAexSuR+HqVcB7FK5H4epVwHsUrkfh6lXAexSuR+HqVcB7FK5H4epVwHsUrkfh6lXAexSuR+HqVcB7FK5H4epVwHsUrkfh6lXAexSuR+HqVcAK16NwPepVwArXo3A96lXACtejcD3qVcAK16NwPepVwArXo3A96lXACtejcD3qVcAK16NwPepVwArXo3A96lXACtejcD3qVcAK16NwPepVwArXo3A96lXACtejcD3qVcAK16NwPepVwArXo3A96lXACtejcD3qVcAK16NwPepVwArXo3A96lXACtejcD3qVcAK16NwPepVwArXo3A96lXACtejcD3qVcAK16NwPepVwArXo3A96lXACtejcD3qVcAK16NwPepVwArXo3A96lXACtejcD3qVcAK16NwPepVwArXo3A96lXACtejcD3qVcAK16NwPepVwArXo3A96lXACtejcD3qVcAK16NwPepVwArXo3A96lXAFK5H4XrkVcAUrkfheuRVwBSuR+F65FXAFK5H4XrkVcAUrkfheuRVwBSuR+F65FXAzczMzMzsVcDNzMzMzOxVwM3MzMzM7FXAzczMzMzsVcDNzMzMzOxVwM3MzMzM7FXAzczMzMzsVcDNzMzMzOxVwM3MzMzM7FXAzczMzMzsVcDNzMzMzOxVwK5H4XoU7lXArkfhehTuVcCuR+F6FO5VwK5H4XoU7lXArkfhehTuVcCuR+F6FO5VwK5H4XoU7lXArkfhehTuVcCuR+F6FO5VwK5H4XoU7lXArkfhehTuVcCuR+F6FO5VwK5H4XoU7lXArkfhehTuVcCuR+F6FO5VwK5H4XoU7lXArkfhehTuVcCuR+F6FO5VwK5H4XoU7lXArkfhehTuVcCuR+F6FO5VwK5H4XoU7lXArkfhehTuVcCuR+F6FO5VwK5H4XoU7lXArkfhehTuVcCuR+F6FO5VwK5H4XoU7lXArkfhehTuVcCuR+F6FO5VwK5H4XoU7lXArkfhehTuVcCuR+F6FO5VwK5H4XoU7lXArkfhehTuVcCuR+F6FO5VwK5H4XoU7lXArkfhehTuVcCuR+F6FO5VwK5H4XoU7lXAj8L1KFzvVcCPwvUoXO9VwI/C9Shc71XAXI/C9SjsVcBcj8L1KOxVwFyPwvUo7FXAXI/C9SjsVcBcj8L1KOxVwFyPwvUo7FXAXI/C9SjsVcBcj8L1KOxVwFyPwvUo7FXA7FG4HoXrVcDsUbgehetVwOxRuB6F61XA7FG4HoXrVcDsUbgehetVwOxRuB6F61XA7FG4HoXrVcDsUbgehetVwOxRuB6F61XA7FG4HoXrVcDsUbgehetVwOxRuB6F61XA7FG4HoXrVcDsUbgehetVwOxRuB6F61XA7FG4HoXrVcDsUbgehetVwOxRuB6F61XA7FG4HoXrVcDsUbgehetVwOxRuB6F61XA7FG4HoXrVcDsUbgehetVwOxRuB6F61XA7FG4HoXrVcDsUbgehetVwOxRuB6F61XArkfhehTuVcCuR+F6FO5VwK5H4XoU7lXArkfhehTuVcCuR+F6FO5VwK5H4XoU7lXArkfhehTuVcCuR+F6FO5VwK5H4XoU7lXArkfhehTuVcCuR+F6FO5VwK5H4XoU7lXArkfhehTuVcCuR+F6FO5VwK5H4XoU7lXArkfhehTuVcCuR+F6FO5VwK5H4XoU7lXArkfhehTuVcCuR+F6FO5VwK5H4XoU7lXArkfhehTuVcCuR+F6FO5VwK5H4XoU7lXArkfhehTuVcCuR+F6FO5VwK5H4XoU7lXArkfhehTuVcDD9Shcj+JVwGZmZmZm5lXAZmZmZmbmVcBmZmZmZuZVwGZmZmZm5lXAZmZmZmbmVcBmZmZmZuZVwGZmZmZm5lXAZmZmZmbmVcBmZmZmZuZVwGZmZmZm5lXAZmZmZmbmVcBmZmZmZuZVwAAAAAAA8FXAAAAAAADwVcDXo3A9CudVwNejcD0K51XA16NwPQrnVcDXo3A9CudVwNejcD0K51XA16NwPQrnVcDXo3A9CudVwNejcD0K51XA16NwPQrnVcDXo3A9CudVwNejcD0K51XA16NwPQrnVcDXo3A9CudVwNejcD0K51XA16NwPQrnVcDXo3A9CudVwNejcD0K51XA16NwPQrnVcDXo3A9CudVwNejcD0K51XA16NwPQrnVcDXo3A9CudVwNejcD0K51XA16NwPQrnVcDXo3A9CudVwNejcD0K51XASOF6FK7nVcBI4XoUrudVwEjhehSu51XASOF6FK7nVcBI4XoUrudVwAAAAAAA8FXAAAAAAADwVcAAAAAAAPBVwAAAAAAA8FXAAAAAAADwVcAAAAAAAPBVwAAAAAAA8FXAAAAAAADwVcAAAAAAAPBVwAAAAAAA8FXAAAAAAADwVcDhehSuR/FVwOF6FK5H8VXA4XoUrkfxVcDhehSuR/FVwOF6FK5H8VXA4XoUrkfxVcDhehSuR/FVwOF6FK5H8VXA4XoUrkfxVcDhehSuR/FVwOF6FK5H8VXA4XoUrkfxVcDhehSuR/FVwOF6FK5H8VXAcT0K16PwVcBxPQrXo/BVwHE9Ctej8FXAcT0K16PwVcBxPQrXo/BVwHE9Ctej8FXAcT0K16PwVcBxPQrXo/BVwHE9Ctej8FXAcT0K16PwVcCuR+F6FO5VwB+F61G47lXAH4XrUbjuVcAfhetRuO5VwB+F61G47lXAH4XrUbjuVcAfhetRuO5VwB+F61G47lXAH4XrUbjuVcAfhetRuO5VwB+F61G47lXAH4XrUbjuVcAfhetRuO5VwK5H4XoU7lXArkfhehTuVcAfhetRuO5VwClcj8L16FXAKVyPwvXoVcApXI/C9ehVwClcj8L16FXAKVyPwvXoVcApXI/C9ehVwClcj8L16FXAKVyPwvXoVcApXI/C9ehVwClcj8L16FXAKVyPwvXoVcApXI/C9ehVwClcj8L16FXAKVyPwvXoVcApXI/C9ehVwClcj8L16FXAKVyPwvXoVcApXI/C9ehVwClcj8L16FXAKVyPwvXoVcApXI/C9ehVwClcj8L16FXAKVyPwvXoVcApXI/C9ehVwClcj8L16FXAKVyPwvXoVcApXI/C9ehVwClcj8L16FXAKVyPwvXoVcApXI/C9ehVwClcj8L16FXAKVyPwvXoVcApXI/C9ehVwOxRuB6F61XA7FG4HoXrVcDsUbgehetVwOxRuB6F61XA7FG4HoXrVcDsUbgehetVwOxRuB6F61XA7FG4HoXrVcDsUbgehetVwOxRuB6F61XA7FG4HoXrVcDsUbgehetVwOxRuB6F61XA7FG4HoXrVcDsUbgehetVwKRwPQrX81XApHA9CtfzVcCkcD0K1/NVwAAAAAAA8FXAAAAAAADwVcAAAAAAAPBVwAAAAAAA8FXAAAAAAADwVcAAAAAAAPBVwAAAAAAA8FXAmpmZmZnpVcCamZmZmelVwJqZmZmZ6VXAmpmZmZnpVcCamZmZmelVwJqZmZmZ6VXAmpmZmZnpVcCamZmZmelVwJqZmZmZ6VXAmpmZmZnpVcCamZmZmelVwJqZmZmZ6VXAmpmZmZnpVcCamZmZmelVwJqZmZmZ6VXAmpmZmZnpVcCamZmZmelVwJqZmZmZ6VXAmpmZmZnpVcCamZmZmelVwJqZmZmZ6VXAmpmZmZnpVcCamZmZmelVwJqZmZmZ6VXAmpmZmZnpVcCamZmZmelVwJqZmZmZ6VXAmpmZmZnpVcBSuB6F6/FVwFK4HoXr8VXA16NwPQrnVcDXo3A9CudVwNejcD0K51XA16NwPQrnVcDXo3A9CudVwNejcD0K51XA16NwPQrnVcDXo3A9CudVwNejcD0K51XA16NwPQrnVcDXo3A9CudVwNejcD0K51XA16NwPQrnVcDXo3A9CudVwB+F61G47lXAH4XrUbjuVcAfhetRuO5VwB+F61G47lXAH4XrUbjuVcAfhetRuO5VwB+F61G47lXAH4XrUbjuVcBSuB6F6/FVwFK4HoXr8VXAUrgehevxVcBSuB6F6/FVwFyPwvUo7FXAPQrXo3DtVcA9CtejcO1VwD0K16Nw7VXACtejcD3qVcAK16NwPepVwArXo3A96lXACtejcD3qVcAK16NwPepVwArXo3A96lXACtejcD3qVcAK16NwPepVwArXo3A96lXACtejcD3qVcAK16NwPepVwArXo3A96lXACtejcD3qVcAK16NwPepVwArXo3A96lXACtejcD3qVcAK16NwPepVwArXo3A96lXACtejcD3qVcAK16NwPepVwArXo3A96lXACtejcD3qVcAK16NwPepVwLgehetR6FXAuB6F61HoVcC4HoXrUehVwLgehetR6FXAuB6F61HoVcC4HoXrUehVwLgehetR6FXAuB6F61HoVcC4HoXrUehVwLgehetR6FXAuB6F61HoVcC4HoXrUehVwLgehetR6FXAuB6F61HoVcC4HoXrUehVwLgehetR6FXAuB6F61HoVcC4HoXrUehVwLgehetR6FXAuB6F61HoVcC4HoXrUehVwLgehetR6FXAuB6F61HoVcC4HoXrUehVwLgehetR6FXAuB6F61HoVcC4HoXrUehVwLgehetR6FXAuB6F61HoVcC4HoXrUehVwLgehetR6FXAuB6F61HoVcC4HoXrUehVwLgehetR6FXAuB6F61HoVcC4HoXrUehVwLgehetR6FXAuB6F61HoVcC4HoXrUehVwLgehetR6FXAuB6F61HoVcC4HoXrUehVwLgehetR6FXAuB6F61HoVcC4HoXrUehVwLgehetR6FXAUrgehevxVcDNzMzMzOxVwM3MzMzM7FXAzczMzMzsVcDNzMzMzOxVwM3MzMzM7FXAzczMzMzsVcDNzMzMzOxVwM3MzMzM7FXAzczMzMzsVcDNzMzMzOxVwM3MzMzM7FXAXI/C9SjsVcBcj8L1KOxVwFyPwvUo7FXAXI/C9SjsVcBcj8L1KOxVwFyPwvUo7FXAXI/C9SjsVcBcj8L1KOxVwFyPwvUo7FXAXI/C9SjsVcBcj8L1KOxVwFyPwvUo7FXAXI/C9SjsVcBcj8L1KOxVwFyPwvUo7FXAXI/C9SjsVcBcj8L1KOxVwFyPwvUo7FXAXI/C9SjsVcBcj8L1KOxVwFyPwvUo7FXAXI/C9SjsVcBcj8L1KOxVwOF6FK5H8VXA4XoUrkfxVcBI4XoUrudVwEjhehSu51XASOF6FK7nVcBI4XoUrudVwEjhehSu51XASOF6FK7nVcBI4XoUrudVwEjhehSu51XASOF6FK7nVcBI4XoUrudVwEjhehSu51XASOF6FK7nVcBI4XoUrudVwEjhehSu51XASOF6FK7nVcBI4XoUrudVwEjhehSu51XASOF6FK7nVcBI4XoUrudVwEjhehSu51XASOF6FK7nVcBI4XoUrudVwEjhehSu51XASOF6FK7nVcBI4XoUrudVwEjhehSu51XASOF6FK7nVcBI4XoUrudVwEjhehSu51XASOF6FK7nVcBI4XoUrudVwEjhehSu51XASOF6FK7nVcBI4XoUrudVwEjhehSu51XASOF6FK7nVcBI4XoUrudVwEjhehSu51XAj8L1KFzvVcCPwvUoXO9VwI/C9Shc71XAj8L1KFzvVcCPwvUoXO9VwI/C9Shc71XAj8L1KFzvVcCuR+F6FO5VwK5H4XoU7lXArkfhehTuVcCuR+F6FO5VwK5H4XoU7lXArkfhehTuVcCuR+F6FO5VwK5H4XoU7lXArkfhehTuVcCuR+F6FO5VwArXo3A96lXACtejcD3qVcAK16NwPepVwArXo3A96lXACtejcD3qVcAK16NwPepVwArXo3A96lXACtejcD3qVcAK16NwPepVwArXo3A96lXACtejcD3qVcAK16NwPepVwArXo3A96lXACtejcD3qVcApXI/C9ehVwClcj8L16FXAAAAAAADwVcAAAAAAAPBVwAAAAAAA8FXAUrgehevxVcBSuB6F6/FVwFK4HoXr8VXA4XoUrkfxVcDhehSuR/FVwOF6FK5H8VXA4XoUrkfxVcDhehSuR/FVwOF6FK5H8VXA4XoUrkfxVcDhehSuR/FVwM3MzMzM7FXAzczMzMzsVcDNzMzMzOxVwHsUrkfh6lXAexSuR+HqVcB7FK5H4epVwHsUrkfh6lXAexSuR+HqVcB7FK5H4epVwHsUrkfh6lXAj8L1KFzvVcCPwvUoXO9VwI/C9Shc71XA7FG4HoXrVcDsUbgehetVwOxRuB6F61XA7FG4HoXrVcDsUbgehetVwOxRuB6F61XA7FG4HoXrVcDsUbgehetVwOxRuB6F61XA7FG4HoXrVcDsUbgehetVwOxRuB6F61XA7FG4HoXrVcDsUbgehetVwOxRuB6F61XA7FG4HoXrVcDsUbgehetVwOxRuB6F61XA7FG4HoXrVcDsUbgehetVwOxRuB6F61XA7FG4HoXrVcDsUbgehetVwOxRuB6F61XA7FG4HoXrVcDsUbgehetVwOxRuB6F61XA7FG4HoXrVcDsUbgehetVwOxRuB6F61XA7FG4HoXrVcDsUbgehetVwOxRuB6F61XA7FG4HoXrVcDsUbgehetVwOxRuB6F61XA7FG4HoXrVcDsUbgehetVwOxRuB6F61XA7FG4HoXrVcBcj8L1KOxVwFyPwvUo7FXAXI/C9SjsVcBcj8L1KOxVwFyPwvUo7FXAXI/C9SjsVcBcj8L1KOxVwFyPwvUo7FXAXI/C9SjsVcBcj8L1KOxVwFyPwvUo7FXAXI/C9SjsVcBcj8L1KOxVwBSuR+F69FXAFK5H4Xr0VcAUrkfhevRVwD0K16Nw7VXAH4XrUbjuVcAfhetRuO5VwB+F61G47lXAH4XrUbjuVcDXo3A9CudVwNejcD0K51XA16NwPQrnVcA9CtejcO1VwD0K16Nw7VXAUrgehevxVcBSuB6F6/FVwOF6FK5H8VXA4XoUrkfxVcDhehSuR/FVwOF6FK5H8VXA4XoUrkfxVcDhehSuR/FVwOF6FK5H8VXA4XoUrkfxVcDhehSuR/FVwFyPwvUo7FXAXI/C9SjsVcBcj8L1KOxVwFyPwvUo7FXAXI/C9SjsVcBcj8L1KOxVwB+F61G47lXAH4XrUbjuVcAfhetRuO5VwB+F61G47lXAH4XrUbjuVcAfhetRuO5VwIXrUbge9VXAhetRuB71VcCamZmZmelVwJqZmZmZ6VXAmpmZmZnpVcCamZmZmelVwJqZmZmZ6VXAmpmZmZnpVcCamZmZmelVwJqZmZmZ6VXAmpmZmZnpVcCamZmZmelVwJqZmZmZ6VXAmpmZmZnpVcCamZmZmelVwJqZmZmZ6VXAmpmZmZnpVcCamZmZmelVwJqZmZmZ6VXAmpmZmZnpVcCamZmZmelVwJqZmZmZ6VXAXI/C9SjsVcBcj8L1KOxVwFyPwvUo7FXAXI/C9SjsVcBcj8L1KOxVwFyPwvUo7FXAXI/C9SjsVcCF61G4HuVVwIXrUbge5VXAhetRuB7lVcCF61G4HuVVwIXrUbge5VXAhetRuB7lVcCF61G4HuVVwIXrUbge5VXAhetRuB7lVcCF61G4HuVVwIXrUbge5VXAhetRuB7lVcCF61G4HuVVwIXrUbge5VXAhetRuB7lVcD2KFyPwuVVwPYoXI/C5VXA9ihcj8LlVcD2KFyPwuVVwPYoXI/C5VXA9ihcj8LlVcAK16NwPepVwArXo3A96lXACtejcD3qVcAK16NwPepVwArXo3A96lXACtejcD3qVcAK16NwPepVwArXo3A96lXACtejcD3qVcAK16NwPepVwArXo3A96lXACtejcD3qVcAK16NwPepVwArXo3A96lXACtejcD3qVcAK16NwPepVwArXo3A96lXAMzMzMzPzVcAzMzMzM/NVwLgehetR6FXAuB6F61HoVcC4HoXrUehVwLgehetR6FXAuB6F61HoVcC4HoXrUehVwHE9Ctej8FXAcT0K16PwVcBmZmZmZuZVwGZmZmZm5lXAZmZmZmbmVcBmZmZmZuZVwGZmZmZm5lXAZmZmZmbmVcBmZmZmZuZVwGZmZmZm5lXAZmZmZmbmVcCamZmZmelVwJqZmZmZ6VXAmpmZmZnpVcCamZmZmelVwJqZmZmZ6VXAmpmZmZnpVcCamZmZmelVwJqZmZmZ6VXAmpmZmZnpVcCamZmZmelVwJqZmZmZ6VXAmpmZmZnpVcCamZmZmelVwJqZmZmZ6VXAmpmZmZnpVcCamZmZmelVwJqZmZmZ6VXAmpmZmZnpVcCamZmZmelVwJqZmZmZ6VXAmpmZmZnpVcCamZmZmelVwK5H4XoU7lXArkfhehTuVcCuR+F6FO5VwK5H4XoU7lXArkfhehTuVcCuR+F6FO5VwK5H4XoU7lXArkfhehTuVcB7FK5H4epVwHsUrkfh6lXAexSuR+HqVcB7FK5H4epVwHsUrkfh6lXAexSuR+HqVcB7FK5H4epVwHsUrkfh6lXAexSuR+HqVcB7FK5H4epVwHsUrkfh6lXAexSuR+HqVcB7FK5H4epVwI/C9Shc71XAj8L1KFzvVcDsUbgehetVwOxRuB6F61XA7FG4HoXrVcDsUbgehetVwD0K16Nw7VXAPQrXo3DtVcA9CtejcO1VwD0K16Nw7VXAPQrXo3DtVcA9CtejcO1VwD0K16Nw7VXAzczMzMzsVcDNzMzMzOxVwM3MzMzM7FXAzczMzMzsVcDNzMzMzOxVwM3MzMzM7FXAzczMzMzsVcDNzMzMzOxVwArXo3A96lXACtejcD3qVcAzMzMzM/NVwLgehetR6FXAuB6F61HoVcC4HoXrUehVwLgehetR6FXAzczMzMzsVcDNzMzMzOxVwM3MzMzM7FXAuB6F61HoVcAUrkfhevRVwBSuR+F69FXAFK5H4Xr0VcAUrkfhevRVwEjhehSu51XASOF6FK7nVcBI4XoUrudVwEjhehSu51XASOF6FK7nVcBI4XoUrudVwEjhehSu51XASOF6FK7nVcBI4XoUrudVwEjhehSu51XASOF6FK7nVcBI4XoUrudVwEjhehSu51XAuB6F61HoVcC4HoXrUehVwLgehetR6FXAuB6F61HoVcC4HoXrUehVwLgehetR6FXAuB6F61HoVcC4HoXrUehVwLgehetR6FXAuB6F61HoVcC4HoXrUehVwLgehetR6FXAuB6F61HoVcC4HoXrUehVwLgehetR6FXAuB6F61HoVcC4HoXrUehVwLgehetR6FXAuB6F61HoVcC4HoXrUehVwLgehetR6FXAuB6F61HoVcC4HoXrUehVwLgehetR6FXAuB6F61HoVcC4HoXrUehVwLgehetR6FXAuB6F61HoVcC4HoXrUehVwLgehetR6FXAuB6F61HoVcC4HoXrUehVwLgehetR6FXAuB6F61HoVcC4HoXrUehVwLgehetR6FXAuB6F61HoVcC4HoXrUehVwLgehetR6FXAuB6F61HoVcC4HoXrUehVwLgehetR6FXAuB6F61HoVcC4HoXrUehVwLgehetR6FXAuB6F61HoVcC4HoXrUehVwLgehetR6FXAuB6F61HoVcC4HoXrUehVwLgehetR6FXAuB6F61HoVcC4HoXrUehVwLgehetR6FXAuB6F61HoVcC4HoXrUehVwLgehetR6FXAuB6F61HoVcC4HoXrUehVwLgehetR6FXAuB6F61HoVcC4HoXrUehVwLgehetR6FXAuB6F61HoVcC4HoXrUehVwFK4HoXr8VXArkfhehTuVcCuR+F6FO5VwK5H4XoU7lXArkfhehTuVcCuR+F6FO5VwK5H4XoU7lXArkfhehTuVcCuR+F6FO5VwK5H4XoU7lXArkfhehTuVcCuR+F6FO5VwK5H4XoU7lXArkfhehTuVcCuR+F6FO5VwK5H4XoU7lXArkfhehTuVcCuR+F6FO5VwI/C9Shc71XArkfhehTuVcCuR+F6FO5VwK5H4XoU7lXArkfhehTuVcCuR+F6FO5VwK5H4XoU7lXArkfhehTuVcCuR+F6FO5VwK5H4XoU7lXArkfhehTuVcCuR+F6FO5VwK5H4XoU7lXAKVyPwvXoVcApXI/C9ehVwClcj8L16FXAw/UoXI/yVcDD9Shcj/JVwArXo3A96lXACtejcD3qVcAK16NwPepVwHsUrkfh6lXAexSuR+HqVcA9CtejcO1VwD0K16Nw7VXAPQrXo3DtVcA9CtejcO1VwD0K16Nw7VXAPQrXo3DtVcA9CtejcO1VwD0K16Nw7VXAPQrXo3DtVcA9CtejcO1VwD0K16Nw7VXAPQrXo3DtVcA9CtejcO1VwD0K16Nw7VXAPQrXo3DtVcA9CtejcO1VwD0K16Nw7VXAPQrXo3DtVcA9CtejcO1VwD0K16Nw7VXAPQrXo3DtVcA9CtejcO1VwD0K16Nw7VXAPQrXo3DtVcA9CtejcO1VwD0K16Nw7VXAPQrXo3DtVcA9CtejcO1VwD0K16Nw7VXAPQrXo3DtVcA9CtejcO1VwD0K16Nw7VXAPQrXo3DtVcC4HoXrUehVwLgehetR6FXAuB6F61HoVcC4HoXrUehVwLgehetR6FXAuB6F61HoVcC4HoXrUehVwLgehetR6FXAuB6F61HoVcApXI/C9ehVwClcj8L16FXAKVyPwvXoVcApXI/C9ehVwClcj8L16FXAKVyPwvXoVcApXI/C9ehVwClcj8L16FXAKVyPwvXoVcApXI/C9ehVwClcj8L16FXAKVyPwvXoVcApXI/C9ehVwClcj8L16FXAKVyPwvXoVcApXI/C9ehVwClcj8L16FXAKVyPwvXoVcApXI/C9ehVwKRwPQrX81XA7FG4HoXrVcDsUbgehetVwHE9Ctej8FXAcT0K16PwVcBxPQrXo/BVwM3MzMzM7FXAzczMzMzsVcDNzMzMzOxVwM3MzMzM7FXAzczMzMzsVcDNzMzMzOxVwFyPwvUo7FXAXI/C9SjsVcBcj8L1KOxVwFyPwvUo7FXAXI/C9SjsVcBcj8L1KOxVwFyPwvUo7FXAPQrXo3DtVcA9CtejcO1VwD0K16Nw7VXAPQrXo3DtVcA9CtejcO1VwD0K16Nw7VXAPQrXo3DtVcA9CtejcO1VwD0K16Nw7VXAPQrXo3DtVcA9CtejcO1VwD0K16Nw7VXAPQrXo3DtVcA9CtejcO1VwD0K16Nw7VXAPQrXo3DtVcA9CtejcO1VwD0K16Nw7VXAPQrXo3DtVcA9CtejcO1VwD0K16Nw7VXAmpmZmZnpVcCamZmZmelVwJqZmZmZ6VXAFK5H4XrkVcAUrkfheuRVwBSuR+F65FXA9ihcj8L1VcC4HoXrUehVwLgehetR6FXAuB6F61HoVcC4HoXrUehVwLgehetR6FXAuB6F61HoVcC4HoXrUehVwLgehetR6FXAuB6F61HoVcC4HoXrUehVwLgehetR6FXAuB6F61HoVcC4HoXrUehVwLgehetR6FXAuB6F61HoVcAfhetRuO5VwD0K16Nw7VXACtejcD3qVcDNzMzMzOxVwM3MzMzM7FXAzczMzMzsVcBxPQrXo/BVwHE9Ctej8FXAcT0K16PwVcBxPQrXo/BVwHE9Ctej8FXAcT0K16PwVcD2KFyPwuVVwPYoXI/C5VXA9ihcj8LlVcD2KFyPwuVVwPYoXI/C5VXA9ihcj8LlVcD2KFyPwuVVwAAAAAAA8FXAmpmZmZnpVcCamZmZmelVwJqZmZmZ6VXAmpmZmZnpVcCamZmZmelVwJqZmZmZ6VXAmpmZmZnpVcCamZmZmelVwJqZmZmZ6VXAmpmZmZnpVcDNzMzMzOxVwM3MzMzM7FXAzczMzMzsVcDNzMzMzOxVwM3MzMzM7FXAzczMzMzsVcDNzMzMzOxVwM3MzMzM7FXAzczMzMzsVcDNzMzMzOxVwM3MzMzM7FXAzczMzMzsVcDNzMzMzOxVwM3MzMzM7FXAzczMzMzsVcDNzMzMzOxVwM3MzMzM7FXAzczMzMzsVcDNzMzMzOxVwM3MzMzM7FXAzczMzMzsVcDNzMzMzOxVwM3MzMzM7FXAzczMzMzsVcDNzMzMzOxVwM3MzMzM7FXAzczMzMzsVcDNzMzMzOxVwB+F61G47lXAH4XrUbjuVcCamZmZmelVwJqZmZmZ6VXAmpmZmZnpVcCamZmZmelVwJqZmZmZ6VXAmpmZmZnpVcCamZmZmelVwJqZmZmZ6VXAmpmZmZnpVcCamZmZmelVwJqZmZmZ6VXAmpmZmZnpVcCamZmZmelVwJqZmZmZ6VXAmpmZmZnpVcCamZmZmelVwJqZmZmZ6VXAmpmZmZnpVcCamZmZmelVwJqZmZmZ6VXAmpmZmZnpVcCamZmZmelVwJqZmZmZ6VXAmpmZmZnpVcDD9Shcj/JVwMP1KFyP8lXAPQrXo3DtVcA9CtejcO1VwD0K16Nw7VXA4XoUrkfxVcDhehSuR/FVwOF6FK5H8VXA4XoUrkfxVcBcj8L1KOxVwFyPwvUo7FXAXI/C9SjsVcDhehSuR/FVwGZmZmZm5lXAH4XrUbjuVcAfhetRuO5VwJqZmZmZ6VXAmpmZmZnpVcCamZmZmelVwLgehetR6FXAuB6F61HoVcC4HoXrUehVwLgehetR6FXAuB6F61HoVcC4HoXrUehVwLgehetR6FXAuB6F61HoVcC4HoXrUehVwLgehetR6FXAuB6F61HoVcC4HoXrUehVwLgehetR6FXAuB6F61HoVcC4HoXrUehVwLgehetR6FXAuB6F61HoVcC4HoXrUehVwLgehetR6FXAuB6F61HoVcC4HoXrUehVwLgehetR6FXAuB6F61HoVcC4HoXrUehVwLgehetR6FXAuB6F61HoVcC4HoXrUehVwLgehetR6FXAuB6F61HoVcC4HoXrUehVwLgehetR6FXAuB6F61HoVcC4HoXrUehVwLgehetR6FXAuB6F61HoVcC4HoXrUehVwB+F61G47lXAH4XrUbjuVcAfhetRuO5VwB+F61G47lXAH4XrUbjuVcDD9Shcj/JVwMP1KFyP8lXA7FG4HoXrVcDsUbgehetVwOxRuB6F61XAAAAAAADwVcAAAAAAAPBVwIXrUbge9VXAhetRuB71VcCF61G4HvVVwIXrUbge9VXAhetRuB71VcDNzMzMzOxVwM3MzMzM7FXAXI/C9SjsVcDhehSuR/FVwOF6FK5H8VXA16NwPQrnVcDXo3A9CudVwOF6FK5H8VXAw/UoXI/yVcDD9Shcj/JVwMP1KFyP8lXAw/UoXI/yVcBxPQrXo/BVwB+F61G47lXAH4XrUbjuVcDD9Shcj/JVwMP1KFyP8lXAuB6F61HoVcCkcD0K1+NVwNejcD0K51XAhetRuB7lVcCF61G4HuVVwEjhehSu51XASOF6FK7nVcBxPQrXo/BVwHE9Ctej8FXArkfhehTuVcDNzMzMzOxVwArXo3A96lXAexSuR+HqVcB7FK5H4epVwOF6FK5H8VXA4XoUrkfxVcDhehSuR/FVwOF6FK5H8VXA4XoUrkfxVcDhehSuR/FVwOF6FK5H8VXA4XoUrkfxVcCuR+F6FO5VwK5H4XoU7lXArkfhehTuVcCuR+F6FO5VwAAAAAAA8FXArkfhehTuVcCuR+F6FO5VwIXrUbge5VXAhetRuB7lVcCF61G4HuVVwIXrUbge5VXAhetRuB7lVcCF61G4HuVVwIXrUbge5VXAhetRuB7lVcCF61G4HuVVwDMzMzMz81XAMzMzMzPzVcAzMzMzM/NVwHE9Ctej8FXAcT0K16PwVcBxPQrXo/BVwHE9Ctej8FXAcT0K16PwVcD2KFyPwuVVwM3MzMzM7FXAj8L1KFzvVcDD9Shcj/JVwEjhehSu51XASOF6FK7nVcCamZmZmelVwJqZmZmZ6VXASOF6FK7nVcBI4XoUrudVwJqZmZmZ6VXAmpmZmZnpVcCamZmZmelVwJqZmZmZ6VXAmpmZmZnpVcCamZmZmelVwIXrUbge5VXAhetRuB7lVcAK16NwPepVwArXo3A96lXACtejcD3qVcAK16NwPepVwArXo3A96lXACtejcD3qVcAK16NwPepVwArXo3A96lXACtejcD3qVcAK16NwPepVwArXo3A96lXACtejcD3qVcAK16NwPepVwArXo3A96lXACtejcD3qVcAK16NwPepVwArXo3A96lXACtejcD3qVcAK16NwPepVwI/C9Shc71XAcT0K16PwVcAfhetRuO5VwB+F61G47lXAH4XrUbjuVcAfhetRuO5VwLgehetR6FXAuB6F61HoVcC4HoXrUehVwArXo3A96lXAhetRuB7lVcCF61G4HuVVwIXrUbge5VXA4XoUrkfxVcDhehSuR/FVwOF6FK5H8VXA4XoUrkfxVcDhehSuR/FVwOF6FK5H8VXACtejcD3qVcAK16NwPepVwArXo3A96lXACtejcD3qVcAK16NwPepVwFK4HoXr8VXAUrgehevxVcC4HoXrUehVwHsUrkfh6lXAzczMzMzsVcDNzMzMzOxVwKRwPQrX81XA7FG4HoXrVcAAAAAAAPBVwAAAAAAA8FXAhetRuB7lVcC4HoXrUehVwDMzMzMz41XACtejcD3qVcDhehSuR/FVwOF6FK5H8VXAj8L1KFzvVcCPwvUoXO9VwI/C9Shc71XAFK5H4Xr0VcAK16NwPepVwD0K16Nw7VXAPQrXo3DtVcA9CtejcO1VwDMzMzMz41XArkfhehTuVcCuR+F6FO5VwK5H4XoU7lXArkfhehTuVcCPwvUoXO9VwI/C9Shc71XAj8L1KFzvVcCPwvUoXO9VwI/C9Shc71XAj8L1KFzvVcB7FK5H4epVwHsUrkfh6lXA16NwPQrnVcDXo3A9CudVwKRwPQrX81XAmpmZmZnpVcCamZmZmelVwPYoXI/C9VXA9ihcj8L1VcBcj8L1KOxVwNejcD0K51XApHA9CtfzVcAfhetRuO5VwNejcD0K51XA16NwPQrnVcAfhetRuO5VwHsUrkfh6lXAZmZmZmbmVcApXI/C9ehVwDMzMzMz81XArkfhehTuVcCuR+F6FO5VwK5H4XoU7lXArkfhehTuVcCuR+F6FO5VwK5H4XoU7lXArkfhehTuVcDhehSuR/FVwFK4HoXr8VXAKVyPwvXoVcApXI/C9ehVwClcj8L16FXAuB6F61HoVcApXI/C9ehVwJqZmZmZ6VXAzczMzMzsVcA9CtejcO1VwKRwPQrX41XA\",\"dtype\":\"float64\",\"shape\":[5700]}},\"selected\":{\"id\":\"1058\",\"type\":\"Selection\"},\"selection_policy\":{\"id\":\"1059\",\"type\":\"UnionRenderers\"}},\"id\":\"1046\",\"type\":\"ColumnDataSource\"},{\"attributes\":{\"plot\":null,\"text\":\"\"},\"id\":\"1052\",\"type\":\"Title\"},{\"attributes\":{\"dimension\":\"lon\"},\"id\":\"1012\",\"type\":\"MercatorTicker\"},{\"attributes\":{\"active_drag\":\"auto\",\"active_inspect\":\"auto\",\"active_multi\":null,\"active_scroll\":\"auto\",\"active_tap\":\"auto\",\"tools\":[{\"id\":\"1029\",\"type\":\"PanTool\"},{\"id\":\"1030\",\"type\":\"WheelZoomTool\"},{\"id\":\"1031\",\"type\":\"BoxZoomTool\"},{\"id\":\"1032\",\"type\":\"SaveTool\"},{\"id\":\"1033\",\"type\":\"ResetTool\"},{\"id\":\"1034\",\"type\":\"HelpTool\"}]},\"id\":\"1035\",\"type\":\"Toolbar\"},{\"attributes\":{\"formatter\":{\"id\":\"1014\",\"type\":\"MercatorTickFormatter\"},\"plot\":{\"id\":\"1002\",\"subtype\":\"Figure\",\"type\":\"Plot\"},\"ticker\":{\"id\":\"1012\",\"type\":\"MercatorTicker\"}},\"id\":\"1011\",\"type\":\"MercatorAxis\"},{\"attributes\":{\"dimension\":1,\"plot\":{\"id\":\"1002\",\"subtype\":\"Figure\",\"type\":\"Plot\"},\"ticker\":{\"id\":\"1021\",\"type\":\"MercatorTicker\"}},\"id\":\"1028\",\"type\":\"Grid\"},{\"attributes\":{},\"id\":\"1009\",\"type\":\"LinearScale\"},{\"attributes\":{},\"id\":\"1033\",\"type\":\"ResetTool\"},{\"attributes\":{\"callback\":null},\"id\":\"1003\",\"type\":\"DataRange1d\"},{\"attributes\":{\"overlay\":{\"id\":\"1037\",\"type\":\"BoxAnnotation\"}},\"id\":\"1031\",\"type\":\"BoxZoomTool\"},{\"attributes\":{\"source\":{\"id\":\"1046\",\"type\":\"ColumnDataSource\"}},\"id\":\"1050\",\"type\":\"CDSView\"},{\"attributes\":{},\"id\":\"1034\",\"type\":\"HelpTool\"},{\"attributes\":{\"bottom_units\":\"screen\",\"fill_alpha\":{\"value\":0.5},\"fill_color\":{\"value\":\"lightgrey\"},\"left_units\":\"screen\",\"level\":\"overlay\",\"line_alpha\":{\"value\":1.0},\"line_color\":{\"value\":\"black\"},\"line_dash\":[4,4],\"line_width\":{\"value\":2},\"plot\":null,\"render_mode\":\"css\",\"right_units\":\"screen\",\"top_units\":\"screen\"},\"id\":\"1037\",\"type\":\"BoxAnnotation\"},{\"attributes\":{\"attribution\":\"&copy; <a href=\\\"https://www.openstreetmap.org/copyright\\\">OpenStreetMap</a> contributors,&copy; <a href=\\\"https://cartodb.com/attributions\\\">CartoDB</a>\",\"url\":\"https://tiles.basemaps.cartocdn.com/light_all/{z}/{x}/{y}.png\"},\"id\":\"1001\",\"type\":\"WMTSTileSource\"},{\"attributes\":{\"data_source\":{\"id\":\"1046\",\"type\":\"ColumnDataSource\"},\"glyph\":{\"id\":\"1047\",\"type\":\"Circle\"},\"hover_glyph\":null,\"muted_glyph\":null,\"nonselection_glyph\":{\"id\":\"1048\",\"type\":\"Circle\"},\"selection_glyph\":null,\"view\":{\"id\":\"1050\",\"type\":\"CDSView\"}},\"id\":\"1049\",\"type\":\"GlyphRenderer\"},{\"attributes\":{\"dimension\":\"lat\"},\"id\":\"1021\",\"type\":\"MercatorTicker\"},{\"attributes\":{},\"id\":\"1032\",\"type\":\"SaveTool\"},{\"attributes\":{\"fill_alpha\":{\"value\":0.1},\"fill_color\":{\"value\":\"#1f77b4\"},\"line_alpha\":{\"value\":0.1},\"line_color\":{\"value\":\"#1f77b4\"},\"x\":{\"field\":\"x\"},\"y\":{\"field\":\"y\"}},\"id\":\"1048\",\"type\":\"Circle\"},{\"attributes\":{\"fill_color\":{\"value\":\"#1f77b4\"},\"line_color\":{\"value\":\"#1f77b4\"},\"x\":{\"field\":\"x\"},\"y\":{\"field\":\"y\"}},\"id\":\"1047\",\"type\":\"Circle\"},{\"attributes\":{\"tile_source\":{\"id\":\"1001\",\"type\":\"WMTSTileSource\"}},\"id\":\"1044\",\"type\":\"TileRenderer\"},{\"attributes\":{\"formatter\":{\"id\":\"1023\",\"type\":\"MercatorTickFormatter\"},\"plot\":{\"id\":\"1002\",\"subtype\":\"Figure\",\"type\":\"Plot\"},\"ticker\":{\"id\":\"1021\",\"type\":\"MercatorTicker\"}},\"id\":\"1020\",\"type\":\"MercatorAxis\"}],\"root_ids\":[\"1002\"]},\"title\":\"Bokeh Application\",\"version\":\"1.0.4\"}};\n",
              "  var render_items = [{\"docid\":\"c8e709f5-9a95-4705-9b9a-ec999bfabda0\",\"roots\":{\"1002\":\"24a1f8a1-aa65-443d-b4cb-3a9c0b91a01d\"}}];\n",
              "  root.Bokeh.embed.embed_items_notebook(docs_json, render_items);\n",
              "\n",
              "  }\n",
              "  if (root.Bokeh !== undefined) {\n",
              "    embed_document(root);\n",
              "  } else {\n",
              "    var attempts = 0;\n",
              "    var timer = setInterval(function(root) {\n",
              "      if (root.Bokeh !== undefined) {\n",
              "        embed_document(root);\n",
              "        clearInterval(timer);\n",
              "      }\n",
              "      attempts++;\n",
              "      if (attempts > 100) {\n",
              "        console.log(\"Bokeh: ERROR: Unable to run BokehJS code because BokehJS library is missing\");\n",
              "        clearInterval(timer);\n",
              "      }\n",
              "    }, 10, root)\n",
              "  }\n",
              "})(window);"
            ],
            "application/vnd.bokehjs_exec.v0+json": ""
          },
          "metadata": {
            "tags": [],
            "application/vnd.bokehjs_exec.v0+json": {
              "id": "1002"
            }
          }
        }
      ]
    }
  ]
}