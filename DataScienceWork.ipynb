{
 "cells": [
  {
   "cell_type": "markdown",
   "metadata": {},
   "source": [
    "# <body>\n",
    "<h1 style=\"text-align:center;\"> Data Science </h1>\n",
    "<h4 style=\"text-align:center;\">  Guilherme Araújo  e  Gabriel Novais </h4>\n",
    "<p  align=\"justify\"> <b> Description </b> : The main goal of our data science work is modelling the variation of the rental prices offered by Airbnb users according to the level of crime in the region. In order to make such work we will need to prepare data then visualize all information with some specific maps and graphs. The last part will be the statistical modelling. Either machine learning and regression techniques will be compared .</p>\n",
    "    <p><b>Sources and Links:</b></p>\n",
    "\n",
    "<b>Airbnb</b>\n",
    "<li><a href=\"http://insideairbnb.com/get-the-data.html\">http://insideairbnb.com/get-the-data.html</a></li>\n",
    "\n",
    "<b>Chicago</b>\n",
    "    <li><a>https://data.cityofchicago.org/Public-Safety/Crimes-Map/dfnk-7re6</a></li>\n",
    "    <li><a>https://data.cityofchicago.org/Public-Safety/Crimes-One-year-prior-to-present/x2n5-8w5q/data</li></a>\n",
    "    <li><a>https://data.cityofchicago.org/browse?category=Public+Safety</a></li>\n",
    "\n",
    "<b>New York</b>\n",
    "<li><a href=\"https://data.cityofnewyork.us/Public-Safety/Crime-Map-/5jvd-shfj\">https://data.cityofnewyork.us/Public-Safety/Crime-Map-/5jvd-shfj</a></li>\n",
    "<li><a href=\"https://data.cityofnewyork.us/Public-Safety/NYPD-Complaint-Data-Current-Year-To-Date-/5uac-w243/data\">https://data.cityofnewyork.us/Public-Safety/NYPD-Complaint-Data-Current-Year-To-Date-/5uac-w243/data</a></li>\n",
    "<li><a href=\"https://data.cityofnewyork.us/browse?category=Public+Safety\">https://data.cityofnewyork.us/browse?category=Public+Safety</a></li>\n",
    "    \n",
    "</body>"
   ]
  },
  {
   "cell_type": "markdown",
   "metadata": {},
   "source": [
    "### Packages"
   ]
  },
  {
   "cell_type": "code",
   "execution_count": 1,
   "metadata": {},
   "outputs": [],
   "source": [
    "import numpy as np\n",
    "import pandas as pd \n",
    "import matplotlib.pyplot as plt\n",
    "import glob\n",
    "import re\n",
    "\n",
    "from math import radians, sin, cos, acos, log, pi, tan, asin,sqrt\n",
    "from decimal import Decimal\n",
    "from bokeh.plotting import figure, show, output_notebook\n",
    "from bokeh.tile_providers import CARTODBPOSITRON\n",
    "from ast import literal_eval\n",
    "from scipy import stats"
   ]
  },
  {
   "cell_type": "markdown",
   "metadata": {},
   "source": [
    "### Functions"
   ]
  },
  {
   "cell_type": "code",
   "execution_count": 2,
   "metadata": {},
   "outputs": [],
   "source": [
    "def merc(Coords):\n",
    "    Coordinates = (Coords)\n",
    "    lat = Coordinates[0]\n",
    "    lon = Coordinates[1]\n",
    "    \n",
    "    r_major = 6378137.000\n",
    "    x = r_major * radians(lon)\n",
    "    scale = x/lon\n",
    "    y = 180.0/pi * log(tan(pi/4.0 + \n",
    "        lat * (pi/180.0)/2.0)) * scale\n",
    "    return (x, y)"
   ]
  },
  {
   "cell_type": "code",
   "execution_count": 3,
   "metadata": {},
   "outputs": [],
   "source": [
    "def distance(a,b):\n",
    "    \"\"\"\n",
    "    Calculate the great circle distance between two points\n",
    "    on the earth (specified in decimal degrees). Output in KM\n",
    "    \"\"\"\n",
    "    lat1 = a[0]\n",
    "    lat2 = b[0]\n",
    "    lon1 = a[1]\n",
    "    lon2 = b[1]\n",
    "    # convert decimal degrees to radians\n",
    "    lon1, lat1, lon2, lat2 = map(radians, [lon1, lat1, lon2, lat2])\n",
    "    # haversine formula\n",
    "    dlon = lon2 - lon1\n",
    "    dlat = lat2 - lat1\n",
    "    a = sin(dlat / 2) ** 2 + cos(lat1) * cos(lat2) * sin(dlon / 2) ** 2\n",
    "    c = 2 * asin(sqrt(a))\n",
    "    km = 6371 * c\n",
    "    return km"
   ]
  },
  {
   "cell_type": "code",
   "execution_count": 44,
   "metadata": {},
   "outputs": [],
   "source": [
    "def result(x,y):\n",
    "    gradient,intercept,r_value,p_value,std_err=stats.linregress(x,y)\n",
    "    if p_value<0.05:\n",
    "        pvalue = 1\n",
    "    else:\n",
    "        pvalue = 0\n",
    "    if gradient<0:\n",
    "        coef = 1\n",
    "    else:\n",
    "        coef = 0\n",
    "    return [coef,pvalue]    "
   ]
  },
  {
   "cell_type": "markdown",
   "metadata": {},
   "source": [
    "### Importing Data (Airbnb)"
   ]
  },
  {
   "cell_type": "code",
   "execution_count": 5,
   "metadata": {},
   "outputs": [],
   "source": [
    "listings = pd.read_csv(\"/home/novais/Desktop/Mestrado/FundamentosDS/Trabalho/dados/Chicago/listings/listings10.csv\")\n",
    "listings = listings[['id','latitude','longitude']]\n",
    "calendar = pd.read_csv(\"/home/novais/Desktop/Mestrado/FundamentosDS/Trabalho/dados/Chicago/calendar/calendar10.csv\")\n",
    "calendar = calendar[['listing_id','date','available','price']]\n",
    "calendar = calendar.rename(index=str, columns={\"listing_id\": \"id\"})"
   ]
  },
  {
   "cell_type": "code",
   "execution_count": 6,
   "metadata": {
    "scrolled": true
   },
   "outputs": [
    {
     "data": {
      "text/html": [
       "<div>\n",
       "<style scoped>\n",
       "    .dataframe tbody tr th:only-of-type {\n",
       "        vertical-align: middle;\n",
       "    }\n",
       "\n",
       "    .dataframe tbody tr th {\n",
       "        vertical-align: top;\n",
       "    }\n",
       "\n",
       "    .dataframe thead th {\n",
       "        text-align: right;\n",
       "    }\n",
       "</style>\n",
       "<table border=\"1\" class=\"dataframe\">\n",
       "  <thead>\n",
       "    <tr style=\"text-align: right;\">\n",
       "      <th></th>\n",
       "      <th>id</th>\n",
       "      <th>date</th>\n",
       "      <th>available</th>\n",
       "      <th>price</th>\n",
       "      <th>location</th>\n",
       "      <th>month</th>\n",
       "      <th>day</th>\n",
       "      <th>year</th>\n",
       "    </tr>\n",
       "  </thead>\n",
       "  <tbody>\n",
       "    <tr>\n",
       "      <th>0</th>\n",
       "      <td>4505</td>\n",
       "      <td>05/17/2019</td>\n",
       "      <td>1</td>\n",
       "      <td>150.0</td>\n",
       "      <td>(41.85495262496367, -87.69696178980682)</td>\n",
       "      <td>5</td>\n",
       "      <td>17</td>\n",
       "      <td>2019</td>\n",
       "    </tr>\n",
       "    <tr>\n",
       "      <th>1</th>\n",
       "      <td>4505</td>\n",
       "      <td>05/16/2019</td>\n",
       "      <td>1</td>\n",
       "      <td>120.0</td>\n",
       "      <td>(41.85495262496367, -87.69696178980682)</td>\n",
       "      <td>5</td>\n",
       "      <td>16</td>\n",
       "      <td>2019</td>\n",
       "    </tr>\n",
       "    <tr>\n",
       "      <th>2</th>\n",
       "      <td>4505</td>\n",
       "      <td>05/15/2019</td>\n",
       "      <td>1</td>\n",
       "      <td>120.0</td>\n",
       "      <td>(41.85495262496367, -87.69696178980682)</td>\n",
       "      <td>5</td>\n",
       "      <td>15</td>\n",
       "      <td>2019</td>\n",
       "    </tr>\n",
       "    <tr>\n",
       "      <th>3</th>\n",
       "      <td>4505</td>\n",
       "      <td>05/14/2019</td>\n",
       "      <td>1</td>\n",
       "      <td>120.0</td>\n",
       "      <td>(41.85495262496367, -87.69696178980682)</td>\n",
       "      <td>5</td>\n",
       "      <td>14</td>\n",
       "      <td>2019</td>\n",
       "    </tr>\n",
       "    <tr>\n",
       "      <th>4</th>\n",
       "      <td>4505</td>\n",
       "      <td>05/13/2019</td>\n",
       "      <td>1</td>\n",
       "      <td>120.0</td>\n",
       "      <td>(41.85495262496367, -87.69696178980682)</td>\n",
       "      <td>5</td>\n",
       "      <td>13</td>\n",
       "      <td>2019</td>\n",
       "    </tr>\n",
       "  </tbody>\n",
       "</table>\n",
       "</div>"
      ],
      "text/plain": [
       "     id        date  available  price  \\\n",
       "0  4505  05/17/2019          1  150.0   \n",
       "1  4505  05/16/2019          1  120.0   \n",
       "2  4505  05/15/2019          1  120.0   \n",
       "3  4505  05/14/2019          1  120.0   \n",
       "4  4505  05/13/2019          1  120.0   \n",
       "\n",
       "                                  location  month  day  year  \n",
       "0  (41.85495262496367, -87.69696178980682)      5   17  2019  \n",
       "1  (41.85495262496367, -87.69696178980682)      5   16  2019  \n",
       "2  (41.85495262496367, -87.69696178980682)      5   15  2019  \n",
       "3  (41.85495262496367, -87.69696178980682)      5   14  2019  \n",
       "4  (41.85495262496367, -87.69696178980682)      5   13  2019  "
      ]
     },
     "execution_count": 6,
     "metadata": {},
     "output_type": "execute_result"
    }
   ],
   "source": [
    "hosts = pd.merge(calendar, listings, on='id')\n",
    "hosts['location'] = list(zip(hosts.latitude, hosts.longitude))\n",
    "hosts = hosts.drop(['latitude', 'longitude'], axis=1)\n",
    "hosts.date = hosts.date.apply(lambda x: x[5:7]+'/'+x[8:10]+'/'+x[0:4])\n",
    "hosts = hosts.dropna(subset=['price'])\n",
    "hosts.price = hosts.price.apply(lambda x: float(re.sub(\"[^\\d\\.]\", \"\", (x[1:-3]))))\n",
    "hosts.available = hosts.available.apply(lambda x: 0 if x==\"f\" else 1)\n",
    "hosts['month']=hosts.date.apply(lambda x: int(x[0:2]))\n",
    "hosts['day']=hosts.date.apply(lambda x: int(x[3:5]))\n",
    "hosts['year']=hosts.date.apply(lambda x: int(x[6:10]))\n",
    "hosts.head()"
   ]
  },
  {
   "cell_type": "markdown",
   "metadata": {},
   "source": [
    "### Importing Data (Crimes)"
   ]
  },
  {
   "cell_type": "code",
   "execution_count": 7,
   "metadata": {
    "scrolled": true
   },
   "outputs": [
    {
     "data": {
      "text/html": [
       "<div>\n",
       "<style scoped>\n",
       "    .dataframe tbody tr th:only-of-type {\n",
       "        vertical-align: middle;\n",
       "    }\n",
       "\n",
       "    .dataframe tbody tr th {\n",
       "        vertical-align: top;\n",
       "    }\n",
       "\n",
       "    .dataframe thead th {\n",
       "        text-align: right;\n",
       "    }\n",
       "</style>\n",
       "<table border=\"1\" class=\"dataframe\">\n",
       "  <thead>\n",
       "    <tr style=\"text-align: right;\">\n",
       "      <th></th>\n",
       "      <th>id</th>\n",
       "      <th>date</th>\n",
       "      <th>location</th>\n",
       "      <th>month</th>\n",
       "      <th>day</th>\n",
       "      <th>year</th>\n",
       "    </tr>\n",
       "  </thead>\n",
       "  <tbody>\n",
       "    <tr>\n",
       "      <th>0</th>\n",
       "      <td>JB341693</td>\n",
       "      <td>07/09/2018</td>\n",
       "      <td>(41.894327845999996, -87.62814321)</td>\n",
       "      <td>7</td>\n",
       "      <td>9</td>\n",
       "      <td>2018</td>\n",
       "    </tr>\n",
       "    <tr>\n",
       "      <th>1</th>\n",
       "      <td>JB342588</td>\n",
       "      <td>07/09/2018</td>\n",
       "      <td>(41.773418836, -87.708856396)</td>\n",
       "      <td>7</td>\n",
       "      <td>9</td>\n",
       "      <td>2018</td>\n",
       "    </tr>\n",
       "    <tr>\n",
       "      <th>2</th>\n",
       "      <td>JB341677</td>\n",
       "      <td>07/09/2018</td>\n",
       "      <td>(41.75159879, -87.647708896)</td>\n",
       "      <td>7</td>\n",
       "      <td>9</td>\n",
       "      <td>2018</td>\n",
       "    </tr>\n",
       "    <tr>\n",
       "      <th>3</th>\n",
       "      <td>JB341675</td>\n",
       "      <td>07/09/2018</td>\n",
       "      <td>(41.69219942, -87.65534793399999)</td>\n",
       "      <td>7</td>\n",
       "      <td>9</td>\n",
       "      <td>2018</td>\n",
       "    </tr>\n",
       "    <tr>\n",
       "      <th>4</th>\n",
       "      <td>JB341740</td>\n",
       "      <td>07/09/2018</td>\n",
       "      <td>(41.78559336, -87.621694669)</td>\n",
       "      <td>7</td>\n",
       "      <td>9</td>\n",
       "      <td>2018</td>\n",
       "    </tr>\n",
       "  </tbody>\n",
       "</table>\n",
       "</div>"
      ],
      "text/plain": [
       "         id        date                            location  month  day  year\n",
       "0  JB341693  07/09/2018  (41.894327845999996, -87.62814321)      7    9  2018\n",
       "1  JB342588  07/09/2018       (41.773418836, -87.708856396)      7    9  2018\n",
       "2  JB341677  07/09/2018        (41.75159879, -87.647708896)      7    9  2018\n",
       "3  JB341675  07/09/2018   (41.69219942, -87.65534793399999)      7    9  2018\n",
       "4  JB341740  07/09/2018        (41.78559336, -87.621694669)      7    9  2018"
      ]
     },
     "execution_count": 7,
     "metadata": {},
     "output_type": "execute_result"
    }
   ],
   "source": [
    "directory = \"/home/novais/Desktop/Mestrado/FundamentosDS/Trabalho/dados/Chicago/crimes/\"\n",
    "file = directory + 'Crimes_-_One_year_prior_to_present.csv'\n",
    "crimes = pd.read_csv(file)\n",
    "crimes = crimes[['CASE#','DATE  OF OCCURRENCE','LATITUDE','LONGITUDE']]\n",
    "crimes['location'] = list(zip(crimes.LATITUDE, crimes.LONGITUDE))\n",
    "crimes = crimes.rename(index=str, columns={\"CASE#\": \"id\",\"DATE  OF OCCURRENCE\": \"date\"})\n",
    "crimes = crimes.drop(['LATITUDE', 'LONGITUDE'], axis=1)\n",
    "crimes.date = crimes.date.apply(lambda x: x[0:10])\n",
    "crimes['month']=crimes.date.apply(lambda x: int(x[0:2]))\n",
    "crimes['day']=crimes.date.apply(lambda x: int(x[3:5]))\n",
    "crimes['year']=crimes.date.apply(lambda x: int(x[6:10]))\n",
    "crimes.head()"
   ]
  },
  {
   "cell_type": "markdown",
   "metadata": {},
   "source": [
    "### Number of \"near crimes\" "
   ]
  },
  {
   "cell_type": "code",
   "execution_count": 8,
   "metadata": {},
   "outputs": [],
   "source": [
    "crimes2019 = crimes[crimes.year==2019]\n",
    "hosts2019 = hosts[hosts.year==2019]\n",
    "crimes2019 = crimes2019[crimes2019.location>(0,0)]\n",
    "hosts2019 = hosts2019[hosts2019.location>(0,0)]"
   ]
  },
  {
   "cell_type": "code",
   "execution_count": 9,
   "metadata": {},
   "outputs": [
    {
     "data": {
      "text/html": [
       "<div>\n",
       "<style scoped>\n",
       "    .dataframe tbody tr th:only-of-type {\n",
       "        vertical-align: middle;\n",
       "    }\n",
       "\n",
       "    .dataframe tbody tr th {\n",
       "        vertical-align: top;\n",
       "    }\n",
       "\n",
       "    .dataframe thead th {\n",
       "        text-align: right;\n",
       "    }\n",
       "</style>\n",
       "<table border=\"1\" class=\"dataframe\">\n",
       "  <thead>\n",
       "    <tr style=\"text-align: right;\">\n",
       "      <th></th>\n",
       "      <th>id</th>\n",
       "      <th>date</th>\n",
       "      <th>available</th>\n",
       "      <th>price</th>\n",
       "      <th>location</th>\n",
       "      <th>month</th>\n",
       "      <th>day</th>\n",
       "      <th>year</th>\n",
       "      <th>crimes_locations</th>\n",
       "    </tr>\n",
       "  </thead>\n",
       "  <tbody>\n",
       "    <tr>\n",
       "      <th>0</th>\n",
       "      <td>4505</td>\n",
       "      <td>05/17/2019</td>\n",
       "      <td>1</td>\n",
       "      <td>150.0</td>\n",
       "      <td>(41.85495262496367, -87.69696178980682)</td>\n",
       "      <td>5</td>\n",
       "      <td>17</td>\n",
       "      <td>2019</td>\n",
       "      <td>[(41.840632206, -87.658003656), (41.775429728,...</td>\n",
       "    </tr>\n",
       "    <tr>\n",
       "      <th>1</th>\n",
       "      <td>4505</td>\n",
       "      <td>05/16/2019</td>\n",
       "      <td>1</td>\n",
       "      <td>120.0</td>\n",
       "      <td>(41.85495262496367, -87.69696178980682)</td>\n",
       "      <td>5</td>\n",
       "      <td>16</td>\n",
       "      <td>2019</td>\n",
       "      <td>[(41.75599883, -87.615069189), (41.966234586, ...</td>\n",
       "    </tr>\n",
       "    <tr>\n",
       "      <th>2</th>\n",
       "      <td>4505</td>\n",
       "      <td>05/15/2019</td>\n",
       "      <td>1</td>\n",
       "      <td>120.0</td>\n",
       "      <td>(41.85495262496367, -87.69696178980682)</td>\n",
       "      <td>5</td>\n",
       "      <td>15</td>\n",
       "      <td>2019</td>\n",
       "      <td>[(41.691413679, -87.66882624600001), (41.97964...</td>\n",
       "    </tr>\n",
       "    <tr>\n",
       "      <th>3</th>\n",
       "      <td>4505</td>\n",
       "      <td>05/14/2019</td>\n",
       "      <td>1</td>\n",
       "      <td>120.0</td>\n",
       "      <td>(41.85495262496367, -87.69696178980682)</td>\n",
       "      <td>5</td>\n",
       "      <td>14</td>\n",
       "      <td>2019</td>\n",
       "      <td>[(41.921021491, -87.69730355), (41.79473075699...</td>\n",
       "    </tr>\n",
       "    <tr>\n",
       "      <th>4</th>\n",
       "      <td>4505</td>\n",
       "      <td>05/13/2019</td>\n",
       "      <td>1</td>\n",
       "      <td>120.0</td>\n",
       "      <td>(41.85495262496367, -87.69696178980682)</td>\n",
       "      <td>5</td>\n",
       "      <td>13</td>\n",
       "      <td>2019</td>\n",
       "      <td>[(41.818775036, -87.696606754), (41.762302081,...</td>\n",
       "    </tr>\n",
       "  </tbody>\n",
       "</table>\n",
       "</div>"
      ],
      "text/plain": [
       "     id        date  available  price  \\\n",
       "0  4505  05/17/2019          1  150.0   \n",
       "1  4505  05/16/2019          1  120.0   \n",
       "2  4505  05/15/2019          1  120.0   \n",
       "3  4505  05/14/2019          1  120.0   \n",
       "4  4505  05/13/2019          1  120.0   \n",
       "\n",
       "                                  location  month  day  year  \\\n",
       "0  (41.85495262496367, -87.69696178980682)      5   17  2019   \n",
       "1  (41.85495262496367, -87.69696178980682)      5   16  2019   \n",
       "2  (41.85495262496367, -87.69696178980682)      5   15  2019   \n",
       "3  (41.85495262496367, -87.69696178980682)      5   14  2019   \n",
       "4  (41.85495262496367, -87.69696178980682)      5   13  2019   \n",
       "\n",
       "                                    crimes_locations  \n",
       "0  [(41.840632206, -87.658003656), (41.775429728,...  \n",
       "1  [(41.75599883, -87.615069189), (41.966234586, ...  \n",
       "2  [(41.691413679, -87.66882624600001), (41.97964...  \n",
       "3  [(41.921021491, -87.69730355), (41.79473075699...  \n",
       "4  [(41.818775036, -87.696606754), (41.762302081,...  "
      ]
     },
     "execution_count": 9,
     "metadata": {},
     "output_type": "execute_result"
    }
   ],
   "source": [
    "dict_crimes = crimes2019.groupby('date')['location'].apply(list).to_dict()\n",
    "data = {'date':list(dict_crimes.keys()),'crimes_locations':list(dict_crimes.values())}\n",
    "crimes2019compressed = pd.DataFrame(data)\n",
    "database = pd.merge(hosts2019, crimes2019compressed, on='date',how='left')\n",
    "database = database.dropna(subset=['crimes_locations','price'])\n",
    "database = database.reset_index()\n",
    "database.head()"
   ]
  },
  {
   "cell_type": "code",
   "execution_count": 13,
   "metadata": {},
   "outputs": [],
   "source": [
    "# CUIDADO!!! : esse comando leva 2 horas e 15 minutos para rodar as 536596 linhas.\n",
    "aux = []\n",
    "for i in range(0,database.shape[0]):\n",
    "    q=0\n",
    "    for j in database.crimes_locations[i]:\n",
    "        if distance(j,database.location[i])<1:\n",
    "            q=q+1\n",
    "    aux.append(q)    "
   ]
  },
  {
   "cell_type": "code",
   "execution_count": 16,
   "metadata": {},
   "outputs": [
    {
     "data": {
      "text/html": [
       "<div>\n",
       "<style scoped>\n",
       "    .dataframe tbody tr th:only-of-type {\n",
       "        vertical-align: middle;\n",
       "    }\n",
       "\n",
       "    .dataframe tbody tr th {\n",
       "        vertical-align: top;\n",
       "    }\n",
       "\n",
       "    .dataframe thead th {\n",
       "        text-align: right;\n",
       "    }\n",
       "</style>\n",
       "<table border=\"1\" class=\"dataframe\">\n",
       "  <thead>\n",
       "    <tr style=\"text-align: right;\">\n",
       "      <th></th>\n",
       "      <th>index</th>\n",
       "      <th>id</th>\n",
       "      <th>date</th>\n",
       "      <th>available</th>\n",
       "      <th>price</th>\n",
       "      <th>location</th>\n",
       "      <th>month</th>\n",
       "      <th>day</th>\n",
       "      <th>year</th>\n",
       "      <th>crimes_locations</th>\n",
       "      <th>near_crimes</th>\n",
       "    </tr>\n",
       "  </thead>\n",
       "  <tbody>\n",
       "    <tr>\n",
       "      <th>0</th>\n",
       "      <td>0</td>\n",
       "      <td>4505</td>\n",
       "      <td>05/17/2019</td>\n",
       "      <td>1</td>\n",
       "      <td>150.0</td>\n",
       "      <td>(41.85495262496367, -87.69696178980682)</td>\n",
       "      <td>5</td>\n",
       "      <td>17</td>\n",
       "      <td>2019</td>\n",
       "      <td>[(41.840632206, -87.658003656), (41.775429728,...</td>\n",
       "      <td>9</td>\n",
       "    </tr>\n",
       "    <tr>\n",
       "      <th>1</th>\n",
       "      <td>1</td>\n",
       "      <td>4505</td>\n",
       "      <td>05/16/2019</td>\n",
       "      <td>1</td>\n",
       "      <td>120.0</td>\n",
       "      <td>(41.85495262496367, -87.69696178980682)</td>\n",
       "      <td>5</td>\n",
       "      <td>16</td>\n",
       "      <td>2019</td>\n",
       "      <td>[(41.75599883, -87.615069189), (41.966234586, ...</td>\n",
       "      <td>7</td>\n",
       "    </tr>\n",
       "    <tr>\n",
       "      <th>2</th>\n",
       "      <td>2</td>\n",
       "      <td>4505</td>\n",
       "      <td>05/15/2019</td>\n",
       "      <td>1</td>\n",
       "      <td>120.0</td>\n",
       "      <td>(41.85495262496367, -87.69696178980682)</td>\n",
       "      <td>5</td>\n",
       "      <td>15</td>\n",
       "      <td>2019</td>\n",
       "      <td>[(41.691413679, -87.66882624600001), (41.97964...</td>\n",
       "      <td>4</td>\n",
       "    </tr>\n",
       "    <tr>\n",
       "      <th>3</th>\n",
       "      <td>3</td>\n",
       "      <td>4505</td>\n",
       "      <td>05/14/2019</td>\n",
       "      <td>1</td>\n",
       "      <td>120.0</td>\n",
       "      <td>(41.85495262496367, -87.69696178980682)</td>\n",
       "      <td>5</td>\n",
       "      <td>14</td>\n",
       "      <td>2019</td>\n",
       "      <td>[(41.921021491, -87.69730355), (41.79473075699...</td>\n",
       "      <td>5</td>\n",
       "    </tr>\n",
       "    <tr>\n",
       "      <th>4</th>\n",
       "      <td>4</td>\n",
       "      <td>4505</td>\n",
       "      <td>05/13/2019</td>\n",
       "      <td>1</td>\n",
       "      <td>120.0</td>\n",
       "      <td>(41.85495262496367, -87.69696178980682)</td>\n",
       "      <td>5</td>\n",
       "      <td>13</td>\n",
       "      <td>2019</td>\n",
       "      <td>[(41.818775036, -87.696606754), (41.762302081,...</td>\n",
       "      <td>6</td>\n",
       "    </tr>\n",
       "  </tbody>\n",
       "</table>\n",
       "</div>"
      ],
      "text/plain": [
       "   index    id        date  available  price  \\\n",
       "0      0  4505  05/17/2019          1  150.0   \n",
       "1      1  4505  05/16/2019          1  120.0   \n",
       "2      2  4505  05/15/2019          1  120.0   \n",
       "3      3  4505  05/14/2019          1  120.0   \n",
       "4      4  4505  05/13/2019          1  120.0   \n",
       "\n",
       "                                  location  month  day  year  \\\n",
       "0  (41.85495262496367, -87.69696178980682)      5   17  2019   \n",
       "1  (41.85495262496367, -87.69696178980682)      5   16  2019   \n",
       "2  (41.85495262496367, -87.69696178980682)      5   15  2019   \n",
       "3  (41.85495262496367, -87.69696178980682)      5   14  2019   \n",
       "4  (41.85495262496367, -87.69696178980682)      5   13  2019   \n",
       "\n",
       "                                    crimes_locations  near_crimes  \n",
       "0  [(41.840632206, -87.658003656), (41.775429728,...            9  \n",
       "1  [(41.75599883, -87.615069189), (41.966234586, ...            7  \n",
       "2  [(41.691413679, -87.66882624600001), (41.97964...            4  \n",
       "3  [(41.921021491, -87.69730355), (41.79473075699...            5  \n",
       "4  [(41.818775036, -87.696606754), (41.762302081,...            6  "
      ]
     },
     "execution_count": 16,
     "metadata": {},
     "output_type": "execute_result"
    }
   ],
   "source": [
    "database['near_crimes'] = aux\n",
    "database.head()"
   ]
  },
  {
   "cell_type": "markdown",
   "metadata": {},
   "source": [
    "### Hosts"
   ]
  },
  {
   "cell_type": "code",
   "execution_count": 30,
   "metadata": {},
   "outputs": [
    {
     "name": "stdout",
     "output_type": "stream",
     "text": [
      "Number of Hosts in database: 3920\n"
     ]
    }
   ],
   "source": [
    "id_hosts = pd.unique(database.id)\n",
    "print(\"Number of Hosts in database: \"+str(len(id_hosts)))"
   ]
  },
  {
   "cell_type": "code",
   "execution_count": 42,
   "metadata": {},
   "outputs": [
    {
     "data": {
      "text/html": [
       "<div>\n",
       "<style scoped>\n",
       "    .dataframe tbody tr th:only-of-type {\n",
       "        vertical-align: middle;\n",
       "    }\n",
       "\n",
       "    .dataframe tbody tr th {\n",
       "        vertical-align: top;\n",
       "    }\n",
       "\n",
       "    .dataframe thead th {\n",
       "        text-align: right;\n",
       "    }\n",
       "</style>\n",
       "<table border=\"1\" class=\"dataframe\">\n",
       "  <thead>\n",
       "    <tr style=\"text-align: right;\">\n",
       "      <th></th>\n",
       "      <th>id</th>\n",
       "      <th>date</th>\n",
       "      <th>available</th>\n",
       "      <th>price</th>\n",
       "      <th>location</th>\n",
       "      <th>month</th>\n",
       "      <th>day</th>\n",
       "      <th>year</th>\n",
       "      <th>crimes_locations</th>\n",
       "      <th>near_crimes</th>\n",
       "    </tr>\n",
       "  </thead>\n",
       "  <tbody>\n",
       "    <tr>\n",
       "      <th>0</th>\n",
       "      <td>2384</td>\n",
       "      <td>06/10/2019</td>\n",
       "      <td>1</td>\n",
       "      <td>90.0</td>\n",
       "      <td>(41.788864900877655, -87.58670890962763)</td>\n",
       "      <td>6</td>\n",
       "      <td>10</td>\n",
       "      <td>2019</td>\n",
       "      <td>[(41.947252263, -87.65350869), (41.742736056, ...</td>\n",
       "      <td>2</td>\n",
       "    </tr>\n",
       "    <tr>\n",
       "      <th>1</th>\n",
       "      <td>2384</td>\n",
       "      <td>06/09/2019</td>\n",
       "      <td>1</td>\n",
       "      <td>90.0</td>\n",
       "      <td>(41.788864900877655, -87.58670890962763)</td>\n",
       "      <td>6</td>\n",
       "      <td>9</td>\n",
       "      <td>2019</td>\n",
       "      <td>[(41.80004573, -87.695196828), (41.94466821, -...</td>\n",
       "      <td>3</td>\n",
       "    </tr>\n",
       "    <tr>\n",
       "      <th>2</th>\n",
       "      <td>2384</td>\n",
       "      <td>06/08/2019</td>\n",
       "      <td>1</td>\n",
       "      <td>90.0</td>\n",
       "      <td>(41.788864900877655, -87.58670890962763)</td>\n",
       "      <td>6</td>\n",
       "      <td>8</td>\n",
       "      <td>2019</td>\n",
       "      <td>[(41.864169598000004, -87.704380001), (41.8900...</td>\n",
       "      <td>0</td>\n",
       "    </tr>\n",
       "    <tr>\n",
       "      <th>3</th>\n",
       "      <td>2384</td>\n",
       "      <td>06/07/2019</td>\n",
       "      <td>1</td>\n",
       "      <td>90.0</td>\n",
       "      <td>(41.788864900877655, -87.58670890962763)</td>\n",
       "      <td>6</td>\n",
       "      <td>7</td>\n",
       "      <td>2019</td>\n",
       "      <td>[(41.836173903, -87.721893881), (41.777876516,...</td>\n",
       "      <td>2</td>\n",
       "    </tr>\n",
       "    <tr>\n",
       "      <th>4</th>\n",
       "      <td>2384</td>\n",
       "      <td>06/06/2019</td>\n",
       "      <td>1</td>\n",
       "      <td>90.0</td>\n",
       "      <td>(41.788864900877655, -87.58670890962763)</td>\n",
       "      <td>6</td>\n",
       "      <td>6</td>\n",
       "      <td>2019</td>\n",
       "      <td>[(41.783831376, -87.587493905), (41.737953878,...</td>\n",
       "      <td>4</td>\n",
       "    </tr>\n",
       "  </tbody>\n",
       "</table>\n",
       "</div>"
      ],
      "text/plain": [
       "     id        date  available  price  \\\n",
       "0  2384  06/10/2019          1   90.0   \n",
       "1  2384  06/09/2019          1   90.0   \n",
       "2  2384  06/08/2019          1   90.0   \n",
       "3  2384  06/07/2019          1   90.0   \n",
       "4  2384  06/06/2019          1   90.0   \n",
       "\n",
       "                                   location  month  day  year  \\\n",
       "0  (41.788864900877655, -87.58670890962763)      6   10  2019   \n",
       "1  (41.788864900877655, -87.58670890962763)      6    9  2019   \n",
       "2  (41.788864900877655, -87.58670890962763)      6    8  2019   \n",
       "3  (41.788864900877655, -87.58670890962763)      6    7  2019   \n",
       "4  (41.788864900877655, -87.58670890962763)      6    6  2019   \n",
       "\n",
       "                                    crimes_locations  near_crimes  \n",
       "0  [(41.947252263, -87.65350869), (41.742736056, ...            2  \n",
       "1  [(41.80004573, -87.695196828), (41.94466821, -...            3  \n",
       "2  [(41.864169598000004, -87.704380001), (41.8900...            0  \n",
       "3  [(41.836173903, -87.721893881), (41.777876516,...            2  \n",
       "4  [(41.783831376, -87.587493905), (41.737953878,...            4  "
      ]
     },
     "execution_count": 42,
     "metadata": {},
     "output_type": "execute_result"
    }
   ],
   "source": [
    "# Example: Relation between price and near_crimes for each host \n",
    "host_2384 = database[database.id==2384]\n",
    "host_2384.reset_index().drop(['index','level_0'],axis=1).head()"
   ]
  },
  {
   "cell_type": "code",
   "execution_count": 39,
   "metadata": {},
   "outputs": [
    {
     "data": {
      "text/plain": [
       "array([[ 1.        , -0.12629818],\n",
       "       [-0.12629818,  1.        ]])"
      ]
     },
     "execution_count": 39,
     "metadata": {},
     "output_type": "execute_result"
    }
   ],
   "source": [
    "# Correlation:\n",
    "np.corrcoef(host_2384.price,host_2384.near_crimes)"
   ]
  },
  {
   "cell_type": "code",
   "execution_count": 47,
   "metadata": {},
   "outputs": [
    {
     "data": {
      "text/plain": [
       "[1, 0]"
      ]
     },
     "execution_count": 47,
     "metadata": {},
     "output_type": "execute_result"
    }
   ],
   "source": [
    "# Looking for evidences:\n",
    "x=host_2384.near_crimes\n",
    "y=host_2384.price\n",
    "result(x,y)"
   ]
  },
  {
   "cell_type": "markdown",
   "metadata": {},
   "source": [
    "### Regression for each Host:"
   ]
  },
  {
   "cell_type": "code",
   "execution_count": 2,
   "metadata": {},
   "outputs": [
    {
     "ename": "NameError",
     "evalue": "name 'id_hosts' is not defined",
     "output_type": "error",
     "traceback": [
      "\u001b[0;31m---------------------------------------------------------------------------\u001b[0m",
      "\u001b[0;31mNameError\u001b[0m                                 Traceback (most recent call last)",
      "\u001b[0;32m<ipython-input-2-7d6988e1b021>\u001b[0m in \u001b[0;36m<module>\u001b[0;34m\u001b[0m\n\u001b[1;32m      1\u001b[0m \u001b[0mhosts_pandas\u001b[0m \u001b[0;34m=\u001b[0m \u001b[0;34m{\u001b[0m\u001b[0;34m}\u001b[0m\u001b[0;34m\u001b[0m\u001b[0;34m\u001b[0m\u001b[0m\n\u001b[0;32m----> 2\u001b[0;31m \u001b[0;32mfor\u001b[0m \u001b[0mi\u001b[0m \u001b[0;32min\u001b[0m \u001b[0mid_hosts\u001b[0m\u001b[0;34m:\u001b[0m\u001b[0;34m\u001b[0m\u001b[0;34m\u001b[0m\u001b[0m\n\u001b[0m\u001b[1;32m      3\u001b[0m     \u001b[0mkey\u001b[0m \u001b[0;34m=\u001b[0m \u001b[0;34m\"host_\"\u001b[0m\u001b[0;34m+\u001b[0m\u001b[0mstr\u001b[0m\u001b[0;34m(\u001b[0m\u001b[0mi\u001b[0m\u001b[0;34m)\u001b[0m\u001b[0;34m\u001b[0m\u001b[0;34m\u001b[0m\u001b[0m\n\u001b[1;32m      4\u001b[0m     \u001b[0mhosts_pandas\u001b[0m\u001b[0;34m[\u001b[0m\u001b[0mkey\u001b[0m\u001b[0;34m]\u001b[0m\u001b[0;34m=\u001b[0m\u001b[0mdatabase\u001b[0m\u001b[0;34m[\u001b[0m\u001b[0mdatabase\u001b[0m\u001b[0;34m.\u001b[0m\u001b[0mid\u001b[0m\u001b[0;34m==\u001b[0m\u001b[0mi\u001b[0m\u001b[0;34m]\u001b[0m\u001b[0;34m\u001b[0m\u001b[0;34m\u001b[0m\u001b[0m\n",
      "\u001b[0;31mNameError\u001b[0m: name 'id_hosts' is not defined"
     ]
    }
   ],
   "source": [
    "hosts_pandas = {}\n",
    "for i in id_hosts:\n",
    "    key = \"host_\"+str(i)\n",
    "    hosts_pandas[key]=database[database.id==i]"
   ]
  },
  {
   "cell_type": "code",
   "execution_count": 1,
   "metadata": {},
   "outputs": [
    {
     "ename": "NameError",
     "evalue": "name 'hosts_pandas' is not defined",
     "output_type": "error",
     "traceback": [
      "\u001b[0;31m---------------------------------------------------------------------------\u001b[0m",
      "\u001b[0;31mNameError\u001b[0m                                 Traceback (most recent call last)",
      "\u001b[0;32m<ipython-input-1-2da3fa395f46>\u001b[0m in \u001b[0;36m<module>\u001b[0;34m\u001b[0m\n\u001b[1;32m      1\u001b[0m \u001b[0mresults\u001b[0m \u001b[0;34m=\u001b[0m \u001b[0;34m[\u001b[0m\u001b[0;34m]\u001b[0m\u001b[0;34m\u001b[0m\u001b[0;34m\u001b[0m\u001b[0m\n\u001b[0;32m----> 2\u001b[0;31m \u001b[0;32mfor\u001b[0m \u001b[0mi\u001b[0m \u001b[0;32min\u001b[0m \u001b[0mlist\u001b[0m\u001b[0;34m(\u001b[0m\u001b[0mhosts_pandas\u001b[0m\u001b[0;34m.\u001b[0m\u001b[0mkeys\u001b[0m\u001b[0;34m(\u001b[0m\u001b[0;34m)\u001b[0m\u001b[0;34m)\u001b[0m\u001b[0;34m:\u001b[0m\u001b[0;34m\u001b[0m\u001b[0;34m\u001b[0m\u001b[0m\n\u001b[0m\u001b[1;32m      3\u001b[0m     \u001b[0mx\u001b[0m\u001b[0;34m=\u001b[0m\u001b[0mhosts_pandas\u001b[0m\u001b[0;34m[\u001b[0m\u001b[0mi\u001b[0m\u001b[0;34m]\u001b[0m\u001b[0;34m.\u001b[0m\u001b[0mnear_crimes\u001b[0m\u001b[0;34m\u001b[0m\u001b[0;34m\u001b[0m\u001b[0m\n\u001b[1;32m      4\u001b[0m     \u001b[0my\u001b[0m\u001b[0;34m=\u001b[0m\u001b[0mhosts_pandas\u001b[0m\u001b[0;34m[\u001b[0m\u001b[0mi\u001b[0m\u001b[0;34m]\u001b[0m\u001b[0;34m.\u001b[0m\u001b[0mprice\u001b[0m\u001b[0;34m\u001b[0m\u001b[0;34m\u001b[0m\u001b[0m\n\u001b[1;32m      5\u001b[0m     \u001b[0ma\u001b[0m \u001b[0;34m=\u001b[0m \u001b[0mnp\u001b[0m\u001b[0;34m.\u001b[0m\u001b[0marray\u001b[0m\u001b[0;34m(\u001b[0m\u001b[0mresult\u001b[0m\u001b[0;34m(\u001b[0m\u001b[0mx\u001b[0m\u001b[0;34m,\u001b[0m\u001b[0my\u001b[0m\u001b[0;34m)\u001b[0m\u001b[0;34m)\u001b[0m\u001b[0;34m\u001b[0m\u001b[0;34m\u001b[0m\u001b[0m\n",
      "\u001b[0;31mNameError\u001b[0m: name 'hosts_pandas' is not defined"
     ]
    }
   ],
   "source": [
    "results = []\n",
    "for i in list(hosts_pandas.keys()):\n",
    "    x=hosts_pandas[i].near_crimes\n",
    "    y=hosts_pandas[i].price\n",
    "    a = np.array(result(x,y))\n",
    "    results.append(a)\n",
    "final = sum(results)\n",
    "good_coef = final[0]/len(id_hosts)\n",
    "good_pvalue = final[1]/len(id_hosts)\n",
    "print(\"% Regressions with negative coefficient for crime: \"+str(good_coef))\n",
    "print(\"% Regressions with little p-value: \"+str(good_pvalue))"
   ]
  },
  {
   "cell_type": "markdown",
   "metadata": {},
   "source": [
    "### Map with unique hosts"
   ]
  },
  {
   "cell_type": "code",
   "execution_count": null,
   "metadata": {},
   "outputs": [],
   "source": []
  },
  {
   "cell_type": "code",
   "execution_count": 4,
   "metadata": {},
   "outputs": [],
   "source": [
    "chicago_hosts['coords_x'] = chicago_hosts['Location'].apply(lambda x: merc(x)[0])\n",
    "chicago_hosts['coords_y'] = chicago_hosts['Location'].apply(lambda x: merc(x)[1])\n",
    "p = figure(x_axis_type=\"mercator\", y_axis_type=\"mercator\")\n",
    "p.add_tile(CARTODBPOSITRON)\n",
    "p.circle(x = chicago_hosts['coords_x'],\n",
    "        y = chicago_hosts['coords_y'])\n",
    "output_notebook()\n",
    "show(p)"
   ]
  }
 ],
 "metadata": {
  "kernelspec": {
   "display_name": "Python 3",
   "language": "python",
   "name": "python3"
  },
  "language_info": {
   "codemirror_mode": {
    "name": "ipython",
    "version": 3
   },
   "file_extension": ".py",
   "mimetype": "text/x-python",
   "name": "python",
   "nbconvert_exporter": "python",
   "pygments_lexer": "ipython3",
   "version": "3.7.3"
  }
 },
 "nbformat": 4,
 "nbformat_minor": 2
}
