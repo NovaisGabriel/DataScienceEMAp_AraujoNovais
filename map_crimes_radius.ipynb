{
 "cells": [
  {
   "cell_type": "markdown",
   "metadata": {},
   "source": [
    "# NOTE\n",
    "This notebook was created for the sole purpose of generating maps for the project website; the code was run locally and might be slightly deprecated due to small changes between the datasets used here and the finalized versions linked to from Google Drive"
   ]
  },
  {
   "cell_type": "code",
   "execution_count": 1,
   "metadata": {},
   "outputs": [
    {
     "ename": "KeyboardInterrupt",
     "evalue": "",
     "output_type": "error",
     "traceback": [
      "\u001b[1;31m---------------------------------------------------------------------------\u001b[0m",
      "\u001b[1;31mKeyboardInterrupt\u001b[0m                         Traceback (most recent call last)",
      "\u001b[1;32m<ipython-input-1-6bb08cb4ab98>\u001b[0m in \u001b[0;36m<module>\u001b[1;34m\u001b[0m\n\u001b[0;32m      7\u001b[0m \u001b[1;32mfrom\u001b[0m \u001b[0mmath\u001b[0m \u001b[1;32mimport\u001b[0m \u001b[0mradians\u001b[0m\u001b[1;33m,\u001b[0m \u001b[0msin\u001b[0m\u001b[1;33m,\u001b[0m \u001b[0mcos\u001b[0m\u001b[1;33m,\u001b[0m \u001b[0macos\u001b[0m\u001b[1;33m,\u001b[0m \u001b[0mlog\u001b[0m\u001b[1;33m,\u001b[0m \u001b[0mpi\u001b[0m\u001b[1;33m,\u001b[0m \u001b[0mtan\u001b[0m\u001b[1;33m,\u001b[0m \u001b[0masin\u001b[0m\u001b[1;33m,\u001b[0m\u001b[0msqrt\u001b[0m\u001b[1;33m\u001b[0m\u001b[1;33m\u001b[0m\u001b[0m\n\u001b[0;32m      8\u001b[0m \u001b[1;32mfrom\u001b[0m \u001b[0mdecimal\u001b[0m \u001b[1;32mimport\u001b[0m \u001b[0mDecimal\u001b[0m\u001b[1;33m\u001b[0m\u001b[1;33m\u001b[0m\u001b[0m\n\u001b[1;32m----> 9\u001b[1;33m \u001b[1;32mfrom\u001b[0m \u001b[0mbokeh\u001b[0m\u001b[1;33m.\u001b[0m\u001b[0mplotting\u001b[0m \u001b[1;32mimport\u001b[0m \u001b[0mfigure\u001b[0m\u001b[1;33m,\u001b[0m \u001b[0mshow\u001b[0m\u001b[1;33m,\u001b[0m \u001b[0moutput_notebook\u001b[0m\u001b[1;33m\u001b[0m\u001b[1;33m\u001b[0m\u001b[0m\n\u001b[0m\u001b[0;32m     10\u001b[0m \u001b[1;32mfrom\u001b[0m \u001b[0mbokeh\u001b[0m\u001b[1;33m.\u001b[0m\u001b[0mtile_providers\u001b[0m \u001b[1;32mimport\u001b[0m \u001b[0mCARTODBPOSITRON\u001b[0m\u001b[1;33m,\u001b[0m\u001b[0mSTAMEN_TERRAIN\u001b[0m\u001b[1;33m\u001b[0m\u001b[1;33m\u001b[0m\u001b[0m\n\u001b[0;32m     11\u001b[0m \u001b[1;32mfrom\u001b[0m \u001b[0mast\u001b[0m \u001b[1;32mimport\u001b[0m \u001b[0mliteral_eval\u001b[0m\u001b[1;33m\u001b[0m\u001b[1;33m\u001b[0m\u001b[0m\n",
      "\u001b[1;32m~\\Anaconda3\\lib\\site-packages\\bokeh\\plotting\\__init__.py\u001b[0m in \u001b[0;36m<module>\u001b[1;34m\u001b[0m\n\u001b[0;32m     55\u001b[0m \u001b[1;31m# this is just for testing, otherwise the figure module is shadowed\u001b[0m\u001b[1;33m\u001b[0m\u001b[1;33m\u001b[0m\u001b[1;33m\u001b[0m\u001b[0m\n\u001b[0;32m     56\u001b[0m \u001b[1;31m# by the figure function and inacessible\u001b[0m\u001b[1;33m\u001b[0m\u001b[1;33m\u001b[0m\u001b[1;33m\u001b[0m\u001b[0m\n\u001b[1;32m---> 57\u001b[1;33m \u001b[1;32mfrom\u001b[0m \u001b[1;33m.\u001b[0m \u001b[1;32mimport\u001b[0m \u001b[0mfigure\u001b[0m \u001b[1;32mas\u001b[0m \u001b[0m_figure\u001b[0m\u001b[1;33m\u001b[0m\u001b[1;33m\u001b[0m\u001b[0m\n\u001b[0m\u001b[0;32m     58\u001b[0m \u001b[1;33m\u001b[0m\u001b[0m\n\u001b[0;32m     59\u001b[0m \u001b[1;31m#-----------------------------------------------------------------------------\u001b[0m\u001b[1;33m\u001b[0m\u001b[1;33m\u001b[0m\u001b[1;33m\u001b[0m\u001b[0m\n",
      "\u001b[1;32m~\\Anaconda3\\lib\\site-packages\\bokeh\\plotting\\figure.py\u001b[0m in \u001b[0;36m<module>\u001b[1;34m\u001b[0m\n\u001b[0;32m     24\u001b[0m \u001b[1;33m\u001b[0m\u001b[0m\n\u001b[0;32m     25\u001b[0m \u001b[1;31m# Bokeh imports\u001b[0m\u001b[1;33m\u001b[0m\u001b[1;33m\u001b[0m\u001b[1;33m\u001b[0m\u001b[0m\n\u001b[1;32m---> 26\u001b[1;33m \u001b[1;32mfrom\u001b[0m \u001b[1;33m.\u001b[0m\u001b[1;33m.\u001b[0m\u001b[0mcore\u001b[0m\u001b[1;33m.\u001b[0m\u001b[0mproperties\u001b[0m \u001b[1;32mimport\u001b[0m \u001b[0mAny\u001b[0m\u001b[1;33m,\u001b[0m \u001b[0mAuto\u001b[0m\u001b[1;33m,\u001b[0m \u001b[0mEither\u001b[0m\u001b[1;33m,\u001b[0m \u001b[0mEnum\u001b[0m\u001b[1;33m,\u001b[0m \u001b[0mInt\u001b[0m\u001b[1;33m,\u001b[0m \u001b[0mList\u001b[0m\u001b[1;33m,\u001b[0m \u001b[0mSeq\u001b[0m\u001b[1;33m,\u001b[0m \u001b[0mInstance\u001b[0m\u001b[1;33m,\u001b[0m \u001b[0mString\u001b[0m\u001b[1;33m,\u001b[0m \u001b[0mTuple\u001b[0m\u001b[1;33m\u001b[0m\u001b[1;33m\u001b[0m\u001b[0m\n\u001b[0m\u001b[0;32m     27\u001b[0m \u001b[1;32mfrom\u001b[0m \u001b[1;33m.\u001b[0m\u001b[1;33m.\u001b[0m\u001b[0mcore\u001b[0m\u001b[1;33m.\u001b[0m\u001b[0menums\u001b[0m \u001b[1;32mimport\u001b[0m \u001b[0mHorizontalLocation\u001b[0m\u001b[1;33m,\u001b[0m \u001b[0mMarkerType\u001b[0m\u001b[1;33m,\u001b[0m \u001b[0mVerticalLocation\u001b[0m\u001b[1;33m\u001b[0m\u001b[1;33m\u001b[0m\u001b[0m\n\u001b[0;32m     28\u001b[0m \u001b[1;32mfrom\u001b[0m \u001b[1;33m.\u001b[0m\u001b[1;33m.\u001b[0m\u001b[0mmodels\u001b[0m \u001b[1;32mimport\u001b[0m \u001b[0mColumnDataSource\u001b[0m\u001b[1;33m,\u001b[0m \u001b[0mPlot\u001b[0m\u001b[1;33m,\u001b[0m \u001b[0mTitle\u001b[0m\u001b[1;33m,\u001b[0m \u001b[0mTool\u001b[0m\u001b[1;33m,\u001b[0m \u001b[0mGraphRenderer\u001b[0m\u001b[1;33m\u001b[0m\u001b[1;33m\u001b[0m\u001b[0m\n",
      "\u001b[1;32m~\\Anaconda3\\lib\\site-packages\\bokeh\\core\\properties.py\u001b[0m in \u001b[0;36m<module>\u001b[1;34m\u001b[0m\n\u001b[0;32m    237\u001b[0m \u001b[1;31m#-----------------------------------------------------------------------------\u001b[0m\u001b[1;33m\u001b[0m\u001b[1;33m\u001b[0m\u001b[1;33m\u001b[0m\u001b[0m\n\u001b[0;32m    238\u001b[0m \u001b[1;33m\u001b[0m\u001b[0m\n\u001b[1;32m--> 239\u001b[1;33m \u001b[1;32mfrom\u001b[0m \u001b[1;33m.\u001b[0m\u001b[0mproperty\u001b[0m\u001b[1;33m.\u001b[0m\u001b[0many\u001b[0m \u001b[1;32mimport\u001b[0m \u001b[0mAny\u001b[0m\u001b[1;33m;\u001b[0m \u001b[0mAny\u001b[0m\u001b[1;33m\u001b[0m\u001b[1;33m\u001b[0m\u001b[0m\n\u001b[0m\u001b[0;32m    240\u001b[0m \u001b[1;32mfrom\u001b[0m \u001b[1;33m.\u001b[0m\u001b[0mproperty\u001b[0m\u001b[1;33m.\u001b[0m\u001b[0many\u001b[0m \u001b[1;32mimport\u001b[0m \u001b[0mAnyRef\u001b[0m\u001b[1;33m;\u001b[0m \u001b[0mAnyRef\u001b[0m\u001b[1;33m\u001b[0m\u001b[1;33m\u001b[0m\u001b[0m\n\u001b[0;32m    241\u001b[0m \u001b[1;33m\u001b[0m\u001b[0m\n",
      "\u001b[1;32m~\\Anaconda3\\lib\\site-packages\\bokeh\\core\\property\\any.py\u001b[0m in \u001b[0;36m<module>\u001b[1;34m\u001b[0m\n\u001b[0;32m     29\u001b[0m \u001b[1;33m\u001b[0m\u001b[0m\n\u001b[0;32m     30\u001b[0m \u001b[1;31m# Bokeh imports\u001b[0m\u001b[1;33m\u001b[0m\u001b[1;33m\u001b[0m\u001b[1;33m\u001b[0m\u001b[0m\n\u001b[1;32m---> 31\u001b[1;33m \u001b[1;32mfrom\u001b[0m \u001b[1;33m.\u001b[0m\u001b[0mbases\u001b[0m \u001b[1;32mimport\u001b[0m \u001b[0mProperty\u001b[0m\u001b[1;33m\u001b[0m\u001b[1;33m\u001b[0m\u001b[0m\n\u001b[0m\u001b[0;32m     32\u001b[0m \u001b[1;33m\u001b[0m\u001b[0m\n\u001b[0;32m     33\u001b[0m \u001b[1;31m#-----------------------------------------------------------------------------\u001b[0m\u001b[1;33m\u001b[0m\u001b[1;33m\u001b[0m\u001b[1;33m\u001b[0m\u001b[0m\n",
      "\u001b[1;32m~\\Anaconda3\\lib\\site-packages\\bokeh\\core\\property\\bases.py\u001b[0m in \u001b[0;36m<module>\u001b[1;34m\u001b[0m\n\u001b[0;32m     38\u001b[0m \u001b[1;32mfrom\u001b[0m \u001b[1;33m...\u001b[0m\u001b[0mutil\u001b[0m\u001b[1;33m.\u001b[0m\u001b[0mdependencies\u001b[0m \u001b[1;32mimport\u001b[0m \u001b[0mimport_optional\u001b[0m\u001b[1;33m\u001b[0m\u001b[1;33m\u001b[0m\u001b[0m\n\u001b[0;32m     39\u001b[0m \u001b[1;32mfrom\u001b[0m \u001b[1;33m...\u001b[0m\u001b[0mutil\u001b[0m\u001b[1;33m.\u001b[0m\u001b[0mstring\u001b[0m \u001b[1;32mimport\u001b[0m \u001b[0mnice_join\u001b[0m\u001b[1;33m\u001b[0m\u001b[1;33m\u001b[0m\u001b[0m\n\u001b[1;32m---> 40\u001b[1;33m \u001b[1;32mfrom\u001b[0m \u001b[1;33m.\u001b[0m\u001b[1;33m.\u001b[0m\u001b[0mhas_props\u001b[0m \u001b[1;32mimport\u001b[0m \u001b[0mHasProps\u001b[0m\u001b[1;33m\u001b[0m\u001b[1;33m\u001b[0m\u001b[0m\n\u001b[0m\u001b[0;32m     41\u001b[0m \u001b[1;32mfrom\u001b[0m \u001b[1;33m.\u001b[0m\u001b[0mdescriptor_factory\u001b[0m \u001b[1;32mimport\u001b[0m \u001b[0mPropertyDescriptorFactory\u001b[0m\u001b[1;33m\u001b[0m\u001b[1;33m\u001b[0m\u001b[0m\n\u001b[0;32m     42\u001b[0m \u001b[1;32mfrom\u001b[0m \u001b[1;33m.\u001b[0m\u001b[0mdescriptors\u001b[0m \u001b[1;32mimport\u001b[0m \u001b[0mBasicPropertyDescriptor\u001b[0m\u001b[1;33m\u001b[0m\u001b[1;33m\u001b[0m\u001b[0m\n",
      "\u001b[1;32m~\\Anaconda3\\lib\\site-packages\\bokeh\\core\\has_props.py\u001b[0m in \u001b[0;36m<module>\u001b[1;34m\u001b[0m\n\u001b[0;32m     41\u001b[0m \u001b[1;32mfrom\u001b[0m \u001b[1;33m.\u001b[0m\u001b[0mproperty\u001b[0m\u001b[1;33m.\u001b[0m\u001b[0mdescriptor_factory\u001b[0m \u001b[1;32mimport\u001b[0m \u001b[0mPropertyDescriptorFactory\u001b[0m\u001b[1;33m\u001b[0m\u001b[1;33m\u001b[0m\u001b[0m\n\u001b[0;32m     42\u001b[0m \u001b[1;32mfrom\u001b[0m \u001b[1;33m.\u001b[0m\u001b[0mproperty\u001b[0m\u001b[1;33m.\u001b[0m\u001b[0moverride\u001b[0m \u001b[1;32mimport\u001b[0m \u001b[0mOverride\u001b[0m\u001b[1;33m\u001b[0m\u001b[1;33m\u001b[0m\u001b[0m\n\u001b[1;32m---> 43\u001b[1;33m \u001b[1;32mfrom\u001b[0m \u001b[1;33m.\u001b[0m\u001b[0mproperty\u001b[0m\u001b[1;33m.\u001b[0m\u001b[0mwrappers\u001b[0m \u001b[1;32mimport\u001b[0m \u001b[0mPropertyValueContainer\u001b[0m\u001b[1;33m\u001b[0m\u001b[1;33m\u001b[0m\u001b[0m\n\u001b[0m\u001b[0;32m     44\u001b[0m \u001b[1;33m\u001b[0m\u001b[0m\n\u001b[0;32m     45\u001b[0m \u001b[1;31m#-----------------------------------------------------------------------------\u001b[0m\u001b[1;33m\u001b[0m\u001b[1;33m\u001b[0m\u001b[1;33m\u001b[0m\u001b[0m\n",
      "\u001b[1;32m~\\Anaconda3\\lib\\importlib\\_bootstrap.py\u001b[0m in \u001b[0;36m_find_and_load\u001b[1;34m(name, import_)\u001b[0m\n",
      "\u001b[1;32m~\\Anaconda3\\lib\\importlib\\_bootstrap.py\u001b[0m in \u001b[0;36m_find_and_load_unlocked\u001b[1;34m(name, import_)\u001b[0m\n",
      "\u001b[1;32m~\\Anaconda3\\lib\\importlib\\_bootstrap.py\u001b[0m in \u001b[0;36m_load_unlocked\u001b[1;34m(spec)\u001b[0m\n",
      "\u001b[1;32m~\\Anaconda3\\lib\\importlib\\_bootstrap_external.py\u001b[0m in \u001b[0;36mexec_module\u001b[1;34m(self, module)\u001b[0m\n",
      "\u001b[1;32m~\\Anaconda3\\lib\\importlib\\_bootstrap_external.py\u001b[0m in \u001b[0;36mget_code\u001b[1;34m(self, fullname)\u001b[0m\n",
      "\u001b[1;32m~\\Anaconda3\\lib\\importlib\\_bootstrap_external.py\u001b[0m in \u001b[0;36mget_data\u001b[1;34m(self, path)\u001b[0m\n",
      "\u001b[1;31mKeyboardInterrupt\u001b[0m: "
     ]
    }
   ],
   "source": [
    "import numpy as np\n",
    "import pandas as pd \n",
    "import matplotlib.pyplot as plt\n",
    "import glob\n",
    "import re\n",
    "\n",
    "from math import radians, sin, cos, acos, log, pi, tan, asin,sqrt\n",
    "from decimal import Decimal\n",
    "from bokeh.plotting import figure, show, output_notebook\n",
    "from bokeh.tile_providers import CARTODBPOSITRON,STAMEN_TERRAIN\n",
    "from ast import literal_eval\n",
    "from scipy import stats\n",
    "from math import radians, sin, cos, acos, log, pi, tan, asin,sqrt\n",
    "from decimal import Decimal\n",
    "from bokeh.embed import components\n",
    "from bokeh.resources import CDN\n",
    "from bokeh.transform import factor_cmap\n",
    "from bokeh.palettes import Category20b_20\n",
    "from bokeh.models import ColumnDataSource, HoverTool"
   ]
  },
  {
   "cell_type": "code",
   "execution_count": null,
   "metadata": {},
   "outputs": [],
   "source": [
    "def merc(Coords):\n",
    "    Coordinates = (Coords)\n",
    "    lat = Coordinates[0]\n",
    "    lon = Coordinates[1]\n",
    "    \n",
    "    r_major = 6378137.000\n",
    "    x = r_major * radians(lon)\n",
    "    scale = x/lon\n",
    "    y = 180.0/pi * log(tan(pi/4.0 + \n",
    "        lat * (pi/180.0)/2.0)) * scale\n",
    "    return (x, y)"
   ]
  },
  {
   "cell_type": "code",
   "execution_count": null,
   "metadata": {},
   "outputs": [],
   "source": [
    "#Download from: https://drive.google.com/open?id=1AOv3CrNOysm8FOfgSLL8aWhcWGPRXgPb\n",
    "airbnb_cr = pd.read_csv('/home/novais/Downloads/airbnb_cr.csv')"
   ]
  },
  {
   "cell_type": "code",
   "execution_count": null,
   "metadata": {},
   "outputs": [],
   "source": [
    "airbnb_cr.crimes_5km_count=airbnb_cr.crimes_1km_count+airbnb_cr.crimes_2km_count+airbnb_cr.crimes_5km_count\n",
    "airbnb_cr.crimes_2km_count=airbnb_cr.crimes_1km_count+airbnb_cr.crimes_2km_count\n",
    "airbnb_cr.head()"
   ]
  },
  {
   "cell_type": "code",
   "execution_count": null,
   "metadata": {},
   "outputs": [],
   "source": [
    "ids=list(airbnb_cr['listing_id'].unique())"
   ]
  },
  {
   "cell_type": "code",
   "execution_count": null,
   "metadata": {},
   "outputs": [],
   "source": [
    "loc_sum=airbnb_cr.groupby(['loc_id']).sum()\n",
    "loc_sum=loc_sum.reset_index()\n",
    "loc_sum=loc_sum[['loc_id','crimes_1km_count','crimes_2km_count','crimes_5km_count']]\n",
    "loc_sum=loc_sum.rename(index=str, columns={\"crimes_1km_count\": \"crimes_1km_sum\",\"crimes_2km_count\": \"crimes_2km_sum\",\"crimes_5km_count\": \"crimes_5km_sum\"})\n",
    "loc_sum.head()"
   ]
  },
  {
   "cell_type": "code",
   "execution_count": null,
   "metadata": {},
   "outputs": [],
   "source": [
    "loc_mean=airbnb_cr.groupby(['loc_id']).mean()\n",
    "loc_mean=loc_mean.reset_index()\n",
    "loc_mean=loc_mean[['loc_id','crimes_1km_count','crimes_2km_count','crimes_5km_count']]\n",
    "loc_mean=loc_mean.rename(index=str, columns={\"crimes_1km_count\": \"crimes_1km_mean\",\"crimes_2km_count\": \"crimes_2km_mean\",\"crimes_5km_count\": \"crimes_5km_mean\"})\n",
    "loc_mean.head()"
   ]
  },
  {
   "cell_type": "code",
   "execution_count": null,
   "metadata": {},
   "outputs": [],
   "source": [
    "loc_count=loc_mean.merge(loc_sum,on='loc_id')\n",
    "loc_count.head()"
   ]
  },
  {
   "cell_type": "code",
   "execution_count": null,
   "metadata": {},
   "outputs": [],
   "source": [
    "airbnb_cr2=airbnb_cr.merge(loc_count,on='loc_id')\n",
    "airbnb_cr2=airbnb_cr2.groupby('loc_id').mean()\n",
    "airbnb_cr2=airbnb_cr2.reset_index()\n",
    "airbnb_cr2=airbnb_cr2[['lat','lon','loc_id','crimes_1km_mean','crimes_2km_mean','crimes_5km_mean','crimes_1km_sum','crimes_2km_sum','crimes_5km_sum']]\n",
    "airbnb_cr2['loc']=list(zip(airbnb_cr2.lat,airbnb_cr2.lon))\n",
    "airbnb_cr2.head()"
   ]
  },
  {
   "cell_type": "code",
   "execution_count": null,
   "metadata": {},
   "outputs": [],
   "source": [
    "# listings2['loc'] = listings2['loc'].apply(lambda x: literal_eval(x))\n",
    "airbnb_cr2['coords_x'] = airbnb_cr2['loc'].apply(lambda x: merc(x)[0])\n",
    "airbnb_cr2['coords_y'] = airbnb_cr2['loc'].apply(lambda x: merc(x)[1])\n",
    "\n",
    "p1 = figure(title = \"Listings and Crimes\")\n",
    "p1.xaxis.axis_label = 'Latitude'\n",
    "p1.yaxis.axis_label = 'Longitude'\n",
    "\n",
    "a1 = airbnb_cr2[['crimes_1km_sum','crimes_1km_mean','coords_x','coords_y']]\n",
    "a2 = airbnb_cr2[['crimes_2km_sum','crimes_2km_mean','coords_x','coords_y']]\n",
    "a5 = airbnb_cr2[['crimes_5km_sum','crimes_5km_mean','coords_x','coords_y']]\n",
    "\n",
    "source5 = ColumnDataSource(data=dict(\n",
    "    s=a5['crimes_5km_sum'],\n",
    "    cx=a5['coords_x'],\n",
    "    cy=a5['coords_y'],\n",
    "    sizes = [50]*len(a5),\n",
    "    names = ['5 km']*len(a5),\n",
    "    colors = ['#F39A05']*len(a5)\n",
    "    ))\n",
    "source2 = ColumnDataSource(data=dict(\n",
    "    s=a2['crimes_2km_sum'],\n",
    "    cx=a2['coords_x'],\n",
    "    cy=a2['coords_y'],\n",
    "    sizes = [30]*len(a2),\n",
    "    names = ['2 km']*len(a2),\n",
    "    colors = ['#D34B08']*len(a2)\n",
    "    ))\n",
    "source1 = ColumnDataSource(data=dict(\n",
    "    s=a1['crimes_1km_sum'],\n",
    "    cx=a1['coords_x'],\n",
    "    cy=a1['coords_y'],\n",
    "    sizes = [10]*len(a1),\n",
    "    names = ['1 km']*len(a1),\n",
    "    colors = ['#B70B0D']*len(a1)\n",
    "    ))\n",
    "\n",
    "\n",
    "\n",
    "p1 = figure(x_axis_type=\"mercator\", y_axis_type=\"mercator\")\n",
    "p1.add_tile(CARTODBPOSITRON)\n",
    "\n",
    "p1.circle(x = 'cx',y = 'cy',source=source5,size='sizes',legend ='names',color='colors',fill_alpha=0.5)\n",
    "p1.circle(x = 'cx',y = 'cy',source=source2,size='sizes',legend ='names',color='colors',fill_alpha=0.6)\n",
    "p1.circle(x = 'cx',y = 'cy',source=source1,size='sizes',legend ='names',color='colors',fill_alpha=0.7)\n",
    "\n",
    "\n",
    "\n",
    "p1.add_tools(HoverTool(\n",
    "    tooltips=[\n",
    "        ( 'Nº of occurrences', '@s')\n",
    "    ],\n",
    "    \n",
    "    formatters={\n",
    "        'Nº of occurrences' : 'numeral',   \n",
    "    },\n",
    "\n",
    "))\n",
    "\n",
    "p1.legend.location = \"top_right\"\n",
    "p1.legend.click_policy=\"hide\"\n",
    "\n",
    "p1_script, p1_div = components(p1)"
   ]
  },
  {
   "cell_type": "code",
   "execution_count": null,
   "metadata": {},
   "outputs": [],
   "source": [
    "output_notebook()\n"
   ]
  },
  {
   "cell_type": "code",
   "execution_count": null,
   "metadata": {},
   "outputs": [],
   "source": [
    "show(p1)"
   ]
  },
  {
   "cell_type": "code",
   "execution_count": null,
   "metadata": {},
   "outputs": [],
   "source": [
    "print(p1_script)"
   ]
  },
  {
   "cell_type": "code",
   "execution_count": null,
   "metadata": {},
   "outputs": [],
   "source": [
    "print(p1_div)"
   ]
  },
  {
   "cell_type": "code",
   "execution_count": null,
   "metadata": {},
   "outputs": [],
   "source": []
  },
  {
   "cell_type": "code",
   "execution_count": null,
   "metadata": {},
   "outputs": [],
   "source": []
  }
 ],
 "metadata": {
  "kernelspec": {
   "display_name": "Python 3",
   "language": "python",
   "name": "python3"
  },
  "language_info": {
   "codemirror_mode": {
    "name": "ipython",
    "version": 3
   },
   "file_extension": ".py",
   "mimetype": "text/x-python",
   "name": "python",
   "nbconvert_exporter": "python",
   "pygments_lexer": "ipython3",
   "version": "3.7.3"
  }
 },
 "nbformat": 4,
 "nbformat_minor": 2
}
