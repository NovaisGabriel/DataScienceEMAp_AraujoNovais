{
  "nbformat": 4,
  "nbformat_minor": 0,
  "metadata": {
    "colab": {
      "name": "FDS_part2_stat.ipynb",
      "version": "0.3.2",
      "provenance": [],
      "collapsed_sections": [],
      "include_colab_link": true
    },
    "kernelspec": {
      "name": "python3",
      "display_name": "Python 3"
    }
  },
  "cells": [
    {
      "cell_type": "markdown",
      "metadata": {
        "id": "view-in-github",
        "colab_type": "text"
      },
      "source": [
        "<a href=\"https://colab.research.google.com/github/araujoghm/DataScienceEMAp_AraujoNovais/blob/master/FDS_part2_stat.ipynb\" target=\"_parent\"><img src=\"https://colab.research.google.com/assets/colab-badge.svg\" alt=\"Open In Colab\"/></a>"
      ]
    },
    {
      "cell_type": "code",
      "metadata": {
        "id": "Nj7rfAgefcEh",
        "colab_type": "code",
        "colab": {}
      },
      "source": [
        ""
      ],
      "execution_count": 0,
      "outputs": []
    },
    {
      "cell_type": "markdown",
      "metadata": {
        "colab_type": "text",
        "id": "bDbWsURQTASp"
      },
      "source": [
        "# 1 - Airbnb listing prices x nearby crimes on each date "
      ]
    },
    {
      "cell_type": "markdown",
      "metadata": {
        "colab_type": "text",
        "id": "5nTT-LGjYkkn"
      },
      "source": [
        "## Statistical analysis"
      ]
    },
    {
      "cell_type": "markdown",
      "metadata": {
        "colab_type": "text",
        "id": "rRr5IjGZZi_a"
      },
      "source": [
        "As a preliminary step, we'll check correlations between price and our counts of nearby crimes on the date of the listing."
      ]
    },
    {
      "cell_type": "code",
      "metadata": {
        "colab_type": "code",
        "id": "ydQh6gsMtgUa",
        "colab": {}
      },
      "source": [
        "Z_c=airbnb_cr[['price','crimes_1km_count','crimes_2km_count','crimes_5km_count']]\n",
        "Z_h=airbnb_cr[['price','homicides_1km_count','homicides_2km_count','homicides_5km_count']]\n",
        "Z_v=airbnb_cr[['price','violence_1km_count','violence_2km_count','violence_5km_count']]\n",
        "Z_s=airbnb_cr[['price','stealing_1km_count','stealing_2km_count','stealing_5km_count']]"
      ],
      "execution_count": 0,
      "outputs": []
    },
    {
      "cell_type": "code",
      "metadata": {
        "colab_type": "code",
        "id": "0GDNitrDaGaL",
        "outputId": "018c1a4c-6720-485a-a585-ed30618de6cd",
        "colab": {
          "base_uri": "https://localhost:8080/",
          "height": 173
        }
      },
      "source": [
        "Z_h.corr()"
      ],
      "execution_count": 0,
      "outputs": [
        {
          "output_type": "execute_result",
          "data": {
            "text/html": [
              "<div>\n",
              "<style scoped>\n",
              "    .dataframe tbody tr th:only-of-type {\n",
              "        vertical-align: middle;\n",
              "    }\n",
              "\n",
              "    .dataframe tbody tr th {\n",
              "        vertical-align: top;\n",
              "    }\n",
              "\n",
              "    .dataframe thead th {\n",
              "        text-align: right;\n",
              "    }\n",
              "</style>\n",
              "<table border=\"1\" class=\"dataframe\">\n",
              "  <thead>\n",
              "    <tr style=\"text-align: right;\">\n",
              "      <th></th>\n",
              "      <th>price</th>\n",
              "      <th>homicides_1km_count</th>\n",
              "      <th>homicides_2km_count</th>\n",
              "      <th>homicides_5km_count</th>\n",
              "    </tr>\n",
              "  </thead>\n",
              "  <tbody>\n",
              "    <tr>\n",
              "      <th>price</th>\n",
              "      <td>1.000000</td>\n",
              "      <td>-0.012954</td>\n",
              "      <td>-0.035319</td>\n",
              "      <td>-0.074769</td>\n",
              "    </tr>\n",
              "    <tr>\n",
              "      <th>homicides_1km_count</th>\n",
              "      <td>-0.012954</td>\n",
              "      <td>1.000000</td>\n",
              "      <td>0.021951</td>\n",
              "      <td>0.025620</td>\n",
              "    </tr>\n",
              "    <tr>\n",
              "      <th>homicides_2km_count</th>\n",
              "      <td>-0.035319</td>\n",
              "      <td>0.021951</td>\n",
              "      <td>1.000000</td>\n",
              "      <td>0.118846</td>\n",
              "    </tr>\n",
              "    <tr>\n",
              "      <th>homicides_5km_count</th>\n",
              "      <td>-0.074769</td>\n",
              "      <td>0.025620</td>\n",
              "      <td>0.118846</td>\n",
              "      <td>1.000000</td>\n",
              "    </tr>\n",
              "  </tbody>\n",
              "</table>\n",
              "</div>"
            ],
            "text/plain": [
              "                        price  ...  homicides_5km_count\n",
              "price                1.000000  ...            -0.074769\n",
              "homicides_1km_count -0.012954  ...             0.025620\n",
              "homicides_2km_count -0.035319  ...             0.118846\n",
              "homicides_5km_count -0.074769  ...             1.000000\n",
              "\n",
              "[4 rows x 4 columns]"
            ]
          },
          "metadata": {
            "tags": []
          },
          "execution_count": 76
        }
      ]
    },
    {
      "cell_type": "code",
      "metadata": {
        "colab_type": "code",
        "id": "mYmSwrKfaBLc",
        "outputId": "bf01b27c-f984-4976-f37e-882f1a461704",
        "colab": {
          "base_uri": "https://localhost:8080/",
          "height": 173
        }
      },
      "source": [
        "Z_v.corr()"
      ],
      "execution_count": 0,
      "outputs": [
        {
          "output_type": "execute_result",
          "data": {
            "text/html": [
              "<div>\n",
              "<style scoped>\n",
              "    .dataframe tbody tr th:only-of-type {\n",
              "        vertical-align: middle;\n",
              "    }\n",
              "\n",
              "    .dataframe tbody tr th {\n",
              "        vertical-align: top;\n",
              "    }\n",
              "\n",
              "    .dataframe thead th {\n",
              "        text-align: right;\n",
              "    }\n",
              "</style>\n",
              "<table border=\"1\" class=\"dataframe\">\n",
              "  <thead>\n",
              "    <tr style=\"text-align: right;\">\n",
              "      <th></th>\n",
              "      <th>price</th>\n",
              "      <th>violence_1km_count</th>\n",
              "      <th>violence_2km_count</th>\n",
              "      <th>violence_5km_count</th>\n",
              "    </tr>\n",
              "  </thead>\n",
              "  <tbody>\n",
              "    <tr>\n",
              "      <th>price</th>\n",
              "      <td>1.000000</td>\n",
              "      <td>0.086223</td>\n",
              "      <td>0.057213</td>\n",
              "      <td>0.082182</td>\n",
              "    </tr>\n",
              "    <tr>\n",
              "      <th>violence_1km_count</th>\n",
              "      <td>0.086223</td>\n",
              "      <td>1.000000</td>\n",
              "      <td>0.370663</td>\n",
              "      <td>0.330300</td>\n",
              "    </tr>\n",
              "    <tr>\n",
              "      <th>violence_2km_count</th>\n",
              "      <td>0.057213</td>\n",
              "      <td>0.370663</td>\n",
              "      <td>1.000000</td>\n",
              "      <td>0.530205</td>\n",
              "    </tr>\n",
              "    <tr>\n",
              "      <th>violence_5km_count</th>\n",
              "      <td>0.082182</td>\n",
              "      <td>0.330300</td>\n",
              "      <td>0.530205</td>\n",
              "      <td>1.000000</td>\n",
              "    </tr>\n",
              "  </tbody>\n",
              "</table>\n",
              "</div>"
            ],
            "text/plain": [
              "                       price  ...  violence_5km_count\n",
              "price               1.000000  ...            0.082182\n",
              "violence_1km_count  0.086223  ...            0.330300\n",
              "violence_2km_count  0.057213  ...            0.530205\n",
              "violence_5km_count  0.082182  ...            1.000000\n",
              "\n",
              "[4 rows x 4 columns]"
            ]
          },
          "metadata": {
            "tags": []
          },
          "execution_count": 77
        }
      ]
    },
    {
      "cell_type": "code",
      "metadata": {
        "colab_type": "code",
        "id": "MUd_tOSYaBwd",
        "outputId": "e1d59873-b5ba-4b0e-8ffd-eacd91b43efa",
        "colab": {
          "base_uri": "https://localhost:8080/",
          "height": 173
        }
      },
      "source": [
        "Z_s.corr()"
      ],
      "execution_count": 0,
      "outputs": [
        {
          "output_type": "execute_result",
          "data": {
            "text/html": [
              "<div>\n",
              "<style scoped>\n",
              "    .dataframe tbody tr th:only-of-type {\n",
              "        vertical-align: middle;\n",
              "    }\n",
              "\n",
              "    .dataframe tbody tr th {\n",
              "        vertical-align: top;\n",
              "    }\n",
              "\n",
              "    .dataframe thead th {\n",
              "        text-align: right;\n",
              "    }\n",
              "</style>\n",
              "<table border=\"1\" class=\"dataframe\">\n",
              "  <thead>\n",
              "    <tr style=\"text-align: right;\">\n",
              "      <th></th>\n",
              "      <th>price</th>\n",
              "      <th>stealing_1km_count</th>\n",
              "      <th>stealing_2km_count</th>\n",
              "      <th>stealing_5km_count</th>\n",
              "    </tr>\n",
              "  </thead>\n",
              "  <tbody>\n",
              "    <tr>\n",
              "      <th>price</th>\n",
              "      <td>1.000000</td>\n",
              "      <td>0.082256</td>\n",
              "      <td>0.003433</td>\n",
              "      <td>-0.002306</td>\n",
              "    </tr>\n",
              "    <tr>\n",
              "      <th>stealing_1km_count</th>\n",
              "      <td>0.082256</td>\n",
              "      <td>1.000000</td>\n",
              "      <td>0.295942</td>\n",
              "      <td>0.095814</td>\n",
              "    </tr>\n",
              "    <tr>\n",
              "      <th>stealing_2km_count</th>\n",
              "      <td>0.003433</td>\n",
              "      <td>0.295942</td>\n",
              "      <td>1.000000</td>\n",
              "      <td>0.330896</td>\n",
              "    </tr>\n",
              "    <tr>\n",
              "      <th>stealing_5km_count</th>\n",
              "      <td>-0.002306</td>\n",
              "      <td>0.095814</td>\n",
              "      <td>0.330896</td>\n",
              "      <td>1.000000</td>\n",
              "    </tr>\n",
              "  </tbody>\n",
              "</table>\n",
              "</div>"
            ],
            "text/plain": [
              "                       price  ...  stealing_5km_count\n",
              "price               1.000000  ...           -0.002306\n",
              "stealing_1km_count  0.082256  ...            0.095814\n",
              "stealing_2km_count  0.003433  ...            0.330896\n",
              "stealing_5km_count -0.002306  ...            1.000000\n",
              "\n",
              "[4 rows x 4 columns]"
            ]
          },
          "metadata": {
            "tags": []
          },
          "execution_count": 78
        }
      ]
    },
    {
      "cell_type": "markdown",
      "metadata": {
        "colab_type": "text",
        "id": "jSfewM0ebPQN"
      },
      "source": [
        "Correlations above are very close to 0, which suggests price and occurences of those types of crimes are not much correlated. With the exception of homicides, crimes still seem to have a very weak but positive correlation with prices. \n",
        "\n",
        "Given we have left out so many important variables, we'll have better insight after doing a regression, which will take into account factors such as the type of room (entire home/apt, private room or shared room), neighborhood, listing availability, the listing history (number of reviews, reviews per month), as well as including counts of each of our categories of crime for our 3 radiuses. Note that even when take this into account, we still have a major omitted variable problem, since we don't have any kind of socioeconomical and demographical information other than what's encapsulated by the neighborhood dummy variable, but as said before, this is a rough estimate that's supposed to hint to us whether there's an evidence that nearby criminal occurences influence the supply-demand model for Airbnb listings, particularly on the city of Chicago."
      ]
    },
    {
      "cell_type": "markdown",
      "metadata": {
        "colab_type": "text",
        "id": "CNJrB3Moc1S8"
      },
      "source": [
        "We'll set up our regression by selecting which variables to include, as well as creating dummies for neighbourhoods and room types. Below, we'll check the results of our regression."
      ]
    },
    {
      "cell_type": "code",
      "metadata": {
        "colab_type": "code",
        "id": "6D7hrNaNchDr",
        "outputId": "91f7b1ce-d8c4-491b-ee94-251980ba260d",
        "colab": {
          "base_uri": "https://localhost:8080/",
          "height": 1000
        }
      },
      "source": [
        "X = airbnb_cr[['crimes_1km_count','crimes_2km_count','crimes_5km_count','crimes_count_date',\n",
        "               'homicides_1km_count','homicides_2km_count','homicides_5km_count','homicides_count_date',\n",
        "               'violence_1km_count','violence_2km_count','violence_5km_count','violence_count_date',\n",
        "               'stealing_1km_count','stealing_2km_count','stealing_5km_count','stealing_count_date',\n",
        "               'room_type','neighbourhood','number_of_reviews','reviews_per_month','availability_365']]\n",
        "y = airbnb_cr[['price']]\n",
        "\n",
        "X = pd.concat([X, pd.get_dummies(X.room_type, prefix='room_type', drop_first=True)], axis=1)\n",
        "X = pd.concat([X, pd.get_dummies(X.neighbourhood, drop_first=True)], axis=1)\n",
        "\n",
        "X=X.drop(['neighbourhood','room_type'],axis=1)\n",
        "\n",
        "reg = LinearRegression().fit(X, y)\n",
        "\n",
        "\n",
        "X2 = sm.add_constant(X)\n",
        "est = sm.OLS(y, X2)\n",
        "est2 = est.fit()\n",
        "print(est2.summary())"
      ],
      "execution_count": 0,
      "outputs": [
        {
          "output_type": "stream",
          "text": [
            "/usr/local/lib/python3.6/dist-packages/numpy/core/fromnumeric.py:2389: FutureWarning: Method .ptp is deprecated and will be removed in a future version. Use numpy.ptp instead.\n",
            "  return ptp(axis=axis, out=out, **kwargs)\n"
          ],
          "name": "stderr"
        },
        {
          "output_type": "stream",
          "text": [
            "                            OLS Regression Results                            \n",
            "==============================================================================\n",
            "Dep. Variable:                  price   R-squared:                       0.292\n",
            "Model:                            OLS   Adj. R-squared:                  0.291\n",
            "Method:                 Least Squares   F-statistic:                     448.6\n",
            "Date:                Wed, 04 Sep 2019   Prob (F-statistic):               0.00\n",
            "Time:                        17:43:47   Log-Likelihood:            -5.8394e+05\n",
            "No. Observations:               97060   AIC:                         1.168e+06\n",
            "Df Residuals:                   96970   BIC:                         1.169e+06\n",
            "Df Model:                          89                                         \n",
            "Covariance Type:            nonrobust                                         \n",
            "==========================================================================================\n",
            "                             coef    std err          t      P>|t|      [0.025      0.975]\n",
            "------------------------------------------------------------------------------------------\n",
            "const                     30.4647      4.654      6.545      0.000      21.342      39.587\n",
            "crimes_1km_count           1.1692      0.098     11.967      0.000       0.978       1.361\n",
            "crimes_2km_count           1.4341      0.057     25.204      0.000       1.323       1.546\n",
            "crimes_5km_count           0.0586      0.024      2.451      0.014       0.012       0.105\n",
            "crimes_count_date         -0.0246      0.015     -1.691      0.091      -0.053       0.004\n",
            "homicides_1km_count       -8.5700      9.708     -0.883      0.377     -27.598      10.458\n",
            "homicides_2km_count       -6.6573      5.028     -1.324      0.185     -16.511       3.197\n",
            "homicides_5km_count       -3.5148      1.844     -1.906      0.057      -7.129       0.099\n",
            "homicides_count_date       0.7989      0.282      2.834      0.005       0.246       1.352\n",
            "violence_1km_count         2.1400      0.261      8.200      0.000       1.629       2.652\n",
            "violence_2km_count         0.6286      0.131      4.816      0.000       0.373       0.884\n",
            "violence_5km_count         0.3899      0.063      6.229      0.000       0.267       0.513\n",
            "violence_count_date        0.1981      0.024      8.379      0.000       0.152       0.244\n",
            "stealing_1km_count         2.0620      0.176     11.729      0.000       1.717       2.407\n",
            "stealing_2km_count        -0.7959      0.096     -8.291      0.000      -0.984      -0.608\n",
            "stealing_5km_count         0.0900      0.045      1.998      0.046       0.002       0.178\n",
            "stealing_count_date        0.2407      0.019     12.397      0.000       0.203       0.279\n",
            "number_of_reviews         -0.0677      0.005    -14.071      0.000      -0.077      -0.058\n",
            "reviews_per_month         -7.4497      0.173    -43.128      0.000      -7.788      -7.111\n",
            "availability_365           0.0865      0.003     28.542      0.000       0.081       0.092\n",
            "room_type_2              -80.4425      0.764   -105.335      0.000     -81.939     -78.946\n",
            "room_type_3             -115.2455      2.223    -51.854      0.000    -119.602    -110.889\n",
            "Archer Heights            63.3777     10.495      6.039      0.000      42.808      83.947\n",
            "Armour Square              4.5030      4.343      1.037      0.300      -4.010      13.016\n",
            "Ashburn                  -33.6636     13.473     -2.499      0.012     -60.071      -7.256\n",
            "Auburn Gresham           -70.1902     12.872     -5.453      0.000     -95.419     -44.962\n",
            "Austin                   -55.0270      5.090    -10.811      0.000     -65.003     -45.051\n",
            "Avalon Park              -58.0923     25.884     -2.244      0.025    -108.825      -7.359\n",
            "Avondale                   0.2102      3.937      0.053      0.957      -7.506       7.927\n",
            "Belmont Cragin           -25.4700      6.999     -3.639      0.000     -39.188     -11.752\n",
            "Beverly                  -16.4902     12.329     -1.337      0.181     -40.655       7.675\n",
            "Bridgeport               -17.4555      4.026     -4.336      0.000     -25.345      -9.566\n",
            "Brighton Park            -37.7080      7.273     -5.184      0.000     -51.964     -23.452\n",
            "Calumet Heights          -21.2828      7.217     -2.949      0.003     -35.428      -7.137\n",
            "Chatham                  -51.6927     11.763     -4.395      0.000     -74.747     -28.638\n",
            "Douglas                   14.6709      4.707      3.117      0.002       5.446      23.896\n",
            "Dunning                  -13.8151      5.972     -2.313      0.021     -25.521      -2.109\n",
            "East Garfield Park       -63.9218      4.558    -14.024      0.000     -72.856     -54.988\n",
            "Edgewater                  0.5765      3.729      0.155      0.877      -6.731       7.884\n",
            "Edison Park               12.0148     12.676      0.948      0.343     -12.829      36.859\n",
            "Englewood                -57.2838      5.021    -11.408      0.000     -67.125     -47.442\n",
            "Forest Glen               20.2910     10.753      1.887      0.059      -0.784      41.366\n",
            "Fuller Park              -56.6024     12.320     -4.594      0.000     -80.749     -32.456\n",
            "Gage Park                -35.0446      9.914     -3.535      0.000     -54.476     -15.614\n",
            "Garfield Ridge           -22.2928     12.770     -1.746      0.081     -47.321       2.735\n",
            "Grand Boulevard          -23.8584      4.380     -5.448      0.000     -32.442     -15.274\n",
            "Greater Grand Crossing   -81.8458     10.954     -7.472      0.000    -103.316     -60.376\n",
            "Hegewisch                -11.0317     21.445     -0.514      0.607     -53.064      31.000\n",
            "Hermosa                  -36.5774      6.621     -5.525      0.000     -49.554     -23.601\n",
            "Humboldt Park            -34.4730      5.059     -6.815      0.000     -44.388     -24.558\n",
            "Hyde Park                 -7.3574      4.024     -1.829      0.067     -15.244       0.529\n",
            "Irving Park               11.6972      3.890      3.007      0.003       4.072      19.322\n",
            "Jefferson Park           -17.7910      4.789     -3.715      0.000     -27.177      -8.405\n",
            "Kenwood                    0.3208      5.296      0.061      0.952     -10.059      10.701\n",
            "Lake View                 51.3918      3.424     15.007      0.000      44.680      58.104\n",
            "Lincoln Park              34.5529      3.646      9.477      0.000      27.407      41.699\n",
            "Lincoln Square           -12.5385      4.299     -2.917      0.004     -20.964      -4.113\n",
            "Logan Square              -0.1017      3.607     -0.028      0.978      -7.170       6.967\n",
            "Loop                      68.8418      4.309     15.977      0.000      60.396      77.287\n",
            "Lower West Side          -24.1542      4.033     -5.989      0.000     -32.059     -16.250\n",
            "Mckinley Park            -18.3295      5.430     -3.376      0.001     -28.971      -7.688\n",
            "Montclare                -72.6367     31.562     -2.301      0.021    -134.497     -10.776\n",
            "Morgan Park              -17.8387     11.333     -1.574      0.115     -40.050       4.373\n",
            "Near North Side           46.1575      3.798     12.153      0.000      38.713      53.602\n",
            "Near South Side           53.1067      4.108     12.929      0.000      45.056      61.157\n",
            "Near West Side            -2.1315      4.120     -0.517      0.605     -10.207       5.944\n",
            "New City                 -46.6746     10.382     -4.496      0.000     -67.022     -26.327\n",
            "North Center              24.6139      3.857      6.381      0.000      17.054      32.174\n",
            "North Lawndale           -62.4792      5.508    -11.344      0.000     -73.275     -51.684\n",
            "North Park                -7.0347      9.462     -0.743      0.457     -25.580      11.510\n",
            "Norwood Park              20.1721      5.743      3.513      0.000       8.916      31.428\n",
            "Oakland                    8.5121      6.021      1.414      0.157      -3.289      20.313\n",
            "Portage Park             -13.9248      4.416     -3.153      0.002     -22.581      -5.269\n",
            "Pullman                  -32.9596     14.584     -2.260      0.024     -61.544      -4.375\n",
            "Rogers Park               -9.2189      4.310     -2.139      0.032     -17.666      -0.772\n",
            "Roseland                 -58.2771     16.745     -3.480      0.001     -91.097     -25.458\n",
            "South Chicago            -69.0544     21.464     -3.217      0.001    -111.123     -26.986\n",
            "South Lawndale           -44.1396      5.446     -8.106      0.000     -54.813     -33.466\n",
            "South Shore              -60.9779      6.166     -9.890      0.000     -73.063     -48.893\n",
            "Uptown                    17.3301      3.649      4.750      0.000      10.179      24.481\n",
            "Washington Heights       -15.1297     13.509     -1.120      0.263     -41.607      11.347\n",
            "Washington Park           15.7239      8.292      1.896      0.058      -0.529      31.976\n",
            "West Elsdon              -46.5100     30.133     -1.543      0.123    -105.571      12.551\n",
            "West Englewood           -57.0562      5.225    -10.921      0.000     -67.296     -46.816\n",
            "West Garfield Park       -99.4184      9.397    -10.580      0.000    -117.836     -81.001\n",
            "West Lawn                -15.7130      7.714     -2.037      0.042     -30.832      -0.594\n",
            "West Pullman             -36.1700     26.737     -1.353      0.176     -88.574      16.234\n",
            "West Ridge               -10.4106      5.130     -2.029      0.042     -20.466      -0.356\n",
            "West Town                  0.4621      3.916      0.118      0.906      -7.214       8.138\n",
            "Woodlawn                 -26.1527      4.799     -5.450      0.000     -35.558     -16.748\n",
            "==============================================================================\n",
            "Omnibus:                   135551.415   Durbin-Watson:                   0.796\n",
            "Prob(Omnibus):                  0.000   Jarque-Bera (JB):        175000903.541\n",
            "Skew:                           7.621   Prob(JB):                         0.00\n",
            "Kurtosis:                     210.461   Cond. No.                     7.88e+04\n",
            "==============================================================================\n",
            "\n",
            "Warnings:\n",
            "[1] Standard Errors assume that the covariance matrix of the errors is correctly specified.\n",
            "[2] The condition number is large, 7.88e+04. This might indicate that there are\n",
            "strong multicollinearity or other numerical problems.\n"
          ],
          "name": "stdout"
        }
      ]
    },
    {
      "cell_type": "markdown",
      "metadata": {
        "colab_type": "text",
        "id": "E_qK-w26dBPU"
      },
      "source": [
        "For further explanation and commentary on the results, check the Report section of our website."
      ]
    },
    {
      "cell_type": "markdown",
      "metadata": {
        "id": "JEPNvmMWVCGG",
        "colab_type": "text"
      },
      "source": [
        "##Validating results"
      ]
    },
    {
      "cell_type": "code",
      "metadata": {
        "id": "H2VnQMu0VIqH",
        "colab_type": "code",
        "colab": {}
      },
      "source": [
        ""
      ],
      "execution_count": 0,
      "outputs": []
    },
    {
      "cell_type": "code",
      "metadata": {
        "id": "QlVpT59igJFL",
        "colab_type": "code",
        "colab": {}
      },
      "source": [
        ""
      ],
      "execution_count": 0,
      "outputs": []
    },
    {
      "cell_type": "markdown",
      "metadata": {
        "colab_type": "text",
        "id": "IfO4rFZIyIYj"
      },
      "source": [
        "#2 - Airbnb listed price changes x criminal occurences variation"
      ]
    },
    {
      "cell_type": "markdown",
      "metadata": {
        "colab_type": "text",
        "id": "KZ9c3hNnhb4W"
      },
      "source": [
        "##Statistical analysis"
      ]
    },
    {
      "cell_type": "markdown",
      "metadata": {
        "colab_type": "text",
        "id": "AzE3O8zQherA"
      },
      "source": [
        "Like before, we'll do a regression but this time we'll considere the difference between scraping dates in regards to price and crime counts. Note that this model implies a very strong (and rough) assumption: that the influence crime had on the price can be measured by the difference in criminal occurences between scraping dates, and nothing more. Again, this is not a very precise estimate but should be enough to suggest us whether there's an influence at all."
      ]
    },
    {
      "cell_type": "code",
      "metadata": {
        "colab_type": "code",
        "id": "0Xs3Xg6zoHLp",
        "outputId": "9e5015ad-4bab-4048-b8fa-7417d9bb2ef6",
        "colab": {
          "base_uri": "https://localhost:8080/",
          "height": 1000
        }
      },
      "source": [
        "X = cal_change_r[['crimes_1km_count_dif','crimes_2km_count_dif','crimes_5km_count_dif',\n",
        "               'homicides_1km_count_dif','homicides_2km_count_dif','homicides_5km_count_dif',\n",
        "               'violence_1km_count_dif','violence_2km_count_dif','violence_5km_count_dif',\n",
        "               'stealing_1km_count_dif','stealing_2km_count_dif','stealing_5km_count_dif',\n",
        "               'room_type','neighbourhood','number_of_reviews','reviews_per_month','availability_365']]\n",
        "y = cal_change_r[['price_dif']]\n",
        "\n",
        "X = pd.concat([X, pd.get_dummies(X.room_type, prefix='room_type', drop_first=True)], axis=1)\n",
        "X = pd.concat([X, pd.get_dummies(X.neighbourhood, drop_first=True)], axis=1)\n",
        "\n",
        "X=X.drop(['neighbourhood','room_type'],axis=1)\n",
        "\n",
        "reg = LinearRegression().fit(X, y)\n",
        "\n",
        "X2 = sm.add_constant(X)\n",
        "est = sm.OLS(y, X2)\n",
        "est2 = est.fit()\n",
        "print(est2.summary())"
      ],
      "execution_count": 0,
      "outputs": [
        {
          "output_type": "stream",
          "text": [
            "/usr/local/lib/python3.6/dist-packages/numpy/core/fromnumeric.py:2389: FutureWarning: Method .ptp is deprecated and will be removed in a future version. Use numpy.ptp instead.\n",
            "  return ptp(axis=axis, out=out, **kwargs)\n"
          ],
          "name": "stderr"
        },
        {
          "output_type": "stream",
          "text": [
            "                            OLS Regression Results                            \n",
            "==============================================================================\n",
            "Dep. Variable:              price_dif   R-squared:                       0.089\n",
            "Model:                            OLS   Adj. R-squared:                  0.088\n",
            "Method:                 Least Squares   F-statistic:                     70.03\n",
            "Date:                Wed, 04 Sep 2019   Prob (F-statistic):               0.00\n",
            "Time:                        23:36:16   Log-Likelihood:            -3.6202e+05\n",
            "No. Observations:               59947   AIC:                         7.242e+05\n",
            "Df Residuals:                   59862   BIC:                         7.250e+05\n",
            "Df Model:                          84                                         \n",
            "Covariance Type:            nonrobust                                         \n",
            "===========================================================================================\n",
            "                              coef    std err          t      P>|t|      [0.025      0.975]\n",
            "-------------------------------------------------------------------------------------------\n",
            "const                     -17.3261      3.769     -4.597      0.000     -24.714      -9.939\n",
            "crimes_1km_count_dif        1.5281      0.223      6.860      0.000       1.092       1.965\n",
            "crimes_2km_count_dif       -0.1294      0.126     -1.027      0.304      -0.376       0.117\n",
            "crimes_5km_count_dif        0.0750      0.052      1.434      0.152      -0.027       0.177\n",
            "homicides_1km_count_dif   -11.9371      3.784     -3.155      0.002     -19.353      -4.521\n",
            "homicides_2km_count_dif    -6.4931      2.193     -2.961      0.003     -10.791      -2.195\n",
            "homicides_5km_count_dif    -1.4709      0.893     -1.647      0.100      -3.222       0.280\n",
            "violence_1km_count_dif     -0.1803      0.352     -0.512      0.609      -0.871       0.510\n",
            "violence_2km_count_dif     -0.0955      0.193     -0.494      0.621      -0.474       0.283\n",
            "violence_5km_count_dif      0.3546      0.078      4.567      0.000       0.202       0.507\n",
            "stealing_1km_count_dif     -1.6881      0.287     -5.877      0.000      -2.251      -1.125\n",
            "stealing_2km_count_dif      0.3355      0.163      2.054      0.040       0.015       0.656\n",
            "stealing_5km_count_dif     -0.0885      0.072     -1.229      0.219      -0.230       0.053\n",
            "number_of_reviews           0.0773      0.006     12.516      0.000       0.065       0.089\n",
            "reviews_per_month           0.0003      0.219      0.002      0.999      -0.428       0.429\n",
            "availability_365           -0.0908      0.004    -22.392      0.000      -0.099      -0.083\n",
            "room_type_2                29.9832      1.037     28.911      0.000      27.950      32.016\n",
            "room_type_3                36.2333      2.801     12.937      0.000      30.744      41.723\n",
            "Archer Heights            -65.1417     12.605     -5.168      0.000     -89.848     -40.435\n",
            "Armour Square              12.0130      5.275      2.278      0.023       1.675      22.351\n",
            "Ashburn                    27.5470     22.997      1.198      0.231     -17.527      72.621\n",
            "Auburn Gresham              5.1825     16.479      0.314      0.753     -27.117      37.482\n",
            "Austin                     14.0427      6.402      2.193      0.028       1.494      26.592\n",
            "Avalon Park                27.1488     27.416      0.990      0.322     -26.587      80.884\n",
            "Avondale                    1.3400      4.514      0.297      0.767      -7.507      10.188\n",
            "Belmont Cragin             11.7439      9.393      1.250      0.211      -6.666      30.153\n",
            "Beverly                    -8.7749     19.206     -0.457      0.648     -46.420      28.870\n",
            "Bridgeport                  2.1259      4.528      0.470      0.639      -6.749      11.001\n",
            "Brighton Park              18.5129      9.302      1.990      0.047       0.281      36.745\n",
            "Calumet Heights             2.7656      9.102      0.304      0.761     -15.075      20.606\n",
            "Chatham                     8.7665     14.424      0.608      0.543     -19.504      37.037\n",
            "Douglas                   -21.2510      5.748     -3.697      0.000     -32.517      -9.985\n",
            "Dunning                     3.3901      7.080      0.479      0.632     -10.486      17.266\n",
            "East Garfield Park         -7.5340      4.605     -1.636      0.102     -16.560       1.492\n",
            "Edgewater                  -3.9331      4.386     -0.897      0.370     -12.530       4.664\n",
            "Edison Park                12.1996     17.316      0.705      0.481     -21.740      46.139\n",
            "Englewood                 -12.0232      5.562     -2.162      0.031     -22.925      -1.121\n",
            "Forest Glen               -13.8399     14.538     -0.952      0.341     -42.335      14.655\n",
            "Fuller Park                11.4968     14.069      0.817      0.414     -16.078      39.071\n",
            "Gage Park                  12.4730     18.070      0.690      0.490     -22.944      47.890\n",
            "Garfield Ridge             31.0166     17.795      1.743      0.081      -3.862      65.895\n",
            "Grand Boulevard             4.8500      5.787      0.838      0.402      -6.493      16.193\n",
            "Greater Grand Crossing     22.9009     13.306      1.721      0.085      -3.180      48.981\n",
            "Hegewisch                  19.1162     41.629      0.459      0.646     -62.476     100.708\n",
            "Hermosa                    12.3799      9.079      1.364      0.173      -5.414      30.174\n",
            "Humboldt Park               6.6731      6.216      1.074      0.283      -5.510      18.856\n",
            "Hyde Park                 -14.6203      4.575     -3.196      0.001     -23.588      -5.653\n",
            "Irving Park                -9.9950      4.738     -2.110      0.035     -19.282      -0.708\n",
            "Jefferson Park             -1.9190      5.412     -0.355      0.723     -12.526       8.688\n",
            "Kenwood                     5.5763      7.181      0.777      0.437      -8.499      19.651\n",
            "Lake View                 -30.0127      3.851     -7.793      0.000     -37.561     -22.464\n",
            "Lincoln Park              -35.9582      4.003     -8.982      0.000     -43.805     -28.112\n",
            "Lincoln Square              9.3192      5.199      1.793      0.073      -0.870      19.508\n",
            "Logan Square               -7.6413      3.871     -1.974      0.048     -15.229      -0.053\n",
            "Loop                      -61.4706      4.423    -13.898      0.000     -70.140     -52.801\n",
            "Lower West Side            -6.0350      4.180     -1.444      0.149     -14.228       2.159\n",
            "Mckinley Park              -8.8881      6.673     -1.332      0.183     -21.968       4.192\n",
            "Montclare                  31.6460     71.919      0.440      0.660    -109.315     172.607\n",
            "Morgan Park               -15.8026     13.313     -1.187      0.235     -41.896      10.291\n",
            "Near North Side           -73.5444      3.877    -18.970      0.000     -81.143     -65.946\n",
            "Near South Side           -60.3341      4.468    -13.502      0.000     -69.092     -51.576\n",
            "Near West Side            -37.2927      3.919     -9.517      0.000     -44.973     -29.612\n",
            "New City                   38.0603     13.298      2.862      0.004      11.997      64.124\n",
            "North Center               -1.0300      4.615     -0.223      0.823     -10.075       8.015\n",
            "North Lawndale              6.8603      8.278      0.829      0.407      -9.364      23.085\n",
            "North Park                 11.5408     14.664      0.787      0.431     -17.201      40.283\n",
            "Norwood Park               -8.3104      7.204     -1.154      0.249     -22.430       5.809\n",
            "Oakland                    14.4312      9.031      1.598      0.110      -3.269      32.131\n",
            "Portage Park                6.4201      5.403      1.188      0.235      -4.170      17.010\n",
            "Pullman                    20.0726     17.567      1.143      0.253     -14.359      54.504\n",
            "Rogers Park                11.6207      5.448      2.133      0.033       0.943      22.298\n",
            "Roseland                   38.6200     25.660      1.505      0.132     -11.674      88.914\n",
            "South Chicago              46.8176     41.639      1.124      0.261     -34.795     128.430\n",
            "South Lawndale              8.5233      7.015      1.215      0.224      -5.227      22.273\n",
            "South Shore                18.3225      8.380      2.187      0.029       1.898      34.747\n",
            "Uptown                     -6.9192      4.241     -1.631      0.103     -15.232       1.394\n",
            "Washington Heights         -8.8438     13.328     -0.664      0.507     -34.966      17.278\n",
            "Washington Park            -1.5442     10.150     -0.152      0.879     -21.438      18.349\n",
            "West Elsdon                58.6764    101.642      0.577      0.564    -140.542     257.895\n",
            "West Englewood            -10.2530      5.523     -1.856      0.063     -21.078       0.572\n",
            "West Garfield Park         -9.2031     12.282     -0.749      0.454     -33.277      14.870\n",
            "West Lawn                   1.6920      9.605      0.176      0.860     -17.134      20.518\n",
            "West Ridge                  7.0599      6.102      1.157      0.247      -4.900      19.019\n",
            "West Town                 -11.9813      3.777     -3.172      0.002     -19.385      -4.578\n",
            "Woodlawn                    5.8171      5.914      0.984      0.325      -5.775      17.409\n",
            "==============================================================================\n",
            "Omnibus:                    28033.407   Durbin-Watson:                   0.819\n",
            "Prob(Omnibus):                  0.000   Jarque-Bera (JB):        179728565.942\n",
            "Skew:                          -0.224   Prob(JB):                         0.00\n",
            "Kurtosis:                     271.244   Cond. No.                     5.56e+04\n",
            "==============================================================================\n",
            "\n",
            "Warnings:\n",
            "[1] Standard Errors assume that the covariance matrix of the errors is correctly specified.\n",
            "[2] The condition number is large, 5.56e+04. This might indicate that there are\n",
            "strong multicollinearity or other numerical problems.\n"
          ],
          "name": "stdout"
        }
      ]
    },
    {
      "cell_type": "markdown",
      "metadata": {
        "colab_type": "text",
        "id": "9oWvwdXokX-6"
      },
      "source": [
        "For an interpretation of the results, check the Report section of our website."
      ]
    },
    {
      "cell_type": "markdown",
      "metadata": {
        "id": "DYXnyIaxUzB_",
        "colab_type": "text"
      },
      "source": [
        "## Validating results"
      ]
    }
  ]
}