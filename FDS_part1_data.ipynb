{
  "nbformat": 4,
  "nbformat_minor": 0,
  "metadata": {
    "colab": {
      "name": "Untitled11.ipynb",
      "version": "0.3.2",
      "provenance": [],
      "include_colab_link": true
    },
    "kernelspec": {
      "name": "python3",
      "display_name": "Python 3"
    }
  },
  "cells": [
    {
      "cell_type": "markdown",
      "metadata": {
        "id": "view-in-github",
        "colab_type": "text"
      },
      "source": [
        "<a href=\"https://colab.research.google.com/github/araujoghm/DataScienceEMAp_AraujoNovais/blob/master/FDS_part1_data.ipynb\" target=\"_parent\"><img src=\"https://colab.research.google.com/assets/colab-badge.svg\" alt=\"Open In Colab\"/></a>"
      ]
    },
    {
      "cell_type": "markdown",
      "metadata": {
        "colab_type": "text",
        "id": "e-atJTuPIEWI"
      },
      "source": [
        "# The relation between criminality and rent prices: a case study of Airbnb in Chicago\n",
        "<b>Guilherme Araújo & Gabriel Novais</b>:\n",
        "\n",
        "\n",
        "The goal of this project is to analyze the relationship between the prices of Airbnb listings in Chicago and records of criminal occurences in the city for the period of July 2018 to July 2019.\n",
        "\n",
        "Why Airbnb? Because price rates are very dynamic, since they operate on a short-term supply-demand equiilibrium, can change daily and can respond almost instanteneously to factors such as criminality, in particular. While some caveats have to be made, since Airbnb listings are likely to be closer to touristic spots and to be less present in poorer neighbourhoods, most listings are made available for most of the year, which suggests host are likely to operate following a short-to-mid term optimization logic. This is not meant as an accurate proxy for long-term (traditional) renting, but as an insight into how the decision-making process (hosts deciding at which prices to list their places for each date, consumers deciding which places to rent given price, location and other factors) can be affected by surrounding criminality. \n",
        "\n",
        "How are we doing it? We're going to estimate via linear regression a relationship between 1) prices and nearby criminal occurences, for each day in our sample where we have information on both crimes and Airbnb listings  and 2) variations on listed prices and on nearby criminal occurences, for the listings whose prices were changed by the hosts between the first posting of the listings and the actual renting date.  \n",
        "\n",
        "\n",
        "<b>Sources and Links</b>:\n",
        "\n",
        "<b>Airbnb data</b>\n",
        "<li><a href=\"http://insideairbnb.com/get-the-data.html\">http://insideairbnb.com/get-the-data.html</a></li>\n",
        "\n",
        "<b>Crimes in Chicago</b>\n",
        "    <li><a>https://data.cityofchicago.org/Public-Safety/Crimes-One-year-prior-to-present/x2n5-8w5q/data</li></a>"
      ]
    },
    {
      "cell_type": "code",
      "metadata": {
        "colab_type": "code",
        "id": "T6xQooemnZ3w",
        "colab": {}
      },
      "source": [
        "#Setting up Python\n",
        "import numpy as np\n",
        "import pandas as pd \n",
        "import matplotlib.pyplot as plt\n",
        "import glob\n",
        "import re\n",
        "import io\n",
        "import requests\n",
        "import csv\n",
        "\n",
        "from sklearn.linear_model import LinearRegression\n",
        "from math import radians, sin, cos, acos, log, pi, tan, asin,sqrt\n",
        "from decimal import Decimal\n",
        "from bokeh.plotting import figure, show, output_notebook\n",
        "from bokeh.tile_providers import CARTODBPOSITRON\n",
        "from ast import literal_eval\n",
        "from scipy import stats\n",
        "import statsmodels.api as sm"
      ],
      "execution_count": 0,
      "outputs": []
    },
    {
      "cell_type": "code",
      "metadata": {
        "colab_type": "code",
        "id": "Qckzg6i_FUIP",
        "outputId": "484b0caf-9e7d-4b5a-f9e5-7ce67aba70d2",
        "colab": {
          "base_uri": "https://localhost:8080/",
          "height": 122
        }
      },
      "source": [
        "from google.colab import drive\n",
        "drive.mount('drive')"
      ],
      "execution_count": 0,
      "outputs": [
        {
          "output_type": "stream",
          "text": [
            "Go to this URL in a browser: https://accounts.google.com/o/oauth2/auth?client_id=947318989803-6bn6qk8qdgf4n4g3pfee6491hc0brc4i.apps.googleusercontent.com&redirect_uri=urn%3Aietf%3Awg%3Aoauth%3A2.0%3Aoob&scope=email%20https%3A%2F%2Fwww.googleapis.com%2Fauth%2Fdocs.test%20https%3A%2F%2Fwww.googleapis.com%2Fauth%2Fdrive%20https%3A%2F%2Fwww.googleapis.com%2Fauth%2Fdrive.photos.readonly%20https%3A%2F%2Fwww.googleapis.com%2Fauth%2Fpeopleapi.readonly&response_type=code\n",
            "\n",
            "Enter your authorization code:\n",
            "··········\n",
            "Mounted at drive\n"
          ],
          "name": "stdout"
        }
      ]
    },
    {
      "cell_type": "code",
      "metadata": {
        "colab_type": "code",
        "id": "SJPgd4BdmJ1s",
        "colab": {}
      },
      "source": [
        "def indices(lst, element):\n",
        "    result = []\n",
        "    offset = -1\n",
        "    while True:\n",
        "        try:\n",
        "            offset = lst.index(element, offset+1)\n",
        "        except ValueError:\n",
        "            return result\n",
        "        result.append(offset)"
      ],
      "execution_count": 0,
      "outputs": []
    },
    {
      "cell_type": "code",
      "metadata": {
        "colab_type": "code",
        "id": "DP3e_XB47bzo",
        "colab": {}
      },
      "source": [
        "def distance(a,b):\n",
        "    \"\"\"\n",
        "    Calculate the great circle distance between two points\n",
        "    on the earth (specified in decimal degrees). Output in KM\n",
        "    \"\"\"\n",
        "    lat1 = a[0]\n",
        "    lat2 = b[0]\n",
        "    lon1 = a[1]\n",
        "    lon2 = b[1]\n",
        "    # convert decimal degrees to radians\n",
        "    lon1, lat1, lon2, lat2 = map(radians, [lon1, lat1, lon2, lat2])\n",
        "    # haversine formula\n",
        "    dlon = lon2 - lon1\n",
        "    dlat = lat2 - lat1\n",
        "    a = sin(dlat / 2) ** 2 + cos(lat1) * cos(lat2) * sin(dlon / 2) ** 2\n",
        "    c = 2 * asin(sqrt(a))\n",
        "    km = 6371 * c\n",
        "    return km"
      ],
      "execution_count": 0,
      "outputs": []
    },
    {
      "cell_type": "markdown",
      "metadata": {
        "colab_type": "text",
        "id": "Sqy5bw2uYNxr"
      },
      "source": [
        "#Data"
      ]
    },
    {
      "cell_type": "markdown",
      "metadata": {
        "colab_type": "text",
        "id": "F-aSI9-cv7dK"
      },
      "source": [
        "## Importing, cleaning and organizing Airbnb data"
      ]
    },
    {
      "cell_type": "markdown",
      "metadata": {
        "colab_type": "text",
        "id": "58-o1UYkJpXS"
      },
      "source": [
        "Airbnb does not publically release information on its listings. When opening a listing on the Airbnb, all the information we can find are informations about the listing and its host, reviews and a calendar that shows the future dates when the place will be available and the rent price for each day. So how can we make inferences about Airbnb activity?\n",
        "\n",
        "http://insideairbnb.com/ is a website that provides data scraped periodically from the Airbnb website for selected cities. For the city of Chicago, which will be our subject of choice, we have 14 different iterations of this scraping process, the earliest from April 15th, 2018 and the latest from July 15th, 2019. \n",
        "\n",
        "We'll be building 3 datasets from the data obtained from InsideAirbnb:\n",
        "- <b>listings </b>, which has data for each listings such as host identification, neighborhood and location\n",
        "- <b>reviews </b>, which compiles the dates of each review posted on the website for each listings\n",
        "- <b>calendar</b>, which shows the availability and pricing for future dates; by joining data from different iterations of their web scraping, we can build a very accurate database of pricing for the cumulative time period.\n",
        "\n",
        "It's important to highlight that the availability information is noisy, since booked dates are listed as unavailable, and we don't have explicit information on which dates the places were actually rented. What we do is use the date of reviews as proxy, assuming that users post a review as soon as they leave the rented place, which makes the data of a listing on the day a consumer posted a review relevant. While users may take a day or two to post their reviews, since prices don't vary much from day to day (even though it changes throughout the year), we assume any imprecision here is irrelevant on the aggregate."
      ]
    },
    {
      "cell_type": "markdown",
      "metadata": {
        "colab_type": "text",
        "id": "QqCA4uH7wFEp"
      },
      "source": [
        "### Listings"
      ]
    },
    {
      "cell_type": "markdown",
      "metadata": {
        "colab_type": "text",
        "id": "jUkYP1cOPeRj"
      },
      "source": [
        "We'll import the data directly from our GitHub repository, where we've previously saved and organized the data extracted from Inside AirBnb.\n",
        "\n",
        "Each listings.csv file features data from all the listings on the Airbnb website on that day. The most recent information is what is of our interest; however, it doesn't feature the entire history of listings. Thus, we appended data from previous versions of the listings dataset and only kept the most recent data, so we can have the most accurate information on the largest set of listings.\n",
        "\n",
        "In order to select relevant listings, we discarded listings which are available for less than 10 days a year and that have had less than 10 reviews, to not burden ourselves with skewed information based on one-off rents. We have also discarded listings from dates previous to April 15th, 2018, since we have no calendar information on them.\n",
        "\n",
        "One of the most important information on this dataset is the location for each listing, provided by latitude and longitude. Since our main interest in this information is to calculate distances between the listings and nearby crimes on each date, both latitude and longitude information have been rounded to 2 decimals to avoid redundant calculations and to offset errors in measurement, since rounding up to 3 or more decimals made it so that some listings showed up with different locations on different dates. This reduced thousands of listings to 370 general locations, for which we then created and id for each of those locations.\n",
        "\n",
        "Also note that the method we used for creating id's generated ordered values but of seemingly random values, so we decide to create a second id reordering those values starting from 0 and incrementing by 1, which will facilitate consulting locations later on."
      ]
    },
    {
      "cell_type": "code",
      "metadata": {
        "colab_type": "code",
        "id": "19dODXUns4Yj",
        "colab": {}
      },
      "source": [
        "#Import listings data from each scraping iteration (from oldest to newest)\n",
        "url_l1 = 'https://raw.githubusercontent.com/araujoghm/DataScienceEMAp_AraujoNovais/master/dados/listings/listings_18_4_15.csv'\n",
        "url_l2 = 'https://raw.githubusercontent.com/araujoghm/DataScienceEMAp_AraujoNovais/master/dados/listings/listings_18_5_18.csv'\n",
        "url_l3 = 'https://raw.githubusercontent.com/araujoghm/DataScienceEMAp_AraujoNovais/master/dados/listings/listings_18_7_18.csv'\n",
        "url_l4 = 'https://raw.githubusercontent.com/araujoghm/DataScienceEMAp_AraujoNovais/master/dados/listings/listings_18_9_14.csv'\n",
        "url_l5 = 'https://raw.githubusercontent.com/araujoghm/DataScienceEMAp_AraujoNovais/master/dados/listings/listings_18_10_11.csv'\n",
        "url_l6 = 'https://raw.githubusercontent.com/araujoghm/DataScienceEMAp_AraujoNovais/master/dados/listings/listings_18_11_15.csv'\n",
        "url_l7 = 'https://raw.githubusercontent.com/araujoghm/DataScienceEMAp_AraujoNovais/master/dados/listings/listings_18_12_13.csv'\n",
        "url_l8 = 'https://raw.githubusercontent.com/araujoghm/DataScienceEMAp_AraujoNovais/master/dados/listings/listings_19_1_17.csv'\n",
        "url_l9 = 'https://raw.githubusercontent.com/araujoghm/DataScienceEMAp_AraujoNovais/master/dados/listings/listings_19_2_9.csv'\n",
        "url_l10 = 'https://raw.githubusercontent.com/araujoghm/DataScienceEMAp_AraujoNovais/master/dados/listings/listings_19_3_12.csv'\n",
        "url_l11 = 'https://raw.githubusercontent.com/araujoghm/DataScienceEMAp_AraujoNovais/master/dados/listings/listings_19_4_15.csv'\n",
        "url_l12 = 'https://raw.githubusercontent.com/araujoghm/DataScienceEMAp_AraujoNovais/master/dados/listings/listings_19_5_19.csv'\n",
        "url_l13 = 'https://raw.githubusercontent.com/araujoghm/DataScienceEMAp_AraujoNovais/master/dados/listings/listings_19_6_14.csv'\n",
        "url_l14 = 'https://raw.githubusercontent.com/araujoghm/DataScienceEMAp_AraujoNovais/master/dados/listings/listings_19_7_15.csv'\n",
        "\n",
        "\n",
        "listings_1 = pd.read_csv(url_l1)\n",
        "listings_2 = pd.read_csv(url_l2)\n",
        "listings_3 = pd.read_csv(url_l3)\n",
        "listings_4 = pd.read_csv(url_l4)\n",
        "listings_5 = pd.read_csv(url_l5)\n",
        "listings_6 = pd.read_csv(url_l6)\n",
        "listings_7 = pd.read_csv(url_l7)\n",
        "listings_8 = pd.read_csv(url_l8)\n",
        "listings_9 = pd.read_csv(url_l9)\n",
        "listings_10 = pd.read_csv(url_l10)\n",
        "listings_11 = pd.read_csv(url_l11)\n",
        "listings_12 = pd.read_csv(url_l12)\n",
        "listings_13 = pd.read_csv(url_l13)\n",
        "listings_14 = pd.read_csv(url_l14)"
      ],
      "execution_count": 0,
      "outputs": []
    },
    {
      "cell_type": "code",
      "metadata": {
        "colab_type": "code",
        "id": "PbLn32qht3Nc",
        "colab": {}
      },
      "source": [
        "#The most recent listing data is the one we want, but some past listings may no longer show up\n",
        "#We'll append to the most recent listings data from past scrapings, but we'll only keep the most recent information for each id \n",
        "listings=listings_14\n",
        "listings=listings.append(listings_13)\n",
        "listings=listings.append(listings_12)\n",
        "listings=listings.append(listings_11)\n",
        "listings=listings.append(listings_10)\n",
        "listings=listings.append(listings_9)\n",
        "listings=listings.append(listings_8)\n",
        "listings=listings.append(listings_7)\n",
        "listings=listings.append(listings_6)\n",
        "listings=listings.append(listings_5)\n",
        "listings=listings.append(listings_4)\n",
        "listings=listings.append(listings_3)\n",
        "listings=listings.append(listings_2)\n",
        "listings=listings.append(listings_1)\n",
        "\n",
        "listings=listings.drop_duplicates(subset=\"id\", keep='first')\n",
        "listings=listings.drop(columns=['name','host_name','price','minimum_nights','neighbourhood_group'])\n",
        "listings=listings.rename(index=str, columns={\"id\": \"listing_id\"})\n",
        "\n",
        "listings=listings.dropna(subset=['last_review'], axis=0)\n",
        "listings['lr_m']=listings.last_review.apply(lambda x: int(x[5:7]))\n",
        "listings['lr_d']=listings.last_review.apply(lambda x: int(x[8:10]))\n",
        "listings['lr_y']=listings.last_review.apply(lambda x: int(x[0:4]))\n",
        "listings.last_review = pd.to_datetime(listings.last_review)\n",
        "listings['lat']=listings.latitude.round(2)\n",
        "listings['lon']=listings.longitude.round(2)\n",
        "listings['location'] = list(zip(listings.latitude, listings.longitude))\n",
        "listings['loc'] = list(zip(listings.lat, listings.lon))\n",
        "\n",
        "listings = listings.assign(loc_id=(listings['loc'].astype('category').cat.codes))\n",
        "\n",
        "listings.room_type = listings.room_type.apply(lambda x: 1 if x==\"Entire home/apt\" else 2 if x==\"Private room\" else 3)\n",
        "\n",
        "listings=listings[listings.number_of_reviews > 9]\n",
        "listings=listings[listings.lr_y > 2017]\n",
        "listings=listings[listings.availability_365>9]\n",
        "listings=listings.drop(listings[(listings.lr_y==2018) & (listings.lr_m<4)].index)\n",
        "listings=listings.drop(listings[(listings.lr_y==2018) & (listings.lr_m==4) & (listings.lr_d<15)].index)\n",
        "\n",
        "listings=listings.drop(columns=['last_review'])"
      ],
      "execution_count": 0,
      "outputs": []
    },
    {
      "cell_type": "code",
      "metadata": {
        "colab_type": "code",
        "id": "FAtVGyOn5suC",
        "outputId": "4c71745b-780d-414f-d66d-b51c7c18f3f1",
        "colab": {
          "base_uri": "https://localhost:8080/",
          "height": 34
        }
      },
      "source": [
        "#We'll create a dataframe storing each pair of location and id\n",
        "listings_locations = listings[['loc','loc_id']]\n",
        "listings_locations = listings_locations.drop_duplicates('loc_id')\n",
        "listings_locations = listings_locations.set_index('loc_id')\n",
        "listings_locations = listings_locations.sort_index()\n",
        "listings_locations = listings_locations.reset_index()\n",
        "listings_locations['loc_id2']=listings_locations.index\n",
        "list_locs=list(listings_locations['loc'])\n",
        "len(list_locs)"
      ],
      "execution_count": 0,
      "outputs": [
        {
          "output_type": "execute_result",
          "data": {
            "text/plain": [
              "370"
            ]
          },
          "metadata": {
            "tags": []
          },
          "execution_count": 30
        }
      ]
    },
    {
      "cell_type": "code",
      "metadata": {
        "colab_type": "code",
        "id": "-1ufoamQwrL_",
        "outputId": "278e3557-799c-485c-df15-32d763349602",
        "colab": {
          "base_uri": "https://localhost:8080/",
          "height": 204
        }
      },
      "source": [
        "listings_locations.head()"
      ],
      "execution_count": 0,
      "outputs": [
        {
          "output_type": "execute_result",
          "data": {
            "text/html": [
              "<div>\n",
              "<style scoped>\n",
              "    .dataframe tbody tr th:only-of-type {\n",
              "        vertical-align: middle;\n",
              "    }\n",
              "\n",
              "    .dataframe tbody tr th {\n",
              "        vertical-align: top;\n",
              "    }\n",
              "\n",
              "    .dataframe thead th {\n",
              "        text-align: right;\n",
              "    }\n",
              "</style>\n",
              "<table border=\"1\" class=\"dataframe\">\n",
              "  <thead>\n",
              "    <tr style=\"text-align: right;\">\n",
              "      <th></th>\n",
              "      <th>loc_id</th>\n",
              "      <th>loc</th>\n",
              "      <th>loc_id2</th>\n",
              "    </tr>\n",
              "  </thead>\n",
              "  <tbody>\n",
              "    <tr>\n",
              "      <th>0</th>\n",
              "      <td>0</td>\n",
              "      <td>(41.65, -87.54)</td>\n",
              "      <td>0</td>\n",
              "    </tr>\n",
              "    <tr>\n",
              "      <th>1</th>\n",
              "      <td>2</td>\n",
              "      <td>(41.66, -87.55)</td>\n",
              "      <td>1</td>\n",
              "    </tr>\n",
              "    <tr>\n",
              "      <th>2</th>\n",
              "      <td>4</td>\n",
              "      <td>(41.67, -87.66)</td>\n",
              "      <td>2</td>\n",
              "    </tr>\n",
              "    <tr>\n",
              "      <th>3</th>\n",
              "      <td>10</td>\n",
              "      <td>(41.69, -87.68)</td>\n",
              "      <td>3</td>\n",
              "    </tr>\n",
              "    <tr>\n",
              "      <th>4</th>\n",
              "      <td>11</td>\n",
              "      <td>(41.69, -87.67)</td>\n",
              "      <td>4</td>\n",
              "    </tr>\n",
              "  </tbody>\n",
              "</table>\n",
              "</div>"
            ],
            "text/plain": [
              "   loc_id              loc  loc_id2\n",
              "0       0  (41.65, -87.54)        0\n",
              "1       2  (41.66, -87.55)        1\n",
              "2       4  (41.67, -87.66)        2\n",
              "3      10  (41.69, -87.68)        3\n",
              "4      11  (41.69, -87.67)        4"
            ]
          },
          "metadata": {
            "tags": []
          },
          "execution_count": 31
        }
      ]
    },
    {
      "cell_type": "code",
      "metadata": {
        "colab_type": "code",
        "id": "fXcNfXo4amgw",
        "outputId": "64c7e38d-17c0-4b22-a42c-fe692d6cccf9",
        "colab": {
          "base_uri": "https://localhost:8080/",
          "height": 309
        }
      },
      "source": [
        "listings=listings.merge(listings_locations,on=['loc_id','loc'])\n",
        "listings.head()"
      ],
      "execution_count": 0,
      "outputs": [
        {
          "output_type": "execute_result",
          "data": {
            "text/html": [
              "<div>\n",
              "<style scoped>\n",
              "    .dataframe tbody tr th:only-of-type {\n",
              "        vertical-align: middle;\n",
              "    }\n",
              "\n",
              "    .dataframe tbody tr th {\n",
              "        vertical-align: top;\n",
              "    }\n",
              "\n",
              "    .dataframe thead th {\n",
              "        text-align: right;\n",
              "    }\n",
              "</style>\n",
              "<table border=\"1\" class=\"dataframe\">\n",
              "  <thead>\n",
              "    <tr style=\"text-align: right;\">\n",
              "      <th></th>\n",
              "      <th>listing_id</th>\n",
              "      <th>host_id</th>\n",
              "      <th>neighbourhood</th>\n",
              "      <th>latitude</th>\n",
              "      <th>longitude</th>\n",
              "      <th>room_type</th>\n",
              "      <th>number_of_reviews</th>\n",
              "      <th>reviews_per_month</th>\n",
              "      <th>calculated_host_listings_count</th>\n",
              "      <th>availability_365</th>\n",
              "      <th>lr_m</th>\n",
              "      <th>lr_d</th>\n",
              "      <th>lr_y</th>\n",
              "      <th>lat</th>\n",
              "      <th>lon</th>\n",
              "      <th>location</th>\n",
              "      <th>loc</th>\n",
              "      <th>loc_id</th>\n",
              "      <th>loc_id2</th>\n",
              "    </tr>\n",
              "  </thead>\n",
              "  <tbody>\n",
              "    <tr>\n",
              "      <th>0</th>\n",
              "      <td>2384</td>\n",
              "      <td>2613</td>\n",
              "      <td>Hyde Park</td>\n",
              "      <td>41.78886</td>\n",
              "      <td>-87.58671</td>\n",
              "      <td>2</td>\n",
              "      <td>159</td>\n",
              "      <td>2.89</td>\n",
              "      <td>1</td>\n",
              "      <td>306</td>\n",
              "      <td>7</td>\n",
              "      <td>11</td>\n",
              "      <td>2019</td>\n",
              "      <td>41.79</td>\n",
              "      <td>-87.59</td>\n",
              "      <td>(41.78886, -87.58671)</td>\n",
              "      <td>(41.79, -87.59)</td>\n",
              "      <td>124</td>\n",
              "      <td>71</td>\n",
              "    </tr>\n",
              "    <tr>\n",
              "      <th>1</th>\n",
              "      <td>2604454</td>\n",
              "      <td>13339125</td>\n",
              "      <td>Hyde Park</td>\n",
              "      <td>41.78977</td>\n",
              "      <td>-87.58916</td>\n",
              "      <td>1</td>\n",
              "      <td>85</td>\n",
              "      <td>1.42</td>\n",
              "      <td>3</td>\n",
              "      <td>41</td>\n",
              "      <td>7</td>\n",
              "      <td>11</td>\n",
              "      <td>2019</td>\n",
              "      <td>41.79</td>\n",
              "      <td>-87.59</td>\n",
              "      <td>(41.789770000000004, -87.58915999999999)</td>\n",
              "      <td>(41.79, -87.59)</td>\n",
              "      <td>124</td>\n",
              "      <td>71</td>\n",
              "    </tr>\n",
              "    <tr>\n",
              "      <th>2</th>\n",
              "      <td>6524346</td>\n",
              "      <td>34121377</td>\n",
              "      <td>Hyde Park</td>\n",
              "      <td>41.79119</td>\n",
              "      <td>-87.59099</td>\n",
              "      <td>2</td>\n",
              "      <td>26</td>\n",
              "      <td>0.52</td>\n",
              "      <td>1</td>\n",
              "      <td>34</td>\n",
              "      <td>7</td>\n",
              "      <td>7</td>\n",
              "      <td>2019</td>\n",
              "      <td>41.79</td>\n",
              "      <td>-87.59</td>\n",
              "      <td>(41.79119, -87.59099)</td>\n",
              "      <td>(41.79, -87.59)</td>\n",
              "      <td>124</td>\n",
              "      <td>71</td>\n",
              "    </tr>\n",
              "    <tr>\n",
              "      <th>3</th>\n",
              "      <td>18549719</td>\n",
              "      <td>47172572</td>\n",
              "      <td>Hyde Park</td>\n",
              "      <td>41.79296</td>\n",
              "      <td>-87.59275</td>\n",
              "      <td>1</td>\n",
              "      <td>127</td>\n",
              "      <td>4.77</td>\n",
              "      <td>60</td>\n",
              "      <td>96</td>\n",
              "      <td>7</td>\n",
              "      <td>2</td>\n",
              "      <td>2019</td>\n",
              "      <td>41.79</td>\n",
              "      <td>-87.59</td>\n",
              "      <td>(41.79296, -87.59275)</td>\n",
              "      <td>(41.79, -87.59)</td>\n",
              "      <td>124</td>\n",
              "      <td>71</td>\n",
              "    </tr>\n",
              "    <tr>\n",
              "      <th>4</th>\n",
              "      <td>22320506</td>\n",
              "      <td>47172572</td>\n",
              "      <td>Hyde Park</td>\n",
              "      <td>41.79386</td>\n",
              "      <td>-87.59469</td>\n",
              "      <td>1</td>\n",
              "      <td>99</td>\n",
              "      <td>5.32</td>\n",
              "      <td>60</td>\n",
              "      <td>93</td>\n",
              "      <td>7</td>\n",
              "      <td>8</td>\n",
              "      <td>2019</td>\n",
              "      <td>41.79</td>\n",
              "      <td>-87.59</td>\n",
              "      <td>(41.793859999999995, -87.59469)</td>\n",
              "      <td>(41.79, -87.59)</td>\n",
              "      <td>124</td>\n",
              "      <td>71</td>\n",
              "    </tr>\n",
              "  </tbody>\n",
              "</table>\n",
              "</div>"
            ],
            "text/plain": [
              "   listing_id   host_id neighbourhood  ...              loc  loc_id  loc_id2\n",
              "0        2384      2613     Hyde Park  ...  (41.79, -87.59)     124       71\n",
              "1     2604454  13339125     Hyde Park  ...  (41.79, -87.59)     124       71\n",
              "2     6524346  34121377     Hyde Park  ...  (41.79, -87.59)     124       71\n",
              "3    18549719  47172572     Hyde Park  ...  (41.79, -87.59)     124       71\n",
              "4    22320506  47172572     Hyde Park  ...  (41.79, -87.59)     124       71\n",
              "\n",
              "[5 rows x 19 columns]"
            ]
          },
          "metadata": {
            "tags": []
          },
          "execution_count": 32
        }
      ]
    },
    {
      "cell_type": "code",
      "metadata": {
        "colab_type": "code",
        "id": "q9ecLtgo4Nn5",
        "colab": {}
      },
      "source": [
        "#listings.to_csv('listings.csv')\n",
        "#!cp listings.csv drive/My\\ Drive/\n",
        "\n",
        "#list_locs.to_csv('list_locs.csv')\n",
        "#!cp list_locs.csv drive/My\\ Drive/\n"
      ],
      "execution_count": 0,
      "outputs": []
    },
    {
      "cell_type": "markdown",
      "metadata": {
        "colab_type": "text",
        "id": "6zyF7rEBwCax"
      },
      "source": [
        "### Reviews"
      ]
    },
    {
      "cell_type": "markdown",
      "metadata": {
        "colab_type": "text",
        "id": "P74FN723Uhuq"
      },
      "source": [
        "Our reviews dataset is much simpler, since the latest information stores the entire history of Airbnb reviews by listing and date. We simply discarded information for dates outside of our interest and create a dummy variable called 'review', so when we merge the reviews to our calendar we can establish which dates of our listings we can assume have been actually rented. "
      ]
    },
    {
      "cell_type": "code",
      "metadata": {
        "colab_type": "code",
        "id": "nah8Ei_Nn8mD",
        "colab": {}
      },
      "source": [
        "#Import review data\n",
        "url_r = 'https://raw.githubusercontent.com/araujoghm/DataScienceEMAp_AraujoNovais/master/dados/reviews/reviews_15_7_19.csv'\n",
        "reviews = pd.read_csv(url_r)"
      ],
      "execution_count": 0,
      "outputs": []
    },
    {
      "cell_type": "code",
      "metadata": {
        "colab_type": "code",
        "id": "GtPnRzaeW2KM",
        "colab": {}
      },
      "source": [
        "reviews['month']=reviews.date.apply(lambda x: int(x[5:7]))\n",
        "reviews['day']=reviews.date.apply(lambda x: int(x[8:10]))\n",
        "reviews['year']=reviews.date.apply(lambda x: int(x[0:4]))\n",
        "reviews.date = pd.to_datetime(reviews.date)\n",
        "\n",
        "reviews=reviews[reviews.year > 2017]\n",
        "reviews=reviews.drop(reviews[(reviews.year==2018) & (reviews.month<4)].index)\n",
        "reviews=reviews.drop(reviews[(reviews.year==2018) & (reviews.month==4) & (reviews.day<15)].index)\n",
        "reviews=reviews.drop(columns=['month','day','year'])\n",
        "reviews['review']=1"
      ],
      "execution_count": 0,
      "outputs": []
    },
    {
      "cell_type": "code",
      "metadata": {
        "colab_type": "code",
        "id": "vmQF_--YaogN",
        "outputId": "067476f0-6c69-4bab-ac67-35fe4f080c5a",
        "colab": {
          "base_uri": "https://localhost:8080/",
          "height": 204
        }
      },
      "source": [
        "reviews.head()"
      ],
      "execution_count": 0,
      "outputs": [
        {
          "output_type": "execute_result",
          "data": {
            "text/html": [
              "<div>\n",
              "<style scoped>\n",
              "    .dataframe tbody tr th:only-of-type {\n",
              "        vertical-align: middle;\n",
              "    }\n",
              "\n",
              "    .dataframe tbody tr th {\n",
              "        vertical-align: top;\n",
              "    }\n",
              "\n",
              "    .dataframe thead th {\n",
              "        text-align: right;\n",
              "    }\n",
              "</style>\n",
              "<table border=\"1\" class=\"dataframe\">\n",
              "  <thead>\n",
              "    <tr style=\"text-align: right;\">\n",
              "      <th></th>\n",
              "      <th>listing_id</th>\n",
              "      <th>date</th>\n",
              "      <th>review</th>\n",
              "    </tr>\n",
              "  </thead>\n",
              "  <tbody>\n",
              "    <tr>\n",
              "      <th>112</th>\n",
              "      <td>2384</td>\n",
              "      <td>2018-04-15</td>\n",
              "      <td>1</td>\n",
              "    </tr>\n",
              "    <tr>\n",
              "      <th>113</th>\n",
              "      <td>2384</td>\n",
              "      <td>2018-04-22</td>\n",
              "      <td>1</td>\n",
              "    </tr>\n",
              "    <tr>\n",
              "      <th>114</th>\n",
              "      <td>2384</td>\n",
              "      <td>2018-04-25</td>\n",
              "      <td>1</td>\n",
              "    </tr>\n",
              "    <tr>\n",
              "      <th>115</th>\n",
              "      <td>2384</td>\n",
              "      <td>2018-05-05</td>\n",
              "      <td>1</td>\n",
              "    </tr>\n",
              "    <tr>\n",
              "      <th>116</th>\n",
              "      <td>2384</td>\n",
              "      <td>2018-05-14</td>\n",
              "      <td>1</td>\n",
              "    </tr>\n",
              "  </tbody>\n",
              "</table>\n",
              "</div>"
            ],
            "text/plain": [
              "     listing_id       date  review\n",
              "112        2384 2018-04-15       1\n",
              "113        2384 2018-04-22       1\n",
              "114        2384 2018-04-25       1\n",
              "115        2384 2018-05-05       1\n",
              "116        2384 2018-05-14       1"
            ]
          },
          "metadata": {
            "tags": []
          },
          "execution_count": 35
        }
      ]
    },
    {
      "cell_type": "markdown",
      "metadata": {
        "colab_type": "text",
        "id": "upKXWeeKwHrk"
      },
      "source": [
        "### Calendar"
      ]
    },
    {
      "cell_type": "markdown",
      "metadata": {
        "colab_type": "text",
        "id": "dLo9XA7pWLAv"
      },
      "source": [
        "As previously explained, each scraping iteration of the calendars features prices and available dates for the near future, as provided by the host. We assumed the latest information is more likely to reflect the actual price exercised on each date. Thus, for our main analysis, we're only keeping the most recent prices made available on the website on our calendar dataset. \n",
        "\n",
        "However, since we're also interested in how hosts change their prices for future dates, we created another dataset named cal_change which stores listings for which different prices have been listed on different scraping dates. For now, we'll leave it aside and focus on our calendar dataset."
      ]
    },
    {
      "cell_type": "code",
      "metadata": {
        "colab_type": "code",
        "id": "zHeiDruUq9US",
        "colab": {}
      },
      "source": [
        "#Import calendar data from each scraping iteration (from oldest to newest)\n",
        "url_c1 = 'https://raw.githubusercontent.com/araujoghm/DataScienceEMAp_AraujoNovais/master/dados/calendar/calendar_18_4_15.zip'\n",
        "url_c2 = 'https://raw.githubusercontent.com/araujoghm/DataScienceEMAp_AraujoNovais/master/dados/calendar/calendar_18_5_18.zip'\n",
        "url_c3 = 'https://raw.githubusercontent.com/araujoghm/DataScienceEMAp_AraujoNovais/master/dados/calendar/calendar_18_7_18.zip'\n",
        "url_c4 = 'https://raw.githubusercontent.com/araujoghm/DataScienceEMAp_AraujoNovais/master/dados/calendar/calendar_18_9_14.zip'\n",
        "url_c5 = 'https://raw.githubusercontent.com/araujoghm/DataScienceEMAp_AraujoNovais/master/dados/calendar/calendar_18_10_11.zip'\n",
        "url_c6 = 'https://raw.githubusercontent.com/araujoghm/DataScienceEMAp_AraujoNovais/master/dados/calendar/calendar_18_11_15.zip'\n",
        "url_c7 = 'https://raw.githubusercontent.com/araujoghm/DataScienceEMAp_AraujoNovais/master/dados/calendar/calendar_18_12_13.zip'\n",
        "url_c8 = 'https://raw.githubusercontent.com/araujoghm/DataScienceEMAp_AraujoNovais/master/dados/calendar/calendar_19_1_17.zip'\n",
        "url_c9 = 'https://raw.githubusercontent.com/araujoghm/DataScienceEMAp_AraujoNovais/master/dados/calendar/calendar_19_2_9.zip'\n",
        "url_c10 = 'https://raw.githubusercontent.com/araujoghm/DataScienceEMAp_AraujoNovais/master/dados/calendar/calendar_19_3_12.zip'\n",
        "url_c11 = 'https://raw.githubusercontent.com/araujoghm/DataScienceEMAp_AraujoNovais/master/dados/calendar/calendar_19_4_15.zip'\n",
        "url_c12 = 'https://raw.githubusercontent.com/araujoghm/DataScienceEMAp_AraujoNovais/master/dados/calendar/calendar_19_5_19.zip'\n",
        "url_c13 = 'https://raw.githubusercontent.com/araujoghm/DataScienceEMAp_AraujoNovais/master/dados/calendar/calendar_19_6_14.zip'\n",
        "url_c14 = 'https://raw.githubusercontent.com/araujoghm/DataScienceEMAp_AraujoNovais/master/dados/calendar/calendar_19_7_15.zip'\n",
        "\n",
        "\n",
        "calendar_1 = pd.read_csv(url_c1)\n",
        "calendar_2 = pd.read_csv(url_c2)\n",
        "calendar_3 = pd.read_csv(url_c3)\n",
        "calendar_4 = pd.read_csv(url_c4)\n",
        "calendar_5 = pd.read_csv(url_c5)\n",
        "calendar_6 = pd.read_csv(url_c6)\n",
        "calendar_7 = pd.read_csv(url_c7)\n",
        "calendar_8 = pd.read_csv(url_c8)\n",
        "calendar_9 = pd.read_csv(url_c9)\n",
        "calendar_10 = pd.read_csv(url_c10)\n",
        "calendar_11 = pd.read_csv(url_c11)\n",
        "calendar_12 = pd.read_csv(url_c12)\n",
        "calendar_13 = pd.read_csv(url_c13)\n",
        "calendar_14 = pd.read_csv(url_c14)"
      ],
      "execution_count": 0,
      "outputs": []
    },
    {
      "cell_type": "code",
      "metadata": {
        "colab_type": "code",
        "id": "SFVs5HQwlUzb",
        "colab": {}
      },
      "source": [
        "#For each calendar scraping, add scraping date\n",
        "calendar_1['scr_date']='2018-04-15'\n",
        "calendar_2['scr_date']='2018-05-18'\n",
        "calendar_3['scr_date']='2018-07-18'\n",
        "calendar_4['scr_date']='2018-09-14'\n",
        "calendar_5['scr_date']='2018-10-11'\n",
        "calendar_6['scr_date']='2018-11-15'\n",
        "calendar_7['scr_date']='2018-12-13'\n",
        "calendar_8['scr_date']='2019-01-17'\n",
        "calendar_9['scr_date']='2019-02-09'\n",
        "calendar_10['scr_date']='2019-03-12'\n",
        "calendar_11['scr_date']='2019-04-15'\n",
        "calendar_12['scr_date']='2019-05-19'\n",
        "calendar_13['scr_date']='2019-06-14'\n",
        "calendar_14['scr_date']='2019-07-15'"
      ],
      "execution_count": 0,
      "outputs": []
    },
    {
      "cell_type": "code",
      "metadata": {
        "colab_type": "code",
        "id": "9yTjo4MF0kam",
        "outputId": "dcc19c7a-e775-4b02-8067-eef3017efd46",
        "colab": {
          "base_uri": "https://localhost:8080/",
          "height": 173
        }
      },
      "source": [
        "calendar=calendar_14\n",
        "calendar=calendar.append(calendar_13)\n",
        "calendar=calendar.append(calendar_12)\n",
        "calendar=calendar.append(calendar_11)\n",
        "calendar=calendar.append(calendar_10)\n",
        "calendar=calendar.append(calendar_9)\n",
        "calendar=calendar.append(calendar_8)\n",
        "calendar=calendar.append(calendar_7)\n",
        "calendar=calendar.append(calendar_6)\n",
        "calendar=calendar.append(calendar_5)\n",
        "calendar=calendar.append(calendar_4)\n",
        "calendar=calendar.append(calendar_3)\n",
        "calendar=calendar.append(calendar_2)\n",
        "calendar=calendar.append(calendar_1)\n",
        "\n",
        "calendar=calendar[['listing_id','date','price','scr_date']]\n",
        "calendar=calendar.drop_duplicates(subset=['listing_id','date','price'])\n",
        "calendar=calendar.dropna(axis=0,subset=['price'])\n",
        "calendar['month']=calendar.date.apply(lambda x: int(x[5:7]))\n",
        "calendar['day']=calendar.date.apply(lambda x: int(x[8:10]))\n",
        "calendar['year']=calendar.date.apply(lambda x: int(x[0:4]))\n",
        "calendar.date = pd.to_datetime(calendar.date)\n",
        "calendar.scr_date = pd.to_datetime(calendar.scr_date)\n",
        "calendar.price = calendar.price.apply(lambda x: float(re.sub(\"[^\\d\\.]\", \"\", (x[1:-3]))))\n",
        "calendar.price = pd.to_numeric(calendar.price)\n",
        "\n",
        "calendar=calendar.merge(reviews,on=['listing_id','date'],how='left')\n",
        "calendar['review']=calendar['review'].fillna(0)\n",
        "calendar['review']=calendar['review'].astype(int)\n",
        "\n",
        "cal_change = calendar[calendar.duplicated(['listing_id','date'],keep=False)]\n",
        "cal_change = cal_change.sort_values(by=['listing_id','date'])\n",
        "\n",
        "calendar=calendar.drop(columns=['scr_date'])\n",
        "calendar=calendar.drop_duplicates(subset=['listing_id','date'])\n",
        "calendar=calendar.sort_values(by=['listing_id','date'])"
      ],
      "execution_count": 0,
      "outputs": [
        {
          "output_type": "stream",
          "text": [
            "/usr/local/lib/python3.6/dist-packages/pandas/core/frame.py:6692: FutureWarning: Sorting because non-concatenation axis is not aligned. A future version\n",
            "of pandas will change to not sort by default.\n",
            "\n",
            "To accept the future behavior, pass 'sort=False'.\n",
            "\n",
            "To retain the current behavior and silence the warning, pass 'sort=True'.\n",
            "\n",
            "  sort=sort)\n"
          ],
          "name": "stderr"
        }
      ]
    },
    {
      "cell_type": "code",
      "metadata": {
        "colab_type": "code",
        "id": "6UTghLQDYaVx",
        "outputId": "1ca67060-5468-4607-f41f-0e7e8b418ee3",
        "colab": {
          "base_uri": "https://localhost:8080/",
          "height": 204
        }
      },
      "source": [
        "calendar.head()"
      ],
      "execution_count": 0,
      "outputs": [
        {
          "output_type": "execute_result",
          "data": {
            "text/html": [
              "<div>\n",
              "<style scoped>\n",
              "    .dataframe tbody tr th:only-of-type {\n",
              "        vertical-align: middle;\n",
              "    }\n",
              "\n",
              "    .dataframe tbody tr th {\n",
              "        vertical-align: top;\n",
              "    }\n",
              "\n",
              "    .dataframe thead th {\n",
              "        text-align: right;\n",
              "    }\n",
              "</style>\n",
              "<table border=\"1\" class=\"dataframe\">\n",
              "  <thead>\n",
              "    <tr style=\"text-align: right;\">\n",
              "      <th></th>\n",
              "      <th>listing_id</th>\n",
              "      <th>date</th>\n",
              "      <th>price</th>\n",
              "      <th>month</th>\n",
              "      <th>day</th>\n",
              "      <th>year</th>\n",
              "      <th>review</th>\n",
              "    </tr>\n",
              "  </thead>\n",
              "  <tbody>\n",
              "    <tr>\n",
              "      <th>14493724</th>\n",
              "      <td>2384</td>\n",
              "      <td>2018-04-15</td>\n",
              "      <td>55.0</td>\n",
              "      <td>4</td>\n",
              "      <td>15</td>\n",
              "      <td>2018</td>\n",
              "      <td>1</td>\n",
              "    </tr>\n",
              "    <tr>\n",
              "      <th>14493723</th>\n",
              "      <td>2384</td>\n",
              "      <td>2018-04-16</td>\n",
              "      <td>55.0</td>\n",
              "      <td>4</td>\n",
              "      <td>16</td>\n",
              "      <td>2018</td>\n",
              "      <td>0</td>\n",
              "    </tr>\n",
              "    <tr>\n",
              "      <th>14493722</th>\n",
              "      <td>2384</td>\n",
              "      <td>2018-04-17</td>\n",
              "      <td>55.0</td>\n",
              "      <td>4</td>\n",
              "      <td>17</td>\n",
              "      <td>2018</td>\n",
              "      <td>0</td>\n",
              "    </tr>\n",
              "    <tr>\n",
              "      <th>14493721</th>\n",
              "      <td>2384</td>\n",
              "      <td>2018-04-18</td>\n",
              "      <td>55.0</td>\n",
              "      <td>4</td>\n",
              "      <td>18</td>\n",
              "      <td>2018</td>\n",
              "      <td>0</td>\n",
              "    </tr>\n",
              "    <tr>\n",
              "      <th>14493720</th>\n",
              "      <td>2384</td>\n",
              "      <td>2018-04-22</td>\n",
              "      <td>55.0</td>\n",
              "      <td>4</td>\n",
              "      <td>22</td>\n",
              "      <td>2018</td>\n",
              "      <td>1</td>\n",
              "    </tr>\n",
              "  </tbody>\n",
              "</table>\n",
              "</div>"
            ],
            "text/plain": [
              "          listing_id       date  price  month  day  year  review\n",
              "14493724        2384 2018-04-15   55.0      4   15  2018       1\n",
              "14493723        2384 2018-04-16   55.0      4   16  2018       0\n",
              "14493722        2384 2018-04-17   55.0      4   17  2018       0\n",
              "14493721        2384 2018-04-18   55.0      4   18  2018       0\n",
              "14493720        2384 2018-04-22   55.0      4   22  2018       1"
            ]
          },
          "metadata": {
            "tags": []
          },
          "execution_count": 39
        }
      ]
    },
    {
      "cell_type": "code",
      "metadata": {
        "colab_type": "code",
        "id": "2_dMaM2-asJF",
        "outputId": "ce643da0-9012-441a-c623-9870f11e9cf2",
        "colab": {
          "base_uri": "https://localhost:8080/",
          "height": 204
        }
      },
      "source": [
        "cal_change.head()"
      ],
      "execution_count": 0,
      "outputs": [
        {
          "output_type": "execute_result",
          "data": {
            "text/html": [
              "<div>\n",
              "<style scoped>\n",
              "    .dataframe tbody tr th:only-of-type {\n",
              "        vertical-align: middle;\n",
              "    }\n",
              "\n",
              "    .dataframe tbody tr th {\n",
              "        vertical-align: top;\n",
              "    }\n",
              "\n",
              "    .dataframe thead th {\n",
              "        text-align: right;\n",
              "    }\n",
              "</style>\n",
              "<table border=\"1\" class=\"dataframe\">\n",
              "  <thead>\n",
              "    <tr style=\"text-align: right;\">\n",
              "      <th></th>\n",
              "      <th>listing_id</th>\n",
              "      <th>date</th>\n",
              "      <th>price</th>\n",
              "      <th>scr_date</th>\n",
              "      <th>month</th>\n",
              "      <th>day</th>\n",
              "      <th>year</th>\n",
              "      <th>review</th>\n",
              "    </tr>\n",
              "  </thead>\n",
              "  <tbody>\n",
              "    <tr>\n",
              "      <th>13873240</th>\n",
              "      <td>2384</td>\n",
              "      <td>2018-06-11</td>\n",
              "      <td>65.0</td>\n",
              "      <td>2018-05-18</td>\n",
              "      <td>6</td>\n",
              "      <td>11</td>\n",
              "      <td>2018</td>\n",
              "      <td>0</td>\n",
              "    </tr>\n",
              "    <tr>\n",
              "      <th>14493696</th>\n",
              "      <td>2384</td>\n",
              "      <td>2018-06-11</td>\n",
              "      <td>80.0</td>\n",
              "      <td>2018-04-15</td>\n",
              "      <td>6</td>\n",
              "      <td>11</td>\n",
              "      <td>2018</td>\n",
              "      <td>0</td>\n",
              "    </tr>\n",
              "    <tr>\n",
              "      <th>13873226</th>\n",
              "      <td>2384</td>\n",
              "      <td>2018-07-01</td>\n",
              "      <td>65.0</td>\n",
              "      <td>2018-05-18</td>\n",
              "      <td>7</td>\n",
              "      <td>1</td>\n",
              "      <td>2018</td>\n",
              "      <td>1</td>\n",
              "    </tr>\n",
              "    <tr>\n",
              "      <th>14493689</th>\n",
              "      <td>2384</td>\n",
              "      <td>2018-07-01</td>\n",
              "      <td>60.0</td>\n",
              "      <td>2018-04-15</td>\n",
              "      <td>7</td>\n",
              "      <td>1</td>\n",
              "      <td>2018</td>\n",
              "      <td>1</td>\n",
              "    </tr>\n",
              "    <tr>\n",
              "      <th>13873225</th>\n",
              "      <td>2384</td>\n",
              "      <td>2018-07-02</td>\n",
              "      <td>65.0</td>\n",
              "      <td>2018-05-18</td>\n",
              "      <td>7</td>\n",
              "      <td>2</td>\n",
              "      <td>2018</td>\n",
              "      <td>0</td>\n",
              "    </tr>\n",
              "  </tbody>\n",
              "</table>\n",
              "</div>"
            ],
            "text/plain": [
              "          listing_id       date  price   scr_date  month  day  year  review\n",
              "13873240        2384 2018-06-11   65.0 2018-05-18      6   11  2018       0\n",
              "14493696        2384 2018-06-11   80.0 2018-04-15      6   11  2018       0\n",
              "13873226        2384 2018-07-01   65.0 2018-05-18      7    1  2018       1\n",
              "14493689        2384 2018-07-01   60.0 2018-04-15      7    1  2018       1\n",
              "13873225        2384 2018-07-02   65.0 2018-05-18      7    2  2018       0"
            ]
          },
          "metadata": {
            "tags": []
          },
          "execution_count": 40
        }
      ]
    },
    {
      "cell_type": "code",
      "metadata": {
        "colab_type": "code",
        "id": "jMZWuUEk3N5L",
        "colab": {}
      },
      "source": [
        "#calendar.to_csv('calendar.csv')\n",
        "#!cp calendar.csv drive/My\\ Drive/\n",
        "\n",
        "#cal_change.to_csv('cal_change.csv')\n",
        "#!cp cal_change.csv drive/My\\ Drive/"
      ],
      "execution_count": 0,
      "outputs": []
    },
    {
      "cell_type": "markdown",
      "metadata": {
        "colab_type": "text",
        "id": "Lcz2Md7_wKgn"
      },
      "source": [
        "## Importing, cleaning and organizing crimes data"
      ]
    },
    {
      "cell_type": "markdown",
      "metadata": {
        "colab_type": "text",
        "id": "YkQ3sgtgX_mQ"
      },
      "source": [
        "We extracted our data on crimes for the city of Chicago from the Chicago Data Portal website, which amongst its Public Safety data features a dataset named \"Crimes: one year prior to present\", which lists all reports of criminal occurences for an entire year up to the latest update (roughly a week before the present date). For the version of this file saved on our GitHub, data spans from July 9th, 2018 to July 8th, 2019. We decided to drop data from July, 2019 since the its few entries seem incomplete, listing only a handful of occurrences.\n",
        "\n",
        "We decided to discard crimes of certain categories such as 'deceptive practice' (e.g. credit card frauds) and 'liquor law violation' (e.g. selling alcoholic drinks without a permit), which we deemed to not be relevant when it comes to the decision-making process from both hosts and consumers in regards to rent.\n",
        "\n",
        "When checking how many occurrences there are on our dataset for each crime category (as listed by the Chicago Data Portal), it can be seen that the most frequent crimes are related to stealing private possessions ('theft','burglary', 'robbery', 'motor vehicle theft'), criminal damage and physical violence ('battery', 'assault'), while the number of homicides pale in comparison (which can be at least partially attributed to less reporting, as public information would suggest many more homicides happened on Chicago for that time period).\n",
        "\n",
        "Since some types of crimes are much more reported than others, the relation between aggregate criminality and prices might be unclear and dominated by the categories with more representation. For example, we'd expect the correlation between price and nearby homicides to be negative, but the correlation between theft and price might actually be positive since higher rent prices are likely to be present in richer areas or more populated areas, where thefts might be more present (or at least, reported more often).\n",
        "\n",
        "To make a more thorough analysis, we'll deal with the full set of criminal occurrences as well as subsets for crimes related to physical violence, stealing property and homicides.\n",
        "\n",
        "Like on our listings dataset, we rounded locations (latitude and longitude) to 2 decimals, reducing over a hundred thousand criminal reports to 708 locations."
      ]
    },
    {
      "cell_type": "code",
      "metadata": {
        "colab_type": "code",
        "id": "0hF2aVhhwOwq",
        "outputId": "506e605f-b81f-4a98-c447-f40158b6da01",
        "colab": {
          "base_uri": "https://localhost:8080/",
          "height": 442
        }
      },
      "source": [
        "url_cr = \"https://raw.githubusercontent.com/araujoghm/DataScienceEMAp_AraujoNovais/master/dados/crimes/crimes.csv\"\n",
        "crimes = pd.read_csv(url_cr)\n",
        "crimes = crimes[['DATE  OF OCCURRENCE','LATITUDE','LONGITUDE','ARREST',' PRIMARY DESCRIPTION']]\n",
        "crimes = crimes.rename(index=str, columns={\"DATE  OF OCCURRENCE\": \"date\",\"LONGITUDE\": \"longitude\",\"LATITUDE\": \"latitude\",\" PRIMARY DESCRIPTION\": \"desc\", \"ARREST\": \"arrest\"})\n",
        "crimes = crimes[crimes.desc!=\"CONCEALED CARRY LICENSE VIOLATION\"]\n",
        "crimes = crimes[crimes.desc!=\"DECEPTIVE PRACTICE\"]\n",
        "crimes = crimes[crimes.desc!=\"INTERFERENCE WITH PUBLIC OFFICER\"]\n",
        "crimes = crimes[crimes.desc!=\"OBSCENITY\"]\n",
        "crimes = crimes[crimes.desc!=\"NON-CRIMINAL\"]\n",
        "crimes = crimes[crimes.desc!=\"NON-CRIMINAL (SUBJECT SPECIFIED)\"]\n",
        "crimes = crimes[crimes.desc!=\"LIQUOR LAW VIOLATION\"]\n",
        "crimes = crimes[crimes.desc!=\"PUBLIC INDECENCY\"]\n",
        "\n",
        "crimes['lat']=crimes.latitude.round(2)\n",
        "crimes['lon']=crimes.longitude.round(2)\n",
        "crimes['location'] = list(zip(crimes.latitude, crimes.longitude))\n",
        "crimes['loc'] = list(zip(crimes.lat, crimes.lon))\n",
        "crimes = crimes.assign(loc_id=(crimes['loc'].astype('category').cat.codes))\n",
        "crimes.arrest = crimes.arrest.apply(lambda x: 0 if x==\"N\" else 1)\n",
        "crimes.date = crimes.date.apply(lambda x: x[0:10])\n",
        "crimes.date = pd.to_datetime(crimes.date)\n",
        "crimes['date_str'] = crimes.date.astype('str')\n",
        "crimes['month']=crimes.date_str.apply(lambda x: int(x[5:7]))\n",
        "crimes['day']=crimes.date_str.apply(lambda x: int(x[8:10]))\n",
        "crimes['year']=crimes.date_str.apply(lambda x: int(x[0:4]))\n",
        "\n",
        "crimes=crimes.drop(columns=['date_str'])\n",
        "#Dropping incomplete observations\n",
        "crimes=crimes.drop(crimes[(crimes.year==2019) & (crimes.month==7)].index)\n",
        "\n",
        "crimes=crimes.dropna(axis=0)\n",
        "crimes=crimes.sort_values(by='date')\n",
        "print(crimes['desc'].value_counts())"
      ],
      "execution_count": 0,
      "outputs": [
        {
          "output_type": "stream",
          "text": [
            "THEFT                         60775\n",
            "BATTERY                       48332\n",
            "CRIMINAL DAMAGE               26229\n",
            "ASSAULT                       20093\n",
            "OTHER OFFENSE                 16370\n",
            "NARCOTICS                     12648\n",
            "BURGLARY                      10272\n",
            "MOTOR VEHICLE THEFT            9277\n",
            "ROBBERY                        8448\n",
            "CRIMINAL TRESPASS              6582\n",
            "WEAPONS VIOLATION              5736\n",
            "OFFENSE INVOLVING CHILDREN     2138\n",
            "CRIM SEXUAL ASSAULT            1542\n",
            "PUBLIC PEACE VIOLATION         1440\n",
            "SEX OFFENSE                    1129\n",
            "PROSTITUTION                    666\n",
            "HOMICIDE                        551\n",
            "ARSON                           357\n",
            "STALKING                        200\n",
            "INTIMIDATION                    182\n",
            "GAMBLING                        168\n",
            "KIDNAPPING                      161\n",
            "HUMAN TRAFFICKING                14\n",
            "OTHER NARCOTIC VIOLATION          4\n",
            "Name: desc, dtype: int64\n"
          ],
          "name": "stdout"
        }
      ]
    },
    {
      "cell_type": "code",
      "metadata": {
        "colab_type": "code",
        "id": "OM7BkKcpd2ZK",
        "colab": {}
      },
      "source": [
        "homicides=crimes[crimes.desc==\"HOMICIDE\"]\n",
        "homicides=homicides.drop(columns=['desc'])\n",
        "\n",
        "stealing=crimes[crimes.desc.isin([\"BURGLARY\", \"THEFT\", \"ROBBERY\", \"MOTOR VEHICLE THEFT\"])]\n",
        "stealing=stealing.drop(columns=['desc'])\n",
        "\n",
        "violence=crimes[crimes.desc.isin([\"BATTERY\", \"ASSAULT\"])]\n",
        "violence=violence.drop(columns=['desc'])"
      ],
      "execution_count": 0,
      "outputs": []
    },
    {
      "cell_type": "markdown",
      "metadata": {
        "colab_type": "text",
        "id": "DxnOQFJsfoVC"
      },
      "source": [
        "Like we did for our listings, we'll create dataframe pairing locations to their id's (both the original and our \"corrected\" version)"
      ]
    },
    {
      "cell_type": "code",
      "metadata": {
        "colab_type": "code",
        "id": "ubqTxtDNSGfI",
        "outputId": "d3261817-1859-4330-a996-842b3eb6947d",
        "colab": {
          "base_uri": "https://localhost:8080/",
          "height": 34
        }
      },
      "source": [
        "crimes_locations = crimes[['loc','loc_id']]\n",
        "crimes_locations = crimes_locations.drop_duplicates('loc_id')\n",
        "crimes_locations = crimes_locations.set_index('loc_id')\n",
        "crimes_locations = crimes_locations.sort_index()\n",
        "crimes_locations = crimes_locations.reset_index()\n",
        "crimes_locations['crim_loc_id2']=crimes_locations.index\n",
        "crim_locs=list(crimes_locations['loc'])\n",
        "len(crim_locs)"
      ],
      "execution_count": 0,
      "outputs": [
        {
          "output_type": "execute_result",
          "data": {
            "text/plain": [
              "708"
            ]
          },
          "metadata": {
            "tags": []
          },
          "execution_count": 44
        }
      ]
    },
    {
      "cell_type": "code",
      "metadata": {
        "colab_type": "code",
        "id": "I-6o0kOXxaq2",
        "outputId": "e9a29512-e52b-41a8-f0f3-d209bd0b5d51",
        "colab": {
          "base_uri": "https://localhost:8080/",
          "height": 34
        }
      },
      "source": [
        "homicides_locations = homicides[['loc','loc_id']]\n",
        "homicides_locations = homicides_locations.drop_duplicates('loc_id')\n",
        "homicides_locations = homicides_locations.set_index('loc_id')\n",
        "homicides_locations = homicides_locations.sort_index()\n",
        "homicides_locations = homicides_locations.reset_index()\n",
        "homicides_locations['homi_loc_id2']=homicides_locations.index\n",
        "homi_locs=list(homicides_locations['loc'])\n",
        "len(homi_locs)"
      ],
      "execution_count": 0,
      "outputs": [
        {
          "output_type": "execute_result",
          "data": {
            "text/plain": [
              "244"
            ]
          },
          "metadata": {
            "tags": []
          },
          "execution_count": 45
        }
      ]
    },
    {
      "cell_type": "code",
      "metadata": {
        "colab_type": "code",
        "id": "NS-A91Qef5mk",
        "outputId": "c352b312-72bf-4bc0-b40d-dde36f205ac8",
        "colab": {
          "base_uri": "https://localhost:8080/",
          "height": 34
        }
      },
      "source": [
        "violence_locations = violence[['loc','loc_id']]\n",
        "violence_locations = violence_locations.drop_duplicates('loc_id')\n",
        "violence_locations = violence_locations.set_index('loc_id')\n",
        "violence_locations = violence_locations.sort_index()\n",
        "violence_locations = violence_locations.reset_index()\n",
        "violence_locations['viol_loc_id2']=violence_locations.index\n",
        "viol_locs=list(violence_locations['loc'])\n",
        "len(viol_locs)"
      ],
      "execution_count": 0,
      "outputs": [
        {
          "output_type": "execute_result",
          "data": {
            "text/plain": [
              "682"
            ]
          },
          "metadata": {
            "tags": []
          },
          "execution_count": 46
        }
      ]
    },
    {
      "cell_type": "code",
      "metadata": {
        "colab_type": "code",
        "id": "YX5pPqp4gMWR",
        "outputId": "8befe0cf-9e4f-4331-e3ff-50da35118848",
        "colab": {
          "base_uri": "https://localhost:8080/",
          "height": 34
        }
      },
      "source": [
        "stealing_locations = stealing[['loc','loc_id']]\n",
        "stealing_locations = stealing_locations.drop_duplicates('loc_id')\n",
        "stealing_locations = stealing_locations.set_index('loc_id')\n",
        "stealing_locations = stealing_locations.sort_index()\n",
        "stealing_locations = stealing_locations.reset_index()\n",
        "stealing_locations['stea_loc_id2']=stealing_locations.index\n",
        "stea_locs=list(stealing_locations['loc'])\n",
        "len(stea_locs)"
      ],
      "execution_count": 0,
      "outputs": [
        {
          "output_type": "execute_result",
          "data": {
            "text/plain": [
              "681"
            ]
          },
          "metadata": {
            "tags": []
          },
          "execution_count": 47
        }
      ]
    },
    {
      "cell_type": "code",
      "metadata": {
        "colab_type": "code",
        "id": "Ad6NaQ2voEvt",
        "colab": {}
      },
      "source": [
        "crimes = crimes.merge(crimes_locations,on=['loc_id','loc'])\n",
        "homicides = homicides.merge(homicides_locations,on=['loc_id','loc'])\n",
        "violence = violence.merge(violence_locations,on=['loc_id','loc'])\n",
        "stealing = stealing.merge(stealing_locations,on=['loc_id','loc'])"
      ],
      "execution_count": 0,
      "outputs": []
    },
    {
      "cell_type": "code",
      "metadata": {
        "colab_type": "code",
        "id": "e2hDV95q4ugb",
        "colab": {}
      },
      "source": [
        "#crimes.to_csv('crimes.csv')\n",
        "#!cp crimes.csv drive/My\\ Drive/\n",
        "\n",
        "#stealing.to_csv('stealing.csv')\n",
        "#!cp stealing.csv drive/My\\ Drive/\n",
        "\n",
        "#homicides.to_csv('homicides.csv')\n",
        "#!cp homicides.csv drive/My\\ Drive/\n",
        "\n",
        "#violence.to_csv('violence.csv')\n",
        "#cp violence.csv drive/My\\ Drive/"
      ],
      "execution_count": 0,
      "outputs": []
    },
    {
      "cell_type": "markdown",
      "metadata": {
        "colab_type": "text",
        "id": "TpsYEcOBSWPi"
      },
      "source": [
        "##Crimes by location and date"
      ]
    },
    {
      "cell_type": "markdown",
      "metadata": {
        "colab_type": "text",
        "id": "t2mBLafcgtZz"
      },
      "source": [
        "Now we'll create dataframes for counting criminal occurences for each date and listing the locations in which those crimes happened"
      ]
    },
    {
      "cell_type": "markdown",
      "metadata": {
        "colab_type": "text",
        "id": "mEl2MME71JBt"
      },
      "source": [
        "###Crimes by date"
      ]
    },
    {
      "cell_type": "code",
      "metadata": {
        "colab_type": "code",
        "id": "CeZlr4WdRF0p",
        "outputId": "7bcd431b-988f-4ae3-caf2-21a9a8f5cfc2",
        "colab": {
          "base_uri": "https://localhost:8080/",
          "height": 309
        }
      },
      "source": [
        "crimes_date=crimes[['date','loc_id','crim_loc_id2']]\n",
        "crimes_date=crimes_date.groupby('date').agg(lambda x: list(x))\n",
        "crimes_date['crimes_count_date']=np.nan\n",
        "for i in range(len(crimes_date)):\n",
        "  crimes_date.crimes_count_date.iloc[i]=len(list(crimes_date.loc_id.iloc[i]))\n",
        "  crimes_date.loc_id.iloc[i]=np.unique(list(crimes_date.loc_id.iloc[i]))\n",
        "  crimes_date.crim_loc_id2.iloc[i]=np.unique(list(crimes_date.crim_loc_id2.iloc[i]))\n",
        "crimes_date.crimes_count_date=crimes_date.crimes_count_date.astype(int)\n",
        "crimes_date=crimes_date.reset_index()\n",
        "crimes_date=crimes_date.rename(index=str, columns={\"loc_id\": \"crim_loc_id\"})\n",
        "crimes_date.head()"
      ],
      "execution_count": 0,
      "outputs": [
        {
          "output_type": "stream",
          "text": [
            "/usr/local/lib/python3.6/dist-packages/pandas/core/indexing.py:190: SettingWithCopyWarning: \n",
            "A value is trying to be set on a copy of a slice from a DataFrame\n",
            "\n",
            "See the caveats in the documentation: http://pandas.pydata.org/pandas-docs/stable/indexing.html#indexing-view-versus-copy\n",
            "  self._setitem_with_indexer(indexer, value)\n"
          ],
          "name": "stderr"
        },
        {
          "output_type": "execute_result",
          "data": {
            "text/html": [
              "<div>\n",
              "<style scoped>\n",
              "    .dataframe tbody tr th:only-of-type {\n",
              "        vertical-align: middle;\n",
              "    }\n",
              "\n",
              "    .dataframe tbody tr th {\n",
              "        vertical-align: top;\n",
              "    }\n",
              "\n",
              "    .dataframe thead th {\n",
              "        text-align: right;\n",
              "    }\n",
              "</style>\n",
              "<table border=\"1\" class=\"dataframe\">\n",
              "  <thead>\n",
              "    <tr style=\"text-align: right;\">\n",
              "      <th></th>\n",
              "      <th>date</th>\n",
              "      <th>crim_loc_id</th>\n",
              "      <th>crim_loc_id2</th>\n",
              "      <th>crimes_count_date</th>\n",
              "    </tr>\n",
              "  </thead>\n",
              "  <tbody>\n",
              "    <tr>\n",
              "      <th>0</th>\n",
              "      <td>2018-07-09</td>\n",
              "      <td>[0, 5883, 5900, 5903, 5904, 5905, 5906, 5908, ...</td>\n",
              "      <td>[0, 27, 34, 37, 38, 39, 40, 42, 47, 48, 49, 50...</td>\n",
              "      <td>622</td>\n",
              "    </tr>\n",
              "    <tr>\n",
              "      <th>1</th>\n",
              "      <td>2018-07-10</td>\n",
              "      <td>[0, 5885, 5892, 5900, 5902, 5906, 5907, 5908, ...</td>\n",
              "      <td>[0, 28, 30, 34, 36, 40, 41, 42, 44, 46, 47, 49...</td>\n",
              "      <td>732</td>\n",
              "    </tr>\n",
              "    <tr>\n",
              "      <th>2</th>\n",
              "      <td>2018-07-11</td>\n",
              "      <td>[0, 5883, 5893, 5894, 5900, 5903, 5904, 5905, ...</td>\n",
              "      <td>[0, 27, 31, 32, 34, 37, 38, 39, 41, 43, 44, 45...</td>\n",
              "      <td>665</td>\n",
              "    </tr>\n",
              "    <tr>\n",
              "      <th>3</th>\n",
              "      <td>2018-07-12</td>\n",
              "      <td>[0, 5893, 5897, 5900, 5907, 5908, 5913, 5915, ...</td>\n",
              "      <td>[0, 31, 33, 34, 41, 42, 47, 49, 51, 57, 58, 60...</td>\n",
              "      <td>732</td>\n",
              "    </tr>\n",
              "    <tr>\n",
              "      <th>4</th>\n",
              "      <td>2018-07-13</td>\n",
              "      <td>[0, 5890, 5892, 5894, 5903, 5904, 5905, 5906, ...</td>\n",
              "      <td>[0, 29, 30, 32, 37, 38, 39, 40, 41, 46, 47, 51...</td>\n",
              "      <td>753</td>\n",
              "    </tr>\n",
              "  </tbody>\n",
              "</table>\n",
              "</div>"
            ],
            "text/plain": [
              "        date  ... crimes_count_date\n",
              "0 2018-07-09  ...               622\n",
              "1 2018-07-10  ...               732\n",
              "2 2018-07-11  ...               665\n",
              "3 2018-07-12  ...               732\n",
              "4 2018-07-13  ...               753\n",
              "\n",
              "[5 rows x 4 columns]"
            ]
          },
          "metadata": {
            "tags": []
          },
          "execution_count": 49
        }
      ]
    },
    {
      "cell_type": "code",
      "metadata": {
        "colab_type": "code",
        "id": "Sklnl3sOEBQp",
        "outputId": "5d3f247e-fcae-4ec6-e796-d44612d2868e",
        "colab": {
          "base_uri": "https://localhost:8080/",
          "height": 309
        }
      },
      "source": [
        "homicides_date=homicides[['date','loc_id','homi_loc_id2']]\n",
        "homicides_date=homicides_date.groupby('date').agg(lambda x: list(x))\n",
        "homicides_date['homicides_count_date']=np.nan\n",
        "for i in range(len(homicides_date)):\n",
        "  homicides_date.homicides_count_date.iloc[i]=len(list(homicides_date.loc_id.iloc[i]))\n",
        "  homicides_date.loc_id.iloc[i]=np.unique(list(homicides_date.loc_id.iloc[i]))\n",
        "  homicides_date.homi_loc_id2.iloc[i]=np.unique(list(homicides_date.homi_loc_id2.iloc[i]))\n",
        "homicides_date.homicides_count_date=homicides_date.homicides_count_date.astype(int)\n",
        "homicides_date=homicides_date.reset_index()\n",
        "homicides_date=homicides_date.rename(index=str, columns={\"loc_id\": \"homi_loc_id\"})\n",
        "homicides_date.head()"
      ],
      "execution_count": 0,
      "outputs": [
        {
          "output_type": "stream",
          "text": [
            "/usr/local/lib/python3.6/dist-packages/pandas/core/indexing.py:190: SettingWithCopyWarning: \n",
            "A value is trying to be set on a copy of a slice from a DataFrame\n",
            "\n",
            "See the caveats in the documentation: http://pandas.pydata.org/pandas-docs/stable/indexing.html#indexing-view-versus-copy\n",
            "  self._setitem_with_indexer(indexer, value)\n"
          ],
          "name": "stderr"
        },
        {
          "output_type": "execute_result",
          "data": {
            "text/html": [
              "<div>\n",
              "<style scoped>\n",
              "    .dataframe tbody tr th:only-of-type {\n",
              "        vertical-align: middle;\n",
              "    }\n",
              "\n",
              "    .dataframe tbody tr th {\n",
              "        vertical-align: top;\n",
              "    }\n",
              "\n",
              "    .dataframe thead th {\n",
              "        text-align: right;\n",
              "    }\n",
              "</style>\n",
              "<table border=\"1\" class=\"dataframe\">\n",
              "  <thead>\n",
              "    <tr style=\"text-align: right;\">\n",
              "      <th></th>\n",
              "      <th>date</th>\n",
              "      <th>homi_loc_id</th>\n",
              "      <th>homi_loc_id2</th>\n",
              "      <th>homicides_count_date</th>\n",
              "    </tr>\n",
              "  </thead>\n",
              "  <tbody>\n",
              "    <tr>\n",
              "      <th>0</th>\n",
              "      <td>2018-07-09</td>\n",
              "      <td>[6088]</td>\n",
              "      <td>[108]</td>\n",
              "      <td>1</td>\n",
              "    </tr>\n",
              "    <tr>\n",
              "      <th>1</th>\n",
              "      <td>2018-07-10</td>\n",
              "      <td>[6001, 6101]</td>\n",
              "      <td>[45, 115]</td>\n",
              "      <td>2</td>\n",
              "    </tr>\n",
              "    <tr>\n",
              "      <th>2</th>\n",
              "      <td>2018-07-11</td>\n",
              "      <td>[5980, 6029, 6103]</td>\n",
              "      <td>[38, 66, 117]</td>\n",
              "      <td>4</td>\n",
              "    </tr>\n",
              "    <tr>\n",
              "      <th>3</th>\n",
              "      <td>2018-07-12</td>\n",
              "      <td>[5917, 6023, 6104, 6202, 6463]</td>\n",
              "      <td>[11, 60, 118, 156, 238]</td>\n",
              "      <td>5</td>\n",
              "    </tr>\n",
              "    <tr>\n",
              "      <th>4</th>\n",
              "      <td>2018-07-13</td>\n",
              "      <td>[6068]</td>\n",
              "      <td>[95]</td>\n",
              "      <td>1</td>\n",
              "    </tr>\n",
              "  </tbody>\n",
              "</table>\n",
              "</div>"
            ],
            "text/plain": [
              "        date  ... homicides_count_date\n",
              "0 2018-07-09  ...                    1\n",
              "1 2018-07-10  ...                    2\n",
              "2 2018-07-11  ...                    4\n",
              "3 2018-07-12  ...                    5\n",
              "4 2018-07-13  ...                    1\n",
              "\n",
              "[5 rows x 4 columns]"
            ]
          },
          "metadata": {
            "tags": []
          },
          "execution_count": 50
        }
      ]
    },
    {
      "cell_type": "code",
      "metadata": {
        "colab_type": "code",
        "id": "V3tPEvGjhWFF",
        "outputId": "cd4b94b7-78ce-47de-93e6-948c8495c08b",
        "colab": {
          "base_uri": "https://localhost:8080/",
          "height": 309
        }
      },
      "source": [
        "violence_date=violence[['date','loc_id','viol_loc_id2']]\n",
        "violence_date=violence_date.groupby('date').agg(lambda x: list(x))\n",
        "violence_date['violence_count_date']=np.nan\n",
        "for i in range(len(violence_date)):\n",
        "  violence_date.violence_count_date.iloc[i]=len(list(violence_date.loc_id.iloc[i]))\n",
        "  violence_date.loc_id.iloc[i]=np.unique(list(violence_date.loc_id.iloc[i]))\n",
        "  violence_date.viol_loc_id2.iloc[i]=np.unique(list(violence_date.viol_loc_id2.iloc[i]))\n",
        "violence_date.violence_count_date=violence_date.violence_count_date.astype(int)\n",
        "violence_date=violence_date.reset_index()\n",
        "violence_date=violence_date.rename(index=str, columns={\"loc_id\": \"viol_loc_id\"})\n",
        "violence_date.head()"
      ],
      "execution_count": 0,
      "outputs": [
        {
          "output_type": "stream",
          "text": [
            "/usr/local/lib/python3.6/dist-packages/pandas/core/indexing.py:190: SettingWithCopyWarning: \n",
            "A value is trying to be set on a copy of a slice from a DataFrame\n",
            "\n",
            "See the caveats in the documentation: http://pandas.pydata.org/pandas-docs/stable/indexing.html#indexing-view-versus-copy\n",
            "  self._setitem_with_indexer(indexer, value)\n"
          ],
          "name": "stderr"
        },
        {
          "output_type": "execute_result",
          "data": {
            "text/html": [
              "<div>\n",
              "<style scoped>\n",
              "    .dataframe tbody tr th:only-of-type {\n",
              "        vertical-align: middle;\n",
              "    }\n",
              "\n",
              "    .dataframe tbody tr th {\n",
              "        vertical-align: top;\n",
              "    }\n",
              "\n",
              "    .dataframe thead th {\n",
              "        text-align: right;\n",
              "    }\n",
              "</style>\n",
              "<table border=\"1\" class=\"dataframe\">\n",
              "  <thead>\n",
              "    <tr style=\"text-align: right;\">\n",
              "      <th></th>\n",
              "      <th>date</th>\n",
              "      <th>viol_loc_id</th>\n",
              "      <th>viol_loc_id2</th>\n",
              "      <th>violence_count_date</th>\n",
              "    </tr>\n",
              "  </thead>\n",
              "  <tbody>\n",
              "    <tr>\n",
              "      <th>0</th>\n",
              "      <td>2018-07-09</td>\n",
              "      <td>[0, 5883, 5903, 5904, 5906, 5915, 5916, 5917, ...</td>\n",
              "      <td>[0, 19, 29, 30, 32, 41, 42, 43, 67, 70, 77, 78...</td>\n",
              "      <td>160</td>\n",
              "    </tr>\n",
              "    <tr>\n",
              "      <th>1</th>\n",
              "      <td>2018-07-10</td>\n",
              "      <td>[0, 5900, 5906, 5907, 5908, 5915, 5916, 5925, ...</td>\n",
              "      <td>[0, 26, 32, 33, 34, 41, 42, 51, 54, 57, 62, 66...</td>\n",
              "      <td>193</td>\n",
              "    </tr>\n",
              "    <tr>\n",
              "      <th>2</th>\n",
              "      <td>2018-07-11</td>\n",
              "      <td>[0, 5893, 5904, 5909, 5917, 5923, 5924, 5925, ...</td>\n",
              "      <td>[0, 23, 30, 35, 43, 49, 50, 51, 52, 53, 54, 65...</td>\n",
              "      <td>196</td>\n",
              "    </tr>\n",
              "    <tr>\n",
              "      <th>3</th>\n",
              "      <td>2018-07-12</td>\n",
              "      <td>[0, 5893, 5907, 5908, 5926, 5927, 5929, 5938, ...</td>\n",
              "      <td>[0, 23, 33, 34, 52, 53, 55, 64, 70, 71, 72, 78...</td>\n",
              "      <td>200</td>\n",
              "    </tr>\n",
              "    <tr>\n",
              "      <th>4</th>\n",
              "      <td>2018-07-13</td>\n",
              "      <td>[0, 5890, 5892, 5903, 5904, 5917, 5926, 5927, ...</td>\n",
              "      <td>[0, 21, 22, 29, 30, 43, 52, 53, 54, 55, 64, 77...</td>\n",
              "      <td>215</td>\n",
              "    </tr>\n",
              "  </tbody>\n",
              "</table>\n",
              "</div>"
            ],
            "text/plain": [
              "        date  ... violence_count_date\n",
              "0 2018-07-09  ...                 160\n",
              "1 2018-07-10  ...                 193\n",
              "2 2018-07-11  ...                 196\n",
              "3 2018-07-12  ...                 200\n",
              "4 2018-07-13  ...                 215\n",
              "\n",
              "[5 rows x 4 columns]"
            ]
          },
          "metadata": {
            "tags": []
          },
          "execution_count": 51
        }
      ]
    },
    {
      "cell_type": "code",
      "metadata": {
        "colab_type": "code",
        "id": "5H4BORLS1RRO",
        "outputId": "a3b927d4-c6ef-448d-f56b-9504b58933dc",
        "colab": {
          "base_uri": "https://localhost:8080/",
          "height": 309
        }
      },
      "source": [
        "stealing_date=stealing[['date','loc_id','stea_loc_id2']]\n",
        "stealing_date=stealing_date.groupby('date').agg(lambda x: list(x))\n",
        "stealing_date['stealing_count_date']=np.nan\n",
        "for i in range(len(stealing_date)):\n",
        "  stealing_date.stealing_count_date.iloc[i]=len(list(stealing_date.loc_id.iloc[i]))\n",
        "  stealing_date.loc_id.iloc[i]=np.unique(list(stealing_date.loc_id.iloc[i]))\n",
        "  stealing_date.stea_loc_id2.iloc[i]=np.unique(list(stealing_date.stea_loc_id2.iloc[i]))\n",
        "stealing_date.stealing_count_date=stealing_date.stealing_count_date.astype(int)\n",
        "stealing_date=stealing_date.reset_index()\n",
        "stealing_date=stealing_date.rename(index=str, columns={\"loc_id\": \"stea_loc_id\"})\n",
        "stealing_date.head()"
      ],
      "execution_count": 0,
      "outputs": [
        {
          "output_type": "stream",
          "text": [
            "/usr/local/lib/python3.6/dist-packages/pandas/core/indexing.py:190: SettingWithCopyWarning: \n",
            "A value is trying to be set on a copy of a slice from a DataFrame\n",
            "\n",
            "See the caveats in the documentation: http://pandas.pydata.org/pandas-docs/stable/indexing.html#indexing-view-versus-copy\n",
            "  self._setitem_with_indexer(indexer, value)\n"
          ],
          "name": "stderr"
        },
        {
          "output_type": "execute_result",
          "data": {
            "text/html": [
              "<div>\n",
              "<style scoped>\n",
              "    .dataframe tbody tr th:only-of-type {\n",
              "        vertical-align: middle;\n",
              "    }\n",
              "\n",
              "    .dataframe tbody tr th {\n",
              "        vertical-align: top;\n",
              "    }\n",
              "\n",
              "    .dataframe thead th {\n",
              "        text-align: right;\n",
              "    }\n",
              "</style>\n",
              "<table border=\"1\" class=\"dataframe\">\n",
              "  <thead>\n",
              "    <tr style=\"text-align: right;\">\n",
              "      <th></th>\n",
              "      <th>date</th>\n",
              "      <th>stea_loc_id</th>\n",
              "      <th>stea_loc_id2</th>\n",
              "      <th>stealing_count_date</th>\n",
              "    </tr>\n",
              "  </thead>\n",
              "  <tbody>\n",
              "    <tr>\n",
              "      <th>0</th>\n",
              "      <td>2018-07-09</td>\n",
              "      <td>[0, 5905, 5906, 5913, 5915, 5928, 5930, 5933, ...</td>\n",
              "      <td>[0, 32, 33, 40, 42, 55, 57, 60, 82, 84, 90, 92...</td>\n",
              "      <td>259</td>\n",
              "    </tr>\n",
              "    <tr>\n",
              "      <th>1</th>\n",
              "      <td>2018-07-10</td>\n",
              "      <td>[0, 5892, 5913, 5915, 5916, 5920, 5922, 5924, ...</td>\n",
              "      <td>[0, 23, 40, 42, 43, 47, 49, 51, 52, 55, 59, 60...</td>\n",
              "      <td>317</td>\n",
              "    </tr>\n",
              "    <tr>\n",
              "      <th>2</th>\n",
              "      <td>2018-07-11</td>\n",
              "      <td>[0, 5883, 5905, 5911, 5917, 5923, 5926, 5927, ...</td>\n",
              "      <td>[0, 20, 32, 38, 44, 50, 53, 54, 60, 65, 67, 68...</td>\n",
              "      <td>264</td>\n",
              "    </tr>\n",
              "    <tr>\n",
              "      <th>3</th>\n",
              "      <td>2018-07-12</td>\n",
              "      <td>[0, 5893, 5900, 5913, 5917, 5924, 5926, 5928, ...</td>\n",
              "      <td>[0, 24, 27, 40, 44, 51, 53, 55, 68, 89, 91, 94...</td>\n",
              "      <td>310</td>\n",
              "    </tr>\n",
              "    <tr>\n",
              "      <th>4</th>\n",
              "      <td>2018-07-13</td>\n",
              "      <td>[0, 5903, 5904, 5905, 5906, 5907, 5913, 5923, ...</td>\n",
              "      <td>[0, 30, 31, 32, 33, 34, 40, 50, 55, 69, 80, 82...</td>\n",
              "      <td>328</td>\n",
              "    </tr>\n",
              "  </tbody>\n",
              "</table>\n",
              "</div>"
            ],
            "text/plain": [
              "        date  ... stealing_count_date\n",
              "0 2018-07-09  ...                 259\n",
              "1 2018-07-10  ...                 317\n",
              "2 2018-07-11  ...                 264\n",
              "3 2018-07-12  ...                 310\n",
              "4 2018-07-13  ...                 328\n",
              "\n",
              "[5 rows x 4 columns]"
            ]
          },
          "metadata": {
            "tags": []
          },
          "execution_count": 52
        }
      ]
    },
    {
      "cell_type": "code",
      "metadata": {
        "colab_type": "code",
        "id": "0Lqjsi5l4wIU",
        "colab": {}
      },
      "source": [
        "#crimes_date.to_csv('crimes_date.csv')\n",
        "#!cp crimes_date.csv drive/My\\ Drive/\n",
        "\n",
        "#stealing_date.to_csv('stealing_date.csv')\n",
        "#!cp stealing_date.csv drive/My\\ Drive/\n",
        "\n",
        "#homicides_date.to_csv('homicides_date.csv')\n",
        "#!cp homicides_date.csv drive/My\\ Drive/\n",
        "\n",
        "#violence_date.to_csv('violence_date.csv')\n",
        "#!cp violence_date.csv drive/My\\ Drive/"
      ],
      "execution_count": 0,
      "outputs": []
    },
    {
      "cell_type": "markdown",
      "metadata": {
        "colab_type": "text",
        "id": "BAmTTiR41gO9"
      },
      "source": [
        "###Crimes by location"
      ]
    },
    {
      "cell_type": "code",
      "metadata": {
        "colab_type": "code",
        "id": "Ua18iguvxzJ3",
        "outputId": "4fde2b8a-ac06-47a3-caab-0447378d53d7",
        "colab": {
          "base_uri": "https://localhost:8080/",
          "height": 122
        }
      },
      "source": [
        "crimes_loc=crimes[['loc_id','crim_loc_id2']]\n",
        "crimes_loc=crimes_loc.groupby(['loc_id']).agg(lambda x: list(x))\n",
        "crimes_loc['crimes_count_loc']=np.nan\n",
        "for i in range(len(crimes_loc)):\n",
        "  crimes_loc.crimes_count_loc.iloc[i]=len(list(crimes_loc.crim_loc_id2.iloc[i]))\n",
        "crimes_loc.crimes_count_loc=crimes_loc.crimes_count_loc.astype(int)\n",
        "crimes_loc=crimes_loc.reset_index()\n",
        "crimes_loc.crim_loc_id2=crimes_loc.index\n",
        "crimes_loc=crimes_loc.rename(index=str, columns={\"loc_id\": \"crim_loc_id\"})"
      ],
      "execution_count": 0,
      "outputs": [
        {
          "output_type": "stream",
          "text": [
            "/usr/local/lib/python3.6/dist-packages/pandas/core/indexing.py:190: SettingWithCopyWarning: \n",
            "A value is trying to be set on a copy of a slice from a DataFrame\n",
            "\n",
            "See the caveats in the documentation: http://pandas.pydata.org/pandas-docs/stable/indexing.html#indexing-view-versus-copy\n",
            "  self._setitem_with_indexer(indexer, value)\n"
          ],
          "name": "stderr"
        }
      ]
    },
    {
      "cell_type": "code",
      "metadata": {
        "colab_type": "code",
        "id": "DGbd5GY11_w3",
        "outputId": "d466c769-e02a-48b2-9325-b34ff72820da",
        "colab": {
          "base_uri": "https://localhost:8080/",
          "height": 122
        }
      },
      "source": [
        "homicides_loc=homicides[['loc_id','homi_loc_id2']]\n",
        "homicides_loc=homicides_loc.groupby(['loc_id']).agg(lambda x: list(x))\n",
        "homicides_loc['homicides_count_loc']=np.nan\n",
        "for i in range(len(homicides_loc)):\n",
        "  homicides_loc.homicides_count_loc.iloc[i]=len(list(homicides_loc.homi_loc_id2.iloc[i]))\n",
        "homicides_loc.homicides_count_loc=homicides_loc.homicides_count_loc.astype(int)\n",
        "homicides_loc=homicides_loc.reset_index()\n",
        "homicides_loc.homi_loc_id2=homicides_loc.index\n",
        "homicides_loc=homicides_loc.rename(index=str, columns={\"loc_id\": \"homi_loc_id\"})"
      ],
      "execution_count": 0,
      "outputs": [
        {
          "output_type": "stream",
          "text": [
            "/usr/local/lib/python3.6/dist-packages/pandas/core/indexing.py:190: SettingWithCopyWarning: \n",
            "A value is trying to be set on a copy of a slice from a DataFrame\n",
            "\n",
            "See the caveats in the documentation: http://pandas.pydata.org/pandas-docs/stable/indexing.html#indexing-view-versus-copy\n",
            "  self._setitem_with_indexer(indexer, value)\n"
          ],
          "name": "stderr"
        }
      ]
    },
    {
      "cell_type": "code",
      "metadata": {
        "colab_type": "code",
        "id": "ez84llxK2GLP",
        "outputId": "92b3e7d5-3904-48e0-d1af-ac137db55ae9",
        "colab": {
          "base_uri": "https://localhost:8080/",
          "height": 122
        }
      },
      "source": [
        "violence_loc=violence[['loc_id','viol_loc_id2']]\n",
        "violence_loc=violence_loc.groupby(['loc_id']).agg(lambda x: list(x))\n",
        "violence_loc['violence_count_loc']=np.nan\n",
        "for i in range(len(violence_loc)):\n",
        "  violence_loc.violence_count_loc.iloc[i]=len(list(violence_loc.viol_loc_id2.iloc[i]))\n",
        "violence_loc.violence_count_loc=violence_loc.violence_count_loc.astype(int)\n",
        "violence_loc=violence_loc.reset_index()\n",
        "violence_loc.viol_loc_id2=violence_loc.index\n",
        "violence_loc=violence_loc.rename(index=str, columns={\"loc_id\": \"viol_loc_id\"})"
      ],
      "execution_count": 0,
      "outputs": [
        {
          "output_type": "stream",
          "text": [
            "/usr/local/lib/python3.6/dist-packages/pandas/core/indexing.py:190: SettingWithCopyWarning: \n",
            "A value is trying to be set on a copy of a slice from a DataFrame\n",
            "\n",
            "See the caveats in the documentation: http://pandas.pydata.org/pandas-docs/stable/indexing.html#indexing-view-versus-copy\n",
            "  self._setitem_with_indexer(indexer, value)\n"
          ],
          "name": "stderr"
        }
      ]
    },
    {
      "cell_type": "code",
      "metadata": {
        "colab_type": "code",
        "id": "TbSfeSK22Gk_",
        "outputId": "c1f09e5f-d1b9-47f8-d2de-0b3b7d59c312",
        "colab": {
          "base_uri": "https://localhost:8080/",
          "height": 122
        }
      },
      "source": [
        "stealing_loc=stealing[['loc_id','stea_loc_id2']]\n",
        "stealing_loc=stealing_loc.groupby(['loc_id']).agg(lambda x: list(x))\n",
        "stealing_loc['stealing_count_loc']=np.nan\n",
        "for i in range(len(stealing_loc)):\n",
        "  stealing_loc.stealing_count_loc.iloc[i]=len(list(stealing_loc.stea_loc_id2.iloc[i]))\n",
        "stealing_loc.stealing_count_loc=stealing_loc.stealing_count_loc.astype(int)\n",
        "stealing_loc=stealing_loc.reset_index()\n",
        "stealing_loc.stea_loc_id2=stealing_loc.index\n",
        "stealing_loc=stealing_loc.rename(index=str, columns={\"loc_id\": \"stea_loc_id\"})"
      ],
      "execution_count": 0,
      "outputs": [
        {
          "output_type": "stream",
          "text": [
            "/usr/local/lib/python3.6/dist-packages/pandas/core/indexing.py:190: SettingWithCopyWarning: \n",
            "A value is trying to be set on a copy of a slice from a DataFrame\n",
            "\n",
            "See the caveats in the documentation: http://pandas.pydata.org/pandas-docs/stable/indexing.html#indexing-view-versus-copy\n",
            "  self._setitem_with_indexer(indexer, value)\n"
          ],
          "name": "stderr"
        }
      ]
    },
    {
      "cell_type": "code",
      "metadata": {
        "colab_type": "code",
        "id": "plUUbVZh46Ou",
        "colab": {}
      },
      "source": [
        "#crimes_loc.to_csv('crimes_loc.csv')\n",
        "#!cp crimes_loc.csv drive/My\\ Drive/\n",
        "\n",
        "#stealing_loc.to_csv('stealing_loc.csv')\n",
        "#!cp stealing_loc.csv drive/My\\ Drive/\n",
        "\n",
        "#homicides_loc.to_csv('homicides_loc.csv')\n",
        "#!cp homicides_loc.csv drive/My\\ Drive/\n",
        "\n",
        "#violence_loc.to_csv('violence_loc.csv')\n",
        "#!cp violence_loc.csv drive/My\\ Drive/"
      ],
      "execution_count": 0,
      "outputs": []
    }
  ]
}